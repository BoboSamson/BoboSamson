{
  "nbformat": 4,
  "nbformat_minor": 0,
  "metadata": {
    "colab": {
      "provenance": [],
      "authorship_tag": "ABX9TyNo3DNzkYWTjIxZw9JPobjB",
      "include_colab_link": true
    },
    "kernelspec": {
      "name": "python3",
      "display_name": "Python 3"
    },
    "language_info": {
      "name": "python"
    }
  },
  "cells": [
    {
      "cell_type": "markdown",
      "metadata": {
        "id": "view-in-github",
        "colab_type": "text"
      },
      "source": [
        "<a href=\"https://colab.research.google.com/github/BoboSamson/BoboSamson/blob/main/Samson_Lab1_exe.ipynb\" target=\"_parent\"><img src=\"https://colab.research.google.com/assets/colab-badge.svg\" alt=\"Open In Colab\"/></a>"
      ]
    },
    {
      "cell_type": "code",
      "execution_count": 2,
      "metadata": {
        "colab": {
          "base_uri": "https://localhost:8080/"
        },
        "id": "j31KYuNoqtM7",
        "outputId": "7ca9545a-8ec5-45d2-fee0-704b866f6ec1"
      },
      "outputs": [
        {
          "output_type": "stream",
          "name": "stdout",
          "text": [
            "Scores: [-2  0  2  4]\n",
            "Probabilities: [0.11920292 0.5        0.88079708 0.98201379]\n",
            "Predictions: [0 1 1 1]\n"
          ]
        }
      ],
      "source": [
        "import numpy as np\n",
        "\n",
        "def sigmoid(x):\n",
        "    return 1 / (1 + np.exp(-x))\n",
        "\n",
        "# Simulated model scores\n",
        "scores = np.array([-2, 0, 2, 4])\n",
        "\n",
        "# Convert scores to probabilities\n",
        "probabilities = sigmoid(scores)\n",
        "\n",
        "# Make predictions based on threshold 0.5\n",
        "predictions = (probabilities >= 0.5).astype(int)\n",
        "\n",
        "print(\"Scores:\", scores)\n",
        "print(\"Probabilities:\", probabilities)\n",
        "print(\"Predictions:\", predictions)\n"
      ]
    },
    {
      "cell_type": "code",
      "source": [
        "#This is an example in ndarray, lets convert the values to a tensor.\n",
        "import torch\n",
        "import numpy as np\n",
        "scores = np.array([-2, 0, 2, 4])\n",
        "tensor = torch.from_numpy(scores)\n",
        "scores, tensor\n"
      ],
      "metadata": {
        "colab": {
          "base_uri": "https://localhost:8080/"
        },
        "id": "AuP33NNdrGzr",
        "outputId": "6da0d870-8e71-4ddf-cc75-2db4886c74e4"
      },
      "execution_count": 3,
      "outputs": [
        {
          "output_type": "execute_result",
          "data": {
            "text/plain": [
              "(array([-2,  0,  2,  4]), tensor([-2,  0,  2,  4]))"
            ]
          },
          "metadata": {},
          "execution_count": 3
        }
      ]
    },
    {
      "cell_type": "code",
      "source": [
        "probabilities_a = sigmoid(tensor)"
      ],
      "metadata": {
        "id": "KF5C2oXprKRT"
      },
      "execution_count": 4,
      "outputs": []
    },
    {
      "cell_type": "code",
      "source": [
        "predictions_a = (probabilities_a >= 0.5)"
      ],
      "metadata": {
        "id": "bIdRlKPgrOJQ"
      },
      "execution_count": 5,
      "outputs": []
    },
    {
      "cell_type": "code",
      "source": [
        "print(\"Scores:\", tensor)\n",
        "print(\"Probabilities:\", probabilities_a)\n",
        "print(\"Predictions:\", predictions_a)"
      ],
      "metadata": {
        "colab": {
          "base_uri": "https://localhost:8080/"
        },
        "id": "1HS9xcAMrSLX",
        "outputId": "4f1f9596-5457-4fbf-caf7-ea966ed10ecd"
      },
      "execution_count": 6,
      "outputs": [
        {
          "output_type": "stream",
          "name": "stdout",
          "text": [
            "Scores: tensor([-2,  0,  2,  4])\n",
            "Probabilities: tensor([0.1192, 0.5000, 0.8808, 0.9820], dtype=torch.float64)\n",
            "Predictions: tensor([False,  True,  True,  True])\n"
          ]
        }
      ]
    },
    {
      "cell_type": "code",
      "source": [
        "#Implementing the sigmoind function\n",
        "import numpy as np\n",
        "\n",
        "# Sigmoid function\n",
        "def sigmoid(x):\n",
        "    return 1 / (1 + np.exp(-x))\n",
        "\n",
        "# Derivative of the sigmoid function\n",
        "def sigmoid_derivative(x):\n",
        "    return sigmoid(x) * (1 - sigmoid(x))\n",
        "\n",
        "# Example: Applying sigmoid to an input\n",
        "x = np.array([-2, 0, 2])\n",
        "sigmoid_output = sigmoid(x)\n",
        "sigmoid_derivative_output = sigmoid_derivative(x)\n",
        "\n",
        "print(\"Input:\", x)\n",
        "print(\"Sigmoid Output:\", sigmoid_output)\n",
        "print(\"Sigmoid Derivative:\", sigmoid_derivative_output)\n"
      ],
      "metadata": {
        "colab": {
          "base_uri": "https://localhost:8080/"
        },
        "id": "n1UHXcxarXx_",
        "outputId": "d653edb1-757a-495a-bf75-96a251c15b61"
      },
      "execution_count": 7,
      "outputs": [
        {
          "output_type": "stream",
          "name": "stdout",
          "text": [
            "Input: [-2  0  2]\n",
            "Sigmoid Output: [0.11920292 0.5        0.88079708]\n",
            "Sigmoid Derivative: [0.10499359 0.25       0.10499359]\n"
          ]
        }
      ]
    },
    {
      "cell_type": "code",
      "source": [
        "# Simulated dataset (binary classification)\n",
        "np.random.seed(0)\n",
        "X = np.random.randn(100, 2)  # 100 samples, 2 features\n",
        "y = (X[:, 0] + X[:, 1] > 0).astype(int)  # Label: 1 if sum of features > 0, else 0\n",
        "\n",
        "# Initialize weights and bias\n",
        "weights = np.random.randn(2)\n",
        "bias = 0\n",
        "learning_rate = 0.1\n",
        "epochs = 1000\n",
        "\n",
        "# Training loop\n",
        "for epoch in range(epochs):\n",
        "    # Compute linear combination\n",
        "    linear_output = np.dot(X, weights) + bias\n",
        "\n",
        "    # Apply sigmoid activation\n",
        "    predictions = sigmoid(linear_output)\n",
        "\n",
        "    # Compute gradient (derivative of cross-entropy loss)\n",
        "    error = predictions - y\n",
        "    weight_gradient = np.dot(X.T, error) / len(y)\n",
        "    bias_gradient = np.mean(error)\n",
        "\n",
        "    # Update weights and bias using gradient descent\n",
        "    weights -= learning_rate * weight_gradient\n",
        "    bias -= learning_rate * bias_gradient\n",
        "\n",
        "    # Print loss every 100 epochs\n",
        "    if epoch % 100 == 0:\n",
        "        loss = -np.mean(y * np.log(predictions) + (1 - y) * np.log(1 - predictions))\n",
        "        print(f\"Epoch {epoch}, Loss: {loss:.4f}\")\n",
        "\n",
        "# Final weights and bias\n",
        "print(\"Trained Weights:\", weights)\n",
        "print(\"Trained Bias:\", bias)\n"
      ],
      "metadata": {
        "colab": {
          "base_uri": "https://localhost:8080/"
        },
        "id": "hAhdq-WXrZhd",
        "outputId": "67b62eb7-ff51-4fb5-d6ff-b0a43a3cb2fb"
      },
      "execution_count": 8,
      "outputs": [
        {
          "output_type": "stream",
          "name": "stdout",
          "text": [
            "Epoch 0, Loss: 0.8936\n",
            "Epoch 100, Loss: 0.2851\n",
            "Epoch 200, Loss: 0.2091\n",
            "Epoch 300, Loss: 0.1749\n",
            "Epoch 400, Loss: 0.1543\n",
            "Epoch 500, Loss: 0.1402\n",
            "Epoch 600, Loss: 0.1298\n",
            "Epoch 700, Loss: 0.1216\n",
            "Epoch 800, Loss: 0.1151\n",
            "Epoch 900, Loss: 0.1096\n",
            "Trained Weights: [3.94034419 3.66999315]\n",
            "Trained Bias: -0.029460634850134067\n"
          ]
        }
      ]
    },
    {
      "cell_type": "code",
      "source": [
        "#Make predictions\n",
        "\n",
        "# Test new data\n",
        "X_test = np.array([[0.5, 0.5], [-1, -1], [2, 2]])\n",
        "linear_output_test = np.dot(X_test, weights) + bias\n",
        "predictions_test = sigmoid(linear_output_test)\n",
        "\n",
        "# Convert probabilities to binary class (threshold = 0.5)\n",
        "class_predictions = (predictions_test >= 0.5).astype(int)\n",
        "\n",
        "print(\"Test Predictions:\", predictions_test)\n",
        "print(\"Predicted Classes:\", class_predictions)\n"
      ],
      "metadata": {
        "colab": {
          "base_uri": "https://localhost:8080/"
        },
        "id": "mUpBQSJprhp0",
        "outputId": "cadf10d8-e24b-4478-b6e7-25c73974234b"
      },
      "execution_count": 9,
      "outputs": [
        {
          "output_type": "stream",
          "name": "stdout",
          "text": [
            "Test Predictions: [9.77592738e-01 4.80694423e-04 9.99999747e-01]\n",
            "Predicted Classes: [1 0 1]\n"
          ]
        }
      ]
    },
    {
      "cell_type": "code",
      "source": [],
      "metadata": {
        "id": "eDWAUL0jr1yt"
      },
      "execution_count": null,
      "outputs": []
    },
    {
      "cell_type": "markdown",
      "source": [],
      "metadata": {
        "id": "sjxgLhLor26e"
      }
    },
    {
      "cell_type": "code",
      "source": [
        "#Set device\n",
        "# Set device type\n",
        "device = \"cuda\" if torch.cuda.is_available() else \"cpu\"\n",
        "device\n",
        "seed =1234"
      ],
      "metadata": {
        "id": "fK08mQK6rk7g"
      },
      "execution_count": 10,
      "outputs": []
    }
  ]
}