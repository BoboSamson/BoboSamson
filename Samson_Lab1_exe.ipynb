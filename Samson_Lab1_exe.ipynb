{
  "nbformat": 4,
  "nbformat_minor": 0,
  "metadata": {
    "colab": {
      "provenance": [],
      "authorship_tag": "ABX9TyMpJI3EqtDQlw9rrkPYWzKd",
      "include_colab_link": true
    },
    "kernelspec": {
      "name": "python3",
      "display_name": "Python 3"
    },
    "language_info": {
      "name": "python"
    }
  },
  "cells": [
    {
      "cell_type": "markdown",
      "metadata": {
        "id": "view-in-github",
        "colab_type": "text"
      },
      "source": [
        "<a href=\"https://colab.research.google.com/github/BoboSamson/BoboSamson/blob/main/Samson_Lab1_exe.ipynb\" target=\"_parent\"><img src=\"https://colab.research.google.com/assets/colab-badge.svg\" alt=\"Open In Colab\"/></a>"
      ]
    },
    {
      "cell_type": "code",
      "execution_count": 3,
      "metadata": {
        "colab": {
          "base_uri": "https://localhost:8080/"
        },
        "id": "j31KYuNoqtM7",
        "outputId": "2431b5e3-7316-4497-b539-98fd29b7b8b5"
      },
      "outputs": [
        {
          "output_type": "stream",
          "name": "stdout",
          "text": [
            "Scores: [-2  0  2  4]\n",
            "Probabilities: [0.11920292 0.5        0.88079708 0.98201379]\n",
            "Predictions: [0 1 1 1]\n"
          ]
        }
      ],
      "source": [
        "import numpy as np\n",
        "\n",
        "def sigmoid(x):\n",
        "    return 1 / (1 + np.exp(-x))\n",
        "\n",
        "# Simulated model scores\n",
        "scores = np.array([-2, 0, 2, 4])\n",
        "\n",
        "# Convert scores to probabilities\n",
        "probabilities = sigmoid(scores)\n",
        "\n",
        "# Make predictions based on threshold 0.5\n",
        "predictions = (probabilities >= 0.5).astype(int)\n",
        "\n",
        "print(\"Scores:\", scores)\n",
        "print(\"Probabilities:\", probabilities)\n",
        "print(\"Predictions:\", predictions)\n"
      ]
    },
    {
      "cell_type": "code",
      "source": [
        "import torch\n",
        "\n",
        "# ----- STEP 1: Define scores as a tensor -----\n",
        "scores = torch.tensor([-2.0, 0.0, 2.0, 4.0])  # Convert to tensor\n",
        "\n",
        "# ----- STEP 2: Apply sigmoid function -----\n",
        "probabilities = torch.sigmoid(scores)  # Apply sigmoid activation\n",
        "\n",
        "# ----- STEP 3: Convert probabilities to binary predictions -----\n",
        "predictions = torch.where(probabilities >= 0.5, torch.tensor(1), torch.tensor(0))\n",
        "\n",
        "# ----- STEP 4: Print results -----\n",
        "print(\"Scores:\", scores.numpy())  # Convert tensor to NumPy for display\n",
        "print(\"Probabilities:\", probabilities.numpy())  # Convert to NumPy for readability\n",
        "print(\"Predictions:\", predictions.numpy())  # Convert to NumPy for readability\n"
      ],
      "metadata": {
        "colab": {
          "base_uri": "https://localhost:8080/"
        },
        "id": "GLqge3JLPMuF",
        "outputId": "3398c5ec-ef30-4bf7-feb2-67145628f63f"
      },
      "execution_count": 1,
      "outputs": [
        {
          "output_type": "stream",
          "name": "stdout",
          "text": [
            "Scores: [-2.  0.  2.  4.]\n",
            "Probabilities: [0.11920292 0.5        0.880797   0.98201376]\n",
            "Predictions: [0 1 1 1]\n"
          ]
        }
      ]
    },
    {
      "cell_type": "code",
      "source": [
        "# Simulated dataset (binary classification)\n",
        "np.random.seed(0)\n",
        "X = np.random.randn(100, 2)  # 100 samples, 2 features\n",
        "y = (X[:, 0] + X[:, 1] > 0).astype(int)  # Label: 1 if sum of features > 0, else 0\n",
        "\n",
        "# Initialize weights and bias\n",
        "weights = np.random.randn(2)\n",
        "bias = 0\n",
        "learning_rate = 0.1\n",
        "epochs = 1000\n",
        "\n",
        "# Training loop\n",
        "for epoch in range(epochs):\n",
        "    # Compute linear combination\n",
        "    linear_output = np.dot(X, weights) + bias\n",
        "\n",
        "    # Apply sigmoid activation\n",
        "    predictions = sigmoid(linear_output)\n",
        "\n",
        "    # Compute gradient (derivative of cross-entropy loss)\n",
        "    error = predictions - y\n",
        "    weight_gradient = np.dot(X.T, error) / len(y)\n",
        "    bias_gradient = np.mean(error)\n",
        "\n",
        "    # Update weights and bias using gradient descent\n",
        "    weights -= learning_rate * weight_gradient\n",
        "    bias -= learning_rate * bias_gradient\n",
        "\n",
        "    # Print loss every 100 epochs\n",
        "    if epoch % 100 == 0:\n",
        "        loss = -np.mean(y * np.log(predictions) + (1 - y) * np.log(1 - predictions))\n",
        "        print(f\"Epoch {epoch}, Loss: {loss:.4f}\")\n",
        "\n",
        "# Final weights and bias\n",
        "print(\"Trained Weights:\", weights)\n",
        "print(\"Trained Bias:\", bias)\n"
      ],
      "metadata": {
        "colab": {
          "base_uri": "https://localhost:8080/"
        },
        "id": "hAhdq-WXrZhd",
        "outputId": "457ab891-8041-4507-8462-ce96712504e1"
      },
      "execution_count": 4,
      "outputs": [
        {
          "output_type": "stream",
          "name": "stdout",
          "text": [
            "Epoch 0, Loss: 0.8936\n",
            "Epoch 100, Loss: 0.2851\n",
            "Epoch 200, Loss: 0.2091\n",
            "Epoch 300, Loss: 0.1749\n",
            "Epoch 400, Loss: 0.1543\n",
            "Epoch 500, Loss: 0.1402\n",
            "Epoch 600, Loss: 0.1298\n",
            "Epoch 700, Loss: 0.1216\n",
            "Epoch 800, Loss: 0.1151\n",
            "Epoch 900, Loss: 0.1096\n",
            "Trained Weights: [3.94034419 3.66999315]\n",
            "Trained Bias: -0.029460634850134067\n"
          ]
        }
      ]
    },
    {
      "cell_type": "code",
      "source": [
        "#Make predictions\n",
        "\n",
        "# Test new data\n",
        "X_test = np.array([[0.5, 0.5], [-1, -1], [2, 2]])\n",
        "linear_output_test = np.dot(X_test, weights) + bias\n",
        "predictions_test = sigmoid(linear_output_test)\n",
        "\n",
        "# Convert probabilities to binary class (threshold = 0.5)\n",
        "class_predictions = (predictions_test >= 0.5).astype(int)\n",
        "\n",
        "print(\"Test Predictions:\", predictions_test)\n",
        "print(\"Predicted Classes:\", class_predictions)\n"
      ],
      "metadata": {
        "colab": {
          "base_uri": "https://localhost:8080/"
        },
        "id": "mUpBQSJprhp0",
        "outputId": "cda5ac3f-9e76-40f5-c20e-5eb2e93cb09b"
      },
      "execution_count": 5,
      "outputs": [
        {
          "output_type": "stream",
          "name": "stdout",
          "text": [
            "Test Predictions: [9.77592738e-01 4.80694423e-04 9.99999747e-01]\n",
            "Predicted Classes: [1 0 1]\n"
          ]
        }
      ]
    },
    {
      "cell_type": "code",
      "source": [],
      "metadata": {
        "id": "eDWAUL0jr1yt"
      },
      "execution_count": 5,
      "outputs": []
    },
    {
      "cell_type": "markdown",
      "source": [],
      "metadata": {
        "id": "sjxgLhLor26e"
      }
    },
    {
      "cell_type": "code",
      "source": [
        "#Set device\n",
        "# Set device type\n",
        "device = \"cuda\" if torch.cuda.is_available() else \"cpu\"\n",
        "device\n",
        "seed =1234"
      ],
      "metadata": {
        "id": "fK08mQK6rk7g"
      },
      "execution_count": null,
      "outputs": []
    }
  ]
}