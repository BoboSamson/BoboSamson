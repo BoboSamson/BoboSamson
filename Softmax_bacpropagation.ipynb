{
  "nbformat": 4,
  "nbformat_minor": 0,
  "metadata": {
    "colab": {
      "provenance": [],
      "authorship_tag": "ABX9TyNopeGS/wmCds8PI+5J8Ky7",
      "include_colab_link": true
    },
    "kernelspec": {
      "name": "python3",
      "display_name": "Python 3"
    },
    "language_info": {
      "name": "python"
    }
  },
  "cells": [
    {
      "cell_type": "markdown",
      "metadata": {
        "id": "view-in-github",
        "colab_type": "text"
      },
      "source": [
        "<a href=\"https://colab.research.google.com/github/BoboSamson/BoboSamson/blob/main/Softmax_bacpropagation.ipynb\" target=\"_parent\"><img src=\"https://colab.research.google.com/assets/colab-badge.svg\" alt=\"Open In Colab\"/></a>"
      ]
    },
    {
      "cell_type": "code",
      "execution_count": 1,
      "metadata": {
        "colab": {
          "base_uri": "https://localhost:8080/"
        },
        "id": "iz0UCcSOPy4y",
        "outputId": "de2d5dcf-d74e-4d0e-e3d9-d535db68f309"
      },
      "outputs": [
        {
          "output_type": "stream",
          "name": "stdout",
          "text": [
            "Softmax Output: [0.65900114 0.24243297 0.09856589]\n"
          ]
        }
      ],
      "source": [
        "#Soxtmax implementation(forward pass)\n",
        "\n",
        "import numpy as np\n",
        "\n",
        "def softmax(X_in):\n",
        "    exp_values = np.exp(X_in - np.max(X_in))  # Stability trick to prevent overflow\n",
        "    return exp_values / np.sum(exp_values)\n",
        "\n",
        "# Example input vector\n",
        "X_in = np.array([2.0, 1.0, 0.1])\n",
        "X_out = softmax(X_in)\n",
        "\n",
        "print(\"Softmax Output:\", X_out)\n"
      ]
    },
    {
      "cell_type": "code",
      "source": [
        "#Compute cross entropy.\n",
        "\n",
        "def cross_entropy_loss(y_true, X_out):\n",
        "    return -np.sum(y_true * np.log(X_out))\n",
        "\n",
        "# Example: True class is index 0\n",
        "y_true = np.array([1, 0, 0])  # One-hot vector\n",
        "loss = cross_entropy_loss(y_true, X_out)\n",
        "\n",
        "print(\"Loss:\", loss)\n"
      ],
      "metadata": {
        "colab": {
          "base_uri": "https://localhost:8080/"
        },
        "id": "z5Y10Gb0P8Xl",
        "outputId": "acd39a1b-e47b-41a5-af12-a49eb9bc9837"
      },
      "execution_count": 2,
      "outputs": [
        {
          "output_type": "stream",
          "name": "stdout",
          "text": [
            "Loss: 0.4170300162778335\n"
          ]
        }
      ]
    },
    {
      "cell_type": "code",
      "source": [
        "# Compute gradient(Back propagation)\n",
        "def softmax_backward(X_out, y_true):\n",
        "    return X_out - y_true  # Simplified gradient\n",
        "\n",
        "grad_X_in = softmax_backward(X_out, y_true)\n",
        "print(\"Gradient w.r.t Input:\", grad_X_in)\n"
      ],
      "metadata": {
        "colab": {
          "base_uri": "https://localhost:8080/"
        },
        "id": "o-O9Sq2DQA8F",
        "outputId": "6f081570-1320-41c4-e1c9-a6b74abfed38"
      },
      "execution_count": 3,
      "outputs": [
        {
          "output_type": "stream",
          "name": "stdout",
          "text": [
            "Gradient w.r.t Input: [-0.34099886  0.24243297  0.09856589]\n"
          ]
        }
      ]
    },
    {
      "cell_type": "code",
      "source": [
        "#Pytorch implementation\n",
        "\n",
        "import torch\n",
        "import torch.nn as nn\n",
        "import torch.optim as optim\n",
        "\n",
        "# ----- STEP 1: Initialize data as tensors -----\n",
        "X_in = torch.tensor([[2.0, 1.0, 0.1]], dtype=torch.float32)  # Input (1 sample, 3 features)\n",
        "y_true = torch.tensor([0], dtype=torch.long)  # Class index (not one-hot)\n",
        "\n",
        "num_features = X_in.shape[1]\n",
        "num_classes = 3\n",
        "\n",
        "# ----- STEP 2: Define model -----\n",
        "class SoftmaxRegression(nn.Module):\n",
        "    def __init__(self, num_features, num_classes):\n",
        "        super(SoftmaxRegression, self).__init__()\n",
        "        self.linear = nn.Linear(num_features, num_classes)  # Linear layer\n",
        "\n",
        "    def forward(self, x):\n",
        "        return self.linear(x)  # No softmax here since CrossEntropyLoss applies it\n",
        "\n",
        "# Initialize model\n",
        "model = SoftmaxRegression(num_features, num_classes)\n",
        "\n",
        "# ----- STEP 3: Define loss function and optimizer -----\n",
        "criterion = nn.CrossEntropyLoss()  # Automatically applies softmax + cross-entropy\n",
        "optimizer = optim.SGD(model.parameters(), lr=0.1)\n",
        "\n",
        "# ----- STEP 4: Training loop -----\n",
        "epochs = 100\n",
        "for epoch in range(epochs):\n",
        "    # Forward pass\n",
        "    logits = model(X_in)  # Compute raw scores (logits)\n",
        "\n",
        "    loss = criterion(logits, y_true)  # Compute loss\n",
        "\n",
        "    # Backward pass\n",
        "    optimizer.zero_grad()  # Reset gradients\n",
        "    loss.backward()  # Compute gradients\n",
        "    optimizer.step()  # Update weights\n",
        "\n",
        "    if epoch % 10 == 0:\n",
        "        print(f\"Epoch {epoch}, Loss: {loss.item():.4f}\")\n",
        "\n",
        "# ----- STEP 5: Final prediction -----\n",
        "logits_final = model(X_in)\n",
        "X_out_final = torch.softmax(logits_final, dim=1)  # Convert logits to probabilities\n",
        "\n",
        "print(\"\\nFinal Softmax Probabilities:\", X_out_final.detach().numpy())\n",
        "print(\"Predicted Class:\", torch.argmax(X_out_final).item())\n"
      ],
      "metadata": {
        "colab": {
          "base_uri": "https://localhost:8080/"
        },
        "id": "w5u3LD4OQInU",
        "outputId": "135eb793-d3e3-42f4-d706-c0a458df4d87"
      },
      "execution_count": 4,
      "outputs": [
        {
          "output_type": "stream",
          "name": "stdout",
          "text": [
            "Epoch 0, Loss: 1.9270\n",
            "Epoch 10, Loss: 0.1381\n",
            "Epoch 20, Loss: 0.0630\n",
            "Epoch 30, Loss: 0.0405\n",
            "Epoch 40, Loss: 0.0298\n",
            "Epoch 50, Loss: 0.0235\n",
            "Epoch 60, Loss: 0.0194\n",
            "Epoch 70, Loss: 0.0166\n",
            "Epoch 80, Loss: 0.0144\n",
            "Epoch 90, Loss: 0.0128\n",
            "\n",
            "Final Softmax Probabilities: [[0.9886149  0.00519783 0.00618721]]\n",
            "Predicted Class: 0\n"
          ]
        }
      ]
    },
    {
      "cell_type": "code",
      "source": [],
      "metadata": {
        "id": "pP7YfKcMQRry"
      },
      "execution_count": 4,
      "outputs": []
    },
    {
      "cell_type": "code",
      "source": [
        "#Set device\n",
        "# Set device type\n",
        "device = \"cuda\" if torch.cuda.is_available() else \"cpu\"\n",
        "device\n",
        "seed =1234"
      ],
      "metadata": {
        "id": "fK08mQK6rk7g"
      },
      "execution_count": 5,
      "outputs": []
    }
  ]
}