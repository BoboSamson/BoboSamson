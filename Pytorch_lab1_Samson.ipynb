{
  "nbformat": 4,
  "nbformat_minor": 0,
  "metadata": {
    "colab": {
      "provenance": [],
      "gpuType": "T4",
      "authorship_tag": "ABX9TyMDDQYKWTEMo51QUufnvNqJ",
      "include_colab_link": true
    },
    "kernelspec": {
      "name": "python3",
      "display_name": "Python 3"
    },
    "language_info": {
      "name": "python"
    },
    "accelerator": "GPU"
  },
  "cells": [
    {
      "cell_type": "markdown",
      "metadata": {
        "id": "view-in-github",
        "colab_type": "text"
      },
      "source": [
        "<a href=\"https://colab.research.google.com/github/BoboSamson/BoboSamson/blob/Samson/Pytorch_lab1_Samson.ipynb\" target=\"_parent\"><img src=\"https://colab.research.google.com/assets/colab-badge.svg\" alt=\"Open In Colab\"/></a>"
      ]
    },
    {
      "cell_type": "code",
      "execution_count": 1,
      "metadata": {
        "colab": {
          "base_uri": "https://localhost:8080/"
        },
        "id": "2Gq-Jml9adV8",
        "outputId": "6d8b81b0-9662-4b1f-df0b-6675411af4d2"
      },
      "outputs": [
        {
          "output_type": "stream",
          "name": "stdout",
          "text": [
            "random tensor of shape (7,7) is \n",
            "\n",
            "tensor([[0.7196, 0.7307, 0.8278, 0.1343, 0.6280, 0.7297, 0.2882],\n",
            "        [0.2112, 0.9836, 0.8722, 0.9650, 0.7837, 0.8076, 0.0608],\n",
            "        [0.7226, 0.3354, 0.5350, 0.7117, 0.7979, 0.2785, 0.8947],\n",
            "        [0.6694, 0.8950, 0.4479, 0.4788, 0.3541, 0.0467, 0.7471],\n",
            "        [0.7821, 0.4296, 0.1128, 0.8413, 0.4978, 0.3593, 0.7470],\n",
            "        [0.0869, 0.4811, 0.4923, 0.7392, 0.3945, 0.0290, 0.7696],\n",
            "        [0.6214, 0.0891, 0.4282, 0.0289, 0.7090, 0.3982, 0.1633]])\n"
          ]
        }
      ],
      "source": [
        "#Create a random tensor of shape (7, 7)\n",
        "import random\n",
        "import torch\n",
        "\n",
        "# # Set the random seed\n",
        "\n",
        "torch.manual_seed(seed=44)\n",
        "random_tensor = torch.rand(7, 7)\n",
        "\n",
        "\n",
        "print(f\"random tensor of shape (7,7) is \\n\")\n",
        "print(f\"{random_tensor}\")\n",
        "\n",
        "\n"
      ]
    },
    {
      "cell_type": "code",
      "source": [
        "random_tensor.shape"
      ],
      "metadata": {
        "colab": {
          "base_uri": "https://localhost:8080/"
        },
        "id": "weNliJWja24E",
        "outputId": "36d1247b-c6fd-4384-a499-b96c36aa414d"
      },
      "execution_count": 2,
      "outputs": [
        {
          "output_type": "execute_result",
          "data": {
            "text/plain": [
              "torch.Size([7, 7])"
            ]
          },
          "metadata": {},
          "execution_count": 2
        }
      ]
    },
    {
      "cell_type": "code",
      "source": [
        "# Creat random tensor of shape (1, 7)\n",
        "## Set the seed\n",
        "torch.manual_seed(seed=44)\n",
        "random_tensor1 = torch.rand(1, 7)\n",
        "\n",
        "print(f\" random tensor of shape (1, 7) is \\n\")\n",
        "print(f\"{random_tensor1}\\n\\n\")\n",
        "random_tensor1.shape\n"
      ],
      "metadata": {
        "colab": {
          "base_uri": "https://localhost:8080/"
        },
        "id": "ChEFWqWpa7SW",
        "outputId": "72e7875a-0074-4a47-ff2e-64e8a7676e75"
      },
      "execution_count": 3,
      "outputs": [
        {
          "output_type": "stream",
          "name": "stdout",
          "text": [
            " random tensor of shape (1, 7) is \n",
            "\n",
            "tensor([[0.7196, 0.7307, 0.8278, 0.1343, 0.6280, 0.7297, 0.2882]])\n",
            "\n",
            "\n"
          ]
        },
        {
          "output_type": "execute_result",
          "data": {
            "text/plain": [
              "torch.Size([1, 7])"
            ]
          },
          "metadata": {},
          "execution_count": 3
        }
      ]
    },
    {
      "cell_type": "code",
      "source": [
        "print(f\"random_tensor shape is {random_tensor.shape} and random_tensor1 shape is {random_tensor1.shape}\")"
      ],
      "metadata": {
        "colab": {
          "base_uri": "https://localhost:8080/"
        },
        "id": "LkRZYQUva--l",
        "outputId": "15f50013-625f-452b-9b83-b7a21f870374"
      },
      "execution_count": 4,
      "outputs": [
        {
          "output_type": "stream",
          "name": "stdout",
          "text": [
            "random_tensor shape is torch.Size([7, 7]) and random_tensor1 shape is torch.Size([1, 7])\n"
          ]
        }
      ]
    },
    {
      "cell_type": "code",
      "source": [
        "print(f\" The transpose of random_tensor1 is \\n\")\n",
        "print(f\"{random_tensor1.T}\")"
      ],
      "metadata": {
        "colab": {
          "base_uri": "https://localhost:8080/"
        },
        "id": "79Fo26uhbDJh",
        "outputId": "22b03036-5077-4620-9e9b-ce24ac3a4517"
      },
      "execution_count": 5,
      "outputs": [
        {
          "output_type": "stream",
          "name": "stdout",
          "text": [
            " The transpose of random_tensor1 is \n",
            "\n",
            "tensor([[0.7196],\n",
            "        [0.7307],\n",
            "        [0.8278],\n",
            "        [0.1343],\n",
            "        [0.6280],\n",
            "        [0.7297],\n",
            "        [0.2882]])\n"
          ]
        }
      ]
    },
    {
      "cell_type": "code",
      "source": [
        "#Matrix multiplication of random_tensor and random_tensor1\n",
        "\n",
        "print(f\" The matrix multiplication of random_tensor * random_tensor1 is \\n\")\n",
        "print(f\"{random_tensor * random_tensor1.T}\")"
      ],
      "metadata": {
        "colab": {
          "base_uri": "https://localhost:8080/"
        },
        "id": "Q1tFVEL-bIP3",
        "outputId": "c84b9fb2-ab38-4b3a-9665-9ac8712dd9d1"
      },
      "execution_count": 6,
      "outputs": [
        {
          "output_type": "stream",
          "name": "stdout",
          "text": [
            " The matrix multiplication of random_tensor * random_tensor1 is \n",
            "\n",
            "tensor([[0.5178, 0.5258, 0.5957, 0.0967, 0.4519, 0.5251, 0.2074],\n",
            "        [0.1543, 0.7187, 0.6373, 0.7051, 0.5726, 0.5901, 0.0444],\n",
            "        [0.5982, 0.2777, 0.4429, 0.5891, 0.6605, 0.2305, 0.7406],\n",
            "        [0.0899, 0.1202, 0.0602, 0.0643, 0.0476, 0.0063, 0.1004],\n",
            "        [0.4911, 0.2698, 0.0709, 0.5283, 0.3126, 0.2256, 0.4691],\n",
            "        [0.0634, 0.3511, 0.3593, 0.5394, 0.2879, 0.0212, 0.5616],\n",
            "        [0.1791, 0.0257, 0.1234, 0.0083, 0.2043, 0.1148, 0.0471]])\n"
          ]
        }
      ]
    },
    {
      "cell_type": "code",
      "source": [
        "#The  seed  set to 0 for exercise 2 and 3 has the following results\n",
        "\n",
        "#Create a random tensor of shape (7, 7)\n",
        "import random\n",
        "\n",
        "# # Set the random seed\n",
        "\n",
        "torch.manual_seed(seed=0)\n",
        "random_tensor = torch.rand(7, 7)\n",
        "\n",
        "\n",
        "print(f\"random tensor of shape (7,7) with seed 0 is \\n\")\n",
        "print(f\"{random_tensor}\")\n",
        "\n",
        "\n"
      ],
      "metadata": {
        "colab": {
          "base_uri": "https://localhost:8080/"
        },
        "id": "HRYDeUoHbNDw",
        "outputId": "620ef531-74cd-40cc-fb7f-ecce1c9e5b55"
      },
      "execution_count": 7,
      "outputs": [
        {
          "output_type": "stream",
          "name": "stdout",
          "text": [
            "random tensor of shape (7,7) with seed 0 is \n",
            "\n",
            "tensor([[0.4963, 0.7682, 0.0885, 0.1320, 0.3074, 0.6341, 0.4901],\n",
            "        [0.8964, 0.4556, 0.6323, 0.3489, 0.4017, 0.0223, 0.1689],\n",
            "        [0.2939, 0.5185, 0.6977, 0.8000, 0.1610, 0.2823, 0.6816],\n",
            "        [0.9152, 0.3971, 0.8742, 0.4194, 0.5529, 0.9527, 0.0362],\n",
            "        [0.1852, 0.3734, 0.3051, 0.9320, 0.1759, 0.2698, 0.1507],\n",
            "        [0.0317, 0.2081, 0.9298, 0.7231, 0.7423, 0.5263, 0.2437],\n",
            "        [0.5846, 0.0332, 0.1387, 0.2422, 0.8155, 0.7932, 0.2783]])\n"
          ]
        }
      ]
    },
    {
      "cell_type": "code",
      "source": [
        "# Creat random tensor of shape (1, 7)\n",
        "## Set the seed to 0\n",
        "torch.manual_seed(seed=0)\n",
        "random_tensor1 = torch.rand(1, 7)\n",
        "\n",
        "print(f\" random tensor of shape (1, 7) with seed 0 is \\n\")\n",
        "print(f\"{random_tensor1}\\n\\n\")\n",
        "random_tensor1.shape\n"
      ],
      "metadata": {
        "colab": {
          "base_uri": "https://localhost:8080/"
        },
        "id": "3fH_AxKjbSbf",
        "outputId": "6c8719a6-3b9d-41d0-8603-c52570508478"
      },
      "execution_count": 8,
      "outputs": [
        {
          "output_type": "stream",
          "name": "stdout",
          "text": [
            " random tensor of shape (1, 7) with seed 0 is \n",
            "\n",
            "tensor([[0.4963, 0.7682, 0.0885, 0.1320, 0.3074, 0.6341, 0.4901]])\n",
            "\n",
            "\n"
          ]
        },
        {
          "output_type": "execute_result",
          "data": {
            "text/plain": [
              "torch.Size([1, 7])"
            ]
          },
          "metadata": {},
          "execution_count": 8
        }
      ]
    },
    {
      "cell_type": "code",
      "source": [
        "print(f\" The transpose of random_tensor1 with seed 0 is \\n\")\n",
        "print(f\"{random_tensor1.T}\")"
      ],
      "metadata": {
        "colab": {
          "base_uri": "https://localhost:8080/"
        },
        "id": "ZvsdmIglbRDx",
        "outputId": "27685b72-06f6-41d0-9e48-2687d3c3bc8d"
      },
      "execution_count": 9,
      "outputs": [
        {
          "output_type": "stream",
          "name": "stdout",
          "text": [
            " The transpose of random_tensor1 with seed 0 is \n",
            "\n",
            "tensor([[0.4963],\n",
            "        [0.7682],\n",
            "        [0.0885],\n",
            "        [0.1320],\n",
            "        [0.3074],\n",
            "        [0.6341],\n",
            "        [0.4901]])\n"
          ]
        }
      ]
    },
    {
      "cell_type": "code",
      "source": [
        "#Matrix multiplication of random_tensor and random_tensor1 with seed 0\n",
        "\n",
        "print(f\" The matrix multiplication of random_tensor * random_tensor1 with seed 0  is \\n\")\n",
        "print(f\"{random_tensor * random_tensor1.T}\")"
      ],
      "metadata": {
        "colab": {
          "base_uri": "https://localhost:8080/"
        },
        "id": "anuiqwymbcic",
        "outputId": "4f2bc594-4b4c-41d7-9a25-0bd70b917e8e"
      },
      "execution_count": 10,
      "outputs": [
        {
          "output_type": "stream",
          "name": "stdout",
          "text": [
            " The matrix multiplication of random_tensor * random_tensor1 with seed 0  is \n",
            "\n",
            "tensor([[0.2463, 0.3812, 0.0439, 0.0655, 0.1526, 0.3147, 0.2432],\n",
            "        [0.6887, 0.3500, 0.4858, 0.2680, 0.3086, 0.0172, 0.1297],\n",
            "        [0.0260, 0.0459, 0.0617, 0.0708, 0.0142, 0.0250, 0.0603],\n",
            "        [0.1208, 0.0524, 0.1154, 0.0554, 0.0730, 0.1258, 0.0048],\n",
            "        [0.0569, 0.1148, 0.0938, 0.2865, 0.0541, 0.0830, 0.0463],\n",
            "        [0.0201, 0.1320, 0.5896, 0.4585, 0.4707, 0.3337, 0.1545],\n",
            "        [0.2865, 0.0162, 0.0680, 0.1187, 0.3997, 0.3887, 0.1364]])\n"
          ]
        }
      ]
    },
    {
      "cell_type": "code",
      "source": [
        "# Check for GPU\n",
        "torch.cuda.is_available()"
      ],
      "metadata": {
        "colab": {
          "base_uri": "https://localhost:8080/"
        },
        "id": "EhZLqKXZcWmo",
        "outputId": "668a018b-46f8-4d0f-a77a-5b2e7979a000"
      },
      "execution_count": 11,
      "outputs": [
        {
          "output_type": "execute_result",
          "data": {
            "text/plain": [
              "True"
            ]
          },
          "metadata": {},
          "execution_count": 11
        }
      ]
    },
    {
      "cell_type": "code",
      "source": [
        "# Set device type\n",
        "device = \"cuda\" if torch.cuda.is_available() else \"cpu\"\n",
        "device"
      ],
      "metadata": {
        "colab": {
          "base_uri": "https://localhost:8080/",
          "height": 35
        },
        "id": "v7fewLVZcltI",
        "outputId": "3b9ff0be-61b6-4909-b0d3-dcb2e2c44a98"
      },
      "execution_count": 12,
      "outputs": [
        {
          "output_type": "execute_result",
          "data": {
            "text/plain": [
              "'cuda'"
            ],
            "application/vnd.google.colaboratory.intrinsic+json": {
              "type": "string"
            }
          },
          "metadata": {},
          "execution_count": 12
        }
      ]
    },
    {
      "cell_type": "code",
      "source": [
        "# Check for Apple Silicon GPU\n",
        "torch.backends.mps.is_available() # Note this will print false if you're not running on a Mac"
      ],
      "metadata": {
        "colab": {
          "base_uri": "https://localhost:8080/"
        },
        "id": "lfJgEDzrc4kj",
        "outputId": "e19edd84-81d2-4841-ff55-0d95b7b0cbfb"
      },
      "execution_count": 13,
      "outputs": [
        {
          "output_type": "execute_result",
          "data": {
            "text/plain": [
              "False"
            ]
          },
          "metadata": {},
          "execution_count": 13
        }
      ]
    },
    {
      "cell_type": "code",
      "source": [
        "if torch.cuda.is_available():\n",
        "    device = \"cuda\" # Use NVIDIA GPU (if available)\n",
        "elif torch.backends.mps.is_available():\n",
        "    device = \"mps\" # Use Apple Silicon GPU (if available)\n",
        "else:\n",
        "    device = \"cpu\" # Default to CPU if no GPU is available"
      ],
      "metadata": {
        "id": "eJGE4MrddIfp"
      },
      "execution_count": 14,
      "outputs": []
    },
    {
      "cell_type": "code",
      "source": [
        "seed = 1234"
      ],
      "metadata": {
        "id": "oeEZXFeZd7QJ"
      },
      "execution_count": 15,
      "outputs": []
    },
    {
      "cell_type": "code",
      "source": [
        "#Create two a random tensors of shape (2, 3) and send both to GPU\n",
        "# Creat random tensor of shape (1, 7)\n",
        "## Set the seed to 0\n",
        "torch.manual_seed(seed=1234)\n",
        "random_tensorA = torch.rand(2, 3)\n",
        "\n",
        "print(f\" random tensor of shape (2, 3) with seed 0 is \\n\")\n",
        "print(f\"{random_tensorA}\\n\\n\")\n",
        "random_tensorA.shape\n",
        "# Tensor not on GPU\n",
        "print(random_tensorA, random_tensorA.device)\n",
        "\n",
        "# Move tensor to GPU (if available)\n",
        "tensorA_on_gpu = random_tensorA.to(device)\n",
        "tensorA_on_gpu\n",
        "\n"
      ],
      "metadata": {
        "id": "qV_zZlLqd8-_",
        "colab": {
          "base_uri": "https://localhost:8080/"
        },
        "outputId": "6236ca2c-8312-4d13-f214-d9e52f884373"
      },
      "execution_count": 16,
      "outputs": [
        {
          "output_type": "stream",
          "name": "stdout",
          "text": [
            " random tensor of shape (2, 3) with seed 0 is \n",
            "\n",
            "tensor([[0.0290, 0.4019, 0.2598],\n",
            "        [0.3666, 0.0583, 0.7006]])\n",
            "\n",
            "\n",
            "tensor([[0.0290, 0.4019, 0.2598],\n",
            "        [0.3666, 0.0583, 0.7006]]) cpu\n"
          ]
        },
        {
          "output_type": "execute_result",
          "data": {
            "text/plain": [
              "tensor([[0.0290, 0.4019, 0.2598],\n",
              "        [0.3666, 0.0583, 0.7006]], device='cuda:0')"
            ]
          },
          "metadata": {},
          "execution_count": 16
        }
      ]
    },
    {
      "cell_type": "code",
      "source": [
        "#Create two a random tensors of shape (2, 3) and send both to GPU\n",
        "# Creat random tensor of shape (1, 7)\n",
        "## Set the seed to 0\n",
        "torch.manual_seed(seed=1234)\n",
        "random_tensorB = torch.rand(2, 3)\n",
        "\n",
        "print(f\" random tensor of shape (2, 3) with seed 0 is \\n\")\n",
        "print(f\"{random_tensorB}\\n\\n\")\n",
        "random_tensorB.shape\n",
        "# Tensor not on GPU\n",
        "print(random_tensorB, random_tensorB.device)\n",
        "\n",
        "# Move tensor to GPU (if available)\n",
        "tensorB_on_gpu = random_tensorB.to(device)\n",
        "tensorB_on_gpu\n",
        "\n"
      ],
      "metadata": {
        "colab": {
          "base_uri": "https://localhost:8080/"
        },
        "id": "LwJkK8B_1ZVl",
        "outputId": "4b118492-4b7d-4c00-a2cf-738940872ebc"
      },
      "execution_count": 17,
      "outputs": [
        {
          "output_type": "stream",
          "name": "stdout",
          "text": [
            " random tensor of shape (2, 3) with seed 0 is \n",
            "\n",
            "tensor([[0.0290, 0.4019, 0.2598],\n",
            "        [0.3666, 0.0583, 0.7006]])\n",
            "\n",
            "\n",
            "tensor([[0.0290, 0.4019, 0.2598],\n",
            "        [0.3666, 0.0583, 0.7006]]) cpu\n"
          ]
        },
        {
          "output_type": "execute_result",
          "data": {
            "text/plain": [
              "tensor([[0.0290, 0.4019, 0.2598],\n",
              "        [0.3666, 0.0583, 0.7006]], device='cuda:0')"
            ]
          },
          "metadata": {},
          "execution_count": 17
        }
      ]
    },
    {
      "cell_type": "code",
      "source": [
        "#Matrix multiplication of tensorA_on_gpu * tensorB_on _gpu\n",
        "\n",
        "print(f\"The Transpose of tensorB_on_gpu is \\n\")\n",
        "print(f\"{tensorB_on_gpu.T}\")"
      ],
      "metadata": {
        "colab": {
          "base_uri": "https://localhost:8080/"
        },
        "id": "79Cj6wfz1eaG",
        "outputId": "698eb244-8ac9-4763-f926-ceb878bb7654"
      },
      "execution_count": 18,
      "outputs": [
        {
          "output_type": "stream",
          "name": "stdout",
          "text": [
            "The Transpose of tensorB_on_gpu is \n",
            "\n",
            "tensor([[0.0290, 0.3666],\n",
            "        [0.4019, 0.0583],\n",
            "        [0.2598, 0.7006]], device='cuda:0')\n"
          ]
        }
      ]
    },
    {
      "cell_type": "code",
      "source": [
        "print(f\"The result of multiplying tensorA_on_gpu * tansorB_on_gpu is\\n \")\n",
        "\n",
        "output = torch.matmul(tensorA_on_gpu, tensorB_on_gpu.T)"
      ],
      "metadata": {
        "colab": {
          "base_uri": "https://localhost:8080/"
        },
        "id": "ArMVmGZ31iqy",
        "outputId": "5d264158-6c73-4f16-8713-655e17e0123b"
      },
      "execution_count": 19,
      "outputs": [
        {
          "output_type": "stream",
          "name": "stdout",
          "text": [
            "The result of multiplying tensorA_on_gpu * tansorB_on_gpu is\n",
            " \n"
          ]
        }
      ]
    },
    {
      "cell_type": "code",
      "source": [
        "#Find the maximum and minimum values of the output of matrix multiplication above\n",
        "print(f\"Minimum: {output.min()}\\n\")\n",
        "print(f\"Maximum: {output.max()}\")\n",
        "\n"
      ],
      "metadata": {
        "colab": {
          "base_uri": "https://localhost:8080/"
        },
        "id": "S6txj5iv1oX4",
        "outputId": "b6b9f7ad-37f7-42ed-85f2-28b66893db29"
      },
      "execution_count": 20,
      "outputs": [
        {
          "output_type": "stream",
          "name": "stdout",
          "text": [
            "Minimum: 0.21611443161964417\n",
            "\n",
            "Maximum: 0.628727912902832\n"
          ]
        }
      ]
    },
    {
      "cell_type": "code",
      "source": [
        "#Find the maximum and minimum index values of output in 7\n",
        "# Returns index of max and min values\n",
        "print(f\"Index where max value occurs: {output.argmax()}\\n\")\n",
        "print(f\"Index where min value occurs: {output.argmin()}\")"
      ],
      "metadata": {
        "colab": {
          "base_uri": "https://localhost:8080/"
        },
        "id": "A9ktxOX91sye",
        "outputId": "f8b19079-0c20-44c9-fc54-d126e14d615f"
      },
      "execution_count": 21,
      "outputs": [
        {
          "output_type": "stream",
          "name": "stdout",
          "text": [
            "Index where max value occurs: 3\n",
            "\n",
            "Index where min value occurs: 1\n"
          ]
        }
      ]
    },
    {
      "cell_type": "code",
      "source": [
        "#Create a random tensor with shape (1, 1, 1, 10)\n",
        "torch.manual_seed(seed=7)\n",
        "tensor_C = torch.rand(1, 1, 1, 10)\n",
        "\n",
        "print(f\" random tensor of shape (1, 1, 1, 10) with seed 1234 is \\n\")\n",
        "print(f\"{tensor_C}\\n\\n\")\n",
        "tensor_C.shape\n",
        "# Tensor not on GPU\n",
        "print(tensor_C, tensor_C.device)\n",
        "\n",
        "# Move tensor to GPU (if available)\n",
        "tensorC_on_gpu = tensor_C.to(device)\n",
        "tensorC_on_gpu"
      ],
      "metadata": {
        "colab": {
          "base_uri": "https://localhost:8080/"
        },
        "id": "SgcMHgZT1wTi",
        "outputId": "e1679caa-9a8a-4fbc-91e8-e81c7f6e214d"
      },
      "execution_count": 22,
      "outputs": [
        {
          "output_type": "stream",
          "name": "stdout",
          "text": [
            " random tensor of shape (1, 1, 1, 10) with seed 1234 is \n",
            "\n",
            "tensor([[[[0.5349, 0.1988, 0.6592, 0.6569, 0.2328, 0.4251, 0.2071, 0.6297,\n",
            "           0.3653, 0.8513]]]])\n",
            "\n",
            "\n",
            "tensor([[[[0.5349, 0.1988, 0.6592, 0.6569, 0.2328, 0.4251, 0.2071, 0.6297,\n",
            "           0.3653, 0.8513]]]]) cpu\n"
          ]
        },
        {
          "output_type": "execute_result",
          "data": {
            "text/plain": [
              "tensor([[[[0.5349, 0.1988, 0.6592, 0.6569, 0.2328, 0.4251, 0.2071, 0.6297,\n",
              "           0.3653, 0.8513]]]], device='cuda:0')"
            ]
          },
          "metadata": {},
          "execution_count": 22
        }
      ]
    },
    {
      "cell_type": "code",
      "source": [
        "#Create a random tensor with shape (1, 1, 1, 10)\n",
        "\n",
        "tensor_D = tensorC_on_gpu.squeeze()\n",
        "\n",
        "print(f\" tensor_D is \\n\")\n",
        "print(f\"{tensor_D}\\n\\n\")\n",
        "tensor_D.shape\n",
        "# Tensor not on GPU\n",
        "print(tensor_D, tensor_D.device)\n",
        "\n",
        "# Move tensor to GPU (if available)\n",
        "tensorD_on_gpu = tensor_D.to(device)\n",
        "tensorD_on_gpu"
      ],
      "metadata": {
        "colab": {
          "base_uri": "https://localhost:8080/"
        },
        "id": "pKcLpGpD107I",
        "outputId": "a7aa5fb5-5a3f-4dbe-f740-ebaba63b7b27"
      },
      "execution_count": 23,
      "outputs": [
        {
          "output_type": "stream",
          "name": "stdout",
          "text": [
            " tensor_D is \n",
            "\n",
            "tensor([0.5349, 0.1988, 0.6592, 0.6569, 0.2328, 0.4251, 0.2071, 0.6297, 0.3653,\n",
            "        0.8513], device='cuda:0')\n",
            "\n",
            "\n",
            "tensor([0.5349, 0.1988, 0.6592, 0.6569, 0.2328, 0.4251, 0.2071, 0.6297, 0.3653,\n",
            "        0.8513], device='cuda:0') cuda:0\n"
          ]
        },
        {
          "output_type": "execute_result",
          "data": {
            "text/plain": [
              "tensor([0.5349, 0.1988, 0.6592, 0.6569, 0.2328, 0.4251, 0.2071, 0.6297, 0.3653,\n",
              "        0.8513], device='cuda:0')"
            ]
          },
          "metadata": {},
          "execution_count": 23
        }
      ]
    }
  ]
}