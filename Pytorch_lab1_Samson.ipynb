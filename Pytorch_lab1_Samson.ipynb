{
  "nbformat": 4,
  "nbformat_minor": 0,
  "metadata": {
    "colab": {
      "provenance": [],
      "gpuType": "T4",
      "authorship_tag": "ABX9TyMhqi3694bAMAsyZEl5nIJG",
      "include_colab_link": true
    },
    "kernelspec": {
      "name": "python3",
      "display_name": "Python 3"
    },
    "language_info": {
      "name": "python"
    },
    "accelerator": "GPU"
  },
  "cells": [
    {
      "cell_type": "markdown",
      "metadata": {
        "id": "view-in-github",
        "colab_type": "text"
      },
      "source": [
        "<a href=\"https://colab.research.google.com/github/BoboSamson/BoboSamson/blob/Samson/Pytorch_lab1_Samson.ipynb\" target=\"_parent\"><img src=\"https://colab.research.google.com/assets/colab-badge.svg\" alt=\"Open In Colab\"/></a>"
      ]
    },
    {
      "cell_type": "code",
      "execution_count": 2,
      "metadata": {
        "colab": {
          "base_uri": "https://localhost:8080/"
        },
        "id": "2Gq-Jml9adV8",
        "outputId": "17999b0f-a324-421c-a465-bc9c4f0eb11a"
      },
      "outputs": [
        {
          "output_type": "stream",
          "name": "stdout",
          "text": [
            "random tensor of shape (7,7) is \n",
            "\n",
            "tensor([[0.7196, 0.7307, 0.8278, 0.1343, 0.6280, 0.7297, 0.2882],\n",
            "        [0.2112, 0.9836, 0.8722, 0.9650, 0.7837, 0.8076, 0.0608],\n",
            "        [0.7226, 0.3354, 0.5350, 0.7117, 0.7979, 0.2785, 0.8947],\n",
            "        [0.6694, 0.8950, 0.4479, 0.4788, 0.3541, 0.0467, 0.7471],\n",
            "        [0.7821, 0.4296, 0.1128, 0.8413, 0.4978, 0.3593, 0.7470],\n",
            "        [0.0869, 0.4811, 0.4923, 0.7392, 0.3945, 0.0290, 0.7696],\n",
            "        [0.6214, 0.0891, 0.4282, 0.0289, 0.7090, 0.3982, 0.1633]])\n"
          ]
        }
      ],
      "source": [
        "#Create a random tensor of shape (7, 7)\n",
        "import random\n",
        "import torch\n",
        "\n",
        "# # Set the random seed\n",
        "\n",
        "torch.manual_seed(seed=44)\n",
        "random_tensor = torch.rand(7, 7)\n",
        "\n",
        "\n",
        "print(f\"random tensor of shape (7,7) is \\n\")\n",
        "print(f\"{random_tensor}\")\n",
        "\n",
        "\n"
      ]
    },
    {
      "cell_type": "code",
      "source": [
        "random_tensor.shape"
      ],
      "metadata": {
        "colab": {
          "base_uri": "https://localhost:8080/"
        },
        "id": "weNliJWja24E",
        "outputId": "275eaab0-4495-4010-e7ac-d1d45d2913ec"
      },
      "execution_count": 3,
      "outputs": [
        {
          "output_type": "execute_result",
          "data": {
            "text/plain": [
              "torch.Size([7, 7])"
            ]
          },
          "metadata": {},
          "execution_count": 3
        }
      ]
    },
    {
      "cell_type": "code",
      "source": [
        "# Creat random tensor of shape (1, 7)\n",
        "## Set the seed\n",
        "torch.manual_seed(seed=44)\n",
        "random_tensor1 = torch.rand(1, 7)\n",
        "\n",
        "print(f\" random tensor of shape (1, 7) is \\n\")\n",
        "print(f\"{random_tensor1}\\n\\n\")\n",
        "random_tensor1.shape\n"
      ],
      "metadata": {
        "colab": {
          "base_uri": "https://localhost:8080/"
        },
        "id": "ChEFWqWpa7SW",
        "outputId": "0a71274e-bbfd-4777-d7a6-55cd993ca2eb"
      },
      "execution_count": 4,
      "outputs": [
        {
          "output_type": "stream",
          "name": "stdout",
          "text": [
            " random tensor of shape (1, 7) is \n",
            "\n",
            "tensor([[0.7196, 0.7307, 0.8278, 0.1343, 0.6280, 0.7297, 0.2882]])\n",
            "\n",
            "\n"
          ]
        },
        {
          "output_type": "execute_result",
          "data": {
            "text/plain": [
              "torch.Size([1, 7])"
            ]
          },
          "metadata": {},
          "execution_count": 4
        }
      ]
    },
    {
      "cell_type": "code",
      "source": [
        "print(f\"random_tensor shape is {random_tensor.shape} and random_tensor1 shape is {random_tensor1.shape}\")"
      ],
      "metadata": {
        "colab": {
          "base_uri": "https://localhost:8080/"
        },
        "id": "LkRZYQUva--l",
        "outputId": "4b70ec2f-d9f8-45f1-fb59-5f37a9ee0328"
      },
      "execution_count": 5,
      "outputs": [
        {
          "output_type": "stream",
          "name": "stdout",
          "text": [
            "random_tensor shape is torch.Size([7, 7]) and random_tensor1 shape is torch.Size([1, 7])\n"
          ]
        }
      ]
    },
    {
      "cell_type": "code",
      "source": [
        "print(f\" The transpose of random_tensor1 is \\n\")\n",
        "print(f\"{random_tensor1.T}\")"
      ],
      "metadata": {
        "colab": {
          "base_uri": "https://localhost:8080/"
        },
        "id": "79Fo26uhbDJh",
        "outputId": "c2f4976f-b242-402d-ae02-0e71c36b7372"
      },
      "execution_count": 6,
      "outputs": [
        {
          "output_type": "stream",
          "name": "stdout",
          "text": [
            " The transpose of random_tensor1 is \n",
            "\n",
            "tensor([[0.7196],\n",
            "        [0.7307],\n",
            "        [0.8278],\n",
            "        [0.1343],\n",
            "        [0.6280],\n",
            "        [0.7297],\n",
            "        [0.2882]])\n"
          ]
        }
      ]
    },
    {
      "cell_type": "code",
      "source": [
        "#Matrix multiplication of random_tensor and random_tensor1\n",
        "\n",
        "print(f\" The matrix multiplication of random_tensor * random_tensor1 is \\n\")\n",
        "print(f\"{random_tensor * random_tensor1.T}\")"
      ],
      "metadata": {
        "colab": {
          "base_uri": "https://localhost:8080/"
        },
        "id": "Q1tFVEL-bIP3",
        "outputId": "5eea60ec-f52b-41db-8adc-e14996e453b3"
      },
      "execution_count": 7,
      "outputs": [
        {
          "output_type": "stream",
          "name": "stdout",
          "text": [
            " The matrix multiplication of random_tensor * random_tensor1 is \n",
            "\n",
            "tensor([[0.5178, 0.5258, 0.5957, 0.0967, 0.4519, 0.5251, 0.2074],\n",
            "        [0.1543, 0.7187, 0.6373, 0.7051, 0.5726, 0.5901, 0.0444],\n",
            "        [0.5982, 0.2777, 0.4429, 0.5891, 0.6605, 0.2305, 0.7406],\n",
            "        [0.0899, 0.1202, 0.0602, 0.0643, 0.0476, 0.0063, 0.1004],\n",
            "        [0.4911, 0.2698, 0.0709, 0.5283, 0.3126, 0.2256, 0.4691],\n",
            "        [0.0634, 0.3511, 0.3593, 0.5394, 0.2879, 0.0212, 0.5616],\n",
            "        [0.1791, 0.0257, 0.1234, 0.0083, 0.2043, 0.1148, 0.0471]])\n"
          ]
        }
      ]
    },
    {
      "cell_type": "code",
      "source": [
        "#The  seed  set to 0 for exercise 2 and 3 has the following results\n",
        "\n",
        "#Create a random tensor of shape (7, 7)\n",
        "import random\n",
        "\n",
        "# # Set the random seed\n",
        "\n",
        "torch.manual_seed(seed=0)\n",
        "random_tensor = torch.rand(7, 7)\n",
        "\n",
        "\n",
        "print(f\"random tensor of shape (7,7) with seed 0 is \\n\")\n",
        "print(f\"{random_tensor}\")\n",
        "\n",
        "\n"
      ],
      "metadata": {
        "colab": {
          "base_uri": "https://localhost:8080/"
        },
        "id": "HRYDeUoHbNDw",
        "outputId": "c6bd97ea-aa06-4a8d-91ee-7783d43fcc61"
      },
      "execution_count": 8,
      "outputs": [
        {
          "output_type": "stream",
          "name": "stdout",
          "text": [
            "random tensor of shape (7,7) with seed 0 is \n",
            "\n",
            "tensor([[0.4963, 0.7682, 0.0885, 0.1320, 0.3074, 0.6341, 0.4901],\n",
            "        [0.8964, 0.4556, 0.6323, 0.3489, 0.4017, 0.0223, 0.1689],\n",
            "        [0.2939, 0.5185, 0.6977, 0.8000, 0.1610, 0.2823, 0.6816],\n",
            "        [0.9152, 0.3971, 0.8742, 0.4194, 0.5529, 0.9527, 0.0362],\n",
            "        [0.1852, 0.3734, 0.3051, 0.9320, 0.1759, 0.2698, 0.1507],\n",
            "        [0.0317, 0.2081, 0.9298, 0.7231, 0.7423, 0.5263, 0.2437],\n",
            "        [0.5846, 0.0332, 0.1387, 0.2422, 0.8155, 0.7932, 0.2783]])\n"
          ]
        }
      ]
    },
    {
      "cell_type": "code",
      "source": [
        "# Creat random tensor of shape (1, 7)\n",
        "## Set the seed to 0\n",
        "torch.manual_seed(seed=0)\n",
        "random_tensor1 = torch.rand(1, 7)\n",
        "\n",
        "print(f\" random tensor of shape (1, 7) with seed 0 is \\n\")\n",
        "print(f\"{random_tensor1}\\n\\n\")\n",
        "random_tensor1.shape\n"
      ],
      "metadata": {
        "colab": {
          "base_uri": "https://localhost:8080/"
        },
        "id": "3fH_AxKjbSbf",
        "outputId": "5bfc9fa1-e5d2-457e-aa36-b9db0983c669"
      },
      "execution_count": 9,
      "outputs": [
        {
          "output_type": "stream",
          "name": "stdout",
          "text": [
            " random tensor of shape (1, 7) with seed 0 is \n",
            "\n",
            "tensor([[0.4963, 0.7682, 0.0885, 0.1320, 0.3074, 0.6341, 0.4901]])\n",
            "\n",
            "\n"
          ]
        },
        {
          "output_type": "execute_result",
          "data": {
            "text/plain": [
              "torch.Size([1, 7])"
            ]
          },
          "metadata": {},
          "execution_count": 9
        }
      ]
    },
    {
      "cell_type": "code",
      "source": [
        "print(f\" The transpose of random_tensor1 with seed 0 is \\n\")\n",
        "print(f\"{random_tensor1.T}\")"
      ],
      "metadata": {
        "colab": {
          "base_uri": "https://localhost:8080/"
        },
        "id": "ZvsdmIglbRDx",
        "outputId": "dac2c8de-811f-4020-e393-66dfe844a3db"
      },
      "execution_count": 10,
      "outputs": [
        {
          "output_type": "stream",
          "name": "stdout",
          "text": [
            " The transpose of random_tensor1 with seed 0 is \n",
            "\n",
            "tensor([[0.4963],\n",
            "        [0.7682],\n",
            "        [0.0885],\n",
            "        [0.1320],\n",
            "        [0.3074],\n",
            "        [0.6341],\n",
            "        [0.4901]])\n"
          ]
        }
      ]
    },
    {
      "cell_type": "code",
      "source": [
        "#Matrix multiplication of random_tensor and random_tensor1 with seed 0\n",
        "\n",
        "print(f\" The matrix multiplication of random_tensor * random_tensor1 with seed 0  is \\n\")\n",
        "print(f\"{random_tensor * random_tensor1.T}\")"
      ],
      "metadata": {
        "colab": {
          "base_uri": "https://localhost:8080/"
        },
        "id": "anuiqwymbcic",
        "outputId": "fae654e4-c3a4-41c0-8437-4f8dba922ccc"
      },
      "execution_count": 11,
      "outputs": [
        {
          "output_type": "stream",
          "name": "stdout",
          "text": [
            " The matrix multiplication of random_tensor * random_tensor1 with seed 0  is \n",
            "\n",
            "tensor([[0.2463, 0.3812, 0.0439, 0.0655, 0.1526, 0.3147, 0.2432],\n",
            "        [0.6887, 0.3500, 0.4858, 0.2680, 0.3086, 0.0172, 0.1297],\n",
            "        [0.0260, 0.0459, 0.0617, 0.0708, 0.0142, 0.0250, 0.0603],\n",
            "        [0.1208, 0.0524, 0.1154, 0.0554, 0.0730, 0.1258, 0.0048],\n",
            "        [0.0569, 0.1148, 0.0938, 0.2865, 0.0541, 0.0830, 0.0463],\n",
            "        [0.0201, 0.1320, 0.5896, 0.4585, 0.4707, 0.3337, 0.1545],\n",
            "        [0.2865, 0.0162, 0.0680, 0.1187, 0.3997, 0.3887, 0.1364]])\n"
          ]
        }
      ]
    },
    {
      "cell_type": "code",
      "source": [
        "# Check for GPU\n",
        "torch.cuda.is_available()"
      ],
      "metadata": {
        "colab": {
          "base_uri": "https://localhost:8080/"
        },
        "id": "EhZLqKXZcWmo",
        "outputId": "2d87c904-991e-4087-efcb-cbf0dab7fa5a"
      },
      "execution_count": 12,
      "outputs": [
        {
          "output_type": "execute_result",
          "data": {
            "text/plain": [
              "True"
            ]
          },
          "metadata": {},
          "execution_count": 12
        }
      ]
    },
    {
      "cell_type": "code",
      "source": [
        "# Set device type\n",
        "device = \"cuda\" if torch.cuda.is_available() else \"cpu\"\n",
        "device"
      ],
      "metadata": {
        "colab": {
          "base_uri": "https://localhost:8080/",
          "height": 35
        },
        "id": "v7fewLVZcltI",
        "outputId": "131fc22a-f225-4db5-b9aa-f1114428bb79"
      },
      "execution_count": 13,
      "outputs": [
        {
          "output_type": "execute_result",
          "data": {
            "text/plain": [
              "'cuda'"
            ],
            "application/vnd.google.colaboratory.intrinsic+json": {
              "type": "string"
            }
          },
          "metadata": {},
          "execution_count": 13
        }
      ]
    },
    {
      "cell_type": "code",
      "source": [
        "# Check for Apple Silicon GPU\n",
        "torch.backends.mps.is_available() # Note this will print false if you're not running on a Mac"
      ],
      "metadata": {
        "colab": {
          "base_uri": "https://localhost:8080/"
        },
        "id": "lfJgEDzrc4kj",
        "outputId": "dede66bf-071b-4d0f-8b37-c3507807720b"
      },
      "execution_count": 14,
      "outputs": [
        {
          "output_type": "execute_result",
          "data": {
            "text/plain": [
              "False"
            ]
          },
          "metadata": {},
          "execution_count": 14
        }
      ]
    },
    {
      "cell_type": "code",
      "source": [
        "if torch.cuda.is_available():\n",
        "    device = \"cuda\" # Use NVIDIA GPU (if available)\n",
        "elif torch.backends.mps.is_available():\n",
        "    device = \"mps\" # Use Apple Silicon GPU (if available)\n",
        "else:\n",
        "    device = \"cpu\" # Default to CPU if no GPU is available"
      ],
      "metadata": {
        "id": "eJGE4MrddIfp"
      },
      "execution_count": 15,
      "outputs": []
    },
    {
      "cell_type": "code",
      "source": [
        "seed = 1234"
      ],
      "metadata": {
        "id": "oeEZXFeZd7QJ"
      },
      "execution_count": 16,
      "outputs": []
    },
    {
      "cell_type": "code",
      "source": [
        "#Create two  random tensors of shape (2, 3) and send both to GPU\n",
        "\n",
        "torch.manual_seed(seed=1234)\n",
        "random_tensorA = torch.rand(2, 3)\n",
        "\n",
        "print(f\" random tensor of shape (2, 3)  is \\n\")\n",
        "print(f\"{random_tensorA}\\n\\n\")\n",
        "random_tensorA.shape\n",
        "# Tensor not on GPU\n",
        "print(f\"random_tensorA, random_tensorA.device\\n\")\n",
        "\n",
        "# Move tensor to GPU (if available)\n",
        "tensorA_on_gpu = random_tensorA.to(device)\n",
        "tensorA_on_gpu\n",
        "\n"
      ],
      "metadata": {
        "id": "qV_zZlLqd8-_",
        "colab": {
          "base_uri": "https://localhost:8080/"
        },
        "outputId": "afab0e60-e3ec-4eee-f92c-51625e45e680"
      },
      "execution_count": 17,
      "outputs": [
        {
          "output_type": "stream",
          "name": "stdout",
          "text": [
            " random tensor of shape (2, 3)  is \n",
            "\n",
            "tensor([[0.0290, 0.4019, 0.2598],\n",
            "        [0.3666, 0.0583, 0.7006]])\n",
            "\n",
            "\n",
            "random_tensorA, random_tensorA.device\n",
            "\n"
          ]
        },
        {
          "output_type": "execute_result",
          "data": {
            "text/plain": [
              "tensor([[0.0290, 0.4019, 0.2598],\n",
              "        [0.3666, 0.0583, 0.7006]], device='cuda:0')"
            ]
          },
          "metadata": {},
          "execution_count": 17
        }
      ]
    },
    {
      "cell_type": "code",
      "source": [
        "#Create two  random tensors of shape (2, 3) and send both to GPU\n",
        "torch.manual_seed(seed=1234)\n",
        "random_tensorB = torch.rand(2, 3)\n",
        "\n",
        "print(f\" random tensor of shape (2, 3) is \\n\")\n",
        "print(f\"{random_tensorB}\\n\\n\")\n",
        "random_tensorB.shape\n",
        "# Tensor not on GPU\n",
        "print(f\"random_tensorB, random_tensorB.device\\n\")\n",
        "\n",
        "# Move tensor to GPU (if available)\n",
        "tensorB_on_gpu = random_tensorB.to(device)\n",
        "tensorB_on_gpu\n",
        "\n"
      ],
      "metadata": {
        "colab": {
          "base_uri": "https://localhost:8080/"
        },
        "id": "LwJkK8B_1ZVl",
        "outputId": "39ec321f-3b0b-4ade-dc84-7d6d577f114d"
      },
      "execution_count": 18,
      "outputs": [
        {
          "output_type": "stream",
          "name": "stdout",
          "text": [
            " random tensor of shape (2, 3) is \n",
            "\n",
            "tensor([[0.0290, 0.4019, 0.2598],\n",
            "        [0.3666, 0.0583, 0.7006]])\n",
            "\n",
            "\n",
            "random_tensorB, random_tensorB.device\n",
            "\n"
          ]
        },
        {
          "output_type": "execute_result",
          "data": {
            "text/plain": [
              "tensor([[0.0290, 0.4019, 0.2598],\n",
              "        [0.3666, 0.0583, 0.7006]], device='cuda:0')"
            ]
          },
          "metadata": {},
          "execution_count": 18
        }
      ]
    },
    {
      "cell_type": "code",
      "source": [
        "#Matrix multiplication of tensorA_on_gpu * tensorB_on _gpu\n",
        "\n",
        "print(f\"The Transpose of tensorB_on_gpu is \\n\")\n",
        "print(f\"{tensorB_on_gpu.T}\")"
      ],
      "metadata": {
        "colab": {
          "base_uri": "https://localhost:8080/"
        },
        "id": "79Cj6wfz1eaG",
        "outputId": "d66d69cf-61b5-4406-92f7-0a02b49d8765"
      },
      "execution_count": 19,
      "outputs": [
        {
          "output_type": "stream",
          "name": "stdout",
          "text": [
            "The Transpose of tensorB_on_gpu is \n",
            "\n",
            "tensor([[0.0290, 0.3666],\n",
            "        [0.4019, 0.0583],\n",
            "        [0.2598, 0.7006]], device='cuda:0')\n"
          ]
        }
      ]
    },
    {
      "cell_type": "code",
      "source": [
        "print(f\"The result of multiplying tensorA_on_gpu * tansorB_on_gpu is\\n \")\n",
        "\n",
        "output = torch.matmul(tensorA_on_gpu, tensorB_on_gpu.T)\n",
        "\n",
        "print(output)"
      ],
      "metadata": {
        "colab": {
          "base_uri": "https://localhost:8080/"
        },
        "id": "ArMVmGZ31iqy",
        "outputId": "65668b71-d0df-4473-e606-c5b5150d433e"
      },
      "execution_count": 20,
      "outputs": [
        {
          "output_type": "stream",
          "name": "stdout",
          "text": [
            "The result of multiplying tensorA_on_gpu * tansorB_on_gpu is\n",
            " \n",
            "tensor([[0.2299, 0.2161],\n",
            "        [0.2161, 0.6287]], device='cuda:0')\n"
          ]
        }
      ]
    },
    {
      "cell_type": "code",
      "source": [
        "#Find the maximum and minimum values of the output of matrix multiplication above\n",
        "print(f\"Minimum: {output.min()}\\n\")\n",
        "print(f\"Maximum: {output.max()}\")\n",
        "\n"
      ],
      "metadata": {
        "colab": {
          "base_uri": "https://localhost:8080/"
        },
        "id": "S6txj5iv1oX4",
        "outputId": "5bdebff2-9b83-431a-b7fa-addd51acf061"
      },
      "execution_count": 21,
      "outputs": [
        {
          "output_type": "stream",
          "name": "stdout",
          "text": [
            "Minimum: 0.21611443161964417\n",
            "\n",
            "Maximum: 0.628727912902832\n"
          ]
        }
      ]
    },
    {
      "cell_type": "code",
      "source": [
        "#Find the maximum and minimum index values of output in 7\n",
        "# Returns index of max and min values\n",
        "print(f\"Index where max value occurs: {output.argmax()}\\n\")\n",
        "print(f\"Index where min value occurs: {output.argmin()}\")"
      ],
      "metadata": {
        "colab": {
          "base_uri": "https://localhost:8080/"
        },
        "id": "A9ktxOX91sye",
        "outputId": "3ab6a557-1bca-4f47-e313-701dd800f47c"
      },
      "execution_count": 22,
      "outputs": [
        {
          "output_type": "stream",
          "name": "stdout",
          "text": [
            "Index where max value occurs: 3\n",
            "\n",
            "Index where min value occurs: 1\n"
          ]
        }
      ]
    },
    {
      "cell_type": "code",
      "source": [
        "#Create a random tensor with shape (1, 1, 1, 10)\n",
        "torch.manual_seed(seed=7)\n",
        "tensor_C = torch.rand(1, 1, 1, 10)\n",
        "\n",
        "print(f\" random tensor of shape (1, 1, 1, 10) with seed 7 is \\n\")\n",
        "print(f\"{tensor_C}\\n\\n\")\n",
        "\n",
        "print(f\"{tensor_C.shape}\\n\")\n",
        "# Tensor not on GPU\n",
        "print(tensor_C, tensor_C.device)\n",
        "\n",
        "# Move tensor to GPU (if available)\n",
        "tensorC_on_gpu = tensor_C.to(device)\n"
      ],
      "metadata": {
        "colab": {
          "base_uri": "https://localhost:8080/"
        },
        "id": "SgcMHgZT1wTi",
        "outputId": "6c365bba-4954-4986-b38a-2b2c8506c6d1"
      },
      "execution_count": 23,
      "outputs": [
        {
          "output_type": "stream",
          "name": "stdout",
          "text": [
            " random tensor of shape (1, 1, 1, 10) with seed 7 is \n",
            "\n",
            "tensor([[[[0.5349, 0.1988, 0.6592, 0.6569, 0.2328, 0.4251, 0.2071, 0.6297,\n",
            "           0.3653, 0.8513]]]])\n",
            "\n",
            "\n",
            "torch.Size([1, 1, 1, 10])\n",
            "\n",
            "tensor([[[[0.5349, 0.1988, 0.6592, 0.6569, 0.2328, 0.4251, 0.2071, 0.6297,\n",
            "           0.3653, 0.8513]]]]) cpu\n"
          ]
        }
      ]
    },
    {
      "cell_type": "code",
      "source": [
        "#Create a random tensor with shape (1, 1, 1, 10)\n",
        "\n",
        "tensor_D = tensorC_on_gpu.squeeze()\n",
        "\n",
        "print(f\" tensor_D is \\n\")\n",
        "print(f\"{tensorC_on_gpu.squeeze()}\\n\")\n",
        "print(f\"{tensor_D.shape}\\n\")\n",
        "# Tensor not on GPU\n",
        "print(tensor_D, tensor_D.device)\n",
        "\n",
        "# Move tensor to GPU (if available)\n",
        "tensorD_on_gpu = tensor_D.to(device)\n"
      ],
      "metadata": {
        "colab": {
          "base_uri": "https://localhost:8080/"
        },
        "id": "pKcLpGpD107I",
        "outputId": "d4e3ae68-b96f-4b6f-89e5-acd53b21f558"
      },
      "execution_count": 24,
      "outputs": [
        {
          "output_type": "stream",
          "name": "stdout",
          "text": [
            " tensor_D is \n",
            "\n",
            "tensor([0.5349, 0.1988, 0.6592, 0.6569, 0.2328, 0.4251, 0.2071, 0.6297, 0.3653,\n",
            "        0.8513], device='cuda:0')\n",
            "\n",
            "torch.Size([10])\n",
            "\n",
            "tensor([0.5349, 0.1988, 0.6592, 0.6569, 0.2328, 0.4251, 0.2071, 0.6297, 0.3653,\n",
            "        0.8513], device='cuda:0') cuda:0\n"
          ]
        }
      ]
    }
  ]
}