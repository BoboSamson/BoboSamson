{
  "nbformat": 4,
  "nbformat_minor": 0,
  "metadata": {
    "colab": {
      "provenance": [],
      "gpuType": "T4",
      "authorship_tag": "ABX9TyMBf/rFFzfSdpAg8d4rN5hm",
      "include_colab_link": true
    },
    "kernelspec": {
      "name": "python3",
      "display_name": "Python 3"
    },
    "language_info": {
      "name": "python"
    },
    "accelerator": "GPU"
  },
  "cells": [
    {
      "cell_type": "markdown",
      "metadata": {
        "id": "view-in-github",
        "colab_type": "text"
      },
      "source": [
        "<a href=\"https://colab.research.google.com/github/BoboSamson/BoboSamson/blob/Samson/Pytorch_lab1_Samson.ipynb\" target=\"_parent\"><img src=\"https://colab.research.google.com/assets/colab-badge.svg\" alt=\"Open In Colab\"/></a>"
      ]
    },
    {
      "cell_type": "code",
      "execution_count": 3,
      "metadata": {
        "colab": {
          "base_uri": "https://localhost:8080/"
        },
        "id": "2Gq-Jml9adV8",
        "outputId": "309d8660-7dd1-4213-de19-da310af33f28"
      },
      "outputs": [
        {
          "output_type": "stream",
          "name": "stdout",
          "text": [
            "random tensor of shape (7,7) is \n",
            "\n",
            "tensor([[0.7196, 0.7307, 0.8278, 0.1343, 0.6280, 0.7297, 0.2882],\n",
            "        [0.2112, 0.9836, 0.8722, 0.9650, 0.7837, 0.8076, 0.0608],\n",
            "        [0.7226, 0.3354, 0.5350, 0.7117, 0.7979, 0.2785, 0.8947],\n",
            "        [0.6694, 0.8950, 0.4479, 0.4788, 0.3541, 0.0467, 0.7471],\n",
            "        [0.7821, 0.4296, 0.1128, 0.8413, 0.4978, 0.3593, 0.7470],\n",
            "        [0.0869, 0.4811, 0.4923, 0.7392, 0.3945, 0.0290, 0.7696],\n",
            "        [0.6214, 0.0891, 0.4282, 0.0289, 0.7090, 0.3982, 0.1633]])\n"
          ]
        }
      ],
      "source": [
        "#Create a random tensor of shape (7, 7)\n",
        "import random\n",
        "import torch\n",
        "\n",
        "# # Set the random seed\n",
        "\n",
        "torch.manual_seed(seed=44)\n",
        "random_tensor = torch.rand(7, 7)\n",
        "\n",
        "\n",
        "print(f\"random tensor of shape (7,7) is \\n\")\n",
        "print(f\"{random_tensor}\")\n",
        "\n",
        "\n"
      ]
    },
    {
      "cell_type": "code",
      "source": [
        "random_tensor.shape"
      ],
      "metadata": {
        "colab": {
          "base_uri": "https://localhost:8080/"
        },
        "id": "weNliJWja24E",
        "outputId": "ef0a4530-d20b-4705-a715-0b8b3ef1a2fe"
      },
      "execution_count": 4,
      "outputs": [
        {
          "output_type": "execute_result",
          "data": {
            "text/plain": [
              "torch.Size([7, 7])"
            ]
          },
          "metadata": {},
          "execution_count": 4
        }
      ]
    },
    {
      "cell_type": "code",
      "source": [
        "# Creat random tensor of shape (1, 7)\n",
        "## Set the seed\n",
        "torch.manual_seed(seed=44)\n",
        "random_tensor1 = torch.rand(1, 7)\n",
        "\n",
        "print(f\" random tensor of shape (1, 7) is \\n\")\n",
        "print(f\"{random_tensor1}\\n\\n\")\n",
        "random_tensor1.shape\n"
      ],
      "metadata": {
        "colab": {
          "base_uri": "https://localhost:8080/"
        },
        "id": "ChEFWqWpa7SW",
        "outputId": "d0957232-b9a3-418f-ad99-e082b389cce7"
      },
      "execution_count": 5,
      "outputs": [
        {
          "output_type": "stream",
          "name": "stdout",
          "text": [
            " random tensor of shape (1, 7) is \n",
            "\n",
            "tensor([[0.7196, 0.7307, 0.8278, 0.1343, 0.6280, 0.7297, 0.2882]])\n",
            "\n",
            "\n"
          ]
        },
        {
          "output_type": "execute_result",
          "data": {
            "text/plain": [
              "torch.Size([1, 7])"
            ]
          },
          "metadata": {},
          "execution_count": 5
        }
      ]
    },
    {
      "cell_type": "code",
      "source": [
        "print(f\"random_tensor shape is {random_tensor.shape} and random_tensor1 shape is {random_tensor1.shape}\")"
      ],
      "metadata": {
        "colab": {
          "base_uri": "https://localhost:8080/"
        },
        "id": "LkRZYQUva--l",
        "outputId": "fe3ad53b-595d-4b79-fe24-d9ba9ccfcfc5"
      },
      "execution_count": 6,
      "outputs": [
        {
          "output_type": "stream",
          "name": "stdout",
          "text": [
            "random_tensor shape is torch.Size([7, 7]) and random_tensor1 shape is torch.Size([1, 7])\n"
          ]
        }
      ]
    },
    {
      "cell_type": "code",
      "source": [
        "print(f\" The transpose of random_tensor1 is \\n\")\n",
        "print(f\"{random_tensor1.T}\")"
      ],
      "metadata": {
        "colab": {
          "base_uri": "https://localhost:8080/"
        },
        "id": "79Fo26uhbDJh",
        "outputId": "dff74776-f3b7-4f1e-fd5a-f9d4d4dc752d"
      },
      "execution_count": 7,
      "outputs": [
        {
          "output_type": "stream",
          "name": "stdout",
          "text": [
            " The transpose of random_tensor1 is \n",
            "\n",
            "tensor([[0.7196],\n",
            "        [0.7307],\n",
            "        [0.8278],\n",
            "        [0.1343],\n",
            "        [0.6280],\n",
            "        [0.7297],\n",
            "        [0.2882]])\n"
          ]
        }
      ]
    },
    {
      "cell_type": "code",
      "source": [
        "#Matrix multiplication of random_tensor and random_tensor1\n",
        "\n",
        "print(f\" The matrix multiplication of random_tensor * random_tensor1 is \\n\")\n",
        "print(f\"{random_tensor * random_tensor1.T}\")"
      ],
      "metadata": {
        "colab": {
          "base_uri": "https://localhost:8080/"
        },
        "id": "Q1tFVEL-bIP3",
        "outputId": "459f76d9-9398-4436-fc82-9f0aa19894c6"
      },
      "execution_count": 8,
      "outputs": [
        {
          "output_type": "stream",
          "name": "stdout",
          "text": [
            " The matrix multiplication of random_tensor * random_tensor1 is \n",
            "\n",
            "tensor([[0.5178, 0.5258, 0.5957, 0.0967, 0.4519, 0.5251, 0.2074],\n",
            "        [0.1543, 0.7187, 0.6373, 0.7051, 0.5726, 0.5901, 0.0444],\n",
            "        [0.5982, 0.2777, 0.4429, 0.5891, 0.6605, 0.2305, 0.7406],\n",
            "        [0.0899, 0.1202, 0.0602, 0.0643, 0.0476, 0.0063, 0.1004],\n",
            "        [0.4911, 0.2698, 0.0709, 0.5283, 0.3126, 0.2256, 0.4691],\n",
            "        [0.0634, 0.3511, 0.3593, 0.5394, 0.2879, 0.0212, 0.5616],\n",
            "        [0.1791, 0.0257, 0.1234, 0.0083, 0.2043, 0.1148, 0.0471]])\n"
          ]
        }
      ]
    },
    {
      "cell_type": "code",
      "source": [
        "#The  seed  set to 0 for exercise 2 and 3 has the following results\n",
        "\n",
        "#Create a random tensor of shape (7, 7)\n",
        "import random\n",
        "\n",
        "# # Set the random seed\n",
        "\n",
        "torch.manual_seed(seed=0)\n",
        "random_tensor = torch.rand(7, 7)\n",
        "\n",
        "\n",
        "print(f\"random tensor of shape (7,7) with seed 0 is \\n\")\n",
        "print(f\"{random_tensor}\")\n",
        "\n",
        "\n"
      ],
      "metadata": {
        "colab": {
          "base_uri": "https://localhost:8080/"
        },
        "id": "HRYDeUoHbNDw",
        "outputId": "a6686398-4dbb-4bd5-a817-3e64687832f7"
      },
      "execution_count": 9,
      "outputs": [
        {
          "output_type": "stream",
          "name": "stdout",
          "text": [
            "random tensor of shape (7,7) with seed 0 is \n",
            "\n",
            "tensor([[0.4963, 0.7682, 0.0885, 0.1320, 0.3074, 0.6341, 0.4901],\n",
            "        [0.8964, 0.4556, 0.6323, 0.3489, 0.4017, 0.0223, 0.1689],\n",
            "        [0.2939, 0.5185, 0.6977, 0.8000, 0.1610, 0.2823, 0.6816],\n",
            "        [0.9152, 0.3971, 0.8742, 0.4194, 0.5529, 0.9527, 0.0362],\n",
            "        [0.1852, 0.3734, 0.3051, 0.9320, 0.1759, 0.2698, 0.1507],\n",
            "        [0.0317, 0.2081, 0.9298, 0.7231, 0.7423, 0.5263, 0.2437],\n",
            "        [0.5846, 0.0332, 0.1387, 0.2422, 0.8155, 0.7932, 0.2783]])\n"
          ]
        }
      ]
    },
    {
      "cell_type": "code",
      "source": [
        "# Creat random tensor of shape (1, 7)\n",
        "## Set the seed to 0\n",
        "torch.manual_seed(seed=0)\n",
        "random_tensor1 = torch.rand(1, 7)\n",
        "\n",
        "print(f\" random tensor of shape (1, 7) with seed 0 is \\n\")\n",
        "print(f\"{random_tensor1}\\n\\n\")\n",
        "random_tensor1.shape\n"
      ],
      "metadata": {
        "colab": {
          "base_uri": "https://localhost:8080/"
        },
        "id": "3fH_AxKjbSbf",
        "outputId": "2ace6699-1a20-4b60-c628-dcc073e455ab"
      },
      "execution_count": 10,
      "outputs": [
        {
          "output_type": "stream",
          "name": "stdout",
          "text": [
            " random tensor of shape (1, 7) with seed 0 is \n",
            "\n",
            "tensor([[0.4963, 0.7682, 0.0885, 0.1320, 0.3074, 0.6341, 0.4901]])\n",
            "\n",
            "\n"
          ]
        },
        {
          "output_type": "execute_result",
          "data": {
            "text/plain": [
              "torch.Size([1, 7])"
            ]
          },
          "metadata": {},
          "execution_count": 10
        }
      ]
    },
    {
      "cell_type": "code",
      "source": [
        "print(f\" The transpose of random_tensor1 with seed 0 is \\n\")\n",
        "print(f\"{random_tensor1.T}\")"
      ],
      "metadata": {
        "colab": {
          "base_uri": "https://localhost:8080/"
        },
        "id": "ZvsdmIglbRDx",
        "outputId": "260c9393-1f09-495f-95e9-16628aa7e56e"
      },
      "execution_count": 11,
      "outputs": [
        {
          "output_type": "stream",
          "name": "stdout",
          "text": [
            " The transpose of random_tensor1 with seed 0 is \n",
            "\n",
            "tensor([[0.4963],\n",
            "        [0.7682],\n",
            "        [0.0885],\n",
            "        [0.1320],\n",
            "        [0.3074],\n",
            "        [0.6341],\n",
            "        [0.4901]])\n"
          ]
        }
      ]
    },
    {
      "cell_type": "code",
      "source": [
        "#Matrix multiplication of random_tensor and random_tensor1 with seed 0\n",
        "\n",
        "print(f\" The matrix multiplication of random_tensor * random_tensor1 with seed 0  is \\n\")\n",
        "print(f\"{random_tensor * random_tensor1.T}\")"
      ],
      "metadata": {
        "colab": {
          "base_uri": "https://localhost:8080/"
        },
        "id": "anuiqwymbcic",
        "outputId": "7227e5b2-fe08-43e3-a2b5-334a412c3de2"
      },
      "execution_count": 12,
      "outputs": [
        {
          "output_type": "stream",
          "name": "stdout",
          "text": [
            " The matrix multiplication of random_tensor * random_tensor1 with seed 0  is \n",
            "\n",
            "tensor([[0.2463, 0.3812, 0.0439, 0.0655, 0.1526, 0.3147, 0.2432],\n",
            "        [0.6887, 0.3500, 0.4858, 0.2680, 0.3086, 0.0172, 0.1297],\n",
            "        [0.0260, 0.0459, 0.0617, 0.0708, 0.0142, 0.0250, 0.0603],\n",
            "        [0.1208, 0.0524, 0.1154, 0.0554, 0.0730, 0.1258, 0.0048],\n",
            "        [0.0569, 0.1148, 0.0938, 0.2865, 0.0541, 0.0830, 0.0463],\n",
            "        [0.0201, 0.1320, 0.5896, 0.4585, 0.4707, 0.3337, 0.1545],\n",
            "        [0.2865, 0.0162, 0.0680, 0.1187, 0.3997, 0.3887, 0.1364]])\n"
          ]
        }
      ]
    },
    {
      "cell_type": "code",
      "source": [
        "# Check for GPU\n",
        "torch.cuda.is_available()"
      ],
      "metadata": {
        "colab": {
          "base_uri": "https://localhost:8080/"
        },
        "id": "EhZLqKXZcWmo",
        "outputId": "b7d2fbc2-9670-4aa9-ef3f-49ae5ba925bf"
      },
      "execution_count": 13,
      "outputs": [
        {
          "output_type": "execute_result",
          "data": {
            "text/plain": [
              "True"
            ]
          },
          "metadata": {},
          "execution_count": 13
        }
      ]
    },
    {
      "cell_type": "code",
      "source": [
        "# Set device type\n",
        "device = \"cuda\" if torch.cuda.is_available() else \"cpu\"\n",
        "device"
      ],
      "metadata": {
        "colab": {
          "base_uri": "https://localhost:8080/",
          "height": 35
        },
        "id": "v7fewLVZcltI",
        "outputId": "13d174a3-4d82-4385-bd12-507733be59b3"
      },
      "execution_count": 14,
      "outputs": [
        {
          "output_type": "execute_result",
          "data": {
            "text/plain": [
              "'cuda'"
            ],
            "application/vnd.google.colaboratory.intrinsic+json": {
              "type": "string"
            }
          },
          "metadata": {},
          "execution_count": 14
        }
      ]
    },
    {
      "cell_type": "code",
      "source": [
        "# Check for Apple Silicon GPU\n",
        "torch.backends.mps.is_available() # Note this will print false if you're not running on a Mac"
      ],
      "metadata": {
        "colab": {
          "base_uri": "https://localhost:8080/"
        },
        "id": "lfJgEDzrc4kj",
        "outputId": "e234673f-95cf-4cdf-ecad-b81a9d57d14a"
      },
      "execution_count": 15,
      "outputs": [
        {
          "output_type": "execute_result",
          "data": {
            "text/plain": [
              "False"
            ]
          },
          "metadata": {},
          "execution_count": 15
        }
      ]
    },
    {
      "cell_type": "code",
      "source": [
        "if torch.cuda.is_available():\n",
        "    device = \"cuda\" # Use NVIDIA GPU (if available)\n",
        "elif torch.backends.mps.is_available():\n",
        "    device = \"mps\" # Use Apple Silicon GPU (if available)\n",
        "else:\n",
        "    device = \"cpu\" # Default to CPU if no GPU is available"
      ],
      "metadata": {
        "id": "eJGE4MrddIfp"
      },
      "execution_count": 16,
      "outputs": []
    },
    {
      "cell_type": "code",
      "source": [
        "seed = 1234"
      ],
      "metadata": {
        "id": "oeEZXFeZd7QJ"
      },
      "execution_count": 17,
      "outputs": []
    },
    {
      "cell_type": "code",
      "source": [
        "#Create two a random tensors of shape (2, 3) and send both to GPU\n",
        "\n",
        "torch.manual_seed(seed=1234)\n",
        "random_tensorA = torch.rand(2, 3)\n",
        "\n",
        "print(f\" random tensor of shape (2, 3)  is \\n\")\n",
        "print(f\"{random_tensorA}\\n\\n\")\n",
        "random_tensorA.shape\n",
        "# Tensor not on GPU\n",
        "print(random_tensorA, random_tensorA.device)\n",
        "\n",
        "# Move tensor to GPU (if available)\n",
        "tensorA_on_gpu = random_tensorA.to(device)\n",
        "tensorA_on_gpu\n",
        "\n"
      ],
      "metadata": {
        "id": "qV_zZlLqd8-_",
        "colab": {
          "base_uri": "https://localhost:8080/"
        },
        "outputId": "1dd6b303-9121-4ecd-d6e8-6a7a3672ca87"
      },
      "execution_count": 18,
      "outputs": [
        {
          "output_type": "stream",
          "name": "stdout",
          "text": [
            " random tensor of shape (2, 3)  is \n",
            "\n",
            "tensor([[0.0290, 0.4019, 0.2598],\n",
            "        [0.3666, 0.0583, 0.7006]])\n",
            "\n",
            "\n",
            "tensor([[0.0290, 0.4019, 0.2598],\n",
            "        [0.3666, 0.0583, 0.7006]]) cpu\n"
          ]
        },
        {
          "output_type": "execute_result",
          "data": {
            "text/plain": [
              "tensor([[0.0290, 0.4019, 0.2598],\n",
              "        [0.3666, 0.0583, 0.7006]], device='cuda:0')"
            ]
          },
          "metadata": {},
          "execution_count": 18
        }
      ]
    },
    {
      "cell_type": "code",
      "source": [
        "#Create two a random tensors of shape (2, 3) and send both to GPU\n",
        "torch.manual_seed(seed=1234)\n",
        "random_tensorB = torch.rand(2, 3)\n",
        "\n",
        "print(f\" random tensor of shape (2, 3) is \\n\")\n",
        "print(f\"{random_tensorB}\\n\\n\")\n",
        "random_tensorB.shape\n",
        "# Tensor not on GPU\n",
        "print(random_tensorB, random_tensorB.device)\n",
        "\n",
        "# Move tensor to GPU (if available)\n",
        "tensorB_on_gpu = random_tensorB.to(device)\n",
        "tensorB_on_gpu\n",
        "\n"
      ],
      "metadata": {
        "colab": {
          "base_uri": "https://localhost:8080/"
        },
        "id": "LwJkK8B_1ZVl",
        "outputId": "2278e914-0b23-4ffe-ee30-650c1d850deb"
      },
      "execution_count": 19,
      "outputs": [
        {
          "output_type": "stream",
          "name": "stdout",
          "text": [
            " random tensor of shape (2, 3) is \n",
            "\n",
            "tensor([[0.0290, 0.4019, 0.2598],\n",
            "        [0.3666, 0.0583, 0.7006]])\n",
            "\n",
            "\n",
            "tensor([[0.0290, 0.4019, 0.2598],\n",
            "        [0.3666, 0.0583, 0.7006]]) cpu\n"
          ]
        },
        {
          "output_type": "execute_result",
          "data": {
            "text/plain": [
              "tensor([[0.0290, 0.4019, 0.2598],\n",
              "        [0.3666, 0.0583, 0.7006]], device='cuda:0')"
            ]
          },
          "metadata": {},
          "execution_count": 19
        }
      ]
    },
    {
      "cell_type": "code",
      "source": [
        "#Matrix multiplication of tensorA_on_gpu * tensorB_on _gpu\n",
        "\n",
        "print(f\"The Transpose of tensorB_on_gpu is \\n\")\n",
        "print(f\"{tensorB_on_gpu.T}\")"
      ],
      "metadata": {
        "colab": {
          "base_uri": "https://localhost:8080/"
        },
        "id": "79Cj6wfz1eaG",
        "outputId": "0d4c3119-995e-4710-ad72-75fcad720b9d"
      },
      "execution_count": 20,
      "outputs": [
        {
          "output_type": "stream",
          "name": "stdout",
          "text": [
            "The Transpose of tensorB_on_gpu is \n",
            "\n",
            "tensor([[0.0290, 0.3666],\n",
            "        [0.4019, 0.0583],\n",
            "        [0.2598, 0.7006]], device='cuda:0')\n"
          ]
        }
      ]
    },
    {
      "cell_type": "code",
      "source": [
        "print(f\"The result of multiplying tensorA_on_gpu * tansorB_on_gpu is\\n \")\n",
        "\n",
        "output = torch.matmul(tensorA_on_gpu, tensorB_on_gpu.T)\n",
        "\n",
        "print(output)"
      ],
      "metadata": {
        "colab": {
          "base_uri": "https://localhost:8080/"
        },
        "id": "ArMVmGZ31iqy",
        "outputId": "261ac29b-ca8c-419e-8b06-5d5f942231c2"
      },
      "execution_count": 26,
      "outputs": [
        {
          "output_type": "stream",
          "name": "stdout",
          "text": [
            "The result of multiplying tensorA_on_gpu * tansorB_on_gpu is\n",
            " \n",
            "tensor([[0.2299, 0.2161],\n",
            "        [0.2161, 0.6287]], device='cuda:0')\n"
          ]
        }
      ]
    },
    {
      "cell_type": "code",
      "source": [
        "#Find the maximum and minimum values of the output of matrix multiplication above\n",
        "print(f\"Minimum: {output.min()}\\n\")\n",
        "print(f\"Maximum: {output.max()}\")\n",
        "\n"
      ],
      "metadata": {
        "colab": {
          "base_uri": "https://localhost:8080/"
        },
        "id": "S6txj5iv1oX4",
        "outputId": "27815f67-efa7-4a4f-b3a0-84c1834b6803"
      },
      "execution_count": 22,
      "outputs": [
        {
          "output_type": "stream",
          "name": "stdout",
          "text": [
            "Minimum: 0.21611443161964417\n",
            "\n",
            "Maximum: 0.628727912902832\n"
          ]
        }
      ]
    },
    {
      "cell_type": "code",
      "source": [
        "#Find the maximum and minimum index values of output in 7\n",
        "# Returns index of max and min values\n",
        "print(f\"Index where max value occurs: {output.argmax()}\\n\")\n",
        "print(f\"Index where min value occurs: {output.argmin()}\")"
      ],
      "metadata": {
        "colab": {
          "base_uri": "https://localhost:8080/"
        },
        "id": "A9ktxOX91sye",
        "outputId": "27c1b624-368e-4218-d97c-86159b7ef5f8"
      },
      "execution_count": 27,
      "outputs": [
        {
          "output_type": "stream",
          "name": "stdout",
          "text": [
            "Index where max value occurs: 3\n",
            "\n",
            "Index where min value occurs: 1\n"
          ]
        }
      ]
    },
    {
      "cell_type": "code",
      "source": [
        "#Create a random tensor with shape (1, 1, 1, 10)\n",
        "torch.manual_seed(seed=7)\n",
        "tensor_C = torch.rand(1, 1, 1, 10)\n",
        "\n",
        "print(f\" random tensor of shape (1, 1, 1, 10) with seed 1234 is \\n\")\n",
        "print(f\"{tensor_C}\\n\\n\")\n",
        "\n",
        "print(f\"{tensor_C.shape}\\n\")\n",
        "# Tensor not on GPU\n",
        "print(tensor_C, tensor_C.device)\n",
        "\n",
        "# Move tensor to GPU (if available)\n",
        "tensorC_on_gpu = tensor_C.to(device)\n"
      ],
      "metadata": {
        "colab": {
          "base_uri": "https://localhost:8080/"
        },
        "id": "SgcMHgZT1wTi",
        "outputId": "ffd68e2c-274d-440e-f6d4-c300c82a06b7"
      },
      "execution_count": 24,
      "outputs": [
        {
          "output_type": "stream",
          "name": "stdout",
          "text": [
            " random tensor of shape (1, 1, 1, 10) with seed 1234 is \n",
            "\n",
            "tensor([[[[0.5349, 0.1988, 0.6592, 0.6569, 0.2328, 0.4251, 0.2071, 0.6297,\n",
            "           0.3653, 0.8513]]]])\n",
            "\n",
            "\n",
            "torch.Size([1, 1, 1, 10])\n",
            "\n",
            "tensor([[[[0.5349, 0.1988, 0.6592, 0.6569, 0.2328, 0.4251, 0.2071, 0.6297,\n",
            "           0.3653, 0.8513]]]]) cpu\n"
          ]
        }
      ]
    },
    {
      "cell_type": "code",
      "source": [
        "#Create a random tensor with shape (1, 1, 1, 10)\n",
        "\n",
        "tensor_D = tensorC_on_gpu.squeeze()\n",
        "\n",
        "print(f\" tensor_D is \\n\")\n",
        "print(f\"{tensor_D}\\n\\n\")\n",
        "print(f\"{tensor_D.shape}\\n\")\n",
        "# Tensor not on GPU\n",
        "print(tensor_D, tensor_D.device)\n",
        "\n",
        "# Move tensor to GPU (if available)\n",
        "tensorD_on_gpu = tensor_D.to(device)\n"
      ],
      "metadata": {
        "colab": {
          "base_uri": "https://localhost:8080/"
        },
        "id": "pKcLpGpD107I",
        "outputId": "43033564-cf6a-4e10-b725-7dbec2c55520"
      },
      "execution_count": 25,
      "outputs": [
        {
          "output_type": "stream",
          "name": "stdout",
          "text": [
            " tensor_D is \n",
            "\n",
            "tensor([0.5349, 0.1988, 0.6592, 0.6569, 0.2328, 0.4251, 0.2071, 0.6297, 0.3653,\n",
            "        0.8513], device='cuda:0')\n",
            "\n",
            "\n",
            "torch.Size([10])\n",
            "\n",
            "tensor([0.5349, 0.1988, 0.6592, 0.6569, 0.2328, 0.4251, 0.2071, 0.6297, 0.3653,\n",
            "        0.8513], device='cuda:0') cuda:0\n"
          ]
        }
      ]
    }
  ]
}