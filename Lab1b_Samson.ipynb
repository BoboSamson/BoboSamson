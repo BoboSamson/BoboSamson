{
  "cells": [
    {
      "cell_type": "markdown",
      "metadata": {
        "colab_type": "text",
        "id": "view-in-github"
      },
      "source": [
        "<a href=\"https://colab.research.google.com/github/BoboSamson/BoboSamson/blob/Samson/Lab1b_Samson.ipynb\" target=\"_parent\"><img src=\"https://colab.research.google.com/assets/colab-badge.svg\" alt=\"Open In Colab\"/></a>"
      ]
    },
    {
      "cell_type": "code",
      "execution_count": 1,
      "metadata": {
        "id": "jmrQDyrAZMHz"
      },
      "outputs": [],
      "source": [
        "import torch\n",
        "from torch import nn\n",
        "import matplotlib.pyplot as plt"
      ]
    },
    {
      "cell_type": "code",
      "execution_count": 2,
      "metadata": {
        "id": "S21eFJAFZ2FH"
      },
      "outputs": [],
      "source": [
        "# Set device type\n",
        "device = \"cuda\" if torch.cuda.is_available() else \"cpu\"\n",
        "device\n",
        "seed =1234"
      ]
    },
    {
      "cell_type": "code",
      "execution_count": 3,
      "metadata": {
        "colab": {
          "base_uri": "https://localhost:8080/"
        },
        "id": "9-02ZhiuZ_Jo",
        "outputId": "2d194b76-f5ef-4df6-ece8-4f31fa19bafd"
      },
      "outputs": [
        {
          "data": {
            "text/plain": [
              "(tensor([[0.0000],\n",
              "         [0.0200],\n",
              "         [0.0400],\n",
              "         [0.0600],\n",
              "         [0.0800],\n",
              "         [0.1000],\n",
              "         [0.1200],\n",
              "         [0.1400],\n",
              "         [0.1600],\n",
              "         [0.1800],\n",
              "         [0.2000],\n",
              "         [0.2200],\n",
              "         [0.2400],\n",
              "         [0.2600],\n",
              "         [0.2800],\n",
              "         [0.3000],\n",
              "         [0.3200],\n",
              "         [0.3400],\n",
              "         [0.3600],\n",
              "         [0.3800],\n",
              "         [0.4000],\n",
              "         [0.4200],\n",
              "         [0.4400],\n",
              "         [0.4600],\n",
              "         [0.4800],\n",
              "         [0.5000],\n",
              "         [0.5200],\n",
              "         [0.5400],\n",
              "         [0.5600],\n",
              "         [0.5800],\n",
              "         [0.6000],\n",
              "         [0.6200],\n",
              "         [0.6400],\n",
              "         [0.6600],\n",
              "         [0.6800],\n",
              "         [0.7000],\n",
              "         [0.7200],\n",
              "         [0.7400],\n",
              "         [0.7600],\n",
              "         [0.7800],\n",
              "         [0.8000],\n",
              "         [0.8200],\n",
              "         [0.8400],\n",
              "         [0.8600],\n",
              "         [0.8800],\n",
              "         [0.9000],\n",
              "         [0.9200],\n",
              "         [0.9400],\n",
              "         [0.9600],\n",
              "         [0.9800]]),\n",
              " tensor([[0.9000],\n",
              "         [0.9060],\n",
              "         [0.9120],\n",
              "         [0.9180],\n",
              "         [0.9240],\n",
              "         [0.9300],\n",
              "         [0.9360],\n",
              "         [0.9420],\n",
              "         [0.9480],\n",
              "         [0.9540],\n",
              "         [0.9600],\n",
              "         [0.9660],\n",
              "         [0.9720],\n",
              "         [0.9780],\n",
              "         [0.9840],\n",
              "         [0.9900],\n",
              "         [0.9960],\n",
              "         [1.0020],\n",
              "         [1.0080],\n",
              "         [1.0140],\n",
              "         [1.0200],\n",
              "         [1.0260],\n",
              "         [1.0320],\n",
              "         [1.0380],\n",
              "         [1.0440],\n",
              "         [1.0500],\n",
              "         [1.0560],\n",
              "         [1.0620],\n",
              "         [1.0680],\n",
              "         [1.0740],\n",
              "         [1.0800],\n",
              "         [1.0860],\n",
              "         [1.0920],\n",
              "         [1.0980],\n",
              "         [1.1040],\n",
              "         [1.1100],\n",
              "         [1.1160],\n",
              "         [1.1220],\n",
              "         [1.1280],\n",
              "         [1.1340],\n",
              "         [1.1400],\n",
              "         [1.1460],\n",
              "         [1.1520],\n",
              "         [1.1580],\n",
              "         [1.1640],\n",
              "         [1.1700],\n",
              "         [1.1760],\n",
              "         [1.1820],\n",
              "         [1.1880],\n",
              "         [1.1940]]))"
            ]
          },
          "execution_count": 3,
          "metadata": {},
          "output_type": "execute_result"
        }
      ],
      "source": [
        "#Create a straight line data set with 100 points to given parameters\n",
        "\n",
        "# Create *known* parameters\n",
        "weight = 0.3\n",
        "bias = 0.9\n",
        "\n",
        "# Create data\n",
        "start = 0\n",
        "end = 2\n",
        "step = 0.02\n",
        "X = torch.arange(start, end, step).unsqueeze(dim=1)\n",
        "y = weight * X + bias\n",
        "\n",
        "X[:50], y[:50]"
      ]
    },
    {
      "cell_type": "code",
      "execution_count": 4,
      "metadata": {
        "colab": {
          "base_uri": "https://localhost:8080/"
        },
        "id": "hz3Tc51yaEhJ",
        "outputId": "23127ba2-76bb-41b1-9146-d8834b9ef3ca"
      },
      "outputs": [
        {
          "data": {
            "text/plain": [
              "(80, 80, 20, 20)"
            ]
          },
          "execution_count": 4,
          "metadata": {},
          "output_type": "execute_result"
        }
      ],
      "source": [
        "#Split the dataset into train and test sets(80% : 20%)\n",
        "torch.seed=44\n",
        "train = int(0.8 * len(X))\n",
        "X_train, y_train = X[:train], y[:train]\n",
        "X_test, y_test = X[train:], y[train:]\n",
        "\n",
        "len(X_train), len(y_train), len(X_test), len(y_test)"
      ]
    },
    {
      "cell_type": "code",
      "execution_count": 5,
      "metadata": {
        "colab": {
          "base_uri": "https://localhost:8080/"
        },
        "id": "KlI6YK9ZaF4n",
        "outputId": "781b81bf-24ba-4b41-f916-98dbcb78ef8f"
      },
      "outputs": [
        {
          "name": "stdout",
          "output_type": "stream",
          "text": [
            " First 5 rows for X_train is \n",
            "\n",
            " tensor([[0.0000],\n",
            "        [0.0200],\n",
            "        [0.0400],\n",
            "        [0.0600],\n",
            "        [0.0800]])\n",
            "\n"
          ]
        }
      ],
      "source": [
        "print(f\" First 5 rows for X_train is \\n\")\n",
        "\n",
        "print(f\" {X_train[:5]}\\n\")"
      ]
    },
    {
      "cell_type": "code",
      "execution_count": 6,
      "metadata": {
        "colab": {
          "base_uri": "https://localhost:8080/"
        },
        "id": "bg7WBO5HaNAK",
        "outputId": "8d9e4b23-ec32-4781-e659-c23be23f6fc7"
      },
      "outputs": [
        {
          "name": "stdout",
          "output_type": "stream",
          "text": [
            " First 5 rows for y_train is \n",
            "\n",
            " tensor([[0.9000],\n",
            "        [0.9060],\n",
            "        [0.9120],\n",
            "        [0.9180],\n",
            "        [0.9240]])\n",
            "\n"
          ]
        }
      ],
      "source": [
        "print(f\" First 5 rows for y_train is \\n\")\n",
        "\n",
        "print(f\" {y_train[:5]}\\n\")"
      ]
    },
    {
      "cell_type": "code",
      "execution_count": 7,
      "metadata": {
        "id": "N0KjVfCqaRZd"
      },
      "outputs": [],
      "source": [
        "def plot_predictions(train_data=X_train,\n",
        "                     train_labels=y_train,\n",
        "                     test_data=X_test,\n",
        "                     test_labels=y_test,\n",
        "                     predictions=None):\n",
        "  \"\"\"\n",
        "  Plots training data, test data and compares predictions.\n",
        "  \"\"\"\n",
        "  plt.figure(figsize=(10, 7))\n",
        "\n",
        "  # Plot training data in blue\n",
        "  plt.scatter(train_data, train_labels, c=\"b\", s=4, label=\"Training data\")\n",
        "\n",
        "  # Plot test data in green\n",
        "  plt.scatter(test_data, test_labels, c=\"g\", s=4, label=\"Testing data\")\n",
        "\n",
        "  if predictions is not None:\n",
        "    # Plot the predictions in red (predictions were made on the test data)\n",
        "    plt.scatter(test_data, predictions, c=\"r\", s=4, label=\"Predictions\")\n",
        "\n",
        "  # Show the legend\n",
        "  plt.legend(prop={\"size\": 14})\n",
        "\n"
      ]
    },
    {
      "cell_type": "code",
      "execution_count": 8,
      "metadata": {
        "colab": {
          "base_uri": "https://localhost:8080/",
          "height": 599
        },
        "id": "P85ROkH7aVgw",
        "outputId": "8df12df4-7679-46c6-870b-4e07a08eaf3b"
      },
      "outputs": [
        {
          "data": {
            "image/png": "[encoded data removed]",
            "text/plain": [
              "<Figure size 1000x700 with 1 Axes>"
            ]
          },
          "metadata": {},
          "output_type": "display_data"
        }
      ],
      "source": [
        "plot_predictions()"
      ]
    },
    {
      "cell_type": "code",
      "execution_count": 9,
      "metadata": {
        "id": "oH_AiCtgacNp"
      },
      "outputs": [],
      "source": [
        "# Create a linear regression model with nn.Module subclass\n",
        "\n",
        "class LinearRegressionModel(nn.Module):\n",
        "    def __init__(self):\n",
        "        super().__init__()\n",
        "        self.weights = nn.Parameter(torch.randn(1,\n",
        "                                                dtype=torch.float),\n",
        "                                   requires_grad=True)\n",
        "\n",
        "        self.bias = nn.Parameter(torch.randn(1,\n",
        "                                            dtype=torch.float),\n",
        "                                requires_grad=True)\n",
        "\n",
        "\n",
        "    def forward(self, x: torch.Tensor) -> torch.Tensor:\n",
        "        return self.weights * x + self.bias\n"
      ]
    },
    {
      "cell_type": "code",
      "execution_count": 10,
      "metadata": {
        "colab": {
          "base_uri": "https://localhost:8080/"
        },
        "id": "gbvRmcCOahCk",
        "outputId": "3b8593fb-2ac9-4e73-d796-815c4b9ac138"
      },
      "outputs": [
        {
          "data": {
            "text/plain": [
              "OrderedDict([('weights', tensor([-0.2499])), ('bias', tensor([0.5288]))])"
            ]
          },
          "execution_count": 10,
          "metadata": {},
          "output_type": "execute_result"
        }
      ],
      "source": [
        "torch.seed = 44\n",
        "\n",
        "Model_A = LinearRegressionModel()\n",
        "\n",
        "Model_A.state_dict()"
      ]
    },
    {
      "cell_type": "code",
      "execution_count": 11,
      "metadata": {
        "id": "yIH2f4t_aiN2"
      },
      "outputs": [],
      "source": [
        "# Make predictions with model\n",
        "with torch.inference_mode():\n",
        "    y_preds = Model_A(X_test)\n",
        "\n"
      ]
    },
    {
      "cell_type": "code",
      "execution_count": 12,
      "metadata": {
        "colab": {
          "base_uri": "https://localhost:8080/",
          "height": 599
        },
        "id": "GSWK9WSfanCc",
        "outputId": "6be42445-8a5d-4977-d64c-1aa48112b3ec"
      },
      "outputs": [
        {
          "data": {
            "image/png": "[encoded data removed]",
            "text/plain": [
              "<Figure size 1000x700 with 1 Axes>"
            ]
          },
          "metadata": {},
          "output_type": "display_data"
        }
      ],
      "source": [
        "plot_predictions(predictions=y_preds)"
      ]
    },
    {
      "cell_type": "code",
      "execution_count": 13,
      "metadata": {
        "colab": {
          "base_uri": "https://localhost:8080/"
        },
        "id": "p7gsMNDYaxCp",
        "outputId": "71e55c0f-ad00-4128-8d51-8f3db512aa84"
      },
      "outputs": [
        {
          "data": {
            "text/plain": [
              "tensor([[1.2511],\n",
              "        [1.2621],\n",
              "        [1.2731],\n",
              "        [1.2841],\n",
              "        [1.2951],\n",
              "        [1.3061],\n",
              "        [1.3171],\n",
              "        [1.3281],\n",
              "        [1.3391],\n",
              "        [1.3501],\n",
              "        [1.3611],\n",
              "        [1.3721],\n",
              "        [1.3831],\n",
              "        [1.3941],\n",
              "        [1.4051],\n",
              "        [1.4161],\n",
              "        [1.4271],\n",
              "        [1.4381],\n",
              "        [1.4491],\n",
              "        [1.4601]])"
            ]
          },
          "execution_count": 13,
          "metadata": {},
          "output_type": "execute_result"
        }
      ],
      "source": [
        "y_test - y_preds"
      ]
    },
    {
      "cell_type": "code",
      "execution_count": 14,
      "metadata": {
        "id": "EYiOxBt7bnd-"
      },
      "outputs": [],
      "source": [
        "#Create loss function and optimise model patameters using nn.LlLoss\n",
        "# Create the loss function\n",
        "loss_fn = nn.L1Loss() # MAE loss is same as L1Loss\n",
        "\n",
        "# Create the optimizer\n",
        "optimizer = torch.optim.SGD(params=Model_A.parameters(), # parameters of target model to optimize\n",
        "                            lr=0.01, weight_decay=0.01) # learning rate (how much the optimizer should change parameters at each step, higher=more (less stable), lower=less (might take a long time))"
      ]
    },
    {
      "cell_type": "code",
      "execution_count": 15,
      "metadata": {
        "colab": {
          "base_uri": "https://localhost:8080/"
        },
        "id": "zIOwGMBeboeS",
        "outputId": "f463e1dc-a14b-453c-c6e6-863fdc3a393a"
      },
      "outputs": [
        {
          "name": "stdout",
          "output_type": "stream",
          "text": [
            "Epoch: 0 | MAE Train Loss: 0.8056885600090027 | MAE Test Loss: 1.3314956426620483 \n",
            "Epoch: 20 | MAE Train Loss: 0.4818388521671295 | MAE Test Loss: 0.8493447303771973 \n",
            "Epoch: 40 | MAE Train Loss: 0.16206811368465424 | MAE Test Loss: 0.3713541030883789 \n",
            "Epoch: 60 | MAE Train Loss: 0.04544864222407341 | MAE Test Loss: 0.10084053128957748 \n",
            "Epoch: 80 | MAE Train Loss: 0.026210147887468338 | MAE Test Loss: 0.05138416960835457 \n",
            "Epoch: 100 | MAE Train Loss: 0.0077399276196956635 | MAE Test Loss: 0.013963055796921253 \n",
            "Epoch: 120 | MAE Train Loss: 0.013067452237010002 | MAE Test Loss: 0.0032517253421247005 \n",
            "Epoch: 140 | MAE Train Loss: 0.010785679332911968 | MAE Test Loss: 0.006140679121017456 \n",
            "Epoch: 160 | MAE Train Loss: 0.008508522063493729 | MAE Test Loss: 0.009023839607834816 \n",
            "Epoch: 180 | MAE Train Loss: 0.006235945038497448 | MAE Test Loss: 0.011901115998625755 \n",
            "Epoch: 200 | MAE Train Loss: 0.004223173949867487 | MAE Test Loss: 0.014013838954269886 \n",
            "Epoch: 220 | MAE Train Loss: 0.0039637028239667416 | MAE Test Loss: 0.015364432707428932 \n",
            "Epoch: 240 | MAE Train Loss: 0.0034605287946760654 | MAE Test Loss: 0.016453957185149193 \n",
            "Epoch: 260 | MAE Train Loss: 0.003215970005840063 | MAE Test Loss: 0.017273735255002975 \n",
            "Epoch: 280 | MAE Train Loss: 0.002980171935632825 | MAE Test Loss: 0.01807359978556633 \n",
            "Epoch: 300 | MAE Train Loss: 0.0019876942969858646 | MAE Test Loss: 0.018871551379561424 \n",
            "Epoch: 320 | MAE Train Loss: 0.0017488270532339811 | MAE Test Loss: 0.02044454775750637 \n",
            "Epoch: 340 | MAE Train Loss: 0.0015153981512412429 | MAE Test Loss: 0.021238679066300392 \n",
            "Epoch: 360 | MAE Train Loss: 0.0007828109082765877 | MAE Test Loss: 0.022530775517225266 \n",
            "Epoch: 380 | MAE Train Loss: 0.0009138748282566667 | MAE Test Loss: 0.022813504561781883 \n"
          ]
        }
      ],
      "source": [
        "torch.manual_seed(44)\n",
        "\n",
        "# Set the number of epochs (how many times the model will pass over the training data)\n",
        "epochs = 400\n",
        "\n",
        "# Create empty loss lists to track values\n",
        "train_loss_values = []\n",
        "test_loss_values = []\n",
        "epoch_count = []\n",
        "\n",
        "for epoch in range(epochs):\n",
        "    ### Training\n",
        "\n",
        "    # Put model in training mode (this is the default state of a model)\n",
        "    Model_A.train()\n",
        "\n",
        "    # 1. Forward pass on train data using the forward() method inside\n",
        "    y_pred = Model_A(X_train)\n",
        "    # print(y_pred)\n",
        "\n",
        "    # 2. Calculate the loss (how different are our models predictions to the ground truth)\n",
        "    loss = loss_fn(y_pred, y_train)\n",
        "\n",
        "    # 3. Zero grad of the optimizer\n",
        "    optimizer.zero_grad()\n",
        "\n",
        "    # 4. Loss backwards\n",
        "    loss.backward()\n",
        "\n",
        "    # 5. Progress the optimizer\n",
        "    optimizer.step()\n",
        "\n",
        "    ### Testing\n",
        "\n",
        "    # Put the model in evaluation mode\n",
        "    Model_A.eval()\n",
        "\n",
        "    with torch.inference_mode():\n",
        "      # 1. Forward pass on test data\n",
        "      test_pred = Model_A(X_test)\n",
        "\n",
        "      # 2. Caculate loss on test data\n",
        "      test_loss = loss_fn(test_pred, y_test.type(torch.float)) # predictions come in torch.float datatype, so comparisons need to be done with tensors of the same type\n",
        "\n",
        "      # Print out what's happening\n",
        "      if epoch % 20 == 0:\n",
        "            epoch_count.append(epoch)\n",
        "            train_loss_values.append(loss.detach().numpy())\n",
        "            test_loss_values.append(test_loss.detach().numpy())\n",
        "            print(f\"Epoch: {epoch} | MAE Train Loss: {loss} | MAE Test Loss: {test_loss} \")"
      ]
    },
    {
      "cell_type": "code",
      "execution_count": 16,
      "metadata": {
        "colab": {
          "base_uri": "https://localhost:8080/",
          "height": 489
        },
        "id": "6NJ2Cecsbtuy",
        "outputId": "f04a4e2b-d124-45ea-aaec-39dfd703ed84"
      },
      "outputs": [
        {
          "data": {
            "text/plain": [
              "<matplotlib.legend.Legend at 0x7e7f309cd810>"
            ]
          },
          "execution_count": 16,
          "metadata": {},
          "output_type": "execute_result"
        },
        {
          "data": {
            "image/png": "[encoded data removed]",
            "text/plain": [
              "<Figure size 640x480 with 1 Axes>"
            ]
          },
          "metadata": {},
          "output_type": "display_data"
        }
      ],
      "source": [
        "#Visualise the loss curves\n",
        "\n",
        "# Plot the loss curves\n",
        "plt.plot(epoch_count, train_loss_values, label=\"Train loss\")\n",
        "plt.plot(epoch_count, test_loss_values, label=\"Test loss\")\n",
        "plt.title(\"Training and test loss curves\")\n",
        "plt.ylabel(\"Loss\")\n",
        "plt.xlabel(\"Epochs\")\n",
        "plt.legend()"
      ]
    },
    {
      "cell_type": "code",
      "execution_count": 18,
      "metadata": {
        "colab": {
          "base_uri": "https://localhost:8080/"
        },
        "id": "_jebrcoDb251",
        "outputId": "ae5a14b3-9362-4031-fc8d-3cc78f59f22f"
      },
      "outputs": [
        {
          "name": "stdout",
          "output_type": "stream",
          "text": [
            "The model learned the following values for weights and bias:\n",
            "OrderedDict([('weights', tensor([0.3001])), ('bias', tensor([0.9009]))])\n",
            "\n",
            "And the original values for weights and bias are:\n",
            "weights: 0.3, bias: 0.9\n"
          ]
        }
      ],
      "source": [
        "#The model's learned parameters\n",
        "\n",
        "# Find our model's learned parameters\n",
        "print(\"The model learned the following values for weights and bias:\")\n",
        "print(Model_A.state_dict())\n",
        "print(\"\\nAnd the original values for weights and bias are:\")\n",
        "print(f\"weights: {weight}, bias: {bias}\")"
      ]
    },
    {
      "cell_type": "code",
      "execution_count": 19,
      "metadata": {
        "colab": {
          "base_uri": "https://localhost:8080/"
        },
        "id": "u-BcJfAwb7cO",
        "outputId": "7525a625-b386-4dbb-8e7b-469e30a895ac"
      },
      "outputs": [
        {
          "data": {
            "text/plain": [
              "tensor([[1.3812],\n",
              "        [1.3872],\n",
              "        [1.3932],\n",
              "        [1.3992],\n",
              "        [1.4052],\n",
              "        [1.4112],\n",
              "        [1.4172],\n",
              "        [1.4232],\n",
              "        [1.4292],\n",
              "        [1.4352],\n",
              "        [1.4412],\n",
              "        [1.4472],\n",
              "        [1.4532],\n",
              "        [1.4592],\n",
              "        [1.4652],\n",
              "        [1.4712],\n",
              "        [1.4772],\n",
              "        [1.4832],\n",
              "        [1.4892],\n",
              "        [1.4952]])"
            ]
          },
          "execution_count": 19,
          "metadata": {},
          "output_type": "execute_result"
        }
      ],
      "source": [
        "#Make predictions\n",
        "\n",
        "\n",
        "Model_A.eval()\n",
        "\n",
        "# 2. Setup the inference mode context manager\n",
        "with torch.inference_mode():\n",
        "\n",
        "  y_preds = Model_A(X_test)\n",
        "y_preds"
      ]
    },
    {
      "cell_type": "code",
      "execution_count": 20,
      "metadata": {
        "colab": {
          "base_uri": "https://localhost:8080/",
          "height": 599
        },
        "id": "Bh5cZYD6b-4B",
        "outputId": "ba642faa-1285-40df-8c39-0d7acf6235d0"
      },
      "outputs": [
        {
          "data": {
            "image/png": "[encoded data removed]",
            "text/plain": [
              "<Figure size 1000x700 with 1 Axes>"
            ]
          },
          "metadata": {},
          "output_type": "display_data"
        }
      ],
      "source": [
        "plot_predictions(predictions=y_preds)"
      ]
    },
    {
      "cell_type": "code",
      "execution_count": 21,
      "metadata": {
        "id": "yr-9aDUicDmK"
      },
      "outputs": [],
      "source": [
        "#The model with epochs set at 400, shows that at 340 epochs there are no significant gains,\n"
      ]
    },
    {
      "cell_type": "code",
      "execution_count": 22,
      "metadata": {
        "colab": {
          "base_uri": "https://localhost:8080/"
        },
        "id": "xnPf-RB4cI6z",
        "outputId": "aaeeb469-52e7-4aa6-c641-53c37825c308"
      },
      "outputs": [
        {
          "name": "stdout",
          "output_type": "stream",
          "text": [
            "Saving model to: models/01_pytorch_workflow_model_0.pth\n"
          ]
        }
      ],
      "source": [
        "from pathlib import Path\n",
        "\n",
        "# 1. Create models directory\n",
        "MODEL_PATH = Path(\"models\")\n",
        "MODEL_PATH.mkdir(parents=True, exist_ok=True)\n",
        "\n",
        "# 2. Create model save path\n",
        "MODEL_NAME = \"01_pytorch_workflow_model_0.pth\"\n",
        "MODEL_SAVE_PATH = MODEL_PATH / MODEL_NAME\n",
        "\n",
        "# 3. Save the model state dict\n",
        "print(f\"Saving model to: {MODEL_SAVE_PATH}\")\n",
        "torch.save(obj=Model_A.state_dict(), # only saving the state_dict() only saves the models learned parameters\n",
        "           f=MODEL_SAVE_PATH)"
      ]
    },
    {
      "cell_type": "code",
      "execution_count": 23,
      "metadata": {
        "colab": {
          "base_uri": "https://localhost:8080/"
        },
        "id": "sXCFyLDqcOGV",
        "outputId": "b7029b3e-f79f-40c9-fb40-da78ad422346"
      },
      "outputs": [
        {
          "name": "stdout",
          "output_type": "stream",
          "text": [
            "-rw-r--r-- 1 root root 1680 Feb 12 13:57 models/01_pytorch_workflow_model_0.pth\n"
          ]
        }
      ],
      "source": [
        "# Check the saved file path\n",
        "!ls -l models/01_pytorch_workflow_model_0.pth"
      ]
    },
    {
      "cell_type": "code",
      "execution_count": 24,
      "metadata": {
        "colab": {
          "base_uri": "https://localhost:8080/"
        },
        "id": "v8JrzarAcVD9",
        "outputId": "5fc82f16-0dcd-45e6-e806-4d6ac264dd36"
      },
      "outputs": [
        {
          "name": "stderr",
          "output_type": "stream",
          "text": [
            "<ipython-input-24-c3119fcaa06c>:5: FutureWarning: You are using `torch.load` with `weights_only=False` (the current default value), which uses the default pickle module implicitly. It is possible to construct malicious pickle data which will execute arbitrary code during unpickling (See https://github.com/pytorch/pytorch/blob/main/SECURITY.md#untrusted-models for more details). In a future release, the default value for `weights_only` will be flipped to `True`. This limits the functions that could be executed during unpickling. Arbitrary objects will no longer be allowed to be loaded via this mode unless they are explicitly allowlisted by the user via `torch.serialization.add_safe_globals`. We recommend you start setting `weights_only=True` for any use case where you don't have full control of the loaded file. Please open an issue on GitHub for any issues related to this experimental feature.\n",
            "  loaded_model_0.load_state_dict(torch.load(f=MODEL_SAVE_PATH))\n"
          ]
        },
        {
          "data": {
            "text/plain": [
              "<All keys matched successfully>"
            ]
          },
          "execution_count": 24,
          "metadata": {},
          "output_type": "execute_result"
        }
      ],
      "source": [
        "# Instantiate a new instance of our model (this will be instantiated with random weights)\n",
        "loaded_model_0 = LinearRegressionModel()\n",
        "\n",
        "# Load the state_dict of our saved model (this will update the new instance of our model with trained weights)\n",
        "loaded_model_0.load_state_dict(torch.load(f=MODEL_SAVE_PATH))"
      ]
    },
    {
      "cell_type": "code",
      "execution_count": 25,
      "metadata": {
        "id": "fPtavxercak4"
      },
      "outputs": [],
      "source": [
        "# 1. Put the loaded model into evaluation mode\n",
        "loaded_model_0.eval()\n",
        "\n",
        "# 2. Use the inference mode context manager to make predictions\n",
        "with torch.inference_mode():\n",
        "    loaded_model_preds = loaded_model_0(X_test) # perform a forward pass on the test data with the loaded model"
      ]
    },
    {
      "cell_type": "code",
      "execution_count": 26,
      "metadata": {
        "colab": {
          "base_uri": "https://localhost:8080/"
        },
        "id": "Gn9Nh43tcaWS",
        "outputId": "478ae764-6330-46b9-cd48-9355f62fd8c5"
      },
      "outputs": [
        {
          "data": {
            "text/plain": [
              "tensor([[True],\n",
              "        [True],\n",
              "        [True],\n",
              "        [True],\n",
              "        [True],\n",
              "        [True],\n",
              "        [True],\n",
              "        [True],\n",
              "        [True],\n",
              "        [True],\n",
              "        [True],\n",
              "        [True],\n",
              "        [True],\n",
              "        [True],\n",
              "        [True],\n",
              "        [True],\n",
              "        [True],\n",
              "        [True],\n",
              "        [True],\n",
              "        [True]])"
            ]
          },
          "execution_count": 26,
          "metadata": {},
          "output_type": "execute_result"
        }
      ],
      "source": [
        "# Compare previous model predictions with loaded model predictions (these should be the same)\n",
        "y_preds == loaded_model_preds"
      ]
    }
  ],
  "metadata": {
    "colab": {
      "authorship_tag": "ABX9TyMDHthh61zXDJ74G3VDl5tg",
      "include_colab_link": true,
      "provenance": []
    },
    "kernelspec": {
      "display_name": "Python 3",
      "name": "python3"
    },
    "language_info": {
      "name": "python"
    }
  },
  "nbformat": 4,
  "nbformat_minor": 0
}
