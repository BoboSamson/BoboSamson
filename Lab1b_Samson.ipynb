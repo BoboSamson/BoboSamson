{
 "cells": [
  {
   "cell_type": "code",
   "execution_count": 87,
   "metadata": {},
   "outputs": [],
   "source": [
    "import torch\n",
    "from torch import nn \n",
    "import matplotlib.pyplot as plt"
   ]
  },
  {
   "cell_type": "code",
   "execution_count": 88,
   "metadata": {},
   "outputs": [],
   "source": [
    "# Set device type\n",
    "device = \"cuda\" if torch.cuda.is_available() else \"cpu\"\n",
    "device\n",
    "seed =1234"
   ]
  },
  {
   "cell_type": "code",
   "execution_count": 89,
   "metadata": {},
   "outputs": [
    {
     "data": {
      "text/plain": [
       "(tensor([[0.0000],\n",
       "         [0.0200],\n",
       "         [0.0400],\n",
       "         [0.0600],\n",
       "         [0.0800],\n",
       "         [0.1000],\n",
       "         [0.1200],\n",
       "         [0.1400],\n",
       "         [0.1600],\n",
       "         [0.1800],\n",
       "         [0.2000],\n",
       "         [0.2200],\n",
       "         [0.2400],\n",
       "         [0.2600],\n",
       "         [0.2800],\n",
       "         [0.3000],\n",
       "         [0.3200],\n",
       "         [0.3400],\n",
       "         [0.3600],\n",
       "         [0.3800],\n",
       "         [0.4000],\n",
       "         [0.4200],\n",
       "         [0.4400],\n",
       "         [0.4600],\n",
       "         [0.4800],\n",
       "         [0.5000],\n",
       "         [0.5200],\n",
       "         [0.5400],\n",
       "         [0.5600],\n",
       "         [0.5800],\n",
       "         [0.6000],\n",
       "         [0.6200],\n",
       "         [0.6400],\n",
       "         [0.6600],\n",
       "         [0.6800],\n",
       "         [0.7000],\n",
       "         [0.7200],\n",
       "         [0.7400],\n",
       "         [0.7600],\n",
       "         [0.7800],\n",
       "         [0.8000],\n",
       "         [0.8200],\n",
       "         [0.8400],\n",
       "         [0.8600],\n",
       "         [0.8800],\n",
       "         [0.9000],\n",
       "         [0.9200],\n",
       "         [0.9400],\n",
       "         [0.9600],\n",
       "         [0.9800]]),\n",
       " tensor([[0.9000],\n",
       "         [0.9060],\n",
       "         [0.9120],\n",
       "         [0.9180],\n",
       "         [0.9240],\n",
       "         [0.9300],\n",
       "         [0.9360],\n",
       "         [0.9420],\n",
       "         [0.9480],\n",
       "         [0.9540],\n",
       "         [0.9600],\n",
       "         [0.9660],\n",
       "         [0.9720],\n",
       "         [0.9780],\n",
       "         [0.9840],\n",
       "         [0.9900],\n",
       "         [0.9960],\n",
       "         [1.0020],\n",
       "         [1.0080],\n",
       "         [1.0140],\n",
       "         [1.0200],\n",
       "         [1.0260],\n",
       "         [1.0320],\n",
       "         [1.0380],\n",
       "         [1.0440],\n",
       "         [1.0500],\n",
       "         [1.0560],\n",
       "         [1.0620],\n",
       "         [1.0680],\n",
       "         [1.0740],\n",
       "         [1.0800],\n",
       "         [1.0860],\n",
       "         [1.0920],\n",
       "         [1.0980],\n",
       "         [1.1040],\n",
       "         [1.1100],\n",
       "         [1.1160],\n",
       "         [1.1220],\n",
       "         [1.1280],\n",
       "         [1.1340],\n",
       "         [1.1400],\n",
       "         [1.1460],\n",
       "         [1.1520],\n",
       "         [1.1580],\n",
       "         [1.1640],\n",
       "         [1.1700],\n",
       "         [1.1760],\n",
       "         [1.1820],\n",
       "         [1.1880],\n",
       "         [1.1940]]))"
      ]
     },
     "execution_count": 89,
     "metadata": {},
     "output_type": "execute_result"
    }
   ],
   "source": [
    "#Create a straight line data set with 100 points to given parameters\n",
    "\n",
    "# Create *known* parameters\n",
    "weight = 0.3\n",
    "bias = 0.9\n",
    "\n",
    "# Create data\n",
    "start = 0\n",
    "end = 2\n",
    "step = 0.02\n",
    "X = torch.arange(start, end, step).unsqueeze(dim=1)\n",
    "y = weight * X + bias\n",
    "\n",
    "X[:50], y[:50]"
   ]
  },
  {
   "cell_type": "code",
   "execution_count": 90,
   "metadata": {},
   "outputs": [
    {
     "data": {
      "text/plain": [
       "(80, 80, 20, 20)"
      ]
     },
     "execution_count": 90,
     "metadata": {},
     "output_type": "execute_result"
    }
   ],
   "source": [
    "#Split the dataset into train and test sets(80% : 20%)\n",
    "torch.seed=44\n",
    "train = int(0.8 * len(X)) \n",
    "X_train, y_train = X[:train], y[:train]\n",
    "X_test, y_test = X[train:], y[train:]\n",
    "\n",
    "len(X_train), len(y_train), len(X_test), len(y_test)"
   ]
  },
  {
   "cell_type": "code",
   "execution_count": 91,
   "metadata": {},
   "outputs": [
    {
     "name": "stdout",
     "output_type": "stream",
     "text": [
      " First 5 rows for X_train is \n",
      "\n",
      " tensor([[0.0000],\n",
      "        [0.0200],\n",
      "        [0.0400],\n",
      "        [0.0600],\n",
      "        [0.0800]])\n",
      "\n"
     ]
    }
   ],
   "source": [
    "print(f\" First 5 rows for X_train is \\n\")\n",
    "\n",
    "print(f\" {X_train[:5]}\\n\")"
   ]
  },
  {
   "cell_type": "code",
   "execution_count": 92,
   "metadata": {},
   "outputs": [
    {
     "name": "stdout",
     "output_type": "stream",
     "text": [
      " First 5 rows for y_train is \n",
      "\n",
      " tensor([[0.9000],\n",
      "        [0.9060],\n",
      "        [0.9120],\n",
      "        [0.9180],\n",
      "        [0.9240]])\n",
      "\n"
     ]
    }
   ],
   "source": [
    "print(f\" First 5 rows for y_train is \\n\")\n",
    "\n",
    "print(f\" {y_train[:5]}\\n\")"
   ]
  },
  {
   "cell_type": "code",
   "execution_count": 93,
   "metadata": {},
   "outputs": [],
   "source": [
    "def plot_predictions(train_data=X_train,\n",
    "                     train_labels=y_train,\n",
    "                     test_data=X_test,\n",
    "                     test_labels=y_test,\n",
    "                     predictions=None):\n",
    "  \"\"\"\n",
    "  Plots training data, test data and compares predictions.\n",
    "  \"\"\"\n",
    "  plt.figure(figsize=(10, 7))\n",
    "\n",
    "  # Plot training data in blue\n",
    "  plt.scatter(train_data, train_labels, c=\"b\", s=4, label=\"Training data\")\n",
    "\n",
    "  # Plot test data in green\n",
    "  plt.scatter(test_data, test_labels, c=\"g\", s=4, label=\"Testing data\")\n",
    "\n",
    "  if predictions is not None:\n",
    "    # Plot the predictions in red (predictions were made on the test data)\n",
    "    plt.scatter(test_data, predictions, c=\"r\", s=4, label=\"Predictions\")\n",
    "\n",
    "  # Show the legend\n",
    "  plt.legend(prop={\"size\": 14})\n",
    "  \n"
   ]
  },
  {
   "cell_type": "code",
   "execution_count": 94,
   "metadata": {},
   "outputs": [
    {
     "data": {
      "image/png": "[encoded data removed]",
      "text/plain": [
       "<Figure size 1000x700 with 1 Axes>"
      ]
     },
     "metadata": {},
     "output_type": "display_data"
    }
   ],
   "source": [
    "plot_predictions()"
   ]
  },
  {
   "cell_type": "code",
   "execution_count": 95,
   "metadata": {},
   "outputs": [],
   "source": [
    "# Create a linear regression model with nn.Module subclass\n",
    "\n",
    "class LinearRegressionModel(nn.Module): \n",
    "    def __init__(self):\n",
    "        super().__init__()\n",
    "        self.weights = nn.Parameter(torch.randn(1, \n",
    "                                                dtype=torch.float), \n",
    "                                   requires_grad=True) \n",
    "\n",
    "        self.bias = nn.Parameter(torch.randn(1,\n",
    "                                            dtype=torch.float), \n",
    "                                requires_grad=True) \n",
    "\n",
    "    \n",
    "    def forward(self, x: torch.Tensor) -> torch.Tensor: \n",
    "        return self.weights * x + self.bias \n",
    "    "
   ]
  },
  {
   "cell_type": "code",
   "execution_count": 96,
   "metadata": {},
   "outputs": [
    {
     "data": {
      "text/plain": [
       "OrderedDict([('weights', tensor([0.8448])), ('bias', tensor([0.1268]))])"
      ]
     },
     "execution_count": 96,
     "metadata": {},
     "output_type": "execute_result"
    }
   ],
   "source": [
    "torch.seed = 44\n",
    "\n",
    "Model_A = LinearRegressionModel()\n",
    "\n",
    "Model_A.state_dict()"
   ]
  },
  {
   "cell_type": "code",
   "execution_count": 97,
   "metadata": {},
   "outputs": [],
   "source": [
    "# Make predictions with model\n",
    "with torch.inference_mode():\n",
    "    y_preds = Model_A(X_test)\n",
    "\n"
   ]
  },
  {
   "cell_type": "code",
   "execution_count": 98,
   "metadata": {},
   "outputs": [
    {
     "data": {
      "image/png": "[encoded data removed]",
      "text/plain": [
       "<Figure size 1000x700 with 1 Axes>"
      ]
     },
     "metadata": {},
     "output_type": "display_data"
    }
   ],
   "source": [
    "plot_predictions(predictions=y_preds)"
   ]
  },
  {
   "cell_type": "code",
   "execution_count": 99,
   "metadata": {},
   "outputs": [
    {
     "data": {
      "text/plain": [
       "tensor([[-0.0984],\n",
       "        [-0.1093],\n",
       "        [-0.1202],\n",
       "        [-0.1311],\n",
       "        [-0.1420],\n",
       "        [-0.1529],\n",
       "        [-0.1638],\n",
       "        [-0.1747],\n",
       "        [-0.1856],\n",
       "        [-0.1965],\n",
       "        [-0.2074],\n",
       "        [-0.2183],\n",
       "        [-0.2292],\n",
       "        [-0.2401],\n",
       "        [-0.2510],\n",
       "        [-0.2619],\n",
       "        [-0.2728],\n",
       "        [-0.2837],\n",
       "        [-0.2946],\n",
       "        [-0.3055]])"
      ]
     },
     "execution_count": 99,
     "metadata": {},
     "output_type": "execute_result"
    }
   ],
   "source": [
    "y_test - y_preds"
   ]
  },
  {
   "cell_type": "code",
   "execution_count": 100,
   "metadata": {},
   "outputs": [],
   "source": [
    "#Create loss function and optimise model patameters using nn.LlLoss\n",
    "# Create the loss function\n",
    "loss_fn = nn.L1Loss() # MAE loss is same as L1Loss\n",
    "\n",
    "# Create the optimizer\n",
    "optimizer = torch.optim.SGD(params=Model_A.parameters(), # parameters of target model to optimize\n",
    "                            lr=0.01, weight_decay=0.01) # learning rate (how much the optimizer should change parameters at each step, higher=more (less stable), lower=less (might take a long time))"
   ]
  },
  {
   "cell_type": "code",
   "execution_count": 101,
   "metadata": {},
   "outputs": [
    {
     "name": "stdout",
     "output_type": "stream",
     "text": [
      "Epoch: 0 | MAE Train Loss: 0.35272398591041565 | MAE Test Loss: 0.2176344394683838 \n",
      "Epoch: 20 | MAE Train Loss: 0.27513983845710754 | MAE Test Loss: 0.386809766292572 \n",
      "Epoch: 40 | MAE Train Loss: 0.248091459274292 | MAE Test Loss: 0.42880067229270935 \n",
      "Epoch: 60 | MAE Train Loss: 0.22805917263031006 | MAE Test Loss: 0.4255167841911316 \n",
      "Epoch: 80 | MAE Train Loss: 0.2093546837568283 | MAE Test Loss: 0.4020686745643616 \n",
      "Epoch: 100 | MAE Train Loss: 0.19095145165920258 | MAE Test Loss: 0.37110400199890137 \n",
      "Epoch: 120 | MAE Train Loss: 0.17258499562740326 | MAE Test Loss: 0.34020113945007324 \n",
      "Epoch: 140 | MAE Train Loss: 0.15430963039398193 | MAE Test Loss: 0.304607093334198 \n",
      "Epoch: 160 | MAE Train Loss: 0.13607847690582275 | MAE Test Loss: 0.26840564608573914 \n",
      "Epoch: 180 | MAE Train Loss: 0.11788375675678253 | MAE Test Loss: 0.23227667808532715 \n",
      "Epoch: 200 | MAE Train Loss: 0.09972541034221649 | MAE Test Loss: 0.19622007012367249 \n",
      "Epoch: 220 | MAE Train Loss: 0.08160334825515747 | MAE Test Loss: 0.16023533046245575 \n",
      "Epoch: 240 | MAE Train Loss: 0.0635174959897995 | MAE Test Loss: 0.12432251125574112 \n",
      "Epoch: 260 | MAE Train Loss: 0.04546778276562691 | MAE Test Loss: 0.0884811133146286 \n",
      "Epoch: 280 | MAE Train Loss: 0.027454126626253128 | MAE Test Loss: 0.05271141603589058 \n",
      "Epoch: 300 | MAE Train Loss: 0.009476469829678535 | MAE Test Loss: 0.017013072967529297 \n",
      "Epoch: 320 | MAE Train Loss: 0.00872504897415638 | MAE Test Loss: 0.012960702180862427 \n",
      "Epoch: 340 | MAE Train Loss: 0.010995668359100819 | MAE Test Loss: 0.010087704285979271 \n",
      "Epoch: 360 | MAE Train Loss: 0.012507891282439232 | MAE Test Loss: 0.007979214191436768 \n",
      "Epoch: 380 | MAE Train Loss: 0.01326419971883297 | MAE Test Loss: 0.006632703356444836 \n"
     ]
    }
   ],
   "source": [
    "torch.manual_seed(44)\n",
    "\n",
    "# Set the number of epochs (how many times the model will pass over the training data)\n",
    "epochs = 400\n",
    "\n",
    "# Create empty loss lists to track values\n",
    "train_loss_values = []\n",
    "test_loss_values = []\n",
    "epoch_count = []\n",
    "\n",
    "for epoch in range(epochs):\n",
    "    ### Training\n",
    "\n",
    "    # Put model in training mode (this is the default state of a model)\n",
    "    Model_A.train()\n",
    "\n",
    "    # 1. Forward pass on train data using the forward() method inside\n",
    "    y_pred = Model_A(X_train)\n",
    "    # print(y_pred)\n",
    "\n",
    "    # 2. Calculate the loss (how different are our models predictions to the ground truth)\n",
    "    loss = loss_fn(y_pred, y_train)\n",
    "\n",
    "    # 3. Zero grad of the optimizer\n",
    "    optimizer.zero_grad()\n",
    "\n",
    "    # 4. Loss backwards\n",
    "    loss.backward()\n",
    "\n",
    "    # 5. Progress the optimizer\n",
    "    optimizer.step()\n",
    "\n",
    "    ### Testing\n",
    "\n",
    "    # Put the model in evaluation mode\n",
    "    Model_A.eval()\n",
    "\n",
    "    with torch.inference_mode():\n",
    "      # 1. Forward pass on test data\n",
    "      test_pred = Model_A(X_test)\n",
    "\n",
    "      # 2. Caculate loss on test data\n",
    "      test_loss = loss_fn(test_pred, y_test.type(torch.float)) # predictions come in torch.float datatype, so comparisons need to be done with tensors of the same type\n",
    "\n",
    "      # Print out what's happening\n",
    "      if epoch % 20 == 0:\n",
    "            epoch_count.append(epoch)\n",
    "            train_loss_values.append(loss.detach().numpy())\n",
    "            test_loss_values.append(test_loss.detach().numpy())\n",
    "            print(f\"Epoch: {epoch} | MAE Train Loss: {loss} | MAE Test Loss: {test_loss} \")"
   ]
  },
  {
   "cell_type": "code",
   "execution_count": 102,
   "metadata": {},
   "outputs": [
    {
     "data": {
      "text/plain": [
       "<matplotlib.legend.Legend at 0x13268c710>"
      ]
     },
     "execution_count": 102,
     "metadata": {},
     "output_type": "execute_result"
    },
    {
     "data": {
      "image/png": "[encoded data removed]",
      "text/plain": [
       "<Figure size 640x480 with 1 Axes>"
      ]
     },
     "metadata": {},
     "output_type": "display_data"
    }
   ],
   "source": [
    "#Visualise the loss curves\n",
    "\n",
    "# Plot the loss curves\n",
    "plt.plot(epoch_count, train_loss_values, label=\"Train loss\")\n",
    "plt.plot(epoch_count, test_loss_values, label=\"Test loss\")\n",
    "plt.title(\"Training and test loss curves\")\n",
    "plt.ylabel(\"Loss\")\n",
    "plt.xlabel(\"Epochs\")\n",
    "plt.legend()"
   ]
  },
  {
   "cell_type": "code",
   "execution_count": null,
   "metadata": {},
   "outputs": [],
   "source": [
    "''''''''''Initially, the model is learning rapidly, leading to a sharp decline in training loss.\n",
    "Around 300 epochs, the training loss stabilizes, indicating that the model is no longer making significant improvements.\n",
    "This plateau suggests that the optimizer has converged, and further training might not significantly improve performance.\n",
    "The initial increase in test loss suggests that the model might be adapting too much to the training data early on.\n",
    "After a certain point, the effect of L2 regularization kicks in, preventing overfitting, and the test loss starts to decline.\n",
    "Around 300 epochs, the test loss also stabilizes.L2 regularization is effectively preventing overfitting, allowing the model to generalize better.\n",
    "Your training data may contain some noise, making the training loss slightly higher than the test loss at this stage.''''''''''''''''''''''''''"
   ]
  },
  {
   "cell_type": "code",
   "execution_count": 103,
   "metadata": {},
   "outputs": [
    {
     "name": "stdout",
     "output_type": "stream",
     "text": [
      "The model learned the following values for weights and bias:\n",
      "OrderedDict({'weights': tensor([0.2953]), 'bias': tensor([0.8899])})\n",
      "\n",
      "And the original values for weights and bias are:\n",
      "weights: 0.3, bias: 0.9\n"
     ]
    }
   ],
   "source": [
    "#The model's learned parameters\n",
    "\n",
    "# Find our model's learned parameters\n",
    "print(\"The model learned the following values for weights and bias:\")\n",
    "print(Model_A.state_dict())\n",
    "print(\"\\nAnd the original values for weights and bias are:\")\n",
    "print(f\"weights: {weight}, bias: {bias}\")"
   ]
  },
  {
   "cell_type": "code",
   "execution_count": 104,
   "metadata": {},
   "outputs": [
    {
     "data": {
      "text/plain": [
       "tensor([[1.3625],\n",
       "        [1.3684],\n",
       "        [1.3743],\n",
       "        [1.3802],\n",
       "        [1.3861],\n",
       "        [1.3920],\n",
       "        [1.3979],\n",
       "        [1.4038],\n",
       "        [1.4097],\n",
       "        [1.4156],\n",
       "        [1.4215],\n",
       "        [1.4274],\n",
       "        [1.4333],\n",
       "        [1.4392],\n",
       "        [1.4451],\n",
       "        [1.4511],\n",
       "        [1.4570],\n",
       "        [1.4629],\n",
       "        [1.4688],\n",
       "        [1.4747]])"
      ]
     },
     "execution_count": 104,
     "metadata": {},
     "output_type": "execute_result"
    }
   ],
   "source": [
    "#Make predictions\n",
    "\n",
    "\n",
    "Model_A.eval()\n",
    "\n",
    "# 2. Setup the inference mode context manager\n",
    "with torch.inference_mode():\n",
    "  \n",
    "  y_preds = Model_A(X_test)\n",
    "y_preds"
   ]
  },
  {
   "cell_type": "code",
   "execution_count": 105,
   "metadata": {},
   "outputs": [
    {
     "data": {
      "image/png": "[encoded data removed]",
      "text/plain": [
       "<Figure size 1000x700 with 1 Axes>"
      ]
     },
     "metadata": {},
     "output_type": "display_data"
    }
   ],
   "source": [
    "plot_predictions(predictions=y_preds)"
   ]
  },
  {
   "cell_type": "code",
   "execution_count": null,
   "metadata": {},
   "outputs": [],
   "source": [
    "#The model with epochs set at 400, shows that at 340 epochs there are no significant gains, \n"
   ]
  },
  {
   "cell_type": "code",
   "execution_count": 107,
   "metadata": {},
   "outputs": [
    {
     "name": "stdout",
     "output_type": "stream",
     "text": [
      "Saving model to: models/01_pytorch_workflow_model_0.pth\n"
     ]
    }
   ],
   "source": [
    "from pathlib import Path\n",
    "\n",
    "# 1. Create models directory\n",
    "MODEL_PATH = Path(\"models\")\n",
    "MODEL_PATH.mkdir(parents=True, exist_ok=True)\n",
    "\n",
    "# 2. Create model save path\n",
    "MODEL_NAME = \"01_pytorch_workflow_model_0.pth\"\n",
    "MODEL_SAVE_PATH = MODEL_PATH / MODEL_NAME\n",
    "\n",
    "# 3. Save the model state dict\n",
    "print(f\"Saving model to: {MODEL_SAVE_PATH}\")\n",
    "torch.save(obj=Model_A.state_dict(), # only saving the state_dict() only saves the models learned parameters\n",
    "           f=MODEL_SAVE_PATH)"
   ]
  },
  {
   "cell_type": "code",
   "execution_count": 108,
   "metadata": {},
   "outputs": [
    {
     "name": "stdout",
     "output_type": "stream",
     "text": [
      "-rw-r--r--  1 samsonbobo  staff  1680 Feb 12 19:22 models/01_pytorch_workflow_model_0.pth\n"
     ]
    }
   ],
   "source": [
    "# Check the saved file path\n",
    "!ls -l models/01_pytorch_workflow_model_0.pth"
   ]
  },
  {
   "cell_type": "code",
   "execution_count": 109,
   "metadata": {},
   "outputs": [
    {
     "data": {
      "text/plain": [
       "<All keys matched successfully>"
      ]
     },
     "execution_count": 109,
     "metadata": {},
     "output_type": "execute_result"
    }
   ],
   "source": [
    "# Instantiate a new instance of our model (this will be instantiated with random weights)\n",
    "loaded_model_0 = LinearRegressionModel()\n",
    "\n",
    "# Load the state_dict of our saved model (this will update the new instance of our model with trained weights)\n",
    "loaded_model_0.load_state_dict(torch.load(f=MODEL_SAVE_PATH))"
   ]
  },
  {
   "cell_type": "code",
   "execution_count": 110,
   "metadata": {},
   "outputs": [],
   "source": [
    "# 1. Put the loaded model into evaluation mode\n",
    "loaded_model_0.eval()\n",
    "\n",
    "# 2. Use the inference mode context manager to make predictions\n",
    "with torch.inference_mode():\n",
    "    loaded_model_preds = loaded_model_0(X_test) # perform a forward pass on the test data with the loaded model"
   ]
  },
  {
   "cell_type": "code",
   "execution_count": 111,
   "metadata": {},
   "outputs": [
    {
     "data": {
      "text/plain": [
       "tensor([[True],\n",
       "        [True],\n",
       "        [True],\n",
       "        [True],\n",
       "        [True],\n",
       "        [True],\n",
       "        [True],\n",
       "        [True],\n",
       "        [True],\n",
       "        [True],\n",
       "        [True],\n",
       "        [True],\n",
       "        [True],\n",
       "        [True],\n",
       "        [True],\n",
       "        [True],\n",
       "        [True],\n",
       "        [True],\n",
       "        [True],\n",
       "        [True]])"
      ]
     },
     "execution_count": 111,
     "metadata": {},
     "output_type": "execute_result"
    }
   ],
   "source": [
    "# Compare previous model predictions with loaded model predictions (these should be the same)\n",
    "y_preds == loaded_model_preds"
   ]
  }
 ],
 "metadata": {
  "kernelspec": {
   "display_name": "base",
   "language": "python",
   "name": "python3"
  },
  "language_info": {
   "codemirror_mode": {
    "name": "ipython",
    "version": 3
   },
   "file_extension": ".py",
   "mimetype": "text/x-python",
   "name": "python",
   "nbconvert_exporter": "python",
   "pygments_lexer": "ipython3",
   "version": "3.12.7"
  }
 },
 "nbformat": 4,
 "nbformat_minor": 2
}
