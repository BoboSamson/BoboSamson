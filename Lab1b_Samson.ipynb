{
<<<<<<< HEAD
 "cells": [
  {
   "cell_type": "code",
   "execution_count": 87,
   "metadata": {},
   "outputs": [],
   "source": [
    "import torch\n",
    "from torch import nn \n",
    "import matplotlib.pyplot as plt"
   ]
  },
  {
   "cell_type": "code",
   "execution_count": 88,
   "metadata": {},
   "outputs": [],
   "source": [
    "# Set device type\n",
    "device = \"cuda\" if torch.cuda.is_available() else \"cpu\"\n",
    "device\n",
    "seed =1234"
   ]
  },
  {
   "cell_type": "code",
   "execution_count": 89,
   "metadata": {},
   "outputs": [
    {
     "data": {
      "text/plain": [
       "(tensor([[0.0000],\n",
       "         [0.0200],\n",
       "         [0.0400],\n",
       "         [0.0600],\n",
       "         [0.0800],\n",
       "         [0.1000],\n",
       "         [0.1200],\n",
       "         [0.1400],\n",
       "         [0.1600],\n",
       "         [0.1800],\n",
       "         [0.2000],\n",
       "         [0.2200],\n",
       "         [0.2400],\n",
       "         [0.2600],\n",
       "         [0.2800],\n",
       "         [0.3000],\n",
       "         [0.3200],\n",
       "         [0.3400],\n",
       "         [0.3600],\n",
       "         [0.3800],\n",
       "         [0.4000],\n",
       "         [0.4200],\n",
       "         [0.4400],\n",
       "         [0.4600],\n",
       "         [0.4800],\n",
       "         [0.5000],\n",
       "         [0.5200],\n",
       "         [0.5400],\n",
       "         [0.5600],\n",
       "         [0.5800],\n",
       "         [0.6000],\n",
       "         [0.6200],\n",
       "         [0.6400],\n",
       "         [0.6600],\n",
       "         [0.6800],\n",
       "         [0.7000],\n",
       "         [0.7200],\n",
       "         [0.7400],\n",
       "         [0.7600],\n",
       "         [0.7800],\n",
       "         [0.8000],\n",
       "         [0.8200],\n",
       "         [0.8400],\n",
       "         [0.8600],\n",
       "         [0.8800],\n",
       "         [0.9000],\n",
       "         [0.9200],\n",
       "         [0.9400],\n",
       "         [0.9600],\n",
       "         [0.9800]]),\n",
       " tensor([[0.9000],\n",
       "         [0.9060],\n",
       "         [0.9120],\n",
       "         [0.9180],\n",
       "         [0.9240],\n",
       "         [0.9300],\n",
       "         [0.9360],\n",
       "         [0.9420],\n",
       "         [0.9480],\n",
       "         [0.9540],\n",
       "         [0.9600],\n",
       "         [0.9660],\n",
       "         [0.9720],\n",
       "         [0.9780],\n",
       "         [0.9840],\n",
       "         [0.9900],\n",
       "         [0.9960],\n",
       "         [1.0020],\n",
       "         [1.0080],\n",
       "         [1.0140],\n",
       "         [1.0200],\n",
       "         [1.0260],\n",
       "         [1.0320],\n",
       "         [1.0380],\n",
       "         [1.0440],\n",
       "         [1.0500],\n",
       "         [1.0560],\n",
       "         [1.0620],\n",
       "         [1.0680],\n",
       "         [1.0740],\n",
       "         [1.0800],\n",
       "         [1.0860],\n",
       "         [1.0920],\n",
       "         [1.0980],\n",
       "         [1.1040],\n",
       "         [1.1100],\n",
       "         [1.1160],\n",
       "         [1.1220],\n",
       "         [1.1280],\n",
       "         [1.1340],\n",
       "         [1.1400],\n",
       "         [1.1460],\n",
       "         [1.1520],\n",
       "         [1.1580],\n",
       "         [1.1640],\n",
       "         [1.1700],\n",
       "         [1.1760],\n",
       "         [1.1820],\n",
       "         [1.1880],\n",
       "         [1.1940]]))"
      ]
     },
     "execution_count": 89,
     "metadata": {},
     "output_type": "execute_result"
    }
   ],
   "source": [
    "#Create a straight line data set with 100 points to given parameters\n",
    "\n",
    "# Create *known* parameters\n",
    "weight = 0.3\n",
    "bias = 0.9\n",
    "\n",
    "# Create data\n",
    "start = 0\n",
    "end = 2\n",
    "step = 0.02\n",
    "X = torch.arange(start, end, step).unsqueeze(dim=1)\n",
    "y = weight * X + bias\n",
    "\n",
    "X[:50], y[:50]"
   ]
  },
  {
   "cell_type": "code",
   "execution_count": 90,
   "metadata": {},
   "outputs": [
    {
     "data": {
      "text/plain": [
       "(80, 80, 20, 20)"
      ]
     },
     "execution_count": 90,
     "metadata": {},
     "output_type": "execute_result"
    }
   ],
   "source": [
    "#Split the dataset into train and test sets(80% : 20%)\n",
    "torch.seed=44\n",
    "train = int(0.8 * len(X)) \n",
    "X_train, y_train = X[:train], y[:train]\n",
    "X_test, y_test = X[train:], y[train:]\n",
    "\n",
    "len(X_train), len(y_train), len(X_test), len(y_test)"
   ]
  },
  {
   "cell_type": "code",
   "execution_count": 91,
   "metadata": {},
   "outputs": [
    {
     "name": "stdout",
     "output_type": "stream",
     "text": [
      " First 5 rows for X_train is \n",
      "\n",
      " tensor([[0.0000],\n",
      "        [0.0200],\n",
      "        [0.0400],\n",
      "        [0.0600],\n",
      "        [0.0800]])\n",
      "\n"
     ]
    }
   ],
   "source": [
    "print(f\" First 5 rows for X_train is \\n\")\n",
    "\n",
    "print(f\" {X_train[:5]}\\n\")"
   ]
  },
  {
   "cell_type": "code",
   "execution_count": 92,
   "metadata": {},
   "outputs": [
    {
     "name": "stdout",
     "output_type": "stream",
     "text": [
      " First 5 rows for y_train is \n",
      "\n",
      " tensor([[0.9000],\n",
      "        [0.9060],\n",
      "        [0.9120],\n",
      "        [0.9180],\n",
      "        [0.9240]])\n",
      "\n"
     ]
    }
   ],
   "source": [
    "print(f\" First 5 rows for y_train is \\n\")\n",
    "\n",
    "print(f\" {y_train[:5]}\\n\")"
   ]
  },
  {
   "cell_type": "code",
   "execution_count": 93,
   "metadata": {},
   "outputs": [],
   "source": [
    "def plot_predictions(train_data=X_train,\n",
    "                     train_labels=y_train,\n",
    "                     test_data=X_test,\n",
    "                     test_labels=y_test,\n",
    "                     predictions=None):\n",
    "  \"\"\"\n",
    "  Plots training data, test data and compares predictions.\n",
    "  \"\"\"\n",
    "  plt.figure(figsize=(10, 7))\n",
    "\n",
    "  # Plot training data in blue\n",
    "  plt.scatter(train_data, train_labels, c=\"b\", s=4, label=\"Training data\")\n",
    "\n",
    "  # Plot test data in green\n",
    "  plt.scatter(test_data, test_labels, c=\"g\", s=4, label=\"Testing data\")\n",
    "\n",
    "  if predictions is not None:\n",
    "    # Plot the predictions in red (predictions were made on the test data)\n",
    "    plt.scatter(test_data, predictions, c=\"r\", s=4, label=\"Predictions\")\n",
    "\n",
    "  # Show the legend\n",
    "  plt.legend(prop={\"size\": 14})\n",
    "  \n"
   ]
  },
  {
   "cell_type": "code",
   "execution_count": 94,
   "metadata": {},
   "outputs": [
    {
     "data": {
      "image/png": "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",
      "text/plain": [
       "<Figure size 1000x700 with 1 Axes>"
      ]
     },
     "metadata": {},
     "output_type": "display_data"
    }
   ],
   "source": [
    "plot_predictions()"
   ]
  },
  {
   "cell_type": "code",
   "execution_count": 95,
   "metadata": {},
   "outputs": [],
   "source": [
    "# Create a linear regression model with nn.Module subclass\n",
    "\n",
    "class LinearRegressionModel(nn.Module): \n",
    "    def __init__(self):\n",
    "        super().__init__()\n",
    "        self.weights = nn.Parameter(torch.randn(1, \n",
    "                                                dtype=torch.float), \n",
    "                                   requires_grad=True) \n",
    "\n",
    "        self.bias = nn.Parameter(torch.randn(1,\n",
    "                                            dtype=torch.float), \n",
    "                                requires_grad=True) \n",
    "\n",
    "    \n",
    "    def forward(self, x: torch.Tensor) -> torch.Tensor: \n",
    "        return self.weights * x + self.bias \n",
    "    "
   ]
  },
  {
   "cell_type": "code",
   "execution_count": 96,
   "metadata": {},
   "outputs": [
    {
     "data": {
      "text/plain": [
       "OrderedDict([('weights', tensor([0.8448])), ('bias', tensor([0.1268]))])"
      ]
     },
     "execution_count": 96,
     "metadata": {},
     "output_type": "execute_result"
    }
   ],
   "source": [
    "torch.seed = 44\n",
    "\n",
    "Model_A = LinearRegressionModel()\n",
    "\n",
    "Model_A.state_dict()"
   ]
  },
  {
   "cell_type": "code",
   "execution_count": 97,
   "metadata": {},
   "outputs": [],
   "source": [
    "# Make predictions with model\n",
    "with torch.inference_mode():\n",
    "    y_preds = Model_A(X_test)\n",
    "\n"
   ]
  },
  {
   "cell_type": "code",
   "execution_count": 98,
   "metadata": {},
   "outputs": [
    {
     "data": {
      "image/png": "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",
      "text/plain": [
       "<Figure size 1000x700 with 1 Axes>"
      ]
     },
     "metadata": {},
     "output_type": "display_data"
    }
   ],
   "source": [
    "plot_predictions(predictions=y_preds)"
   ]
  },
  {
   "cell_type": "code",
   "execution_count": 99,
   "metadata": {},
   "outputs": [
    {
     "data": {
      "text/plain": [
       "tensor([[-0.0984],\n",
       "        [-0.1093],\n",
       "        [-0.1202],\n",
       "        [-0.1311],\n",
       "        [-0.1420],\n",
       "        [-0.1529],\n",
       "        [-0.1638],\n",
       "        [-0.1747],\n",
       "        [-0.1856],\n",
       "        [-0.1965],\n",
       "        [-0.2074],\n",
       "        [-0.2183],\n",
       "        [-0.2292],\n",
       "        [-0.2401],\n",
       "        [-0.2510],\n",
       "        [-0.2619],\n",
       "        [-0.2728],\n",
       "        [-0.2837],\n",
       "        [-0.2946],\n",
       "        [-0.3055]])"
      ]
     },
     "execution_count": 99,
     "metadata": {},
     "output_type": "execute_result"
    }
   ],
   "source": [
    "y_test - y_preds"
   ]
  },
  {
   "cell_type": "code",
   "execution_count": 100,
   "metadata": {},
   "outputs": [],
   "source": [
    "#Create loss function and optimise model patameters using nn.LlLoss\n",
    "# Create the loss function\n",
    "loss_fn = nn.L1Loss() # MAE loss is same as L1Loss\n",
    "\n",
    "# Create the optimizer\n",
    "optimizer = torch.optim.SGD(params=Model_A.parameters(), # parameters of target model to optimize\n",
    "                            lr=0.01, weight_decay=0.01) # learning rate (how much the optimizer should change parameters at each step, higher=more (less stable), lower=less (might take a long time))"
   ]
  },
  {
   "cell_type": "code",
   "execution_count": 101,
   "metadata": {},
   "outputs": [
    {
     "name": "stdout",
     "output_type": "stream",
     "text": [
      "Epoch: 0 | MAE Train Loss: 0.35272398591041565 | MAE Test Loss: 0.2176344394683838 \n",
      "Epoch: 20 | MAE Train Loss: 0.27513983845710754 | MAE Test Loss: 0.386809766292572 \n",
      "Epoch: 40 | MAE Train Loss: 0.248091459274292 | MAE Test Loss: 0.42880067229270935 \n",
      "Epoch: 60 | MAE Train Loss: 0.22805917263031006 | MAE Test Loss: 0.4255167841911316 \n",
      "Epoch: 80 | MAE Train Loss: 0.2093546837568283 | MAE Test Loss: 0.4020686745643616 \n",
      "Epoch: 100 | MAE Train Loss: 0.19095145165920258 | MAE Test Loss: 0.37110400199890137 \n",
      "Epoch: 120 | MAE Train Loss: 0.17258499562740326 | MAE Test Loss: 0.34020113945007324 \n",
      "Epoch: 140 | MAE Train Loss: 0.15430963039398193 | MAE Test Loss: 0.304607093334198 \n",
      "Epoch: 160 | MAE Train Loss: 0.13607847690582275 | MAE Test Loss: 0.26840564608573914 \n",
      "Epoch: 180 | MAE Train Loss: 0.11788375675678253 | MAE Test Loss: 0.23227667808532715 \n",
      "Epoch: 200 | MAE Train Loss: 0.09972541034221649 | MAE Test Loss: 0.19622007012367249 \n",
      "Epoch: 220 | MAE Train Loss: 0.08160334825515747 | MAE Test Loss: 0.16023533046245575 \n",
      "Epoch: 240 | MAE Train Loss: 0.0635174959897995 | MAE Test Loss: 0.12432251125574112 \n",
      "Epoch: 260 | MAE Train Loss: 0.04546778276562691 | MAE Test Loss: 0.0884811133146286 \n",
      "Epoch: 280 | MAE Train Loss: 0.027454126626253128 | MAE Test Loss: 0.05271141603589058 \n",
      "Epoch: 300 | MAE Train Loss: 0.009476469829678535 | MAE Test Loss: 0.017013072967529297 \n",
      "Epoch: 320 | MAE Train Loss: 0.00872504897415638 | MAE Test Loss: 0.012960702180862427 \n",
      "Epoch: 340 | MAE Train Loss: 0.010995668359100819 | MAE Test Loss: 0.010087704285979271 \n",
      "Epoch: 360 | MAE Train Loss: 0.012507891282439232 | MAE Test Loss: 0.007979214191436768 \n",
      "Epoch: 380 | MAE Train Loss: 0.01326419971883297 | MAE Test Loss: 0.006632703356444836 \n"
     ]
    }
   ],
   "source": [
    "torch.manual_seed(44)\n",
    "\n",
    "# Set the number of epochs (how many times the model will pass over the training data)\n",
    "epochs = 400\n",
    "\n",
    "# Create empty loss lists to track values\n",
    "train_loss_values = []\n",
    "test_loss_values = []\n",
    "epoch_count = []\n",
    "\n",
    "for epoch in range(epochs):\n",
    "    ### Training\n",
    "\n",
    "    # Put model in training mode (this is the default state of a model)\n",
    "    Model_A.train()\n",
    "\n",
    "    # 1. Forward pass on train data using the forward() method inside\n",
    "    y_pred = Model_A(X_train)\n",
    "    # print(y_pred)\n",
    "\n",
    "    # 2. Calculate the loss (how different are our models predictions to the ground truth)\n",
    "    loss = loss_fn(y_pred, y_train)\n",
    "\n",
    "    # 3. Zero grad of the optimizer\n",
    "    optimizer.zero_grad()\n",
    "\n",
    "    # 4. Loss backwards\n",
    "    loss.backward()\n",
    "\n",
    "    # 5. Progress the optimizer\n",
    "    optimizer.step()\n",
    "\n",
    "    ### Testing\n",
    "\n",
    "    # Put the model in evaluation mode\n",
    "    Model_A.eval()\n",
    "\n",
    "    with torch.inference_mode():\n",
    "      # 1. Forward pass on test data\n",
    "      test_pred = Model_A(X_test)\n",
    "\n",
    "      # 2. Caculate loss on test data\n",
    "      test_loss = loss_fn(test_pred, y_test.type(torch.float)) # predictions come in torch.float datatype, so comparisons need to be done with tensors of the same type\n",
    "\n",
    "      # Print out what's happening\n",
    "      if epoch % 20 == 0:\n",
    "            epoch_count.append(epoch)\n",
    "            train_loss_values.append(loss.detach().numpy())\n",
    "            test_loss_values.append(test_loss.detach().numpy())\n",
    "            print(f\"Epoch: {epoch} | MAE Train Loss: {loss} | MAE Test Loss: {test_loss} \")"
   ]
  },
  {
   "cell_type": "code",
   "execution_count": 102,
   "metadata": {},
   "outputs": [
    {
     "data": {
      "text/plain": [
       "<matplotlib.legend.Legend at 0x13268c710>"
      ]
     },
     "execution_count": 102,
     "metadata": {},
     "output_type": "execute_result"
    },
    {
     "data": {
      "image/png": "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",
      "text/plain": [
       "<Figure size 640x480 with 1 Axes>"
      ]
     },
     "metadata": {},
     "output_type": "display_data"
    }
   ],
   "source": [
    "#Visualise the loss curves\n",
    "\n",
    "# Plot the loss curves\n",
    "plt.plot(epoch_count, train_loss_values, label=\"Train loss\")\n",
    "plt.plot(epoch_count, test_loss_values, label=\"Test loss\")\n",
    "plt.title(\"Training and test loss curves\")\n",
    "plt.ylabel(\"Loss\")\n",
    "plt.xlabel(\"Epochs\")\n",
    "plt.legend()"
   ]
  },
  {
   "cell_type": "code",
   "execution_count": null,
   "metadata": {},
   "outputs": [],
   "source": [
    "''''''''''Initially, the model is learning rapidly, leading to a sharp decline in training loss.\n",
    "Around 300 epochs, the training loss stabilizes, indicating that the model is no longer making significant improvements.\n",
    "This plateau suggests that the optimizer has converged, and further training might not significantly improve performance.\n",
    "The initial increase in test loss suggests that the model might be adapting too much to the training data early on.\n",
    "After a certain point, the effect of L2 regularization kicks in, preventing overfitting, and the test loss starts to decline.\n",
    "Around 300 epochs, the test loss also stabilizes.L2 regularization is effectively preventing overfitting, allowing the model to generalize better.\n",
    "Your training data may contain some noise, making the training loss slightly higher than the test loss at this stage.''''''''''''''''''''''''''"
   ]
  },
  {
   "cell_type": "code",
   "execution_count": 103,
   "metadata": {},
   "outputs": [
    {
     "name": "stdout",
     "output_type": "stream",
     "text": [
      "The model learned the following values for weights and bias:\n",
      "OrderedDict({'weights': tensor([0.2953]), 'bias': tensor([0.8899])})\n",
      "\n",
      "And the original values for weights and bias are:\n",
      "weights: 0.3, bias: 0.9\n"
     ]
    }
   ],
   "source": [
    "#The model's learned parameters\n",
    "\n",
    "# Find our model's learned parameters\n",
    "print(\"The model learned the following values for weights and bias:\")\n",
    "print(Model_A.state_dict())\n",
    "print(\"\\nAnd the original values for weights and bias are:\")\n",
    "print(f\"weights: {weight}, bias: {bias}\")"
   ]
  },
  {
   "cell_type": "code",
   "execution_count": 104,
   "metadata": {},
   "outputs": [
    {
     "data": {
      "text/plain": [
       "tensor([[1.3625],\n",
       "        [1.3684],\n",
       "        [1.3743],\n",
       "        [1.3802],\n",
       "        [1.3861],\n",
       "        [1.3920],\n",
       "        [1.3979],\n",
       "        [1.4038],\n",
       "        [1.4097],\n",
       "        [1.4156],\n",
       "        [1.4215],\n",
       "        [1.4274],\n",
       "        [1.4333],\n",
       "        [1.4392],\n",
       "        [1.4451],\n",
       "        [1.4511],\n",
       "        [1.4570],\n",
       "        [1.4629],\n",
       "        [1.4688],\n",
       "        [1.4747]])"
      ]
     },
     "execution_count": 104,
     "metadata": {},
     "output_type": "execute_result"
    }
   ],
   "source": [
    "#Make predictions\n",
    "\n",
    "\n",
    "Model_A.eval()\n",
    "\n",
    "# 2. Setup the inference mode context manager\n",
    "with torch.inference_mode():\n",
    "  \n",
    "  y_preds = Model_A(X_test)\n",
    "y_preds"
   ]
  },
  {
   "cell_type": "code",
   "execution_count": 105,
   "metadata": {},
   "outputs": [
    {
     "data": {
      "image/png": "iVBORw0KGgoAAAANSUhEUgAAAzoAAAJGCAYAAACTJvC6AAAAOXRFWHRTb2Z0d2FyZQBNYXRwbG90bGliIHZlcnNpb24zLjkuMiwgaHR0cHM6Ly9tYXRwbG90bGliLm9yZy8hTgPZAAAACXBIWXMAAA9hAAAPYQGoP6dpAABOtElEQVR4nO3de3xT9eH/8XfolVuDXC1Q2noDFayAFxCQVhAE18LcBhsbgrfppjLg55cHzClFx9CJiILOywTGNi4ql3ZT8TJbEBERVpyIMMEiiCCgkHAtbfn8/ugSiU3TpE2a5OT1fDz66HpycvLJWZsHb8/n8z42Y4wRAAAAAFhIo3APAAAAAACCjaADAAAAwHIIOgAAAAAsh6ADAAAAwHIIOgAAAAAsh6ADAAAAwHIIOgAAAAAsJz7cA/DHmTNn9NVXX6l58+ay2WzhHg4AAACAMDHG6OjRo2rfvr0aNar5uk1UBJ2vvvpKaWlp4R4GAAAAgAixZ88edezYscbHoyLoNG/eXFLVm0lJSQnzaAAAAACEi9PpVFpamjsj1CQqgo5rulpKSgpBBwAAAECtS1ooIwAAAABgOQQdAAAAAJZD0AEAAABgOQQdAAAAAJZD0AEAAABgOQQdAAAAAJYTFfXSdVFZWany8vJwDwMIi4SEBMXFxYV7GAAAAGFjuaBjjNH+/fvlcDhkjAn3cICwsNlsstvtOvfcc2vtmAcAALAiywUdh8OhI0eOqE2bNmratCn/yEPMMcbo+PHjOnjwoBo3bqwWLVqEe0gAAAANzlJBxxijAwcOKCUlRa1btw73cICwady4scrKynTgwAHZ7XYCPwAAiDmWKiOorKxUZWWlUlJSwj0UIOxSUlLcfxMAAACxxlJBp6KiQpIUH2+pC1VAnbj+Dlx/FwAAALHEUkHHhWk6AH8HAAAgtgUcdNasWaPc3Fy1b99eNptNK1eu9Ll/cXGxbDZbta9t27bVdcwAAAAA4FPAc7yOHz+urKws3XLLLfrRj37k9/O2b9/usXamTZs2gb40AAAAAPgl4Cs6Q4YM0e9//3vddNNNAT2vbdu2Ovfcc91f3MzQOmw2m7Kzs+t1DNeVv/z8/KCMKdSC8Z4BAAAQOg22Rqd79+5KTU3VgAEDVFRU5HPfsrIyOZ1Ojy/45m16oK8vhF9GRoYyMjLCPQwAAABLCnk9WWpqqp5//nn17NlTZWVl+utf/6oBAwaouLhY1157rdfnzJgxQ9OmTQv10Cxl6tSp1bZNmzZNdrtd48ePD+lrf/rpp2rSpEm9jnHVVVfp008/5f5HAAAACAqbMcbU+ck2m1asWKHhw4cH9Lzc3FzZbDYVFhZ6fbysrExlZWXun51Op9LS0uRwOHzeI+fUqVMqLS1VZmamkpOTAxqTFdlsNqWnp2vXrl3hHorl2Gw29e/fX8XFxXU+hutqTqj+/+HvAQAAWJHT6ZTdbq81G4SlXrpXr1767LPPanw8KSlJKSkpHl8Ijl27dslms2ns2LHatm2bbrrpJrVu3Vo2m839D+4VK1boZz/7mS644AI1adJEdrtd/fr107Jly7we09t6lbFjx7qP+cwzz+jiiy9WcnKy0tPTNW3aNJ05c8Zj/5rW6Limdx0/flwTJ05Uhw4dlJSUpMsuu0yvvPJKje9x5MiRatmypZo1a6b+/ftrzZo1ys/Pl81mCyic/PnPf1bXrl2VnJystLQ0TZo0SadOnfK676ZNm3TPPfeoa9eustvtaty4sbp166ZHHnlE5eXlHuOz2Wz64osv9MUXX3hMKXS9/9OnT2vOnDkaPHiw0tLSlJSUpLZt2+qmm25SSUmJ3+MHAACIVWG5s2ZJSYlSU1PD8dL4nx07dqhXr1669NJLNWbMGH377bdKTEyUJE2ZMkWJiYnq27evUlNTdfDgQRUWFurHP/6xnnrqKd17771+v87//d//qbi4WD/4wQ80aNAgrVy5Uvn5+Tp9+rSmT5/u1zHKy8s1aNAgffvtt7rpppt04sQJLVmyRCNGjNCqVas0aNAg97579+7VNddco3379mno0KHKysrS9u3bNWjQIOXk5AR0jh5++GE9+OCDateune644w4lJCRo6dKl+vTTT73u/8ILL+gf//iHrr32Wg0dOlQnTpxQcXGxpkyZog8//NAdFFu0aKGpU6dq9uzZkuQxtdAVGL/99luNHz9e/fr109ChQ3XOOefo888/V2FhoV5//XWtWbNGV155ZUDvBwAAoK4KtxeqqLRIOZk5yuucF+7h+McE6OjRo6akpMSUlJQYSWbWrFmmpKTEfPHFF8YYYyZPnmxGjx7t3v+JJ54wK1asMP/973/Nli1bzOTJk40ks2zZMr9f0+FwGEnG4XD43O/kyZNm69at5uTJk4G+LUuSZNLT0z22lZaWGklGknnggQe8Pm/nzp3Vth09etR069bN2O12c/z48Wqv079/f49tY8aMMZJMZmam+eqrr9zbDx48aFq0aGGaN29uysrK3NuLioqMJDN16lSP46SnpxtJZtiwYR77v/3220aSGTx4sMf+v/jFL4wk89hjj3lsnz9/vvt9FxUVeX3fZ/vss89MfHy86dChg/n666/d2x0Oh+ncubPX97xr1y5TUVHhse3MmTPm1ltvNZLM2rVrq7237///43Lq1Cnz5ZdfVtu+ZcsW06xZMzNw4MBa3wN/DwAAIBgKthUY5cvETYszypcp2FYQ1vH4mw0Cnrq2ceNGde/eXd27d5ckTZw4Ud27d9eDDz4oSdq3b592797t3v/06dO67777dNlll6lfv35au3atXn311YDrqRFc5557rn73u995fey8886rtq1Zs2YaO3asHA6HPvzwQ79f54EHHvC4ete6dWsNGzZMR48e1fbt2/0+zhNPPOG+4iRJAwYMUHp6usdYysrK9PLLL6tdu3YaN26cx/PHjBmjLl26+P16ixYtUkVFhSZOnKi2bdu6t6ekpNR43tLT06vVpttsNt19992SpLffftvv109KSlKHDh2qbb/00kuVk5OjNWvWeEyHAwAACJWi0iLF2eJUaSoVZ4tT8a7icA/JLwFPXcvOzpbx0V+wYMECj58nTZqkSZMmBTywSFdYKBUVSTk5Ul6UXL07W1ZWlkdwONuBAwf0yCOP6PXXX9cXX3yhkydPejz+1Vdf+f06PXr0qLatY8eOkqQjR474dYwWLVooMzPT63Hef/9998/bt29XWVmZrrjiimrvzWazqXfv3tq2bZtfr/nRRx9Jkvr161ftMW/bpKpQP3fuXC1ZskTbtm3TsWPHPP5WAjlvkrR582b98Y9/1Nq1a7V///5qwebQoUNMAQUAACGXk5mj2R/Mdoed7IzscA/JL2FZoxPtCgulYcOkuDhp9mypoCD6wk67du28bv/222915ZVXavfu3erTp48GDhyoFi1aKC4uTps3b1ZBQYFHI15t7HZ7tW3x8VW/dpWVlXU+hus4Z5cauO631KZNG6/71/SevXE4HJLkcTWntuP8+Mc/1j/+8Q9ddNFFGjlypNq2bauEhAQdOXJETz75ZEDnbd26dbruuuskSYMGDdKFF16oZs2ayWazaeXKlfroo48COh4AAEBd5XXOU8FPC1S8q1jZGdlRs0aHoFMHRUVVIaeysup7cXH0BZ2abhr64osvavfu3fr973+v+++/3+OxRx55RAUFBQ0xvDpxtfMdPHjQ6+Nff/2138dyhasDBw4oPT291uN8+OGH+sc//qHBgwfr1Vdf9ZjCtn79ej355JN+v7YkTZ8+XWVlZVq7dq369Onj8dj69evdV5wAAACCxVfhQF7nvKgJOC5hqZeOdjk534Wcykrpe83KUW3nzp2SpDwvye3dd99t6OEEpHPnzkpKStKmTZt0+vRpj8eMMVq/fr3fx8rKypLk/T172+Y6bzfeeGO1dTo1nbe4uLgar2rt3LlTLVu2rBZyTpw4oX//+9+1vwEAAIAAFG4v1LAlwzRnwxwNWzJMhdu93+8ymhB06iAvr2q62rhx0TltzRfX1Yu1a9d6bF+0aJFee+21cAzJb0lJSfrxj3+s/fv366mnnvJ4bOHChTXWQnszatQoxcXFadasWTpw4IB7u9Pp1O9///tq+9d03j755BPNmDHD62u0bNlShw4d8npfnvT0dB0+fFiffPKJe1tlZaXuu+++Gq9YAQAA1FW0Fg74wtS1OsrLs1bAcRk9erQeffRR3XvvvSoqKlJ6err+85//6O2339ZNN92k5cuXh3uIPs2YMUNvv/22/u///k9FRUW6/PLLtX37dv3zn//UDTfcoFWrVqlRo9rz/QUXXKAHH3xQU6dO1WWXXaYRI0YoPj5ey5YtU7du3ao1xl111VW66qqr9NJLL2nfvn3q1auXdu/ercLCQt14441eb2563XXXaePGjcrNzVW/fv3c9y7q27ev7r33Xr355pvq27evRowYoeTkZBUXF2vv3r3Kzs4O6KanAAAAtYnWwgFfuKIDDx07dtTq1as1YMAAvf3223ruuedUVlamN998U7m5ueEeXq3S0tL0/vvv6yc/+Ynee+89zZ49WwcOHNCbb76pCy64QNJ3a3lq8+CDD+qFF15Qq1at9Nxzz+nll1/WiBEj9PLLL1fbNy4uTv/85z916623aufOnZozZ462bt2qmTNn6o9//KPX4z/wwAO644479Mknn2jatGmaMmWKu4L6Bz/4gV555RWdd955+tvf/qZFixapS5cu2rBhQ7U1QwAAAPXlKhwYd/U4Ffy0IOrW43hjM766oiOE0+mU3W6Xw+Hw+Y/UU6dOqbS0VJmZmUpOTm7AESIa9O3bV++//74cDoeaNWsW7uGEHH8PAADgbL7KBqKJv9mAKzqwnH379lXb9ve//13vvfeeBg4cGBMhBwAA4GxWLBuoDWt0YDldu3ZV9+7ddckll7jv/1NcXKzmzZtr5syZ4R4eAABAg/NWNhDNV3X8wRUdWM5dd92lAwcOaOHChZo7d662b9+uUaNGacOGDerWrVu4hwcAANDgcjJz3CHHKmUDtWGNDmBR/D0AAICzFW4vVPGuYmVnZEf11Rx/swFT1wAAAACL8FU4kNc5L6oDTqCYugYAAABYQEgLBwoLpQkTqr5HCYIOAAAAYAHeCgeCorBQGjZMmjOn6nuUhB2CDgAAAGABISscKCqS4uKkysqq78XFwTluiBF0AAAAAAvI65yngp8WaNzV41Tw04LgrcfJyfku5FRWStnZwTluiFFGAAAAAESRBi8cyMuTCgqqruRkZ1f9HAUIOgAAAECUcBUOxNniNPuD2cG9clNYWDVNLSenepjJy4uagOPC1DUAAAAgSlA44D+CDgAAABAlKBzwH0EHDWLs2LGy2WzatWtXuIdSqwULFshms2nBggXhHgoAAIAHCgf8R9CxCJvNFtBXsBEOPBUXF8tmsyk/Pz/cQwEAAFGocHuhJqya4PWmn3md8zRr8KzAQ46vm366CgfGjav6HmXrcbyhjMAipk6dWm3btGnTZLfbNX78+IYf0PfMmDFDkydPVocOHcI9FAAAgIgWksIB1xqcuDhp9mzvYSYKCwd8IehYhLcrB9OmTVOLFi0i4qpCamqqUlNTwz0MAACAiOetcKDeQcfbGhwLhRpvmLoWg4wxmjdvnvr06aOUlBQ1adJEV1xxhebNm1dt31OnTunxxx9XVlaW7Ha7mjVrpvPPP18/+9nP9PHHH0uqWn9zyy23SJJuueUWr1PkvK3ROXt617///W8NHjxYzZs3l91u1w9/+MMa1/MsX75cV1xxhRo3bqx27drpjjvu0OHDh5WRkaGMjAy/z8O3336ru+66S+3atVOTJk105ZVXasWKFTXuP2/ePA0bNkwZGRlKTk5Wy5YtNXjwYBUVFXnsl5+fr5ycHElVYfPs8+F6T//97381adIk9ejRQ61atVJycrIuuugiTZ48WceOHfP7PQAAAOsJSeGABdfg1IYrOjHGGKNf/OIXWrRokS666CKNGjVKiYmJeuutt3Tbbbdp69atmjlzpnv/MWPG6KWXXtJll12mW265RUlJSdq9e7eKioo0ePBgdevWTcOHD9eRI0dUUFCgYcOG6fLLLw9oTBs3btRjjz2m7Oxs3XnnnSopKdHKlSv18ccfa8uWLUpOTnbvO2/ePN12221q0aKFbr75Ztntdr322mu6/vrrVV5eroSEBL9e88SJE8rOztbHH3+s3r17q3///tqzZ49GjhypQYMGeX3O3XffraysLA0cOFBt2rTR3r17tXLlSg0cOFDLly/XsGHDJEnZ2dnatWuX/vKXv6h///7KPuuDpEWLFpKqwtqLL76onJwcZWdn68yZM1q/fr0effRRrV69WmvWrPH7vQAAgOhU040/XYUDxbuKlZ2RHZzCgSi96We9mCjgcDiMJONwOHzud/LkSbN161Zz8uTJBhpZZJNk0tPTPbY9//zzRpK57bbbTHl5uXt7WVmZyc3NNZLMxo0bjTHGHDlyxNhsNnPFFVeYiooKj+NUVFSYw4cPu3+eP3++kWTmz5/vdSxjxowxkkxpaal7W1FRkZFkJJklS5Z47D969GgjySxevNi97fDhw6ZZs2amefPmZufOne7t5eXlZuDAgV7fb02mTp1qJJk77rjDY/sbb7zhHtP338vnn39e7ThfffWVad++vbnwwgs9trve29SpU72+/pdffmnKysqqbZ82bZqRZP72t7/59T584e8BAIDIVbCtwChfJm5anFG+TMG2giAduMCY8eOrvluUv9mAqWt15KsJI5LNnTtXTZs21dy5cxUf/90FvcTERE2fPl2StHjxYklVTW7GGCUlJSkuLs7jOHFxce6rE/V17bXXauTIkR7bbr31VknShx9+6N5WUFCgY8eO6fbbb9d5553n3h4fH6+HH344oNdcuHChEhMT9dBDD3lsHzRokAYMGOD1OZmZmdW2paam6kc/+pE+++wzffHFF36/focOHZSYmFht+z333CNJevvtt/0+FgAAiD4hufGnBW/6WR9MXauDkDRhNIATJ07o448/Vvv27fXII49Ue7y8vFyStG3bNklSSkqKbrjhBq1atUo9evTQj3/8Y/Xr109XX32113+k11WPHj2qbevYsaMk6ciRI+5tH330kSTpmmuuqbb/VVdd5RHcfDl69KhKS0t1ySWX6Nxzz632eL9+/fSvf/2r2vbPP/9cM2bM0DvvvKO9e/eqrKzM4/GvvvpK6enpfo3BGKP58+drwYIF2rJlixwOh86cOeNxLAAAYF05mTma/cHs4K7DicHCAV8IOnUQkiaMBnD48GEZY7R3715Nmzatxv2OHz/u/t+vvPKK/vCHP2jx4sW6//77JUnNmzfXrbfeqj/84Q9q0qRJvcdlt9urbXOFlsrKSvc2p9MpSWrTpk21/Rs1aqTWrVv79XoOh0OS1LZtW6+Pt2vXrtq2HTt26KqrrpLT6VROTo5yc3OVkpKiRo0aqbi4WKtXr64WfHwZN26c5s6dq7S0NOXl5Sk1NVVJSUmSqgoMAjkWAACIPiFZh5OTU1UdHUOFA74QdOogJAm8AaSkpEiSevbsqY0bN/r1nKZNm2r69OmaPn26SktLVVRUpGeffVZPPvmkTp48qeeeey6UQ/bgGv/BgwerPXbmzBkdOnTIr/v0uI5z4MABr49//fXX1bY98cQTOnz4sP72t7/p5z//ucdjd911l1avXl3r67ocOHBATz/9tC677DK9//77HmFx//79PkMoAACILjUVDkhVYSeo/7E8FgsHfGCNTh24Evi4q8dFzbQ1qepKzMUXX6xPP/3UY0qYvzIzM3Xrrbdq9erVatasmQrPmvfpWsNz9hWYYMvKypIkrVu3rtpjGzZsUEVFhV/HSUlJUWZmpnbs2KH9+/dXe/zdd9+ttm3nzp2SpLzvfWCcOXNG7733XrX9fZ2Pzz//XMYYDRw4sNoVMW+vDQAAopNrucOcDXM0bMmw4K3tLiyUJkzwvgYnL0+aNSvmQ45E0KmzvM55mjV4VtSEHJdx48bpxIkTuuOOOzymqLmUlpa67/Vy8OBBbdiwodo+hw8fVllZmRo3buze1rJlS0nSl19+GZqBSxo2bJiaNWumP//5zyotLXVvr6io0AMPPBDQsUaPHq3Tp0/rwQcf9Nj+5ptvel2f41p7s3btWo/tjz76qLZs2VJtf1/nw3WsdevWeazL+fLLLzV58uSA3gcAAIhcFA6EF1PXYsydd96p9evX6y9/+Yvee+89DRw4UO3bt9fXX3+tbdu26YMPPtCiRYuUkZGhvXv36uqrr9all16qHj16qEOHDvrmm29UUFCg8vJyTZo0yX3c3r17q3Hjxpo9e7acTqd7HU0w/+HeokULzZo1S7/85S/Vo0cPjRw50n0fnaSkJLVv316NGvmX3SdNmqTly5frhRde0CeffKJrr71We/bs0UsvvaQbb7xRr776qsf+d911l+bPn6+bbrpJI0eOVKtWrbR+/Xr9+9//9rp/ly5d1L59ey1ZskRNmjRRx44dZbPZ9Ktf/crd1LZs2TJdccUVGjBggL7++mv985//1HXXXafPP/88aOcMAACED4UDYdYAVdf1xn106kY+7iuzdOlSM3DgQHPOOeeYhIQE06FDB5OdnW0ef/xxc/DgQWNM1X1r8vPzzbXXXmtSU1NNYmKiad++vbnhhhvMG2+8Ue2Yr776qrnyyitN48aN3feicfF1Hx1v95opLS01ksyYMWOqPfbyyy+b7t27m6SkJNO2bVtz++23m2+++cY0a9bMZGVl+X1+vvnmG/PLX/7StGnTxiQnJ5uePXua5cuX13hPoKKiItOnTx/TvHlz06JFCzN06FCzadMm9z15ioqKPPZfv3696d+/v2nevLn7fLje/9GjR83/+3//z2RkZJikpCRz4YUXmocffticPn3aSDL9+/f3+33UhL8HAADCr2BbgZmwakJw75MjGRMXV/XdwvfLqYm/2cBmjDFhSVgBcDqdstvtcjgc7oXk3pw6dUqlpaXKzMxUcnJyA44Q4bZjxw5deOGFGjFihJYuXRru4UQE/h4AAGgYvgoHQvOChTFdOOBvNmDqGqLK4cOH1aRJE3cVsySdPHlSEyZMkCQNHz48TCMDAACxKGT3VywsrJqmlpNTPczk5cVkwAkUQQdRZfXq1brttts0aNAgderUSYcOHdI777yjXbt26brrrtPIkSPDPUQAABBDQnJ/RVfhQFxc1X1xCgoINnVA6xqiyqWXXqrrr79e7733np566iktWrRIzZo108MPP6xXX33V7zICAACAYMjJzHGHnJAWDiBgXNFBVLnwwgu1ZMmScA8DAABA0nf3VyzeVazsjOzgTFvLyam6kuMKO9nZ9T9mDCLoAAAAALXwVTiQ1zkvuCUEeXlV09ViuHAgGAg6AAAAgA8UDkQnFjQAAAAAPngrHKg3V+HAnDlV3wsL639MeCDoAAAAAD5QOBCdCDoAAACAD67CgXFXjwvetLWcnO9CDoUDIcEaHQAAAMQ8X2UDEoUD0YigAwAAgJgWsrIBicKBMGLqGgAAAGJaSMoGJAoHwoygAwAAgJgWkrIBicKBMCPoIOR27dolm82msWPHemzPzs6WzWYL2etmZGQoIyMjZMcHAADWEJKyAYnCgTAj6FiMK1Sc/ZWYmKi0tDSNGjVK//nPf8I9xKAZO3asbDabdu3aFe6hAACAKFC4vVATVk1Q4fbqU8jyOudp1uBZoSkcGDeu6jvrcRoUZQQWdf755+sXv/iFJOnYsWNav369Fi9erOXLl+udd97RNddcE+YRSgsXLtSJEydCdvx//etfITs2AACILhQOxB6CjkVdcMEFys/P99j2u9/9TtOnT9f999+voqKi8AzsLJ06dQrp8c8///yQHh8AAEQPb4UDQQk6rsKBuDhp9myu3EQQpq7FkHvvvVeS9OGHH0qSbDabsrOztXfvXo0dO1bnnnuuGjVqpOKzFsqtWbNGubm5at26tZKSknThhRfqd7/7ndcrMZWVlXr00Ud1wQUXKDk5WRdccIFmzJihM2fOeB2PrzU6hYWFGjx4sFq1aqXk5GRlZGRo9OjR2rJli6Sq9Td/+ctfJEmZmZnuaXrZZ819rWmNzokTJ5Sfn68uXbooOTlZLVu21I033qh169ZV2zc/P182m03FxcV66aWX1KNHDzVu3FipqakaN26cTp48We05y5YtU//+/dW2bVslJycrLS1NN9xwg1auXOn1vQIAgNCjcCD2cEUnhngLFd9884169+6tli1bauTIkTp9+rRSUlIkSc8++6x+/etf65xzzlFubq7atGmjDz/8UNOnT1dRUZGKioqUmJjoPtYvf/lLzZs3T5mZmbr77rt16tQpzZo1y2uA8GXSpEl67LHH1LJlSw0fPlxt27bVnj179Pbbb6tnz57q2rWrxo8frwULFuijjz7Sb37zG7Vo0UKSai0fKCsr04ABA7R+/Xr16NFD48eP14EDB7R06VK9+eabWrp0qW666aZqz3v66af1+uuva9iwYcrOztaqVas0Z84cffPNN/r73//u3u9Pf/qTfv3rXys1NVU//OEP1apVK+3bt08bNmzQypUrNXz48IDOBQAACA5X4UDxrmJlZ2QHt3Bg9mwKByKRiQIOh8NIMg6Hw+d+J0+eNFu3bjUnT55soJFFntLSUiPJDB48uNpj999/v5FksrOzjTHGSDKSzC233GIqKio89v3kk09MfHy86d69u/nmm288HpsxY4aRZGbOnOneVlRUZCSZrKwsc+zYMff2L7/80rRu3dpIMmPGjPE4Tv/+/c33fwVfffVVI8l069bNHDp0yOOx8vJys3//fvfPY8aMMZJMaWmp13ORnp5u0tPTPbY99NBDRpL5+c9/bs6cOePe/tFHH5mkpCRzzjnnGKfT6d4+depUI8nY7Xazbds29/YTJ06Yiy66yNhsNrN371739h49epjExERz4MCBauP5/vsJNf4eAACxqGBbgRn/+nhTsK2gAV+0wJgJE6q+I+T8zQZMXaurwkJpwoSIvfHTjh07lJ+fr/z8fN13333q27evpk+fruTkZP3hD39w75eYmKg//vGPiouL83j+c889p4qKCj311FNq2bKlx2OTJk1SmzZttHjxYve2hQsXSpIefPBBNW3a1L29Q4cO+s1vfuP3uJ9++mlJ0pNPPqlWrVp5PBYfH6927dr5fSxvFixYoISEBD3yyCMeV7guu+wyjR07VocPH1ZBQUG15/3mN79R586d3T83btxYP/vZz2SM0aZNmzz2TUhIUEJCQrVjfP/9AACA4HIVDszZMEfDlgzz2q5W94P7+LdfXp40axZrcyIMU9fqIgoWne3cuVPTpk2TVPUP73bt2mnUqFGaPHmyunXr5t4vMzNTrVu3rvb89evXS5JWrVqlt99+u9rjCQkJ2rZtm/vnjz76SJLUr1+/avt621aTDRs2KCkpSf379/f7Of5yOp36/PPPdfHFF6tjx47VHs/OztZzzz2nzZs3uxvrXHr06FFtf9cxjhw54t42YsQITZ48WV27dtVPf/pTZWdnq2/fvu6pdQAAIHQoHMDZCDp14W3RWYT9sg8ePFirVq2qdb+arpB8++23kqTp06f79XoOh0ONGjXyGpoCuQpz5MgRdejQQY0aBf9io9Pp9Dmec889V1LVe/k+u91ebVt8fNWfT2VlpXvbpEmT1KpVKz377LOaNWuWHn/8ccXHx2vo0KGaPXu2MjMz6/0+AACAdzmZOZr9weyGKRyIsH/7oTqmrtWFhe5yW1PrmauQwOl0yhhT45eL3W7XmTNndOjQoWrH+vrrr/0eT4sWLbR///4am9rqw/WeahqPa7trv7qw2Wy6/fbbtXHjRh08eFArVqzQTTfdpMLCQt14440eoQgAAASXq3Bg3NXjgnufHAv92y+WEHTqIgbucnv11VdL+m4KW22ysrIkSe+++261x7xtq8lVV12lsrIyrV69utZ9XeuK/A0PKSkpOu+887Rjxw7t3bu32uOu17z88sv9Hq8vrVq10vDhw7V06VJdd911+vTTT7Vjx46gHBsAgFhWuL1QE1ZN8LoGJ69znmYNnhV4yKltDY7F/+1nRQSdurL4orNf//rXio+P17333qs9e/ZUe/zIkSMqKSlx/3zzzTdLkh566CEdP37cvX3v3r168skn/X7du+++W1LV4n/X9DmXiooKj6sxrpKEL7/80u/jjxkzRuXl5ZoyZYrHFaktW7Zo/vz5stvt9aqAfuONN1RRUeGxrby83P1eGjduXOdjAwCAEBUOuNbgzJlT9Z3CAUtgjQ686tq1q5555hn96le/UufOnTV06FCdf/757gX9q1ev1tixY/Xss89KqlrIf8stt2j+/Pnq1q2bfvjDH6qsrExLly5Vr1699M9//tOv1x06dKjuu+8+zZw5UxdeeKF++MMfqm3bttq7d6/+9a9/6b777tP48eMlSdddd51mzpypO++8Uz/5yU/UtGlTderUSaNGjarx+JMmTdKrr76qv/71r/r00081YMAAHTx4UEuXLlV5ebkWLlyo5s2b1/m8jRw5Uk2aNFHfvn2Vnp6u8vJyvfXWW9q6datGjhypTp061fnYAAAgRIUDrMGxJIIOanTHHXfo8ssv16xZs7RmzRoVFhbKbrerU6dOmjBhgsaMGeOx/wsvvKCLLrpIL7zwgubOnauOHTtq4sSJGjFihN9BR5Iee+wx9e7dW3PnztUrr7yiU6dOKTU1Vdddd52uv/56935DhgzRH//4R73wwgt69NFHVV5erv79+/sMOsnJyXrnnXf06KOPaunSpXriiSfUpEkTXXvttfrtb3+rvn37Bn6izjJjxgytWrVKGzZs0D/+8Q81bdpUF1xwgZ577jndeuut9To2AAAIUeEAN/20JJs5e/5OhHI6nbLb7XI4HD4Xip86dUqlpaXKzMxUcnJyA44QiDz8PQAArKpwe6GKdxUrOyM7eIUDhYVVV3Kys7maE+H8zQZc0QEAAEDEKdxeqKLSIuVk5lQLM3md8+oWcAoLq6ap5eRUDzN5eQQci6GMAAAAABElbIUDsBSCDgAAACKKt8KB+h/US+EALI2gAwAAgIiSk5njDjlBLRzgpp8xhTU6AAAAiCh5nfNU8NOC4BYOuG76SeFAzCDoAAAAICwoHEAoWXLqWhQ0ZgMhx98BACCSUTiAUAs46KxZs0a5ublq3769bDabVq5c6fdz33vvPcXHx+vyyy8P9GX9Eh9fdYGqoqIiJMcHoonr78D1dwEAQCShcAChFnDQOX78uLKysjR37tyAnudwOHTzzTdrwIABgb6k3+Li4hQXFyen0xmy1wCihdPpdP9NAAAQaSgcQKgF/J96hwwZoiFDhgT8QnfeeadGjRqluLi4Wq8ClZWVqayszP2zv8HFZrOpbdu22rdvn5KSktS0aVPZbLaAxwpEM2OMjh8/LqfTqdTUVP4GAAARicIBhFqDzGmZP3++du7cqb/97W/6/e9/X+v+M2bM0LRp0+r0Wna7XSdPntShQ4d08ODBOh0DiHY2m00tWrSQ3W4P91AAADGOwgGES8iDzmeffabJkyfr3Xff9XutwJQpUzRx4kT3z06nU2lpaX4912azKTU1VW3btlV5eXmdxgxEu4SEBKasAQDCzlU4EGeL0+wPZqvgpwX1v3LjKhyIi5Nmz666gkOwgRchDTqVlZUaNWqUpk2bposuusjv5yUlJSkpKaler83aBAAAgPDyVjhQ76DjrXCAoAMvQlovffToUW3cuFH33HOP4uPjFR8fr4ceekgfffSR4uPj9c4774Ty5QEAABBGFA4gnEJ6RSclJUUff/yxx7ZnnnlG77zzjl555RVlZmaG8uUBAAAQRhQOIJwCDjrHjh3Tjh073D+XlpZq8+bNatmypTp16qQpU6Zo7969WrhwoRo1aqSuXbt6PL9t27ZKTk6uth0AAADRicIBRKKAg87GjRuVk5Pj/tlVGjBmzBgtWLBA+/bt0+7du4M3QgAAAEQsCgcQqQJeo5OdnS1jTLWvBQsWSJIWLFigYh93oc3Pz9fmzZvrOFwAAABEEm+FA/U/qJfCASBAIS0jAAAAgLVROIBIZTPGmHAPojZOp1N2u10Oh0MpKSnhHg4AAADOUri9MLiFA1LV9DUKB+CFv9mAoAMAAIBa+SocqPtBfRQOADUg6AAAACAozi4cqDSVwS8cqKykcAB+8zcbsEYHAAAAPlE4gGhE0AEAAIBPFA4gGjF1DQAAALWicACRgjU6AAAA8FtIygYkCgcQdAQdAAAA+CUkZQMShQMICcoIAAAA4JeQlA1IFA4grAg6AAAAMS4kZQMShQMIK6auAQAAIDRlAxKFAwg61ugAAADAQ8h6ASgcQAMi6AAAAMAtZL0AFA6ggVFGAAAAALeQ9QJQOIAIRdABAACIASHrBaBwABEqPtwDAAAAQOjl5VXNKqtzL0BN63DqfWAgNFijAwAAYCEh6QVgHQ4iCGt0AAAAYowrj8yZU/W9sDBIB2YdDqIQQQcAAMAiQpZHWIeDKETQAQAAsIiQ5RHXOpxx45i2hqjBGh0AAAALKSysYy8AN/1ElOCGoQAAABYV9ExC2QCiCGUEAAAAFhSSwgHKBmBBBB0AAIAoEpJMQtkALIigAwAAEEVCkkkoG4AFsUYHAAAgytS5cACwAH+zQXwDjgkAAAB+8lU4kJdHwAFqw9Q1AACACBOSwgEgxhB0AAAAIgwlaED9EXQAAAAiDCVoQP2xRgcAACDCuErQKBwA6o6gAwAAECYUDgChw9Q1AACAMKBwAAgtgg4AAEAYUDgAhBZBBwAAIAwoHABCizU6AAAAYUDhABBaBB0AAIAQonAACA+mrgEAAIQIhQNA+BB0AAAAQoTCASB8CDoAAAAhQuEAED6s0QEAAKinmtbhUDgAhI/NGGPCPYjaOJ1O2e12ORwOpaSkhHs4AAAAbq51OK6rNgUFBBoglPzNBkxdAwAAqAfW4QCRiaADAABQD6zDASITa3QAAADqgXU4QGQi6AAAANTC100/JW78CUQipq4BAAD4wE0/gehE0AEAAPCBsgEgOhF0AAAAfKBsAIhOrNEBAADwgbIBIDoRdAAAAOS7cICyASD6MHUNAADEPAoHAOsh6AAAgJhH4QBgPQQdAAAQ8ygcAKyHNToAACDmUTgAWA9BBwAAxAwKB4DYwdQ1AAAQEygcAGILQQcAAMQECgeA2ELQAQAAMYHCASC2sEYHAADEBAoHgNhC0AEAAJZC4QAAialrAADAQigcAOBC0AEAAJZB4QAAF4IOAACwDAoHALiwRgcAAFgGhQMAXAg6AAAg6lA4AKA2TF0DAABRhcIBAP4g6AAAgKhC4QAAfxB0AABAVKFwAIA/WKMDAACiCoUDAPwR8BWdNWvWKDc3V+3bt5fNZtPKlSt97r927Vr16dNHrVq1UuPGjdWlSxc98cQTdR0vAACIEYWF0oQJ3tfg5OVJs2YRcgDULOArOsePH1dWVpZuueUW/ehHP6p1/6ZNm+qee+7RZZddpqZNm2rt2rW688471bRpU/3yl7+s06ABAIC1uQoH4uKk2bOrruAQagAEIuCgM2TIEA0ZMsTv/bt3767u3bu7f87IyNDy5cv17rvvEnQAAIBX3goHCDoAAtHgZQQlJSVat26d+vfvX+M+ZWVlcjqdHl8AACB2UDgAoL4arIygY8eOOnjwoCoqKpSfn6/bb7+9xn1nzJihadOmNdTQAABAhKFwAEB92Ywxps5Pttm0YsUKDR8+vNZ9S0tLdezYMa1fv16TJ0/W3Llz9bOf/czrvmVlZSorK3P/7HQ6lZaWJofDoZSUlLoOFwAARJjCwqppajk5hBkA/nE6nbLb7bVmgwa7opOZmSlJ6tatm77++mvl5+fXGHSSkpKUlJTUUEMDAABhQOEAgFAKyw1DjTEeV2wAAEDs8VY4AADBEvAVnWPHjmnHjh3un0tLS7V582a1bNlSnTp10pQpU7R3714tXLhQkvT000+rU6dO6tKli6Sq++rMnDlT9957b5DeAgAAiEY5OVVXcigcABAKAQedjRs3Kicnx/3zxIkTJUljxozRggULtG/fPu3evdv9+JkzZzRlyhSVlpYqPj5e559/vh555BHdeeedQRg+AACIVhQOAAilepURNBR/FxwBAIDIQ+EAgGDyNxuEZY0OAACIDa7CgTlzqr4XFoZ7RABiBUEHAACEDIUDAMKFoAMAAEImJ+e7kEPhAICG1GD30QEAALGHwgEA4ULQAQAA9earcCAvj4ADoOExdQ0AANQLhQMAIhFBBwAA1AuFAwAiEUEHAADUC4UDACIRa3QAAEC9UDgAIBIRdAAAQK18lQ1IFA4AiDxMXQMAAD5RNgAgGhF0AACAT5QNAIhGBB0AAOATZQMAohFrdAAAgE+UDQCIRgQdAAAgyXfhAGUDAKINU9cAAACFAwAsh6ADAAAoHABgOQQdAABA4QAAy2GNDgAAoHAAgOUQdAAAiCEUDgCIFUxdAwAgRlA4ACCWEHQAAIgRFA4AiCUEHQAAYgSFAwBiCWt0AACIERQOAIglBB0AACyGwgEAYOoaAACWQuEAAFQh6AAAYCEUDgBAFYIOAAAWQuEAAFRhjQ4AABZC4QAAVCHoAAAQhSgcAADfmLoGAECUoXAAAGpH0AEAIMpQOAAAtSPoAAAQZSgcAIDasUYHAIAoQ+EAANSOoAMAQISicAAA6o6pawAARCAKBwCgfgg6AABEIAoHAKB+CDoAAEQgCgcAoH5YowMAQASicAAA6oegAwBAGFE4AAChwdQ1AADChMIBAAgdgg4AAGFC4QAAhA5BBwCAMKFwAABChzU6AACECYUDABA6BB0AAEKMwgEAaHhMXQMAIIQoHACA8CDoAAAQQhQOAEB4EHQAAAghCgcAIDxYowMAQAhROAAA4UHQAQCgnnyVDUgUDgBAODB1DQCAeqBsAAAiE0EHAIB6oGwAACITQQcAgHqgbAAAIhNrdAAAqAfKBgAgMhF0AADwg6/CAcoGACDyMHUNAIBaUDgAANGHoAMAQC0oHACA6EPQAQCgFhQOAED0YY0OAAD/U9M6HAoHACD62IwxJtyDqI3T6ZTdbpfD4VBKSkq4hwMAsCDXOhzXVZuCAgINAEQif7MBU9cAABDrcADAagg6AACIdTgAYDWs0QEAQKzDAQCrIegAAGIKN/4EgNjA1DUAQMzgxp8AEDsIOgCAmEHhAADEDoIOACBmUDgAALGDNToAgJhB4QAAxA6CDgDAcigcAAAwdQ0AYCkUDgAAJIIOAMBiKBwAAEgEHQCAxVA4AACQ6hB01qxZo9zcXLVv3142m00rV670uf/y5ct1/fXXq02bNkpJSVHv3r31xhtv1HW8AAD45CocGDeu6jvrcQAgNgUcdI4fP66srCzNnTvXr/3XrFmj66+/Xq+99po2bdqknJwc5ebmqqSkJODBAgDgUlgoTZjgfQ1OXp40axYhBwBimc0YY+r8ZJtNK1as0PDhwwN63qWXXqqRI0fqwQcf9Pp4WVmZysrK3D87nU6lpaXJ4XAoJSWlrsMFAFiEq3DANT2NKzcAEDucTqfsdnut2aDB1+icOXNGR48eVcuWLWvcZ8aMGbLb7e6vtLS0BhwhACDSUTgAAKhNgwedxx9/XMePH9eIESNq3GfKlClyOBzurz179jTgCAEAkY7CAQBAbRr0hqGLFy9Wfn6+CgoK1LZt2xr3S0pKUlJSUgOODAAQTVyFA8XFVSGHaWsAgO9rsKCzdOlS3XbbbXr55Zc1cODAhnpZAEAUKyysmqaWk1M9zOTlEXAAADVrkKlrixcv1tixY7Vo0SLdeOONDfGSAIAo5yocmDOn6ru3djUAAGoScNA5duyYNm/erM2bN0uSSktLtXnzZu3evVtS1fqam2++2b3/4sWLdfPNN+vxxx9Xr169tH//fu3fv18OhyM47wAAYEkUDgAA6iPgoLNx40Z1795d3bt3lyRNnDhR3bt3d1dF79u3zx16JOm5555TRUWF7r77bqWmprq/fvOb3wTpLQAArIjCAQBAfdTrPjoNxd+ubACAtRQWUjgAAPDkbzZo0NY1AAC+j8IBAEAoNPh9dAAAcKFwAAAQKgQdAEDYUDgAAAgVgg4AIGwoHAAAhAprdAAAYZOXJxUUUDgAAAg+gg4AIOQoHAAANDSmrgEAQorCAQBAOBB0AAAhReEAACAcCDoAgJCicAAAEA6s0QEAhBSFAwCAcCDoAADqzVfZgEThAACg4TF1DQBQL5QNAAAiEUEHAFAvlA0AACIRQQcAUC+UDQAAIhFrdAAA9ULZAAAgEhF0AAB+8VU4QNkAACDSMHUNAFArCgcAANGGoAMAqBWFAwCAaEPQAQDUisIBAEC0YY0OAKBWFA4AAKINQQcA4EbhAADAKpi6BgCQROEAAMBaCDoAAEkUDgAArIWgAwCQROEAAMBaWKMDAJBE4QAAwFoIOgAQYygcAADEAqauAUAMoXAAABArCDoAEEMoHAAAxAqCDgDEEAoHAACxgjU6ABBDKBwAAMQKgg4AWBCFAwCAWMfUNQCwGAoHAAAg6ACA5VA4AAAAQQcALIfCAQAAWKMDAJZD4QAAAAQdAIhaFA4AAFAzpq4BQBSicAAAAN8IOgAQhSgcAADAN4IOAEQhCgcAAPCNNToAEIUoHAAAwDeCDgBEMAoHAACoG6auAUCEonAAAIC6I+gAQISicAAAgLoj6ABAhKJwAACAumONDgBEKAoHAACoO4IOAIQZhQMAAAQfU9cAIIwoHAAAIDQIOgAQRhQOAAAQGgQdAAgjCgcAAAgN1ugAQBhROAAAQGgQdACgAVA4AABAw2LqGgCEGIUDAAA0PIIOAIQYhQMAADQ8gg4AhBiFAwAANDzW6ABAiFE4AABAwyPoAEAQ+CobkCgcAACgoTF1DQDqibIBAAAiD0EHAOqJsgEAACIPQQcA6omyAQAAIg9rdACgnigbAAAg8hB0AMBPvgoHKBsAACCyMHUNAPxA4QAAANGFoAMAfqBwAACA6ELQAQA/UDgAAEB0YY0OAPiBwgEAAKILQQcAzkLhAAAA1sDUNQD4HwoHAACwDoIOAPwPhQMAAFgHQQcA/ofCAQAArIM1OgBiTk3rcCgcAADAOmzGGBPuQdTG6XTKbrfL4XAoJSUl3MMBEMVc63BcV20KCgg0AABEE3+zQcBT19asWaPc3Fy1b99eNptNK1eu9Ln/vn37NGrUKHXu3FmNGjXS+PHjA31JAAga1uEAABAbAg46x48fV1ZWlubOnevX/mVlZWrTpo3uv/9+ZWVlBTxAAAgm1uEAABAbAl6jM2TIEA0ZMsTv/TMyMvTkk09KkubNmxfoywFAULEOBwCA2BCRZQRlZWUqKytz/+x0OsM4GgDRiBt/AgAQ2yKyXnrGjBmy2+3ur7S0tHAPCUAU4cafAAAgIoPOlClT5HA43F979uwJ95AARBEKBwAAQEQGnaSkJKWkpHh8AYC/KBwAAAARuUYHAOqDwgEAABBw0Dl27Jh27Njh/rm0tFSbN29Wy5Yt1alTJ02ZMkV79+7VwoUL3fts3rzZ/dyDBw9q8+bNSkxM1CWXXFL/dwAgZlE4AAAAamIzxphAnlBcXKycnJxq28eMGaMFCxZo7Nix2rVrl4rPmhRvs9mq7Z+enq5du3b59Zr+3v0UQOxwFQ64pqcVFBBsAACIBf5mg4Cv6GRnZ8tXNlqwYEG1bQFmKQColbfCAYIOAABwicgyAgCoDYUDAADAF8oIAEQlCgcAAIAvBB0AEY3CAQAAUBdMXQMQsVyFA3PmVH0vLAz3iAAAQLQg6ACIWN4KBwAAAPxB0AEQsSgcAAAAdcUaHQARi8IBAABQVwQdAGFH4QAAAAg2pq4BCCsKBwAAQCgQdACEFYUDAAAgFAg6AMKKwgEAABAKrNEBEFYUDgAAgFAg6AAIOV9lAxKFAwAAIPiYugYgpCgbAAAA4UDQARBSlA0AAIBwIOgACCnKBgAAQDiwRgdASFE2AAAAwoGgAyAofBUOUDYAAAAaGlPXANQbhQMAACDSEHQA1BuFAwAAINIQdADUG4UDAAAg0rBGB0C9UTgAAAAiDUEHgN8oHAAAANGCqWsA/ELhAAAAiCYEHQB+oXAAAABEE4IOAL9QOAAAAKIJa3QA+IXCAQAAEE0IOgA8UDgAAACsgKlrANwoHAAAAFZB0AHgRuEAAACwCoIOADcKBwAAgFWwRgeAG4UDAADAKgg6QAyicAAAAFgdU9eAGEPhAAAAiAUEHSDGUDgAAABiAUEHiDEUDgAAgFjAGh0gxlA4AAAAYgFBB7AoCgcAAEAsY+oaYEEUDgAAgFhH0AEsiMIBAAAQ6wg6gAVROAAAAGIda3QAC6JwAAAAxDqCDhDFKBwAAADwjqlrQJSicAAAAKBmBB0gSlE4AAAAUDOCDhClKBwAAACoGWt0gChF4QAAAEDNCDpAhKNwAAAAIHBMXQMiGIUDAAAAdUPQASIYhQMAAAB1Q9ABIhiFAwAAAHXDGh0gglE4AAAAUDcEHSACUDgAAAAQXExdA8KMwgEAAIDgI+gAYUbhAAAAQPARdIAwo3AAAAAg+FijA4QZhQMAAADBR9ABGoCvsgGJwgEAAIBgY+oaEGKUDQAAADQ8gg4QYpQNAAAANDyCDhBilA0AAAA0PNboACFG2QAAAEDDI+gAQeKrcICyAQAAgIbF1DUgCCgcAAAAiCwEHSAIKBwAAACILAQdIAgoHAAAAIgsrNEBgoDCAQAAgMhC0AECQOEAAABAdGDqGuAnCgcAAACiB0EH8BOFAwAAANGDoAP4icIBAACA6MEaHcBPFA4AAABEj4Cv6KxZs0a5ublq3769bDabVq5cWetzVq9erZ49eyo5OVnnnXeenn322bqMFWgQhYXShAne1+Dk5UmzZhFyAAAAIl3AQef48ePKysrS3Llz/dq/tLRUQ4cOVb9+/VRSUqLf/va3GjdunJYtWxbwYIFQo3AAAADAGgKeujZkyBANGTLE7/2fffZZderUSbNnz5YkXXzxxdq4caNmzpypH/3oR16fU1ZWprKyMvfPTqcz0GECdeKtcICrNwAAANEn5GUE77//vgYNGuSxbfDgwdq4caPKy8u9PmfGjBmy2+3ur7S0tFAPE5BE4QAAAIBVhDzo7N+/X+3atfPY1q5dO1VUVOjQoUNenzNlyhQ5HA731549e0I9TEDSd4UD48ZVfedqDgAAQHRqkNY1m83m8bMxxut2l6SkJCUlJYV8XIhdhYVV09RycqqHmbw8Ag4AAEC0C/kVnXPPPVf79+/32HbgwAHFx8erVatWoX55oBoKBwAAAKwv5EGnd+/eeuuttzy2vfnmm7riiiuUkJAQ6pcHqvFWOAAAAABrCTjoHDt2TJs3b9bmzZslVdVHb968Wbt375ZUtb7m5ptvdu9/11136YsvvtDEiRP16aefat68eXrxxRd13333BecdAAGicAAAAMD6Al6js3HjRuXk5Lh/njhxoiRpzJgxWrBggfbt2+cOPZKUmZmp1157TRMmTNDTTz+t9u3b66mnnqqxWhoINVfhQHFxVchhPQ4AAID12IyrGSCCOZ1O2e12ORwOpaSkhHs4iBK+CgcAAAAQnfzNBiFfowOEA4UDAAAAsY2gA0uicAAAACC2EXRgSRQOAAAAxLYGuWEoECo1rcOhcAAAACC2UUaAqOVah+O6alNQQKABAACwOsoIYHmswwEAAEBNCDqIWqzDAQAAQE1Yo4OoxTocAAAA1ISgg4jn68afeXkEHAAAAFTH1DVENG78CQAAgLog6CCiUTgAAACAuiDoIKJROAAAAIC6YI0OIhqFAwAAAKgLgg7CzlfZgEThAAAAAALH1DWEFWUDAAAACAWCDsKKsgEAAACEAkEHYUXZAAAAAEKBNToIK8oGAAAAEAoEHTQIX4UDlA0AAAAg2Ji6hpCjcAAAAAANjaCDkKNwAAAAAA2NoIOQo3AAAAAADY01Ogg5CgcAAADQ0Ag6CBoKBwAAABApmLqGoKBwAAAAAJGEoIOgoHAAAAAAkYSgg6CgcAAAAACRhDU6CAoKBwAAABBJCDoICIUDAAAAiAZMXYPfKBwAAABAtCDowG8UDgAAACBaEHTgNwoHAAAAEC1YowO/UTgAAACAaEHQQTUUDgAAACDaMXUNHigcAAAAgBUQdOCBwgEAAABYAUEHHigcAAAAgBWwRgceKBwAAACAFRB0YhSFAwAAALAypq7FIAoHAAAAYHUEnRhE4QAAAACsjqATgygcAAAAgNWxRicGUTgAAAAAqyPoWBiFAwAAAIhVTF2zKAoHAAAAEMsIOhZF4QAAAABiGUHHoigcAAAAQCxjjY5FUTgAAACAWEbQiXIUDgAAAADVMXUtilE4AAAAAHhH0IliFA4AAAAA3hF0ohiFAwAAAIB3rNGJYhQOAAAAAN4RdKIAhQMAAABAYJi6FuEoHAAAAAACR9CJcBQOAAAAAIEj6EQ4CgcAAACAwLFGJ8JROAAAAAAEjqATAXyVDUgUDgAAAACBYupamFE2AAAAAAQfQSfMKBsAAAAAgo+gE2aUDQAAAADBxxqdMKNsAAAAAAg+gk4D8VU4QNkAAAAAEFxMXWsAFA4AAAAADYug0wAoHAAAAAAaFkGnAVA4AAAAADQs1ug0AAoHAAAAgIZF0AkiCgcAAACAyMDUtSChcAAAAACIHASdIKFwAAAAAIgcdQo6zzzzjDIzM5WcnKyePXvq3Xff9bn/008/rYsvvliNGzdW586dtXDhwjoNNpJROAAAAABEjoDX6CxdulTjx4/XM888oz59+ui5557TkCFDtHXrVnXq1Kna/n/60580ZcoUvfDCC7ryyiu1YcMG3XHHHTrnnHOUm5sblDcRCSgcAAAAACKHzRhjAnnC1VdfrR49euhPf/qTe9vFF1+s4cOHa8aMGdX2v+aaa9SnTx899thj7m3jx4/Xxo0btXbtWr9e0+l0ym63y+FwKCUlJZDhBp2vwgEAAAAAoeVvNgho6trp06e1adMmDRo0yGP7oEGDtG7dOq/PKSsrU3Jysse2xo0ba8OGDSovL6/xOU6n0+MrElA4AAAAAESHgILOoUOHVFlZqXbt2nlsb9eunfbv3+/1OYMHD9af//xnbdq0ScYYbdy4UfPmzVN5ebkOHTrk9TkzZsyQ3W53f6WlpQUyzJChcAAAAACIDnUqI7DZbB4/G2OqbXN54IEHNGTIEPXq1UsJCQkaNmyYxo4dK0mKi4vz+pwpU6bI4XC4v/bs2VOXYQYdhQMAAABAdAgo6LRu3VpxcXHVrt4cOHCg2lUel8aNG2vevHk6ceKEdu3apd27dysjI0PNmzdX69atvT4nKSlJKSkpHl+RwFU4MG5c1XfW6AAAAACRKaCgk5iYqJ49e+qtt97y2P7WW2/pmmuu8fnchIQEdezYUXFxcVqyZIl+8IMfqFGj6LuNT16eNGsWIQcAAACIZAHXS0+cOFGjR4/WFVdcod69e+v555/X7t27ddddd0mqmna2d+9e971y/vvf/2rDhg26+uqrdfjwYc2aNUtbtmzRX/7yl+C+EwAAAAD4n4CDzsiRI/XNN9/ooYce0r59+9S1a1e99tprSk9PlyTt27dPu3fvdu9fWVmpxx9/XNu3b1dCQoJycnK0bt06ZWRkBO1NAAAAAMDZAr6PTjhE0n10AAAAAIRPSO6jAwAAAADRgKADAAAAwHIIOgAAAAAsh6ADAAAAwHIIOgAAAAAsh6ADAAAAwHIIOgAAAAAsh6ADAAAAwHIIOgAAAAAsh6ADAAAAwHIIOgAAAAAsh6ADAAAAwHIIOgAAAAAsh6ADAAAAwHIIOgAAAAAsh6ADAAAAwHLiwz0AfxhjJElOpzPMIwEAAAAQTq5M4MoINYmKoHP06FFJUlpaWphHAgAAACASHD16VHa7vcbHbaa2KBQBzpw5o6+++krNmzeXzWYL61icTqfS0tK0Z88epaSkhHUsVsU5Dj3OcehxjkOPcxx6nOPQ4xyHHuc49Br6HBtjdPToUbVv316NGtW8Eicqrug0atRIHTt2DPcwPKSkpPDHEmKc49DjHIce5zj0OMehxzkOPc5x6HGOQ68hz7GvKzkulBEAAAAAsByCDgAAAADLIegEKCkpSVOnTlVSUlK4h2JZnOPQ4xyHHuc49DjHocc5Dj3OcehxjkMvUs9xVJQRAAAAAEAguKIDAAAAwHIIOgAAAAAsh6ADAAAAwHIIOgAAAAAsh6ADAAAAwHJiPug888wzyszMVHJysnr27Kl3333X5/6rV69Wz549lZycrPPOO0/PPvtstX2WLVumSy65RElJSbrkkku0YsWKUA0/KgRyjpcvX67rr79ebdq0UUpKinr37q033njDY58FCxbIZrNV+zp16lSo30rECuQcFxcXez1/27Zt89iP32NPgZzjsWPHej3Hl156qXsffo89rVmzRrm5uWrfvr1sNptWrlxZ63P4PA5MoOeYz+PABXqO+TwOXKDnmM/jwMyYMUNXXnmlmjdvrrZt22r48OHavn17rc+L1M/jmA46S5cu1fjx43X//ferpKRE/fr105AhQ7R7926v+5eWlmro0KHq16+fSkpK9Nvf/lbjxo3TsmXL3Pu8//77GjlypEaPHq2PPvpIo0eP1ogRI/TBBx801NuKKIGe4zVr1uj666/Xa6+9pk2bNiknJ0e5ubkqKSnx2C8lJUX79u3z+EpOTm6ItxRxAj3HLtu3b/c4fxdeeKH7MX6PPQV6jp988kmPc7tnzx61bNlSP/nJTzz24/f4O8ePH1dWVpbmzp3r1/58Hgcu0HPM53HgAj3HLnwe+y/Qc8zncWBWr16tu+++W+vXr9dbb72liooKDRo0SMePH6/xORH9eWxi2FVXXWXuuusuj21dunQxkydP9rr/pEmTTJcuXTy23XnnnaZXr17un0eMGGFuuOEGj30GDx5sfvrTnwZp1NEl0HPszSWXXGKmTZvm/nn+/PnGbrcHa4hRL9BzXFRUZCSZw4cP13hMfo891ff3eMWKFcZms5ldu3a5t/F7XDNJZsWKFT734fO4fvw5x97weew/f84xn8f1U5ffYz6PA3PgwAEjyaxevbrGfSL58zhmr+icPn1amzZt0qBBgzy2Dxo0SOvWrfP6nPfff7/a/oMHD9bGjRtVXl7uc5+ajmlldTnH33fmzBkdPXpULVu29Nh+7Ngxpaenq2PHjvrBD35Q7b8wxor6nOPu3bsrNTVVAwYMUFFRkcdj/B5/Jxi/xy+++KIGDhyo9PR0j+38Htcdn8cNj8/j0OHzuOHweRwYh8MhSdX+7s8WyZ/HMRt0Dh06pMrKSrVr185je7t27bR//36vz9m/f7/X/SsqKnTo0CGf+9R0TCuryzn+vscff1zHjx/XiBEj3Nu6dOmiBQsWqLCwUIsXL1ZycrL69Omjzz77LKjjjwZ1Ocepqal6/vnntWzZMi1fvlydO3fWgAEDtGbNGvc+/B5/p76/x/v27dPrr7+u22+/3WM7v8f1w+dxw+PzOPj4PG5YfB4HxhijiRMnqm/fvuratWuN+0Xy53F8SI8eBWw2m8fPxphq22rb//vbAz2m1dX1fCxevFj5+fkqKChQ27Zt3dt79eqlXr16uX/u06ePevTooTlz5uipp54K3sCjSCDnuHPnzurcubP75969e2vPnj2aOXOmrr322jodMxbU9XwsWLBALVq00PDhwz2283tcf3weNxw+j0ODz+OGxedxYO655x795z//0dq1a2vdN1I/j2P2ik7r1q0VFxdXLUkeOHCgWuJ0Offcc73uHx8fr1atWvncp6ZjWlldzrHL0qVLddttt+mll17SwIEDfe7bqFEjXXnllTH5X17qc47P1qtXL4/zx+/xd+pzjo0xmjdvnkaPHq3ExESf+8by73Fd8HnccPg8blh8HocGn8eBuffee1VYWKiioiJ17NjR576R/Hkcs0EnMTFRPXv21FtvveWx/a233tI111zj9Tm9e/eutv+bb76pK664QgkJCT73qemYVlaXcyxV/ZfDsWPHatGiRbrxxhtrfR1jjDZv3qzU1NR6jzna1PUcf19JSYnH+eP3+Dv1OcerV6/Wjh07dNttt9X6OrH8e1wXfB43DD6PGx6fx6HB57F/jDG65557tHz5cr3zzjvKzMys9TkR/Xkc0qqDCLdkyRKTkJBgXnzxRbN161Yzfvx407RpU3cTx+TJk83o0aPd+3/++eemSZMmZsKECWbr1q3mxRdfNAkJCeaVV15x7/Pee++ZuLg488gjj5hPP/3UPPLIIyY+Pt6sX7++wd9fJAj0HC9atMjEx8ebp59+2uzbt8/9deTIEfc++fn5ZtWqVWbnzp2mpKTE3HLLLSY+Pt588MEHDf7+IkGg5/iJJ54wK1asMP/973/Nli1bzOTJk40ks2zZMvc+/B57CvQcu/ziF78wV199tddj8nvs6ejRo6akpMSUlJQYSWbWrFmmpKTEfPHFF8YYPo+DIdBzzOdx4AI9x3weBy7Qc+zC57F/fvWrXxm73W6Ki4s9/u5PnDjh3ieaPo9jOugYY8zTTz9t0tPTTWJiounRo4dHfd6YMWNM//79PfYvLi423bt3N4mJiSYjI8P86U9/qnbMl19+2XTu3NkkJCSYLl26eHxgxaJAznH//v2NpGpfY8aMce8zfvx406lTJ5OYmGjatGljBg0aZNatW9eA7yjyBHKOH330UXP++eeb5ORkc84555i+ffuaV199tdox+T32FOhnxZEjR0zjxo3N888/7/V4/B57ctXs1vS3z+dx/QV6jvk8Dlyg55jP48DV5bOCz2P/eTu3ksz8+fPd+0TT57HNmP+tFgIAAAAAi4jZNToAAAAArIugAwAAAMByCDoAAAAALIegAwAAAMByCDoAAAAALIegAwAAAMByCDoAAAAALIegAwAAAMByCDoAAAAALIegAwAAAMByCDoAAAAALOf/Az3v3kPYhe7dAAAAAElFTkSuQmCC",
      "text/plain": [
       "<Figure size 1000x700 with 1 Axes>"
      ]
     },
     "metadata": {},
     "output_type": "display_data"
    }
   ],
   "source": [
    "plot_predictions(predictions=y_preds)"
   ]
  },
  {
   "cell_type": "code",
   "execution_count": null,
   "metadata": {},
   "outputs": [],
   "source": [
    "#The model with epochs set at 400, shows that at 340 epochs there are no significant gains, \n"
   ]
  },
  {
   "cell_type": "code",
   "execution_count": 107,
   "metadata": {},
   "outputs": [
    {
     "name": "stdout",
     "output_type": "stream",
     "text": [
      "Saving model to: models/01_pytorch_workflow_model_0.pth\n"
     ]
    }
   ],
   "source": [
    "from pathlib import Path\n",
    "\n",
    "# 1. Create models directory\n",
    "MODEL_PATH = Path(\"models\")\n",
    "MODEL_PATH.mkdir(parents=True, exist_ok=True)\n",
    "\n",
    "# 2. Create model save path\n",
    "MODEL_NAME = \"01_pytorch_workflow_model_0.pth\"\n",
    "MODEL_SAVE_PATH = MODEL_PATH / MODEL_NAME\n",
    "\n",
    "# 3. Save the model state dict\n",
    "print(f\"Saving model to: {MODEL_SAVE_PATH}\")\n",
    "torch.save(obj=Model_A.state_dict(), # only saving the state_dict() only saves the models learned parameters\n",
    "           f=MODEL_SAVE_PATH)"
   ]
  },
  {
   "cell_type": "code",
   "execution_count": 108,
   "metadata": {},
   "outputs": [
    {
     "name": "stdout",
     "output_type": "stream",
     "text": [
      "-rw-r--r--  1 samsonbobo  staff  1680 Feb 12 19:22 models/01_pytorch_workflow_model_0.pth\n"
     ]
    }
   ],
   "source": [
    "# Check the saved file path\n",
    "!ls -l models/01_pytorch_workflow_model_0.pth"
   ]
  },
  {
   "cell_type": "code",
   "execution_count": 109,
   "metadata": {},
   "outputs": [
    {
     "data": {
      "text/plain": [
       "<All keys matched successfully>"
      ]
     },
     "execution_count": 109,
     "metadata": {},
     "output_type": "execute_result"
    }
   ],
   "source": [
    "# Instantiate a new instance of our model (this will be instantiated with random weights)\n",
    "loaded_model_0 = LinearRegressionModel()\n",
    "\n",
    "# Load the state_dict of our saved model (this will update the new instance of our model with trained weights)\n",
    "loaded_model_0.load_state_dict(torch.load(f=MODEL_SAVE_PATH))"
   ]
  },
  {
   "cell_type": "code",
   "execution_count": 110,
   "metadata": {},
   "outputs": [],
   "source": [
    "# 1. Put the loaded model into evaluation mode\n",
    "loaded_model_0.eval()\n",
    "\n",
    "# 2. Use the inference mode context manager to make predictions\n",
    "with torch.inference_mode():\n",
    "    loaded_model_preds = loaded_model_0(X_test) # perform a forward pass on the test data with the loaded model"
   ]
  },
  {
   "cell_type": "code",
   "execution_count": 111,
   "metadata": {},
   "outputs": [
    {
     "data": {
      "text/plain": [
       "tensor([[True],\n",
       "        [True],\n",
       "        [True],\n",
       "        [True],\n",
       "        [True],\n",
       "        [True],\n",
       "        [True],\n",
       "        [True],\n",
       "        [True],\n",
       "        [True],\n",
       "        [True],\n",
       "        [True],\n",
       "        [True],\n",
       "        [True],\n",
       "        [True],\n",
       "        [True],\n",
       "        [True],\n",
       "        [True],\n",
       "        [True],\n",
       "        [True]])"
      ]
     },
     "execution_count": 111,
     "metadata": {},
     "output_type": "execute_result"
    }
   ],
   "source": [
    "# Compare previous model predictions with loaded model predictions (these should be the same)\n",
    "y_preds == loaded_model_preds"
   ]
  }
 ],
 "metadata": {
  "kernelspec": {
   "display_name": "base",
   "language": "python",
   "name": "python3"
  },
  "language_info": {
   "codemirror_mode": {
    "name": "ipython",
    "version": 3
   },
   "file_extension": ".py",
   "mimetype": "text/x-python",
   "name": "python",
   "nbconvert_exporter": "python",
   "pygments_lexer": "ipython3",
   "version": "3.12.7"
  }
 },
 "nbformat": 4,
 "nbformat_minor": 2
}
=======
  "nbformat": 4,
  "nbformat_minor": 0,
  "metadata": {
    "colab": {
      "provenance": [],
      "authorship_tag": "ABX9TyMDHthh61zXDJ74G3VDl5tg",
      "include_colab_link": true
    },
    "kernelspec": {
      "name": "python3",
      "display_name": "Python 3"
    },
    "language_info": {
      "name": "python"
    }
  },
  "cells": [
    {
      "cell_type": "markdown",
      "metadata": {
        "id": "view-in-github",
        "colab_type": "text"
      },
      "source": [
        "<a href=\"https://colab.research.google.com/github/BoboSamson/BoboSamson/blob/Samson/Lab1b_Samson.ipynb\" target=\"_parent\"><img src=\"https://colab.research.google.com/assets/colab-badge.svg\" alt=\"Open In Colab\"/></a>"
      ]
    },
    {
      "cell_type": "code",
      "execution_count": null,
      "metadata": {
        "id": "8XmhsG1mbfYC"
      },
      "outputs": [],
      "source": []
    },
    {
      "cell_type": "code",
      "execution_count": 1,
      "metadata": {
        "id": "jmrQDyrAZMHz"
      },
      "outputs": [],
      "source": [
        "import torch\n",
        "from torch import nn\n",
        "import matplotlib.pyplot as plt"
      ]
    },
    {
      "cell_type": "code",
      "source": [
        "# Set device type\n",
        "device = \"cuda\" if torch.cuda.is_available() else \"cpu\"\n",
        "device\n",
        "seed =1234"
      ],
      "metadata": {
        "id": "S21eFJAFZ2FH"
      },
      "execution_count": 2,
      "outputs": []
    },
    {
      "cell_type": "code",
      "source": [
        "#Create a straight line data set with 100 points to given parameters\n",
        "\n",
        "# Create *known* parameters\n",
        "weight = 0.3\n",
        "bias = 0.9\n",
        "\n",
        "# Create data\n",
        "start = 0\n",
        "end = 2\n",
        "step = 0.02\n",
        "X = torch.arange(start, end, step).unsqueeze(dim=1)\n",
        "y = weight * X + bias\n",
        "\n",
        "X[:50], y[:50]"
      ],
      "metadata": {
        "id": "9-02ZhiuZ_Jo",
        "colab": {
          "base_uri": "https://localhost:8080/"
        },
        "outputId": "2d194b76-f5ef-4df6-ece8-4f31fa19bafd"
      },
      "execution_count": 3,
      "outputs": [
        {
          "output_type": "execute_result",
          "data": {
            "text/plain": [
              "(tensor([[0.0000],\n",
              "         [0.0200],\n",
              "         [0.0400],\n",
              "         [0.0600],\n",
              "         [0.0800],\n",
              "         [0.1000],\n",
              "         [0.1200],\n",
              "         [0.1400],\n",
              "         [0.1600],\n",
              "         [0.1800],\n",
              "         [0.2000],\n",
              "         [0.2200],\n",
              "         [0.2400],\n",
              "         [0.2600],\n",
              "         [0.2800],\n",
              "         [0.3000],\n",
              "         [0.3200],\n",
              "         [0.3400],\n",
              "         [0.3600],\n",
              "         [0.3800],\n",
              "         [0.4000],\n",
              "         [0.4200],\n",
              "         [0.4400],\n",
              "         [0.4600],\n",
              "         [0.4800],\n",
              "         [0.5000],\n",
              "         [0.5200],\n",
              "         [0.5400],\n",
              "         [0.5600],\n",
              "         [0.5800],\n",
              "         [0.6000],\n",
              "         [0.6200],\n",
              "         [0.6400],\n",
              "         [0.6600],\n",
              "         [0.6800],\n",
              "         [0.7000],\n",
              "         [0.7200],\n",
              "         [0.7400],\n",
              "         [0.7600],\n",
              "         [0.7800],\n",
              "         [0.8000],\n",
              "         [0.8200],\n",
              "         [0.8400],\n",
              "         [0.8600],\n",
              "         [0.8800],\n",
              "         [0.9000],\n",
              "         [0.9200],\n",
              "         [0.9400],\n",
              "         [0.9600],\n",
              "         [0.9800]]),\n",
              " tensor([[0.9000],\n",
              "         [0.9060],\n",
              "         [0.9120],\n",
              "         [0.9180],\n",
              "         [0.9240],\n",
              "         [0.9300],\n",
              "         [0.9360],\n",
              "         [0.9420],\n",
              "         [0.9480],\n",
              "         [0.9540],\n",
              "         [0.9600],\n",
              "         [0.9660],\n",
              "         [0.9720],\n",
              "         [0.9780],\n",
              "         [0.9840],\n",
              "         [0.9900],\n",
              "         [0.9960],\n",
              "         [1.0020],\n",
              "         [1.0080],\n",
              "         [1.0140],\n",
              "         [1.0200],\n",
              "         [1.0260],\n",
              "         [1.0320],\n",
              "         [1.0380],\n",
              "         [1.0440],\n",
              "         [1.0500],\n",
              "         [1.0560],\n",
              "         [1.0620],\n",
              "         [1.0680],\n",
              "         [1.0740],\n",
              "         [1.0800],\n",
              "         [1.0860],\n",
              "         [1.0920],\n",
              "         [1.0980],\n",
              "         [1.1040],\n",
              "         [1.1100],\n",
              "         [1.1160],\n",
              "         [1.1220],\n",
              "         [1.1280],\n",
              "         [1.1340],\n",
              "         [1.1400],\n",
              "         [1.1460],\n",
              "         [1.1520],\n",
              "         [1.1580],\n",
              "         [1.1640],\n",
              "         [1.1700],\n",
              "         [1.1760],\n",
              "         [1.1820],\n",
              "         [1.1880],\n",
              "         [1.1940]]))"
            ]
          },
          "metadata": {},
          "execution_count": 3
        }
      ]
    },
    {
      "cell_type": "code",
      "source": [
        "#Split the dataset into train and test sets(80% : 20%)\n",
        "torch.seed=44\n",
        "train = int(0.8 * len(X))\n",
        "X_train, y_train = X[:train], y[:train]\n",
        "X_test, y_test = X[train:], y[train:]\n",
        "\n",
        "len(X_train), len(y_train), len(X_test), len(y_test)"
      ],
      "metadata": {
        "id": "hz3Tc51yaEhJ",
        "colab": {
          "base_uri": "https://localhost:8080/"
        },
        "outputId": "23127ba2-76bb-41b1-9146-d8834b9ef3ca"
      },
      "execution_count": 4,
      "outputs": [
        {
          "output_type": "execute_result",
          "data": {
            "text/plain": [
              "(80, 80, 20, 20)"
            ]
          },
          "metadata": {},
          "execution_count": 4
        }
      ]
    },
    {
      "cell_type": "code",
      "source": [
        "print(f\" First 5 rows for X_train is \\n\")\n",
        "\n",
        "print(f\" {X_train[:5]}\\n\")"
      ],
      "metadata": {
        "id": "KlI6YK9ZaF4n",
        "colab": {
          "base_uri": "https://localhost:8080/"
        },
        "outputId": "781b81bf-24ba-4b41-f916-98dbcb78ef8f"
      },
      "execution_count": 5,
      "outputs": [
        {
          "output_type": "stream",
          "name": "stdout",
          "text": [
            " First 5 rows for X_train is \n",
            "\n",
            " tensor([[0.0000],\n",
            "        [0.0200],\n",
            "        [0.0400],\n",
            "        [0.0600],\n",
            "        [0.0800]])\n",
            "\n"
          ]
        }
      ]
    },
    {
      "cell_type": "code",
      "source": [
        "print(f\" First 5 rows for y_train is \\n\")\n",
        "\n",
        "print(f\" {y_train[:5]}\\n\")"
      ],
      "metadata": {
        "id": "bg7WBO5HaNAK",
        "colab": {
          "base_uri": "https://localhost:8080/"
        },
        "outputId": "8d9e4b23-ec32-4781-e659-c23be23f6fc7"
      },
      "execution_count": 6,
      "outputs": [
        {
          "output_type": "stream",
          "name": "stdout",
          "text": [
            " First 5 rows for y_train is \n",
            "\n",
            " tensor([[0.9000],\n",
            "        [0.9060],\n",
            "        [0.9120],\n",
            "        [0.9180],\n",
            "        [0.9240]])\n",
            "\n"
          ]
        }
      ]
    },
    {
      "cell_type": "code",
      "source": [
        "def plot_predictions(train_data=X_train,\n",
        "                     train_labels=y_train,\n",
        "                     test_data=X_test,\n",
        "                     test_labels=y_test,\n",
        "                     predictions=None):\n",
        "  \"\"\"\n",
        "  Plots training data, test data and compares predictions.\n",
        "  \"\"\"\n",
        "  plt.figure(figsize=(10, 7))\n",
        "\n",
        "  # Plot training data in blue\n",
        "  plt.scatter(train_data, train_labels, c=\"b\", s=4, label=\"Training data\")\n",
        "\n",
        "  # Plot test data in green\n",
        "  plt.scatter(test_data, test_labels, c=\"g\", s=4, label=\"Testing data\")\n",
        "\n",
        "  if predictions is not None:\n",
        "    # Plot the predictions in red (predictions were made on the test data)\n",
        "    plt.scatter(test_data, predictions, c=\"r\", s=4, label=\"Predictions\")\n",
        "\n",
        "  # Show the legend\n",
        "  plt.legend(prop={\"size\": 14})\n",
        "\n"
      ],
      "metadata": {
        "id": "N0KjVfCqaRZd"
      },
      "execution_count": 7,
      "outputs": []
    },
    {
      "cell_type": "code",
      "source": [
        "plot_predictions()"
      ],
      "metadata": {
        "id": "P85ROkH7aVgw",
        "colab": {
          "base_uri": "https://localhost:8080/",
          "height": 599
        },
        "outputId": "8df12df4-7679-46c6-870b-4e07a08eaf3b"
      },
      "execution_count": 8,
      "outputs": [
        {
          "output_type": "display_data",
          "data": {
            "text/plain": [
              "<Figure size 1000x700 with 1 Axes>"
            ],
            "image/png": "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\n"
          },
          "metadata": {}
        }
      ]
    },
    {
      "cell_type": "code",
      "source": [
        "# Create a linear regression model with nn.Module subclass\n",
        "\n",
        "class LinearRegressionModel(nn.Module):\n",
        "    def __init__(self):\n",
        "        super().__init__()\n",
        "        self.weights = nn.Parameter(torch.randn(1,\n",
        "                                                dtype=torch.float),\n",
        "                                   requires_grad=True)\n",
        "\n",
        "        self.bias = nn.Parameter(torch.randn(1,\n",
        "                                            dtype=torch.float),\n",
        "                                requires_grad=True)\n",
        "\n",
        "\n",
        "    def forward(self, x: torch.Tensor) -> torch.Tensor:\n",
        "        return self.weights * x + self.bias\n"
      ],
      "metadata": {
        "id": "oH_AiCtgacNp"
      },
      "execution_count": 9,
      "outputs": []
    },
    {
      "cell_type": "code",
      "source": [
        "torch.seed = 44\n",
        "\n",
        "Model_A = LinearRegressionModel()\n",
        "\n",
        "Model_A.state_dict()"
      ],
      "metadata": {
        "id": "gbvRmcCOahCk",
        "colab": {
          "base_uri": "https://localhost:8080/"
        },
        "outputId": "3b8593fb-2ac9-4e73-d796-815c4b9ac138"
      },
      "execution_count": 10,
      "outputs": [
        {
          "output_type": "execute_result",
          "data": {
            "text/plain": [
              "OrderedDict([('weights', tensor([-0.2499])), ('bias', tensor([0.5288]))])"
            ]
          },
          "metadata": {},
          "execution_count": 10
        }
      ]
    },
    {
      "cell_type": "code",
      "source": [
        "# Make predictions with model\n",
        "with torch.inference_mode():\n",
        "    y_preds = Model_A(X_test)\n",
        "\n"
      ],
      "metadata": {
        "id": "yIH2f4t_aiN2"
      },
      "execution_count": 11,
      "outputs": []
    },
    {
      "cell_type": "code",
      "source": [
        "plot_predictions(predictions=y_preds)"
      ],
      "metadata": {
        "id": "GSWK9WSfanCc",
        "colab": {
          "base_uri": "https://localhost:8080/",
          "height": 599
        },
        "outputId": "6be42445-8a5d-4977-d64c-1aa48112b3ec"
      },
      "execution_count": 12,
      "outputs": [
        {
          "output_type": "display_data",
          "data": {
            "text/plain": [
              "<Figure size 1000x700 with 1 Axes>"
            ],
            "image/png": "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\n"
          },
          "metadata": {}
        }
      ]
    },
    {
      "cell_type": "code",
      "source": [
        "y_test - y_preds"
      ],
      "metadata": {
        "id": "p7gsMNDYaxCp",
        "colab": {
          "base_uri": "https://localhost:8080/"
        },
        "outputId": "71e55c0f-ad00-4128-8d51-8f3db512aa84"
      },
      "execution_count": 13,
      "outputs": [
        {
          "output_type": "execute_result",
          "data": {
            "text/plain": [
              "tensor([[1.2511],\n",
              "        [1.2621],\n",
              "        [1.2731],\n",
              "        [1.2841],\n",
              "        [1.2951],\n",
              "        [1.3061],\n",
              "        [1.3171],\n",
              "        [1.3281],\n",
              "        [1.3391],\n",
              "        [1.3501],\n",
              "        [1.3611],\n",
              "        [1.3721],\n",
              "        [1.3831],\n",
              "        [1.3941],\n",
              "        [1.4051],\n",
              "        [1.4161],\n",
              "        [1.4271],\n",
              "        [1.4381],\n",
              "        [1.4491],\n",
              "        [1.4601]])"
            ]
          },
          "metadata": {},
          "execution_count": 13
        }
      ]
    },
    {
      "cell_type": "code",
      "source": [
        "#Create loss function and optimise model patameters using nn.LlLoss\n",
        "# Create the loss function\n",
        "loss_fn = nn.L1Loss() # MAE loss is same as L1Loss\n",
        "\n",
        "# Create the optimizer\n",
        "optimizer = torch.optim.SGD(params=Model_A.parameters(), # parameters of target model to optimize\n",
        "                            lr=0.01, weight_decay=0.01) # learning rate (how much the optimizer should change parameters at each step, higher=more (less stable), lower=less (might take a long time))"
      ],
      "metadata": {
        "id": "EYiOxBt7bnd-"
      },
      "execution_count": 14,
      "outputs": []
    },
    {
      "cell_type": "code",
      "source": [
        "torch.manual_seed(44)\n",
        "\n",
        "# Set the number of epochs (how many times the model will pass over the training data)\n",
        "epochs = 400\n",
        "\n",
        "# Create empty loss lists to track values\n",
        "train_loss_values = []\n",
        "test_loss_values = []\n",
        "epoch_count = []\n",
        "\n",
        "for epoch in range(epochs):\n",
        "    ### Training\n",
        "\n",
        "    # Put model in training mode (this is the default state of a model)\n",
        "    Model_A.train()\n",
        "\n",
        "    # 1. Forward pass on train data using the forward() method inside\n",
        "    y_pred = Model_A(X_train)\n",
        "    # print(y_pred)\n",
        "\n",
        "    # 2. Calculate the loss (how different are our models predictions to the ground truth)\n",
        "    loss = loss_fn(y_pred, y_train)\n",
        "\n",
        "    # 3. Zero grad of the optimizer\n",
        "    optimizer.zero_grad()\n",
        "\n",
        "    # 4. Loss backwards\n",
        "    loss.backward()\n",
        "\n",
        "    # 5. Progress the optimizer\n",
        "    optimizer.step()\n",
        "\n",
        "    ### Testing\n",
        "\n",
        "    # Put the model in evaluation mode\n",
        "    Model_A.eval()\n",
        "\n",
        "    with torch.inference_mode():\n",
        "      # 1. Forward pass on test data\n",
        "      test_pred = Model_A(X_test)\n",
        "\n",
        "      # 2. Caculate loss on test data\n",
        "      test_loss = loss_fn(test_pred, y_test.type(torch.float)) # predictions come in torch.float datatype, so comparisons need to be done with tensors of the same type\n",
        "\n",
        "      # Print out what's happening\n",
        "      if epoch % 20 == 0:\n",
        "            epoch_count.append(epoch)\n",
        "            train_loss_values.append(loss.detach().numpy())\n",
        "            test_loss_values.append(test_loss.detach().numpy())\n",
        "            print(f\"Epoch: {epoch} | MAE Train Loss: {loss} | MAE Test Loss: {test_loss} \")"
      ],
      "metadata": {
        "colab": {
          "base_uri": "https://localhost:8080/"
        },
        "id": "zIOwGMBeboeS",
        "outputId": "f463e1dc-a14b-453c-c6e6-863fdc3a393a"
      },
      "execution_count": 15,
      "outputs": [
        {
          "output_type": "stream",
          "name": "stdout",
          "text": [
            "Epoch: 0 | MAE Train Loss: 0.8056885600090027 | MAE Test Loss: 1.3314956426620483 \n",
            "Epoch: 20 | MAE Train Loss: 0.4818388521671295 | MAE Test Loss: 0.8493447303771973 \n",
            "Epoch: 40 | MAE Train Loss: 0.16206811368465424 | MAE Test Loss: 0.3713541030883789 \n",
            "Epoch: 60 | MAE Train Loss: 0.04544864222407341 | MAE Test Loss: 0.10084053128957748 \n",
            "Epoch: 80 | MAE Train Loss: 0.026210147887468338 | MAE Test Loss: 0.05138416960835457 \n",
            "Epoch: 100 | MAE Train Loss: 0.0077399276196956635 | MAE Test Loss: 0.013963055796921253 \n",
            "Epoch: 120 | MAE Train Loss: 0.013067452237010002 | MAE Test Loss: 0.0032517253421247005 \n",
            "Epoch: 140 | MAE Train Loss: 0.010785679332911968 | MAE Test Loss: 0.006140679121017456 \n",
            "Epoch: 160 | MAE Train Loss: 0.008508522063493729 | MAE Test Loss: 0.009023839607834816 \n",
            "Epoch: 180 | MAE Train Loss: 0.006235945038497448 | MAE Test Loss: 0.011901115998625755 \n",
            "Epoch: 200 | MAE Train Loss: 0.004223173949867487 | MAE Test Loss: 0.014013838954269886 \n",
            "Epoch: 220 | MAE Train Loss: 0.0039637028239667416 | MAE Test Loss: 0.015364432707428932 \n",
            "Epoch: 240 | MAE Train Loss: 0.0034605287946760654 | MAE Test Loss: 0.016453957185149193 \n",
            "Epoch: 260 | MAE Train Loss: 0.003215970005840063 | MAE Test Loss: 0.017273735255002975 \n",
            "Epoch: 280 | MAE Train Loss: 0.002980171935632825 | MAE Test Loss: 0.01807359978556633 \n",
            "Epoch: 300 | MAE Train Loss: 0.0019876942969858646 | MAE Test Loss: 0.018871551379561424 \n",
            "Epoch: 320 | MAE Train Loss: 0.0017488270532339811 | MAE Test Loss: 0.02044454775750637 \n",
            "Epoch: 340 | MAE Train Loss: 0.0015153981512412429 | MAE Test Loss: 0.021238679066300392 \n",
            "Epoch: 360 | MAE Train Loss: 0.0007828109082765877 | MAE Test Loss: 0.022530775517225266 \n",
            "Epoch: 380 | MAE Train Loss: 0.0009138748282566667 | MAE Test Loss: 0.022813504561781883 \n"
          ]
        }
      ]
    },
    {
      "cell_type": "code",
      "source": [
        "#Visualise the loss curves\n",
        "\n",
        "# Plot the loss curves\n",
        "plt.plot(epoch_count, train_loss_values, label=\"Train loss\")\n",
        "plt.plot(epoch_count, test_loss_values, label=\"Test loss\")\n",
        "plt.title(\"Training and test loss curves\")\n",
        "plt.ylabel(\"Loss\")\n",
        "plt.xlabel(\"Epochs\")\n",
        "plt.legend()"
      ],
      "metadata": {
        "colab": {
          "base_uri": "https://localhost:8080/",
          "height": 489
        },
        "id": "6NJ2Cecsbtuy",
        "outputId": "f04a4e2b-d124-45ea-aaec-39dfd703ed84"
      },
      "execution_count": 16,
      "outputs": [
        {
          "output_type": "execute_result",
          "data": {
            "text/plain": [
              "<matplotlib.legend.Legend at 0x7e7f309cd810>"
            ]
          },
          "metadata": {},
          "execution_count": 16
        },
        {
          "output_type": "display_data",
          "data": {
            "text/plain": [
              "<Figure size 640x480 with 1 Axes>"
            ],
            "image/png": "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\n"
          },
          "metadata": {}
        }
      ]
    },
    {
      "cell_type": "code",
      "source": [
        "#The model's learned parameters\n",
        "\n",
        "# Find our model's learned parameters\n",
        "print(\"The model learned the following values for weights and bias:\")\n",
        "print(Model_A.state_dict())\n",
        "print(\"\\nAnd the original values for weights and bias are:\")\n",
        "print(f\"weights: {weight}, bias: {bias}\")"
      ],
      "metadata": {
        "colab": {
          "base_uri": "https://localhost:8080/"
        },
        "id": "_jebrcoDb251",
        "outputId": "ae5a14b3-9362-4031-fc8d-3cc78f59f22f"
      },
      "execution_count": 18,
      "outputs": [
        {
          "output_type": "stream",
          "name": "stdout",
          "text": [
            "The model learned the following values for weights and bias:\n",
            "OrderedDict([('weights', tensor([0.3001])), ('bias', tensor([0.9009]))])\n",
            "\n",
            "And the original values for weights and bias are:\n",
            "weights: 0.3, bias: 0.9\n"
          ]
        }
      ]
    },
    {
      "cell_type": "code",
      "source": [
        "#Make predictions\n",
        "\n",
        "\n",
        "Model_A.eval()\n",
        "\n",
        "# 2. Setup the inference mode context manager\n",
        "with torch.inference_mode():\n",
        "\n",
        "  y_preds = Model_A(X_test)\n",
        "y_preds"
      ],
      "metadata": {
        "colab": {
          "base_uri": "https://localhost:8080/"
        },
        "id": "u-BcJfAwb7cO",
        "outputId": "7525a625-b386-4dbb-8e7b-469e30a895ac"
      },
      "execution_count": 19,
      "outputs": [
        {
          "output_type": "execute_result",
          "data": {
            "text/plain": [
              "tensor([[1.3812],\n",
              "        [1.3872],\n",
              "        [1.3932],\n",
              "        [1.3992],\n",
              "        [1.4052],\n",
              "        [1.4112],\n",
              "        [1.4172],\n",
              "        [1.4232],\n",
              "        [1.4292],\n",
              "        [1.4352],\n",
              "        [1.4412],\n",
              "        [1.4472],\n",
              "        [1.4532],\n",
              "        [1.4592],\n",
              "        [1.4652],\n",
              "        [1.4712],\n",
              "        [1.4772],\n",
              "        [1.4832],\n",
              "        [1.4892],\n",
              "        [1.4952]])"
            ]
          },
          "metadata": {},
          "execution_count": 19
        }
      ]
    },
    {
      "cell_type": "code",
      "source": [
        "plot_predictions(predictions=y_preds)"
      ],
      "metadata": {
        "colab": {
          "base_uri": "https://localhost:8080/",
          "height": 599
        },
        "id": "Bh5cZYD6b-4B",
        "outputId": "ba642faa-1285-40df-8c39-0d7acf6235d0"
      },
      "execution_count": 20,
      "outputs": [
        {
          "output_type": "display_data",
          "data": {
            "text/plain": [
              "<Figure size 1000x700 with 1 Axes>"
            ],
            "image/png": "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\n"
          },
          "metadata": {}
        }
      ]
    },
    {
      "cell_type": "code",
      "source": [
        "#The model with epochs set at 400, shows that at 340 epochs there are no significant gains,\n"
      ],
      "metadata": {
        "id": "yr-9aDUicDmK"
      },
      "execution_count": 21,
      "outputs": []
    },
    {
      "cell_type": "code",
      "source": [
        "from pathlib import Path\n",
        "\n",
        "# 1. Create models directory\n",
        "MODEL_PATH = Path(\"models\")\n",
        "MODEL_PATH.mkdir(parents=True, exist_ok=True)\n",
        "\n",
        "# 2. Create model save path\n",
        "MODEL_NAME = \"01_pytorch_workflow_model_0.pth\"\n",
        "MODEL_SAVE_PATH = MODEL_PATH / MODEL_NAME\n",
        "\n",
        "# 3. Save the model state dict\n",
        "print(f\"Saving model to: {MODEL_SAVE_PATH}\")\n",
        "torch.save(obj=Model_A.state_dict(), # only saving the state_dict() only saves the models learned parameters\n",
        "           f=MODEL_SAVE_PATH)"
      ],
      "metadata": {
        "colab": {
          "base_uri": "https://localhost:8080/"
        },
        "id": "xnPf-RB4cI6z",
        "outputId": "aaeeb469-52e7-4aa6-c641-53c37825c308"
      },
      "execution_count": 22,
      "outputs": [
        {
          "output_type": "stream",
          "name": "stdout",
          "text": [
            "Saving model to: models/01_pytorch_workflow_model_0.pth\n"
          ]
        }
      ]
    },
    {
      "cell_type": "code",
      "source": [
        "# Check the saved file path\n",
        "!ls -l models/01_pytorch_workflow_model_0.pth"
      ],
      "metadata": {
        "colab": {
          "base_uri": "https://localhost:8080/"
        },
        "id": "sXCFyLDqcOGV",
        "outputId": "b7029b3e-f79f-40c9-fb40-da78ad422346"
      },
      "execution_count": 23,
      "outputs": [
        {
          "output_type": "stream",
          "name": "stdout",
          "text": [
            "-rw-r--r-- 1 root root 1680 Feb 12 13:57 models/01_pytorch_workflow_model_0.pth\n"
          ]
        }
      ]
    },
    {
      "cell_type": "code",
      "source": [
        "# Instantiate a new instance of our model (this will be instantiated with random weights)\n",
        "loaded_model_0 = LinearRegressionModel()\n",
        "\n",
        "# Load the state_dict of our saved model (this will update the new instance of our model with trained weights)\n",
        "loaded_model_0.load_state_dict(torch.load(f=MODEL_SAVE_PATH))"
      ],
      "metadata": {
        "colab": {
          "base_uri": "https://localhost:8080/"
        },
        "id": "v8JrzarAcVD9",
        "outputId": "5fc82f16-0dcd-45e6-e806-4d6ac264dd36"
      },
      "execution_count": 24,
      "outputs": [
        {
          "output_type": "stream",
          "name": "stderr",
          "text": [
            "<ipython-input-24-c3119fcaa06c>:5: FutureWarning: You are using `torch.load` with `weights_only=False` (the current default value), which uses the default pickle module implicitly. It is possible to construct malicious pickle data which will execute arbitrary code during unpickling (See https://github.com/pytorch/pytorch/blob/main/SECURITY.md#untrusted-models for more details). In a future release, the default value for `weights_only` will be flipped to `True`. This limits the functions that could be executed during unpickling. Arbitrary objects will no longer be allowed to be loaded via this mode unless they are explicitly allowlisted by the user via `torch.serialization.add_safe_globals`. We recommend you start setting `weights_only=True` for any use case where you don't have full control of the loaded file. Please open an issue on GitHub for any issues related to this experimental feature.\n",
            "  loaded_model_0.load_state_dict(torch.load(f=MODEL_SAVE_PATH))\n"
          ]
        },
        {
          "output_type": "execute_result",
          "data": {
            "text/plain": [
              "<All keys matched successfully>"
            ]
          },
          "metadata": {},
          "execution_count": 24
        }
      ]
    },
    {
      "cell_type": "code",
      "source": [
        "# 1. Put the loaded model into evaluation mode\n",
        "loaded_model_0.eval()\n",
        "\n",
        "# 2. Use the inference mode context manager to make predictions\n",
        "with torch.inference_mode():\n",
        "    loaded_model_preds = loaded_model_0(X_test) # perform a forward pass on the test data with the loaded model"
      ],
      "metadata": {
        "id": "fPtavxercak4"
      },
      "execution_count": 25,
      "outputs": []
    },
    {
      "cell_type": "code",
      "source": [
        "# Compare previous model predictions with loaded model predictions (these should be the same)\n",
        "y_preds == loaded_model_preds"
      ],
      "metadata": {
        "colab": {
          "base_uri": "https://localhost:8080/"
        },
        "id": "Gn9Nh43tcaWS",
        "outputId": "478ae764-6330-46b9-cd48-9355f62fd8c5"
      },
      "execution_count": 26,
      "outputs": [
        {
          "output_type": "execute_result",
          "data": {
            "text/plain": [
              "tensor([[True],\n",
              "        [True],\n",
              "        [True],\n",
              "        [True],\n",
              "        [True],\n",
              "        [True],\n",
              "        [True],\n",
              "        [True],\n",
              "        [True],\n",
              "        [True],\n",
              "        [True],\n",
              "        [True],\n",
              "        [True],\n",
              "        [True],\n",
              "        [True],\n",
              "        [True],\n",
              "        [True],\n",
              "        [True],\n",
              "        [True],\n",
              "        [True]])"
            ]
          },
          "metadata": {},
          "execution_count": 26
        }
      ]
    }
  ]
}
>>>>>>> origin/Samson
