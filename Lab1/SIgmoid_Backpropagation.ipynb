{
 "cells": [
  {
   "cell_type": "code",
   "execution_count": 7,
   "metadata": {},
   "outputs": [
    {
     "name": "stdout",
     "output_type": "stream",
     "text": [
      "Forward Pass:\n",
      "i1 (sigmoid(x1)) = 0.622, i2 (sigmoid(x2)) = 0.310\n",
      "o_min = 0.310, o_max = 0.622, y = 0.932\n",
      "\n",
      "Backpropagation:\n",
      "dE/dx1 = 0.470, dE/dx2 = 0.428\n"
     ]
    }
   ],
   "source": [
    "import torch\n",
    "import torch.nn as nn\n",
    "\n",
    "# Define sigmoid function\n",
    "sigmoid = nn.Sigmoid()\n",
    "\n",
    "# Step 1: Define inputs with requires_grad=True for backpropagation\n",
    "x = torch.tensor([0.5, -0.8], requires_grad=True)\n",
    "\n",
    "# Step 2: Compute sigmoid outputs\n",
    "i = sigmoid(x)  # Element-wise sigmoid\n",
    "\n",
    "# Step 3: Compute min and max outputs\n",
    "o_min = torch.min(i)\n",
    "o_max = torch.max(i)\n",
    "y = o_min + o_max  # Final output\n",
    "\n",
    "# Step 4: Define the given error gradient and compute loss\n",
    "dE_dy = torch.tensor(2.0)\n",
    "y.backward(dE_dy)  # Backpropagate\n",
    "\n",
    "# Step 5: Retrieve gradients\n",
    "dE_dx1 = x.grad[0]\n",
    "dE_dx2 = x.grad[1]\n",
    "\n",
    "# Print results\n",
    "print(\"Forward Pass:\")\n",
    "print(f\"i1 (sigmoid(x1)) = {i[0].item():.3f}, i2 (sigmoid(x2)) = {i[1].item():.3f}\")\n",
    "print(f\"o_min = {o_min.item():.3f}, o_max = {o_max.item():.3f}, y = {y.item():.3f}\")\n",
    "\n",
    "print(\"\\nBackpropagation:\")\n",
    "print(f\"dE/dx1 = {dE_dx1.item():.3f}, dE/dx2 = {dE_dx2.item():.3f}\")\n"
   ]
  },
  {
   "cell_type": "code",
   "execution_count": null,
   "metadata": {},
   "outputs": [],
   "source": [
    "#'\"\"\"\"\"\"\"''The difference in the above computation is that, in the initial one we used the mean squared error \n",
    "#formulae to compute the loss and in the second aproach we specified the error gradient as 2 and it is more applicable where there are \n",
    "# multiple inputs\"\"\"\"\"\"\"\"\"\"\"'''"
   ]
  }
 ],
 "metadata": {
  "kernelspec": {
   "display_name": "base",
   "language": "python",
   "name": "python3"
  },
  "language_info": {
   "codemirror_mode": {
    "name": "ipython",
    "version": 3
   },
   "file_extension": ".py",
   "mimetype": "text/x-python",
   "name": "python",
   "nbconvert_exporter": "python",
   "pygments_lexer": "ipython3",
   "version": "3.12.7"
  }
 },
 "nbformat": 4,
 "nbformat_minor": 2
}
