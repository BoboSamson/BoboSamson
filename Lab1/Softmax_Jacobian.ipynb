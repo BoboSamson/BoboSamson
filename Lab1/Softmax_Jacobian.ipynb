{
 "cells": [
  {
   "cell_type": "code",
   "execution_count": 1,
   "metadata": {},
   "outputs": [
    {
     "name": "stdout",
     "output_type": "stream",
     "text": [
      "Softmax Output:\n",
      "tensor([0.6590, 0.2424, 0.0986])\n",
      "\n",
      "Jacobian Matrix:\n",
      "tensor([[ 0.2247, -0.1598, -0.0650],\n",
      "        [-0.1598,  0.1837, -0.0239],\n",
      "        [-0.0650, -0.0239,  0.0889]])\n"
     ]
    }
   ],
   "source": [
    "#Softmax.Jacobian matrix output\n",
    "\n",
    "\n",
    "import torch\n",
    "\n",
    "def softmax(x):\n",
    "    \"\"\"Computes the softmax of input tensor x.\"\"\"\n",
    "    exp_x = torch.exp(x - torch.max(x))  # Subtract max for numerical stability\n",
    "    return exp_x / torch.sum(exp_x)\n",
    "\n",
    "def softmax_jacobian(x):\n",
    "    \"\"\"Computes the Jacobian matrix of the softmax function.\"\"\"\n",
    "    s = softmax(x)\n",
    "    s_diag = torch.diag(s)\n",
    "    jacobian = s_diag - torch.ger(s, s)  # Jacobian matrix\n",
    "    return jacobian\n",
    "\n",
    "# Example usage\n",
    "x = torch.tensor([2.0, 1.0, 0.1])  # Example input\n",
    "softmax_output = softmax(x)\n",
    "jacobian_matrix = softmax_jacobian(x)\n",
    "\n",
    "print(\"Softmax Output:\")\n",
    "print(softmax_output)\n",
    "print(\"\\nJacobian Matrix:\")\n",
    "print(jacobian_matrix)\n"
   ]
  }
 ],
 "metadata": {
  "kernelspec": {
   "display_name": "base",
   "language": "python",
   "name": "python3"
  },
  "language_info": {
   "codemirror_mode": {
    "name": "ipython",
    "version": 3
   },
   "file_extension": ".py",
   "mimetype": "text/x-python",
   "name": "python",
   "nbconvert_exporter": "python",
   "pygments_lexer": "ipython3",
   "version": "3.12.7"
  }
 },
 "nbformat": 4,
 "nbformat_minor": 2
}
