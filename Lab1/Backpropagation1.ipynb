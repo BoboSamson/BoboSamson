{
 "cells": [
  {
   "cell_type": "code",
   "execution_count": 1,
   "metadata": {},
   "outputs": [
    {
     "data": {
      "text/plain": [
       "<torch._C.Generator at 0x10a8d8e90>"
      ]
     },
     "execution_count": 1,
     "metadata": {},
     "output_type": "execute_result"
    }
   ],
   "source": [
    "import torch\n",
    "import torch.nn as nn\n",
    "\n",
    "# Set seed for reproducibility\n",
    "torch.manual_seed(2025)  # Correct usage\n"
   ]
  },
  {
   "cell_type": "code",
   "execution_count": 2,
   "metadata": {},
   "outputs": [
    {
     "name": "stdout",
     "output_type": "stream",
     "text": [
      "Sigmoid Output (Probabilities): tensor([0.1636, 0.7277, 0.4196], grad_fn=<SigmoidBackward0>)\n",
      "Predicted Classes: tensor([0., 1., 0.])\n"
     ]
    }
   ],
   "source": [
    "\n",
    "# Define Logistic Regression Model\n",
    "class LogisticRegressionModel(nn.Module): \n",
    "    def __init__(self):\n",
    "        super().__init__()\n",
    "        self.weights = nn.Parameter(torch.randn(1, dtype=torch.float), requires_grad=True) \n",
    "        self.bias = nn.Parameter(torch.randn(1, dtype=torch.float), requires_grad=True) \n",
    "\n",
    "    def forward(self, x: torch.Tensor) -> torch.Tensor: \n",
    "        linear_output = self.weights * x + self.bias  # Linear transformation\n",
    "        return torch.sigmoid(linear_output)  # Apply sigmoid activation\n",
    "\n",
    "# Example Usage\n",
    "X = torch.tensor([2.0, -1.0, 0.5])\n",
    "\n",
    "# Instantiate model (weights and bias are now fixed)\n",
    "model = LogisticRegressionModel()\n",
    "\n",
    "# Make predictions\n",
    "P = model(X)\n",
    "\n",
    "# Classification Decision\n",
    "predictions = (P >= 0.5).float()\n",
    "\n",
    "# Print results\n",
    "print(f\"Sigmoid Output (Probabilities): {P}\")\n",
    "print(f\"Predicted Classes: {predictions}\")\n"
   ]
  }
 ],
 "metadata": {
  "kernelspec": {
   "display_name": "base",
   "language": "python",
   "name": "python3"
  },
  "language_info": {
   "codemirror_mode": {
    "name": "ipython",
    "version": 3
   },
   "file_extension": ".py",
   "mimetype": "text/x-python",
   "name": "python",
   "nbconvert_exporter": "python",
   "pygments_lexer": "ipython3",
   "version": "3.12.7"
  }
 },
 "nbformat": 4,
 "nbformat_minor": 2
}
