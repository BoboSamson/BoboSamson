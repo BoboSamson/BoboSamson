{
 "cells": [
  {
   "cell_type": "code",
   "execution_count": null,
   "metadata": {
    "vscode": {
     "languageId": "plaintext"
    }
   },
   "outputs": [],
   "source": [
    "import requests\n",
    "import base64\n",
    "\n",
    "# Replace with your credentials\n",
    "CLIENT_ID = \"YOUR_CLIENT_ID\"\n",
    "CLIENT_SECRET = \"YOUR_CLIENT_SECRET\"\n",
    "ACCOUNT_ID = \"YOUR_ACCOUNT_ID\"\n",
    "\n",
    "# Encode Client ID and Secret in Base64\n",
    "auth_header = base64.b64encode(f\"{CLIENT_ID}:{CLIENT_SECRET}\".encode()).decode()\n",
    "\n",
    "# Zoom API endpoint for token generation\n",
    "url = \"https://zoom.us/oauth/token\"\n",
    "\n",
    "# Request headers\n",
    "headers = {\n",
    "    \"Authorization\": f\"Basic {auth_header}\",\n",
    "    \"Content-Type\": \"application/x-www-form-urlencoded\"\n",
    "}\n",
    "\n",
    "# Request body\n",
    "data = {\n",
    "    \"grant_type\": \"account_credentials\",\n",
    "    \"account_id\": ACCOUNT_ID\n",
    "}\n",
    "\n",
    "# Send POST request\n",
    "response = requests.post(url, headers=headers, data=data)\n",
    "\n",
    "# Print access token\n",
    "if response.status_code == 200:\n",
    "    access_token = response.json().get(\"access_token\")\n",
    "    print(\"Access Token:\", access_token)\n",
    "else:\n",
    "    print(\"Error:\", response.json())\n"
   ]
  },
  {
   "cell_type": "code",
   "execution_count": null,
   "metadata": {
    "vscode": {
     "languageId": "plaintext"
    }
   },
   "outputs": [],
   "source": [
    "import requests\n",
    "\n",
    "# Replace with your access token\n",
    "ACCESS_TOKEN = \"YOUR_ACCESS_TOKEN\"\n",
    "# Zoom API endpoint (Example: Get user info)\n",
    "url = \"https://api.zoom.us/v2/users/me\"\n",
    "\n",
    "# Headers with Bearer Token\n",
    "headers = {\n",
    "    \"Authorization\": f\"Bearer {ACCESS_TOKEN}\",\n",
    "    \"Content-Type\": \"application/json\"\n",
    "}\n",
    "\n",
    "# Send GET request\n",
    "response = requests.get(url, headers=headers)\n",
    "\n",
    "# Print response\n",
    "if response.status_code == 200:\n",
    "    print(\"User Info:\", response.json())\n",
    "else:\n",
    "    print(\"Error:\", response.json())\n"
   ]
  },
  {
   "cell_type": "code",
   "execution_count": null,
   "metadata": {
    "vscode": {
     "languageId": "plaintext"
    }
   },
   "outputs": [],
   "source": [
    "import requests\n",
    "import json\n",
    "\n",
    "# Replace with your access token\n",
    "ACCESS_TOKEN = \"YOUR_ACCESS_TOKEN\"\n",
    "  \n",
    "\n",
    "# Zoom API endpoint for creating a meeting\n",
    "url = \"https://api.zoom.us/v2/users/me/meetings\"\n",
    "\n",
    "# Headers\n",
    "headers = {\n",
    "    \"Authorization\": f\"Bearer {ACCESS_TOKEN}\",\n",
    "    \"Content-Type\": \"application/json\"\n",
    "}\n",
    "\n",
    "# Meeting details\n",
    "data = {\n",
    "    \"topic\": \"My Zoom Meeting\",\n",
    "    \"type\": 2,\n",
    "    \"start_time\": \"2025-01-29T12:00:00Z\",  # Start time in UTC\n",
    "    \"duration\": 60,\n",
    "    \"timezone\": \"Africa/Harare\",\n",
    "    \"agenda\": \"Discussion on project updates\",\n",
    "    \"settings\": {\n",
    "        \"host_video\": True,\n",
    "        \"participant_video\": True,\n",
    "        \"mute_upon_entry\": True,\n",
    "        \"waiting_room\": True,\n",
    "        \"auto_recording\": \"cloud\"  # Enable cloud recording\n",
    "    }\n",
    "}\n",
    "\n",
    "\n",
    "# Send POST request to create the meeting\n",
    "response = requests.post(url, headers=headers, data=json.dumps(data))\n",
    "\n",
    "# Print response\n",
    "if response.status_code == 201:\n",
    "    meeting = response.json()\n",
    "    print(\"Meeting Created!\")\n",
    "    print(\"Join URL:\", meeting[\"join_url\"])\n",
    "    print(\"Meeting ID:\", meeting[\"id\"])\n",
    "else:\n",
    "    print(\"Error:\", response.json())\n"
   ]
  }
 ],
 "metadata": {
  "language_info": {
   "name": "python"
  }
 },
 "nbformat": 4,
 "nbformat_minor": 2
}
