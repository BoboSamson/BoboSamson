{
  "nbformat": 4,
  "nbformat_minor": 0,
  "metadata": {
    "colab": {
      "provenance": [],
      "gpuType": "T4",
      "authorship_tag": "ABX9TyNFtOyMqklz+E+1PGj909Oh",
      "include_colab_link": true
    },
    "kernelspec": {
      "name": "python3",
      "display_name": "Python 3"
    },
    "language_info": {
      "name": "python"
    },
    "accelerator": "GPU"
  },
  "cells": [
    {
      "cell_type": "markdown",
      "metadata": {
        "id": "view-in-github",
        "colab_type": "text"
      },
      "source": [
        "<a href=\"https://colab.research.google.com/github/BoboSamson/BoboSamson/blob/main/%D0%9A%D0%BE%D0%BF%D0%B8%D1%8F_%D0%B1%D0%BB%D0%BE%D0%BA%D0%BD%D0%BE%D1%82%D0%B0_%22ZeroClassification_ipynb%22.ipynb\" target=\"_parent\"><img src=\"https://colab.research.google.com/assets/colab-badge.svg\" alt=\"Open In Colab\"/></a>"
      ]
    },
    {
      "cell_type": "code",
      "execution_count": null,
      "metadata": {
        "id": "9ABh6nFWYowr"
      },
      "outputs": [],
      "source": []
    },
    {
      "cell_type": "code",
      "execution_count": null,
      "metadata": {
        "id": "rHEUdy1ZNbGK"
      },
      "outputs": [],
      "source": [
        "import torch\n",
        "import gc\n",
        "import pandas as pd\n",
        "import numpy as np\n",
        "import seaborn as sns\n",
        "import matplotlib.pyplot as plt\n",
        "from tqdm import tqdm\n",
        "from sklearn.model_selection import train_test_split\n",
        "from sklearn.metrics import accuracy_score, f1_score, confusion_matrix, classification_report\n",
        "from transformers import pipeline, AutoTokenizer\n",
        "from transformers import pipeline, AutoTokenizer"
      ]
    },
    {
      "cell_type": "code",
      "execution_count": null,
      "metadata": {
        "colab": {
          "base_uri": "https://localhost:8080/"
        },
        "id": "tDcbAQxlO_ON",
        "outputId": "c47d1b67-e568-4c33-fdfe-4e4375717ad7"
      },
      "outputs": [
        {
          "output_type": "stream",
          "name": "stdout",
          "text": [
            "0\n"
          ]
        },
        {
          "output_type": "execute_result",
          "data": {
            "text/plain": [
              "<torch._C.Generator at 0x7d29704b2870>"
            ]
          },
          "metadata": {},
          "execution_count": 24
        }
      ],
      "source": [
        "\n",
        "# Set device for execution (CPU by default, GPU if available)\n",
        "device = 0 if torch.cuda.is_available() else -1\n",
        "print(device)\n",
        "torch.manual_seed(44)"
      ]
    },
    {
      "cell_type": "code",
      "execution_count": null,
      "metadata": {
        "colab": {
          "base_uri": "https://localhost:8080/"
        },
        "id": "CrIxwR7lPDBH",
        "outputId": "7ccdaa19-65c2-44ba-b114-ffd83df26e37"
      },
      "outputs": [
        {
          "output_type": "stream",
          "name": "stderr",
          "text": [
            "Device set to use cuda:0\n"
          ]
        }
      ],
      "source": [
        "\n",
        "# Load zero-shot classification model\n",
        "classifier = pipeline(\"zero-shot-classification\", model=\"facebook/bart-large-mnli\", device=device)"
      ]
    },
    {
      "cell_type": "code",
      "execution_count": null,
      "metadata": {
        "id": "TJ6cdxvOPHyq"
      },
      "outputs": [],
      "source": [
        "\n",
        "# Load tokenizer\n",
        "tokenizer = AutoTokenizer.from_pretrained(\"facebook/bart-large-mnli\")"
      ]
    },
    {
      "cell_type": "code",
      "execution_count": null,
      "metadata": {
        "id": "ztP-S8h7PMyD"
      },
      "outputs": [],
      "source": [
        "\n",
        "# Define candidate topics\n",
        "candidate_labels = [\n",
        "    \"politics\", \"sports\", \"technology\", \"health\", \"entertainment\", \"business\",\n",
        "    \"education\", \"food\", \"travel\", \"climate\", \"relationships\", \"science\",\n",
        "    \"religion\", \"economy\", \"crime\", \"military\", \"fashion\", \"music\", \"movies\", \"personal\",\n",
        "]"
      ]
    },
    {
      "cell_type": "code",
      "execution_count": null,
      "metadata": {
        "colab": {
          "base_uri": "https://localhost:8080/",
          "height": 754
        },
        "id": "U8oQVZGoPRx4",
        "outputId": "cba75ab5-b321-4f34-b09c-486dbc711828"
      },
      "outputs": [
        {
          "output_type": "execute_result",
          "data": {
            "text/plain": [
              "      timestamp                                     processed_text  \\\n",
              "0       2024-03  Diary Game for Monday th March Uploaded my boo...   \n",
              "1       2024-03  Upvote Upvoted Thank You for sending some of y...   \n",
              "2       2024-03  Check my latest fight vs The Goverment a href src   \n",
              "3       2024-03  The Diary Game De guardia en CO Steemit Y los ...   \n",
              "4       2024-03  Upvote Upvoted Thank You for sending some of y...   \n",
              "...         ...                                                ...   \n",
              "21533   2024-11  Me esperando div F padre puso el grito en el c...   \n",
              "21534   2024-11                                                  n   \n",
              "21535   2024-11                                            n nn nn   \n",
              "21536   2024-11                 Israel Increases Pressure On Syria   \n",
              "21537   2024-11  My Different Baby pa href img src Different Ba...   \n",
              "\n",
              "       sentiment_score sentiment_category  \n",
              "0                    4           positive  \n",
              "1                    0           negative  \n",
              "2                    4           positive  \n",
              "3                    4           positive  \n",
              "4                    0           negative  \n",
              "...                ...                ...  \n",
              "21533                1           negative  \n",
              "21534                0           negative  \n",
              "21535                0           negative  \n",
              "21536                0           negative  \n",
              "21537                2            neutral  \n",
              "\n",
              "[21538 rows x 4 columns]"
            ],
            "text/html": [
              "\n",
              "  <div id=\"df-b6301cb3-befc-443c-b428-079669ffa424\" class=\"colab-df-container\">\n",
              "    <div>\n",
              "<style scoped>\n",
              "    .dataframe tbody tr th:only-of-type {\n",
              "        vertical-align: middle;\n",
              "    }\n",
              "\n",
              "    .dataframe tbody tr th {\n",
              "        vertical-align: top;\n",
              "    }\n",
              "\n",
              "    .dataframe thead th {\n",
              "        text-align: right;\n",
              "    }\n",
              "</style>\n",
              "<table border=\"1\" class=\"dataframe\">\n",
              "  <thead>\n",
              "    <tr style=\"text-align: right;\">\n",
              "      <th></th>\n",
              "      <th>timestamp</th>\n",
              "      <th>processed_text</th>\n",
              "      <th>sentiment_score</th>\n",
              "      <th>sentiment_category</th>\n",
              "    </tr>\n",
              "  </thead>\n",
              "  <tbody>\n",
              "    <tr>\n",
              "      <th>0</th>\n",
              "      <td>2024-03</td>\n",
              "      <td>Diary Game for Monday th March Uploaded my boo...</td>\n",
              "      <td>4</td>\n",
              "      <td>positive</td>\n",
              "    </tr>\n",
              "    <tr>\n",
              "      <th>1</th>\n",
              "      <td>2024-03</td>\n",
              "      <td>Upvote Upvoted Thank You for sending some of y...</td>\n",
              "      <td>0</td>\n",
              "      <td>negative</td>\n",
              "    </tr>\n",
              "    <tr>\n",
              "      <th>2</th>\n",
              "      <td>2024-03</td>\n",
              "      <td>Check my latest fight vs The Goverment a href src</td>\n",
              "      <td>4</td>\n",
              "      <td>positive</td>\n",
              "    </tr>\n",
              "    <tr>\n",
              "      <th>3</th>\n",
              "      <td>2024-03</td>\n",
              "      <td>The Diary Game De guardia en CO Steemit Y los ...</td>\n",
              "      <td>4</td>\n",
              "      <td>positive</td>\n",
              "    </tr>\n",
              "    <tr>\n",
              "      <th>4</th>\n",
              "      <td>2024-03</td>\n",
              "      <td>Upvote Upvoted Thank You for sending some of y...</td>\n",
              "      <td>0</td>\n",
              "      <td>negative</td>\n",
              "    </tr>\n",
              "    <tr>\n",
              "      <th>...</th>\n",
              "      <td>...</td>\n",
              "      <td>...</td>\n",
              "      <td>...</td>\n",
              "      <td>...</td>\n",
              "    </tr>\n",
              "    <tr>\n",
              "      <th>21533</th>\n",
              "      <td>2024-11</td>\n",
              "      <td>Me esperando div F padre puso el grito en el c...</td>\n",
              "      <td>1</td>\n",
              "      <td>negative</td>\n",
              "    </tr>\n",
              "    <tr>\n",
              "      <th>21534</th>\n",
              "      <td>2024-11</td>\n",
              "      <td>n</td>\n",
              "      <td>0</td>\n",
              "      <td>negative</td>\n",
              "    </tr>\n",
              "    <tr>\n",
              "      <th>21535</th>\n",
              "      <td>2024-11</td>\n",
              "      <td>n nn nn</td>\n",
              "      <td>0</td>\n",
              "      <td>negative</td>\n",
              "    </tr>\n",
              "    <tr>\n",
              "      <th>21536</th>\n",
              "      <td>2024-11</td>\n",
              "      <td>Israel Increases Pressure On Syria</td>\n",
              "      <td>0</td>\n",
              "      <td>negative</td>\n",
              "    </tr>\n",
              "    <tr>\n",
              "      <th>21537</th>\n",
              "      <td>2024-11</td>\n",
              "      <td>My Different Baby pa href img src Different Ba...</td>\n",
              "      <td>2</td>\n",
              "      <td>neutral</td>\n",
              "    </tr>\n",
              "  </tbody>\n",
              "</table>\n",
              "<p>21538 rows × 4 columns</p>\n",
              "</div>\n",
              "    <div class=\"colab-df-buttons\">\n",
              "\n",
              "  <div class=\"colab-df-container\">\n",
              "    <button class=\"colab-df-convert\" onclick=\"convertToInteractive('df-b6301cb3-befc-443c-b428-079669ffa424')\"\n",
              "            title=\"Convert this dataframe to an interactive table.\"\n",
              "            style=\"display:none;\">\n",
              "\n",
              "  <svg xmlns=\"http://www.w3.org/2000/svg\" height=\"24px\" viewBox=\"0 -960 960 960\">\n",
              "    <path d=\"M120-120v-720h720v720H120Zm60-500h600v-160H180v160Zm220 220h160v-160H400v160Zm0 220h160v-160H400v160ZM180-400h160v-160H180v160Zm440 0h160v-160H620v160ZM180-180h160v-160H180v160Zm440 0h160v-160H620v160Z\"/>\n",
              "  </svg>\n",
              "    </button>\n",
              "\n",
              "  <style>\n",
              "    .colab-df-container {\n",
              "      display:flex;\n",
              "      gap: 12px;\n",
              "    }\n",
              "\n",
              "    .colab-df-convert {\n",
              "      background-color: #E8F0FE;\n",
              "      border: none;\n",
              "      border-radius: 50%;\n",
              "      cursor: pointer;\n",
              "      display: none;\n",
              "      fill: #1967D2;\n",
              "      height: 32px;\n",
              "      padding: 0 0 0 0;\n",
              "      width: 32px;\n",
              "    }\n",
              "\n",
              "    .colab-df-convert:hover {\n",
              "      background-color: #E2EBFA;\n",
              "      box-shadow: 0px 1px 2px rgba(60, 64, 67, 0.3), 0px 1px 3px 1px rgba(60, 64, 67, 0.15);\n",
              "      fill: #174EA6;\n",
              "    }\n",
              "\n",
              "    .colab-df-buttons div {\n",
              "      margin-bottom: 4px;\n",
              "    }\n",
              "\n",
              "    [theme=dark] .colab-df-convert {\n",
              "      background-color: #3B4455;\n",
              "      fill: #D2E3FC;\n",
              "    }\n",
              "\n",
              "    [theme=dark] .colab-df-convert:hover {\n",
              "      background-color: #434B5C;\n",
              "      box-shadow: 0px 1px 3px 1px rgba(0, 0, 0, 0.15);\n",
              "      filter: drop-shadow(0px 1px 2px rgba(0, 0, 0, 0.3));\n",
              "      fill: #FFFFFF;\n",
              "    }\n",
              "  </style>\n",
              "\n",
              "    <script>\n",
              "      const buttonEl =\n",
              "        document.querySelector('#df-b6301cb3-befc-443c-b428-079669ffa424 button.colab-df-convert');\n",
              "      buttonEl.style.display =\n",
              "        google.colab.kernel.accessAllowed ? 'block' : 'none';\n",
              "\n",
              "      async function convertToInteractive(key) {\n",
              "        const element = document.querySelector('#df-b6301cb3-befc-443c-b428-079669ffa424');\n",
              "        const dataTable =\n",
              "          await google.colab.kernel.invokeFunction('convertToInteractive',\n",
              "                                                    [key], {});\n",
              "        if (!dataTable) return;\n",
              "\n",
              "        const docLinkHtml = 'Like what you see? Visit the ' +\n",
              "          '<a target=\"_blank\" href=https://colab.research.google.com/notebooks/data_table.ipynb>data table notebook</a>'\n",
              "          + ' to learn more about interactive tables.';\n",
              "        element.innerHTML = '';\n",
              "        dataTable['output_type'] = 'display_data';\n",
              "        await google.colab.output.renderOutput(dataTable, element);\n",
              "        const docLink = document.createElement('div');\n",
              "        docLink.innerHTML = docLinkHtml;\n",
              "        element.appendChild(docLink);\n",
              "      }\n",
              "    </script>\n",
              "  </div>\n",
              "\n",
              "\n",
              "<div id=\"df-975af0d1-6ad1-4038-86a3-c08d24aa2dc1\">\n",
              "  <button class=\"colab-df-quickchart\" onclick=\"quickchart('df-975af0d1-6ad1-4038-86a3-c08d24aa2dc1')\"\n",
              "            title=\"Suggest charts\"\n",
              "            style=\"display:none;\">\n",
              "\n",
              "<svg xmlns=\"http://www.w3.org/2000/svg\" height=\"24px\"viewBox=\"0 0 24 24\"\n",
              "     width=\"24px\">\n",
              "    <g>\n",
              "        <path d=\"M19 3H5c-1.1 0-2 .9-2 2v14c0 1.1.9 2 2 2h14c1.1 0 2-.9 2-2V5c0-1.1-.9-2-2-2zM9 17H7v-7h2v7zm4 0h-2V7h2v10zm4 0h-2v-4h2v4z\"/>\n",
              "    </g>\n",
              "</svg>\n",
              "  </button>\n",
              "\n",
              "<style>\n",
              "  .colab-df-quickchart {\n",
              "      --bg-color: #E8F0FE;\n",
              "      --fill-color: #1967D2;\n",
              "      --hover-bg-color: #E2EBFA;\n",
              "      --hover-fill-color: #174EA6;\n",
              "      --disabled-fill-color: #AAA;\n",
              "      --disabled-bg-color: #DDD;\n",
              "  }\n",
              "\n",
              "  [theme=dark] .colab-df-quickchart {\n",
              "      --bg-color: #3B4455;\n",
              "      --fill-color: #D2E3FC;\n",
              "      --hover-bg-color: #434B5C;\n",
              "      --hover-fill-color: #FFFFFF;\n",
              "      --disabled-bg-color: #3B4455;\n",
              "      --disabled-fill-color: #666;\n",
              "  }\n",
              "\n",
              "  .colab-df-quickchart {\n",
              "    background-color: var(--bg-color);\n",
              "    border: none;\n",
              "    border-radius: 50%;\n",
              "    cursor: pointer;\n",
              "    display: none;\n",
              "    fill: var(--fill-color);\n",
              "    height: 32px;\n",
              "    padding: 0;\n",
              "    width: 32px;\n",
              "  }\n",
              "\n",
              "  .colab-df-quickchart:hover {\n",
              "    background-color: var(--hover-bg-color);\n",
              "    box-shadow: 0 1px 2px rgba(60, 64, 67, 0.3), 0 1px 3px 1px rgba(60, 64, 67, 0.15);\n",
              "    fill: var(--button-hover-fill-color);\n",
              "  }\n",
              "\n",
              "  .colab-df-quickchart-complete:disabled,\n",
              "  .colab-df-quickchart-complete:disabled:hover {\n",
              "    background-color: var(--disabled-bg-color);\n",
              "    fill: var(--disabled-fill-color);\n",
              "    box-shadow: none;\n",
              "  }\n",
              "\n",
              "  .colab-df-spinner {\n",
              "    border: 2px solid var(--fill-color);\n",
              "    border-color: transparent;\n",
              "    border-bottom-color: var(--fill-color);\n",
              "    animation:\n",
              "      spin 1s steps(1) infinite;\n",
              "  }\n",
              "\n",
              "  @keyframes spin {\n",
              "    0% {\n",
              "      border-color: transparent;\n",
              "      border-bottom-color: var(--fill-color);\n",
              "      border-left-color: var(--fill-color);\n",
              "    }\n",
              "    20% {\n",
              "      border-color: transparent;\n",
              "      border-left-color: var(--fill-color);\n",
              "      border-top-color: var(--fill-color);\n",
              "    }\n",
              "    30% {\n",
              "      border-color: transparent;\n",
              "      border-left-color: var(--fill-color);\n",
              "      border-top-color: var(--fill-color);\n",
              "      border-right-color: var(--fill-color);\n",
              "    }\n",
              "    40% {\n",
              "      border-color: transparent;\n",
              "      border-right-color: var(--fill-color);\n",
              "      border-top-color: var(--fill-color);\n",
              "    }\n",
              "    60% {\n",
              "      border-color: transparent;\n",
              "      border-right-color: var(--fill-color);\n",
              "    }\n",
              "    80% {\n",
              "      border-color: transparent;\n",
              "      border-right-color: var(--fill-color);\n",
              "      border-bottom-color: var(--fill-color);\n",
              "    }\n",
              "    90% {\n",
              "      border-color: transparent;\n",
              "      border-bottom-color: var(--fill-color);\n",
              "    }\n",
              "  }\n",
              "</style>\n",
              "\n",
              "  <script>\n",
              "    async function quickchart(key) {\n",
              "      const quickchartButtonEl =\n",
              "        document.querySelector('#' + key + ' button');\n",
              "      quickchartButtonEl.disabled = true;  // To prevent multiple clicks.\n",
              "      quickchartButtonEl.classList.add('colab-df-spinner');\n",
              "      try {\n",
              "        const charts = await google.colab.kernel.invokeFunction(\n",
              "            'suggestCharts', [key], {});\n",
              "      } catch (error) {\n",
              "        console.error('Error during call to suggestCharts:', error);\n",
              "      }\n",
              "      quickchartButtonEl.classList.remove('colab-df-spinner');\n",
              "      quickchartButtonEl.classList.add('colab-df-quickchart-complete');\n",
              "    }\n",
              "    (() => {\n",
              "      let quickchartButtonEl =\n",
              "        document.querySelector('#df-975af0d1-6ad1-4038-86a3-c08d24aa2dc1 button');\n",
              "      quickchartButtonEl.style.display =\n",
              "        google.colab.kernel.accessAllowed ? 'block' : 'none';\n",
              "    })();\n",
              "  </script>\n",
              "</div>\n",
              "\n",
              "  <div id=\"id_16f70aef-573a-4fd8-a03a-db38f7125e9b\">\n",
              "    <style>\n",
              "      .colab-df-generate {\n",
              "        background-color: #E8F0FE;\n",
              "        border: none;\n",
              "        border-radius: 50%;\n",
              "        cursor: pointer;\n",
              "        display: none;\n",
              "        fill: #1967D2;\n",
              "        height: 32px;\n",
              "        padding: 0 0 0 0;\n",
              "        width: 32px;\n",
              "      }\n",
              "\n",
              "      .colab-df-generate:hover {\n",
              "        background-color: #E2EBFA;\n",
              "        box-shadow: 0px 1px 2px rgba(60, 64, 67, 0.3), 0px 1px 3px 1px rgba(60, 64, 67, 0.15);\n",
              "        fill: #174EA6;\n",
              "      }\n",
              "\n",
              "      [theme=dark] .colab-df-generate {\n",
              "        background-color: #3B4455;\n",
              "        fill: #D2E3FC;\n",
              "      }\n",
              "\n",
              "      [theme=dark] .colab-df-generate:hover {\n",
              "        background-color: #434B5C;\n",
              "        box-shadow: 0px 1px 3px 1px rgba(0, 0, 0, 0.15);\n",
              "        filter: drop-shadow(0px 1px 2px rgba(0, 0, 0, 0.3));\n",
              "        fill: #FFFFFF;\n",
              "      }\n",
              "    </style>\n",
              "    <button class=\"colab-df-generate\" onclick=\"generateWithVariable('df')\"\n",
              "            title=\"Generate code using this dataframe.\"\n",
              "            style=\"display:none;\">\n",
              "\n",
              "  <svg xmlns=\"http://www.w3.org/2000/svg\" height=\"24px\"viewBox=\"0 0 24 24\"\n",
              "       width=\"24px\">\n",
              "    <path d=\"M7,19H8.4L18.45,9,17,7.55,7,17.6ZM5,21V16.75L18.45,3.32a2,2,0,0,1,2.83,0l1.4,1.43a1.91,1.91,0,0,1,.58,1.4,1.91,1.91,0,0,1-.58,1.4L9.25,21ZM18.45,9,17,7.55Zm-12,3A5.31,5.31,0,0,0,4.9,8.1,5.31,5.31,0,0,0,1,6.5,5.31,5.31,0,0,0,4.9,4.9,5.31,5.31,0,0,0,6.5,1,5.31,5.31,0,0,0,8.1,4.9,5.31,5.31,0,0,0,12,6.5,5.46,5.46,0,0,0,6.5,12Z\"/>\n",
              "  </svg>\n",
              "    </button>\n",
              "    <script>\n",
              "      (() => {\n",
              "      const buttonEl =\n",
              "        document.querySelector('#id_16f70aef-573a-4fd8-a03a-db38f7125e9b button.colab-df-generate');\n",
              "      buttonEl.style.display =\n",
              "        google.colab.kernel.accessAllowed ? 'block' : 'none';\n",
              "\n",
              "      buttonEl.onclick = () => {\n",
              "        google.colab.notebook.generateWithVariable('df');\n",
              "      }\n",
              "      })();\n",
              "    </script>\n",
              "  </div>\n",
              "\n",
              "    </div>\n",
              "  </div>\n"
            ],
            "application/vnd.google.colaboratory.intrinsic+json": {
              "type": "dataframe",
              "variable_name": "df",
              "summary": "{\n  \"name\": \"df\",\n  \"rows\": 21538,\n  \"fields\": [\n    {\n      \"column\": \"timestamp\",\n      \"properties\": {\n        \"dtype\": \"object\",\n        \"num_unique_values\": 9,\n        \"samples\": [\n          \"2024-10\",\n          \"2024-04\",\n          \"2024-08\"\n        ],\n        \"semantic_type\": \"\",\n        \"description\": \"\"\n      }\n    },\n    {\n      \"column\": \"processed_text\",\n      \"properties\": {\n        \"dtype\": \"string\",\n        \"num_unique_values\": 15511,\n        \"samples\": [\n          \"BOC Watching the sunset Good are you Alaikum to all respected blogger brothers and sisters in the dear Steemit family Hello everyone and welcome to my blog today I hope you all are having a good day with your family But everyone in my family is sick Everyone please pray for my family members Couldnt post because I was sick Later in the evening I thought of not sharing the post with you To be honest it would be nice to be able to post regularly to keep up the work It feels good to be at work and the mind is very fresh I am very worried if I cant lately blogging has become a lot of addiction and profession How to leave this addiction and work of profession So I came to share the post with you in the midst of hundreds of illnesses and hardships Today I am here with you with some photography of a different kind You know that everyone who works in the community likes to do photography I like photography very much I like to do any kind of photography So when I get time I try to store the beautiful photographs in the phone gallery when I go time permits I will be present to share those beautiful photographs with you Today friends I will share with you some sunset photography I love the beautiful view when the sun sets Especially in the evening the nature is beautifully decorated Everyone joins the beach to enjoy to observe such a beautiful scene Its nice to see such beautiful scenery especially on the beach under the open all know I live near Coxs Bazar beach So when I have time I go to spend time there with the kids Most of the times are visited in the evening When it is sunny there is too much sun so it is not good Its nice to have a moment of sunset in the evening At that time there are many people in the sea and the view of the sunset is very nice Especially in the sea water it looks beautiful A few days ago I went to the beach with my going there I saw very beautiful weather The surroundings were very beautiful in that beautiful weather It was especially beautiful because it was sunny If the sky is beautiful the view of the sunset is quite good When the sun was setting I was mesmerized by the appearance of the sun It was nice to see such a beautiful red color So I took several photographs without delay Today I thought to share with you some beautiful moment photography from todays photographs with you from that thought I hope you all will like the photographs I shared today Thank you so much for taking the time to visit my blog I hope that you will always be by my side and help n nbr nn Device Name nLocation Coxs Bazar Bangladesh Sunset Photography n am Nahar Hira My user ID is I am connected to you from Coxs Bazar city in Bangladesh I am a housewife by profession I also like and love blogging a lot in my free time I like to cook Traveling is one of my favorite hobbies I love to do different types of photography Besides I love to sing and write poetry I am more than happy to share my thoughts with everyone through blogging For that I love my life community png Thanks everyone for visiting my blog\",\n          \"center div div jpg div div div nbr nn div div n n div center center n n nLocation n n center center\",\n          \"Steemit Engagement Challenge SW Power Of Communication Skill div Designed with morning my beloved across the globe I believe you all had a pleasant night rest mine was too good I am from Nigeria its a pleasure to be in Community to participate in this titled The Power Of is part of our life and we make use of it everyday it is the most important skills in our daily life if not for communication we wont go anywhere in dive into the hint you agree with the statement Communication skill is the power Why or why to a layman communication skill is very important and powerful because communication is a natural thing for everyone of us even people that can not talk nor hear yet communication methods have been made easier for them like the use of sign language in communication is not all about how good we talk to people but also how we listen to peoples complaints or arguments and then give them a good response these are the basic tools of effective you provide an example of a situation where Communication skills are this my very short life on earth Ive been made to understand that is the only best way we can used in resolving an issue And like I said earlier before that communication skill is not all about what you as a person is saying but your ability to listen carefully to the other persons talk and respond in a skill is very essential in our daily lives because with a good communication you can build a mutual trust among your peers in your workplace between your coworkers My communication skill have really helped me settle lot of argumentive issues in my family and make peace reign among us brothers and sisters and even in the compound I live I discovered that when I am not around some crucial decisions are not been taken because they believe If Im there I will be able to say one or two meaningful historical examples where Communication is the power led to significant are lots of historical examples where Communication Skill is significant and play an important role in peoples life I was told that during some years back during a Cuba crisis and cold war in down to that one Mr John Kennedy and Khrushchev Nikita had an effective communication and that leads to the settlement of the typical example is in politics the change we see in the government and in other organizations in the world Communication skill has been the channel the politician uses in convincing and confusing their subject into voting for can one improve their communication are many ways to improve our communication skills which are nn Be a good listener and try to understand peoples point of view before sharing your thoughts nn Have a good understanding of your environment learn their language and use the language they understand nn Take control of your body language like your facial expression and eye contact nn Be confident in yourself kill the spirit of inferiority complex in Increase your vocabulary and be mentally ready to maintain an eye to eye contact with others while talking with might seems difficult when youre facing an audience yet it is an easy tools to becoming a successful person in our professional lives I also advise we try and stay around people by doing these we can learn different ways of I Love\"\n        ],\n        \"semantic_type\": \"\",\n        \"description\": \"\"\n      }\n    },\n    {\n      \"column\": \"sentiment_score\",\n      \"properties\": {\n        \"dtype\": \"number\",\n        \"std\": 1,\n        \"min\": 0,\n        \"max\": 4,\n        \"num_unique_values\": 5,\n        \"samples\": [\n          0,\n          2,\n          3\n        ],\n        \"semantic_type\": \"\",\n        \"description\": \"\"\n      }\n    },\n    {\n      \"column\": \"sentiment_category\",\n      \"properties\": {\n        \"dtype\": \"category\",\n        \"num_unique_values\": 3,\n        \"samples\": [\n          \"positive\",\n          \"negative\",\n          \"neutral\"\n        ],\n        \"semantic_type\": \"\",\n        \"description\": \"\"\n      }\n    }\n  ]\n}"
            }
          },
          "metadata": {},
          "execution_count": 28
        }
      ],
      "source": [
        "# Load dataset\n",
        "df = pd.read_csv(\"/content/merged_sample_sentiment.csv\")\n",
        "df"
      ]
    },
    {
      "cell_type": "code",
      "execution_count": null,
      "metadata": {
        "id": "vNA9CWVKPWr4"
      },
      "outputs": [],
      "source": [
        "\n",
        "\n",
        "# Select relevant columns\n",
        "df = df[[\"processed_text\", \"sentiment_score\", \"sentiment_category\"]].dropna()"
      ]
    },
    {
      "cell_type": "code",
      "source": [
        "from torch.utils.data import Dataset, DataLoader\n",
        "\n",
        "class TextClassificationDataset(Dataset):\n",
        "    def __init__(self, dataframe, tokenizer, candidate_labels):\n",
        "        self.dataframe = dataframe\n",
        "        self.tokenizer = tokenizer\n",
        "        self.candidate_labels = candidate_labels\n",
        "\n",
        "    def __len__(self):\n",
        "        return len(self.dataframe)\n",
        "\n",
        "    def __getitem__(self, idx):\n",
        "        text = self.dataframe.iloc[idx][\"processed_text\"]\n",
        "        label = self.dataframe.iloc[idx][\"sentiment_category\"]\n",
        "\n",
        "        inputs = self.tokenizer(text, truncation=True, max_length=500, padding=\"max_length\", return_tensors=\"pt\")\n",
        "\n",
        "        return {\n",
        "            \"input_ids\": inputs[\"input_ids\"][0],\n",
        "            \"attention_mask\": inputs[\"attention_mask\"][0],\n",
        "            \"label\": label\n",
        "        }\n",
        "\n",
        "def create_data_loaders(train_df, test_df, tokenizer, candidate_labels, batch_size=32):\n",
        "    train_dataset = TextClassificationDataset(train_df, tokenizer, candidate_labels)\n",
        "    test_dataset = TextClassificationDataset(test_df, tokenizer, candidate_labels)\n",
        "\n",
        "    train_loader = DataLoader(train_dataset, batch_size=batch_size, shuffle=True)\n",
        "    test_loader = DataLoader(test_dataset, batch_size=batch_size, shuffle=False)\n",
        "\n",
        "    return train_loader, test_loader"
      ],
      "metadata": {
        "id": "Qa0_6jXah8nM"
      },
      "execution_count": null,
      "outputs": []
    },
    {
      "cell_type": "code",
      "execution_count": null,
      "metadata": {
        "id": "6IktAPiAPjI4"
      },
      "outputs": [],
      "source": [
        "def classify_text(text):\n",
        "    \"\"\"Classifies text into a single topic while handling memory efficiency.\"\"\"\n",
        "    inputs = tokenizer(text, truncation=True, max_length=500, return_tensors=\"pt\")\n",
        "    truncated_text = tokenizer.decode(inputs[\"input_ids\"][0], skip_special_tokens=True)\n",
        "\n",
        "    result = classifier(truncated_text, candidate_labels, multi_label=False)  # Single-label classification\n",
        "    return result[\"labels\"][0]  # Top predicted category\n"
      ]
    },
    {
      "source": [
        "# Sample 3000 rows from the dataset\n",
        "# If the dataset has less than 3000 rows, sample the entire dataset\n",
        "sample_size = min(3000, len(df))\n",
        "df_sampled = df.sample(n=sample_size, random_state=44).reset_index(drop=True)\n",
        "\n",
        "# Train-test split\n",
        "train_df, test_df = train_test_split(df_sampled, test_size=0.2, random_state=44)\n",
        "print(\"Sampled dataset shape:\", df_sampled.shape)\n",
        "print(\"Train set shape:\", train_df.shape)\n",
        "print(\"Test set shape:\", test_df.shape)"
      ],
      "cell_type": "code",
      "metadata": {
        "colab": {
          "base_uri": "https://localhost:8080/"
        },
        "id": "zSIcdbDRdJJJ",
        "outputId": "a37a583d-c940-4fa8-e10c-f9fe400bb1f3"
      },
      "execution_count": null,
      "outputs": [
        {
          "output_type": "stream",
          "name": "stdout",
          "text": [
            "Sampled dataset shape: (3000, 3)\n",
            "Train set shape: (2400, 3)\n",
            "Test set shape: (600, 3)\n"
          ]
        }
      ]
    },
    {
      "source": [
        "def process_data(dataset, batch_size=32): # Added batch_size for DataLoader\n",
        "    data_loader = DataLoader(dataset, batch_size=batch_size, shuffle=False)\n",
        "    all_predictions = []\n",
        "    for batch in tqdm(data_loader, total=len(data_loader), desc=\"Processing Texts\"):\n",
        "        input_ids = batch[\"input_ids\"].to(device) # Move inputs to the appropriate device (CPU or GPU)\n",
        "        attention_mask = batch[\"attention_mask\"].to(device)\n",
        "\n",
        "        # Correct the classifier call\n",
        "        with torch.no_grad(): # Disable gradient calculation during inference\n",
        "            # Construct input sequences from input_ids and attention_mask\n",
        "            input_sequences = [tokenizer.decode(ids, skip_special_tokens=True)\n",
        "                              for ids in input_ids]\n",
        "\n",
        "            outputs = classifier(input_sequences, candidate_labels=candidate_labels, multi_label=False)\n",
        "\n",
        "        predictions = [output[\"labels\"][0] for output in outputs] # Extract predictions\n",
        "        all_predictions.extend(predictions)\n",
        "\n",
        "    # Add predictions to the original DataFrame\n",
        "    dataset.dataframe[\"predicted_category\"] = all_predictions # Assuming dataset.dataframe is accessible\n",
        "    return dataset.dataframe # Return the modified DataFrame"
      ],
      "cell_type": "code",
      "metadata": {
        "id": "g9u5qOp2dbyF"
      },
      "execution_count": null,
      "outputs": []
    },
    {
      "cell_type": "code",
      "source": [
        "# Create train datasets\n",
        "train_dataset = TextClassificationDataset(train_df, tokenizer, candidate_labels)\n",
        "\n",
        "\n",
        "# Process train data using the modified function\n",
        "train_df = process_data(train_dataset)\n"
      ],
      "metadata": {
        "colab": {
          "base_uri": "https://localhost:8080/"
        },
        "id": "DL_i8OXwkU0x",
        "outputId": "7de85c66-5275-4c99-9575-0d6a692eb79a"
      },
      "execution_count": null,
      "outputs": [
        {
          "output_type": "stream",
          "name": "stderr",
          "text": [
            "\n",
            "Processing Texts:   0%|          | 0/75 [00:00<?, ?it/s]\u001b[A\n",
            "Processing Texts:   1%|▏         | 1/75 [00:32<39:44, 32.23s/it]\u001b[A\n",
            "Processing Texts:   3%|▎         | 2/75 [00:59<35:39, 29.31s/it]\u001b[A\n",
            "Processing Texts:   4%|▍         | 3/75 [01:34<38:32, 32.12s/it]\u001b[A\n",
            "Processing Texts:   5%|▌         | 4/75 [02:14<41:18, 34.91s/it]\u001b[A\n",
            "Processing Texts:   7%|▋         | 5/75 [02:52<42:12, 36.17s/it]\u001b[A\n",
            "Processing Texts:   8%|▊         | 6/75 [03:29<42:00, 36.52s/it]\u001b[A\n",
            "Processing Texts:   9%|▉         | 7/75 [04:04<40:54, 36.10s/it]\u001b[A\n",
            "Processing Texts:  11%|█         | 8/75 [04:39<39:45, 35.61s/it]\u001b[A\n",
            "Processing Texts:  12%|█▏        | 9/75 [05:09<37:06, 33.74s/it]\u001b[A\n",
            "Processing Texts:  13%|█▎        | 10/75 [05:45<37:24, 34.54s/it]\u001b[A\n",
            "Processing Texts:  15%|█▍        | 11/75 [06:29<39:54, 37.42s/it]\u001b[A\n",
            "Processing Texts:  16%|█▌        | 12/75 [07:07<39:32, 37.65s/it]\u001b[A\n",
            "Processing Texts:  17%|█▋        | 13/75 [07:39<37:06, 35.91s/it]\u001b[A\n",
            "Processing Texts:  19%|█▊        | 14/75 [08:20<38:03, 37.43s/it]\u001b[A\n",
            "Processing Texts:  20%|██        | 15/75 [08:51<35:34, 35.58s/it]\u001b[A\n",
            "Processing Texts:  21%|██▏       | 16/75 [09:23<33:42, 34.27s/it]\u001b[A\n",
            "Processing Texts:  23%|██▎       | 17/75 [09:54<32:20, 33.46s/it]\u001b[A\n",
            "Processing Texts:  24%|██▍       | 18/75 [10:30<32:33, 34.28s/it]\u001b[A\n",
            "Processing Texts:  25%|██▌       | 19/75 [11:00<30:46, 32.97s/it]\u001b[A\n",
            "Processing Texts:  27%|██▋       | 20/75 [11:35<30:52, 33.67s/it]\u001b[A\n",
            "Processing Texts:  28%|██▊       | 21/75 [12:18<32:39, 36.28s/it]\u001b[A\n",
            "Processing Texts:  29%|██▉       | 22/75 [12:59<33:27, 37.88s/it]\u001b[A\n",
            "Processing Texts:  31%|███       | 23/75 [13:31<31:11, 35.99s/it]\u001b[A\n",
            "Processing Texts:  32%|███▏      | 24/75 [14:06<30:13, 35.55s/it]\u001b[A\n",
            "Processing Texts:  33%|███▎      | 25/75 [14:38<28:43, 34.47s/it]\u001b[A\n",
            "Processing Texts:  35%|███▍      | 26/75 [15:20<30:01, 36.77s/it]\u001b[A\n",
            "Processing Texts:  36%|███▌      | 27/75 [15:56<29:21, 36.70s/it]\u001b[A\n",
            "Processing Texts:  37%|███▋      | 28/75 [16:24<26:40, 34.06s/it]\u001b[A\n",
            "Processing Texts:  39%|███▊      | 29/75 [17:00<26:38, 34.74s/it]\u001b[A\n",
            "Processing Texts:  40%|████      | 30/75 [17:46<28:26, 37.92s/it]\u001b[A\n",
            "Processing Texts:  41%|████▏     | 31/75 [18:23<27:40, 37.73s/it]\u001b[A\n",
            "Processing Texts:  43%|████▎     | 32/75 [19:00<26:57, 37.61s/it]\u001b[A\n",
            "Processing Texts:  44%|████▍     | 33/75 [19:36<25:50, 36.93s/it]\u001b[A\n",
            "Processing Texts:  45%|████▌     | 34/75 [20:09<24:31, 35.88s/it]\u001b[A\n",
            "Processing Texts:  47%|████▋     | 35/75 [20:39<22:41, 34.05s/it]\u001b[A\n",
            "Processing Texts:  48%|████▊     | 36/75 [21:11<21:44, 33.44s/it]\u001b[A\n",
            "Processing Texts:  49%|████▉     | 37/75 [21:42<20:42, 32.70s/it]\u001b[A\n",
            "Processing Texts:  51%|█████     | 38/75 [22:10<19:18, 31.30s/it]\u001b[A\n",
            "Processing Texts:  52%|█████▏    | 39/75 [22:48<19:59, 33.31s/it]\u001b[A\n",
            "Processing Texts:  53%|█████▎    | 40/75 [23:24<19:52, 34.06s/it]\u001b[A\n",
            "Processing Texts:  55%|█████▍    | 41/75 [24:02<20:02, 35.37s/it]\u001b[A\n",
            "Processing Texts:  56%|█████▌    | 42/75 [24:38<19:34, 35.59s/it]\u001b[A\n",
            "Processing Texts:  57%|█████▋    | 43/75 [25:18<19:42, 36.95s/it]\u001b[A\n",
            "Processing Texts:  59%|█████▊    | 44/75 [25:48<17:55, 34.69s/it]\u001b[A\n",
            "Processing Texts:  60%|██████    | 45/75 [26:24<17:33, 35.11s/it]\u001b[A\n",
            "Processing Texts:  61%|██████▏   | 46/75 [26:59<16:55, 35.01s/it]\u001b[A\n",
            "Processing Texts:  63%|██████▎   | 47/75 [27:31<15:55, 34.12s/it]\u001b[A\n",
            "Processing Texts:  64%|██████▍   | 48/75 [28:06<15:33, 34.58s/it]\u001b[A\n",
            "Processing Texts:  65%|██████▌   | 49/75 [28:43<15:16, 35.24s/it]\u001b[A\n",
            "Processing Texts:  67%|██████▋   | 50/75 [29:21<14:57, 35.89s/it]\u001b[A\n",
            "Processing Texts:  68%|██████▊   | 51/75 [30:02<15:04, 37.68s/it]\u001b[A\n",
            "Processing Texts:  69%|██████▉   | 52/75 [30:26<12:51, 33.54s/it]\u001b[A\n",
            "Processing Texts:  71%|███████   | 53/75 [30:57<11:56, 32.59s/it]\u001b[A\n",
            "Processing Texts:  72%|███████▏  | 54/75 [31:39<12:23, 35.43s/it]\u001b[A\n",
            "Processing Texts:  73%|███████▎  | 55/75 [32:14<11:44, 35.24s/it]\u001b[A\n",
            "Processing Texts:  75%|███████▍  | 56/75 [32:53<11:32, 36.46s/it]\u001b[A\n",
            "Processing Texts:  76%|███████▌  | 57/75 [33:26<10:39, 35.51s/it]\u001b[A\n",
            "Processing Texts:  77%|███████▋  | 58/75 [34:01<09:58, 35.20s/it]\u001b[A\n",
            "Processing Texts:  79%|███████▊  | 59/75 [34:42<09:51, 37.00s/it]\u001b[A\n",
            "Processing Texts:  80%|████████  | 60/75 [35:24<09:39, 38.60s/it]\u001b[A\n",
            "Processing Texts:  81%|████████▏ | 61/75 [35:58<08:40, 37.20s/it]\u001b[A\n",
            "Processing Texts:  83%|████████▎ | 62/75 [36:40<08:22, 38.69s/it]\u001b[A\n",
            "Processing Texts:  84%|████████▍ | 63/75 [37:19<07:45, 38.82s/it]\u001b[A\n",
            "Processing Texts:  85%|████████▌ | 64/75 [37:49<06:36, 36.05s/it]\u001b[A\n",
            "Processing Texts:  87%|████████▋ | 65/75 [38:23<05:53, 35.38s/it]\u001b[A\n",
            "Processing Texts:  88%|████████▊ | 66/75 [38:58<05:17, 35.29s/it]\u001b[A\n",
            "Processing Texts:  89%|████████▉ | 67/75 [39:39<04:56, 37.03s/it]\u001b[A\n",
            "Processing Texts:  91%|█████████ | 68/75 [40:13<04:12, 36.04s/it]\u001b[A\n",
            "Processing Texts:  92%|█████████▏| 69/75 [40:40<03:20, 33.50s/it]\u001b[A\n",
            "Processing Texts:  93%|█████████▎| 70/75 [41:11<02:44, 32.80s/it]\u001b[A\n",
            "Processing Texts:  95%|█████████▍| 71/75 [41:39<02:05, 31.34s/it]\u001b[A\n",
            "Processing Texts:  96%|█████████▌| 72/75 [42:08<01:31, 30.63s/it]\u001b[A\n",
            "Processing Texts:  97%|█████████▋| 73/75 [42:41<01:02, 31.12s/it]\u001b[A\n",
            "Processing Texts:  99%|█████████▊| 74/75 [43:08<00:30, 30.09s/it]\u001b[A\n",
            "Processing Texts: 100%|██████████| 75/75 [43:41<00:00, 34.95s/it]\n"
          ]
        }
      ]
    },
    {
      "cell_type": "code",
      "source": [
        "#Create test datasets\n",
        "test_dataset = TextClassificationDataset(test_df, tokenizer, candidate_labels)\n",
        "\n",
        "#Process test data\n",
        "test_df = process_data(test_dataset)"
      ],
      "metadata": {
        "colab": {
          "base_uri": "https://localhost:8080/"
        },
        "id": "nUwgn3yMkWo3",
        "outputId": "a2774d6e-2fb1-49e5-ad82-0a3b86638294"
      },
      "execution_count": null,
      "outputs": [
        {
          "output_type": "stream",
          "name": "stderr",
          "text": [
            "\n",
            "Processing Texts:   0%|          | 0/19 [00:00<?, ?it/s]\u001b[A\n",
            "Processing Texts:   5%|▌         | 1/19 [00:35<10:38, 35.45s/it]\u001b[A\n",
            "Processing Texts:  11%|█         | 2/19 [01:12<10:18, 36.38s/it]\u001b[A\n",
            "Processing Texts:  16%|█▌        | 3/19 [01:46<09:23, 35.21s/it]\u001b[A\n",
            "Processing Texts:  21%|██        | 4/19 [02:35<10:11, 40.74s/it]\u001b[A\n",
            "Processing Texts:  26%|██▋       | 5/19 [03:11<09:07, 39.11s/it]\u001b[A\n",
            "Processing Texts:  32%|███▏      | 6/19 [03:38<07:35, 35.01s/it]\u001b[A\n",
            "Processing Texts:  37%|███▋      | 7/19 [04:13<06:58, 34.84s/it]\u001b[A\n",
            "Processing Texts:  42%|████▏     | 8/19 [04:45<06:12, 33.90s/it]\u001b[A\n",
            "Processing Texts:  47%|████▋     | 9/19 [05:16<05:30, 33.09s/it]\u001b[A\n",
            "Processing Texts:  53%|█████▎    | 10/19 [05:52<05:06, 34.08s/it]\u001b[A\n",
            "Processing Texts:  58%|█████▊    | 11/19 [06:26<04:31, 33.88s/it]\u001b[A\n",
            "Processing Texts:  63%|██████▎   | 12/19 [07:09<04:17, 36.83s/it]\u001b[A\n",
            "Processing Texts:  68%|██████▊   | 13/19 [07:41<03:31, 35.18s/it]\u001b[A\n",
            "Processing Texts:  74%|███████▎  | 14/19 [08:19<03:00, 36.10s/it]\u001b[A\n",
            "Processing Texts:  79%|███████▉  | 15/19 [08:56<02:25, 36.31s/it]\u001b[A\n",
            "Processing Texts:  84%|████████▍ | 16/19 [09:24<01:41, 33.90s/it]\u001b[A\n",
            "Processing Texts:  89%|████████▉ | 17/19 [09:53<01:04, 32.42s/it]\u001b[A\n",
            "Processing Texts:  95%|█████████▍| 18/19 [10:31<00:34, 34.07s/it]\u001b[A\n",
            "Processing Texts: 100%|██████████| 19/19 [10:52<00:00, 34.34s/it]\n"
          ]
        }
      ]
    },
    {
      "cell_type": "code",
      "source": [
        "# Analyze predicted label distribution\n",
        "predicted_label_counts = test_df['predicted_category'].value_counts()\n",
        "print(predicted_label_counts)\n",
        "\n",
        "# Visualize the distribution\n",
        "plt.figure(figsize=(12, 6))\n",
        "sns.countplot(x='predicted_category', data=test_df, order=predicted_label_counts.index)\n",
        "plt.xticks(rotation=90)\n",
        "plt.title('Distribution of Predicted Labels')\n",
        "plt.show()"
      ],
      "metadata": {
        "colab": {
          "base_uri": "https://localhost:8080/",
          "height": 794
        },
        "id": "UpuMHLKA1VqR",
        "outputId": "98227dd0-80e9-4f1c-9f66-1ab92a4fc76d"
      },
      "execution_count": null,
      "outputs": [
        {
          "output_type": "stream",
          "name": "stdout",
          "text": [
            "predicted_category\n",
            "personal         201\n",
            "technology        97\n",
            "entertainment     68\n",
            "relationships     47\n",
            "food              33\n",
            "business          31\n",
            "travel            28\n",
            "health            23\n",
            "sports            13\n",
            "education         11\n",
            "economy            9\n",
            "music              8\n",
            "politics           8\n",
            "military           6\n",
            "religion           4\n",
            "climate            4\n",
            "fashion            3\n",
            "crime              3\n",
            "science            2\n",
            "movies             1\n",
            "Name: count, dtype: int64\n"
          ]
        },
        {
          "output_type": "display_data",
          "data": {
            "text/plain": [
              "<Figure size 1200x600 with 1 Axes>"
            ],
            "image/png": "[encoded data removed]"
          },
          "metadata": {}
        }
      ]
    },
    {
      "cell_type": "markdown",
      "source": [
        "This code snippet calculates and prints the frequency of each predicted label in the test_df DataFrame. It then visualizes the distribution using a bar chart created with seansborn and matplotlib. This visualization provides a clear overview of how the model is categorizing your texts."
      ],
      "metadata": {
        "id": "h0KXDJg819OZ"
      }
    },
    {
      "cell_type": "markdown",
      "source": [],
      "metadata": {
        "id": "eOlm_Fdf90L6"
      }
    }
  ]
}