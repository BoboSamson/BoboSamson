{
 "cells": [
  {
   "cell_type": "code",
   "execution_count": null,
   "metadata": {
    "vscode": {
     "languageId": "plaintext"
    }
   },
   "outputs": [],
   "source": [
    "import requests\n",
    "import json\n",
    "\n",
    "#OK Video API credentials\n",
    "ok_video_api_key = \"YOUR_OK_VIDEO_API_KEY\"\n",
    "ok_video_api_secret = \"YOUR_OK_VIDEO_API_SECRET\"\n",
    "\n",
    "#Zoom API credentials\n",
    "zoom_api_key = \"YOUR_ZOOM_API_KEY\"\n",
    "zoom_api_secret = \"YOUR_ZOOM_API_SECRET\"\n",
    "\n",
    "##Zoom meeting ID and password\n",
    "zoom_meeting_id = \"YOUR_ZOOM_MEETING_ID\"\n",
    "zoom_meeting_password = \"YOUR_ZOOM_MEETING_PASSWORD\"\n",
    "\n",
    "#OK Video API endpoint\n",
    "ok_video_api_endpoint = \"(link unavailable)\"\n",
    "\n",
    "#Zoom API endpoint\n",
    "zoom_api_endpoint = \"(link unavailable)\".format(zoom_meeting_id)\n",
    "\n",
    "#Get the Zoom meeting recording\n",
    "zoom_auth_headers = {\n",
    "    \"Authorization\": \"Bearer {}\".format(zoom_api_key),\n",
    "    \"Content-Type\": \"application/json\"\n",
    "}\n",
    "\n",
    "zoom_response = requests.get(zoom_api_endpoint, headers=zoom_auth_headers)\n",
    "\n",
    "if zoom_response.status_code == 200:\n",
    "    zoom_recording_id = zoom_response.json()[\"recording_id\"]\n",
    "    zoom_recording_file = zoom_response.json()[\"file\"]\n",
    "\n",
    "    # Upload the Zoom meeting recording to OK Video\n",
    "    ok_video_auth_headers = {\n",
    "        \"Authorization\": \"Bearer {}\".format(ok_video_api_key),\n",
    "        \"Content-Type\": \"application/json\"\n",
    "    }\n",
    "\n",
    "    ok_video_payload = {\n",
    "        \"video\": zoom_recording_file,\n",
    "        \"title\": \"Zoom Meeting Recording\",\n",
    "        \"description\": \"Zoom meeting recording uploaded to OK Video\"\n",
    "    }\n",
    "\n",
    "    ok_video_response = requests.post(ok_video_api_endpoint, headers=ok_video_auth_headers, json=ok_video_payload)\n",
    "\n",
    "    if ok_video_response.status_code == 200:\n",
    "        print(\"Zoom meeting recording uploaded to OK Video successfully!\")\n",
    "    else:\n",
    "        print(\"Error uploading Zoom meeting recording to OK Video:\", ok_video_response.text)\n",
    "else:\n",
    "    print(\"Error getting Zoom meeting recording:\", zoom_response.text)"
   ]
  },
  {
   "cell_type": "code",
   "execution_count": null,
   "metadata": {
    "vscode": {
     "languageId": "plaintext"
    }
   },
   "outputs": [],
   "source": [
    "\n",
    "\n",
    "\n",
    "import apivideo\n",
    "from apivideo.apis import VideosApi\n",
    "\n",
    "api_key = \"YOUR_API_KEY\"#replace with your API key\n",
    "\n",
    "with apivideo.AuthenticatedApiClient(api_key) as client:\n",
    "    # if you rather like to use the sandbox environment:\n",
    "    # with apivideo.AuthenticatedApiClient(api_key, production=False) as client:\n",
    "\n",
    "    videos_api = VideosApi(client)\n",
    "    videos = videos_api.list()"
   ]
  },
  {
   "cell_type": "code",
   "execution_count": null,
   "metadata": {
    "vscode": {
     "languageId": "plaintext"
    }
   },
   "outputs": [],
   "source": [
    "import apivideo\n",
    "from apivideo.api import videos_api\n",
    "from apivideo.configuration import Configuration\n",
    "from pprint import pprint      \n",
    "\n",
    "__API_KEY__ = 'replace_with_your_api_key'\n",
    "video_file = \"API_uploads_29_02\" # for example, here your put the video title/name\n",
    "\n",
    "# Configure API client with chunked upload\n",
    "configuration = Configuration(chunk_size=10 * 1024 * 1024)\n",
    "\n",
    "with apivideo.AuthenticatedApiClient(__API_KEY__, configuration=configuration) as api_client:\n",
    "    api_instance = videos_api.VideosApi(api_client)\n",
    "    video_id = \"vi3w6s9LTvpYKq1HcENTP9YI\" #replace with your video id(see code below for generation of this id)  \n",
    "    file_path = \"put your file path which should end with video name as given here/API_uploads_29_02.mp4\"\n",
    "\n",
    "    try:\n",
    "        # ✅ Open file in binary mode\n",
    "        with open(file_path, \"rb\") as video_file:\n",
    "            api_response = api_instance.upload(video_id, video_file)  # ✅ Pass file object instead of string\n",
    "            pprint(api_response)\n",
    "\n",
    "    except apivideo.ApiException as e:\n",
    "        print(f\"Exception when calling VideosApi->upload: {e}\")\n"
   ]
  }
 ],
 "metadata": {
  "language_info": {
   "name": "python"
  }
 },
 "nbformat": 4,
 "nbformat_minor": 2
}
