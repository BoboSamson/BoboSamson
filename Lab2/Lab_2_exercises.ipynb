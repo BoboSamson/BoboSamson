{
 "cells": [
  {
   "cell_type": "code",
   "execution_count": 2,
   "metadata": {},
   "outputs": [],
   "source": [
    "import torch"
   ]
  },
  {
   "cell_type": "code",
   "execution_count": 3,
   "metadata": {},
   "outputs": [
    {
     "data": {
      "text/plain": [
       "'cpu'"
      ]
     },
     "execution_count": 3,
     "metadata": {},
     "output_type": "execute_result"
    }
   ],
   "source": [
    "# Set device type\n",
    "device = \"cuda\" if torch.cuda.is_available() else \"cpu\"\n",
    "device"
   ]
  },
  {
   "cell_type": "markdown",
   "metadata": {},
   "source": [
    "The three areas where computer vision is being used in the industry include facial recognition. The function has extensiv use\n",
    "and application in public safety, dating, security, banking, retail and events. A Russian startup, NtecLab which was formed in 2015\n",
    "is one of the fastet growing companies after developing a facial recognition algorithm that takes less than a second to to search through 1.5 billion images. \n",
    "\n",
    "Computer vision use has also been extended to healthcare and traffic monioring. In healthcare it is used in surgery. Computer vision has allowed extensive use of medical imaging data  thereby  enablin provision of better diagnosis. For example brain waves imaging to identify tumours.\n",
    "\n",
    "\n",
    "Computer vision enables intelligent transportation systems (ITS) to monitor conditions, detect accidents and optimise traffic flow."
   ]
  },
  {
   "cell_type": "markdown",
   "metadata": {},
   "source": [
    "Overfitting is creating a model that more of memorrises trainig data and fails to make accurate  predictions when the model is fed with new data."
   ]
  },
  {
   "cell_type": "markdown",
   "metadata": {},
   "source": [
    "Ways to prevent overfitting.\n",
    "\n",
    "1. Use more data\n",
    "2. Apply model complexity\n",
    "3. Use cross validation\n",
    "\n",
    "The training data can be increased if the model is overfitting so that the model is forced to learn on new features.\n",
    "\n",
    "Increased complexity helps to improve on how the data is processed as the model might be able to evaluate more features. \n",
    "\n",
    "Cross validating results with a validation data set, which has been preprocessed in the same way will help to establish if the model is giving \n",
    "the same level of accuracy if it is tested on new data."
   ]
  },
  {
   "cell_type": "code",
   "execution_count": 4,
   "metadata": {},
   "outputs": [
    {
     "name": "stdout",
     "output_type": "stream",
     "text": [
      "PyTorch version: 2.2.2\n",
      "torchvision version: 0.17.2\n"
     ]
    }
   ],
   "source": [
    "# Import PyTorch\n",
    "import torch\n",
    "from torch import nn\n",
    "\n",
    "# Import torchvision\n",
    "import torchvision\n",
    "from torchvision import datasets\n",
    "from torchvision.transforms import ToTensor\n",
    "\n",
    "# Import matplotlib for visualization\n",
    "import matplotlib.pyplot as plt\n",
    "\n",
    "# Check versions\n",
    "# Note: your PyTorch version shouldn't be lower than 1.10.0 and torchvision version shouldn't be lower than 0.11\n",
    "print(f\"PyTorch version: {torch.__version__}\\ntorchvision version: {torchvision.__version__}\")"
   ]
  },
  {
   "cell_type": "code",
   "execution_count": 5,
   "metadata": {},
   "outputs": [],
   "source": [
    "# Setup training data\n",
    "train_data = datasets.MNIST(\n",
    "    root=\"data\", # where to download data to?\n",
    "    train=True, # get training data\n",
    "    download=True, # download data if it doesn't exist on disk\n",
    "    transform=ToTensor(), # images come as PIL format, we want to turn into Torch tensors\n",
    "    target_transform=None # you can transform labels as well\n",
    ")\n",
    "\n",
    "# Setup testing data\n",
    "test_data = datasets.MNIST(\n",
    "    root=\"data\",\n",
    "    train=False, # get test data\n",
    "    download=True,\n",
    "    transform=ToTensor()\n",
    ")"
   ]
  },
  {
   "cell_type": "code",
   "execution_count": 6,
   "metadata": {},
   "outputs": [
    {
     "data": {
      "text/plain": [
       "(tensor([[[0.0000, 0.0000, 0.0000, 0.0000, 0.0000, 0.0000, 0.0000, 0.0000,\n",
       "           0.0000, 0.0000, 0.0000, 0.0000, 0.0000, 0.0000, 0.0000, 0.0000,\n",
       "           0.0000, 0.0000, 0.0000, 0.0000, 0.0000, 0.0000, 0.0000, 0.0000,\n",
       "           0.0000, 0.0000, 0.0000, 0.0000],\n",
       "          [0.0000, 0.0000, 0.0000, 0.0000, 0.0000, 0.0000, 0.0000, 0.0000,\n",
       "           0.0000, 0.0000, 0.0000, 0.0000, 0.0000, 0.0000, 0.0000, 0.0000,\n",
       "           0.0000, 0.0000, 0.0000, 0.0000, 0.0000, 0.0000, 0.0000, 0.0000,\n",
       "           0.0000, 0.0000, 0.0000, 0.0000],\n",
       "          [0.0000, 0.0000, 0.0000, 0.0000, 0.0000, 0.0000, 0.0000, 0.0000,\n",
       "           0.0000, 0.0000, 0.0000, 0.0000, 0.0000, 0.0000, 0.0000, 0.0000,\n",
       "           0.0000, 0.0000, 0.0000, 0.0000, 0.0000, 0.0000, 0.0000, 0.0000,\n",
       "           0.0000, 0.0000, 0.0000, 0.0000],\n",
       "          [0.0000, 0.0000, 0.0000, 0.0000, 0.0000, 0.0000, 0.0000, 0.0000,\n",
       "           0.0000, 0.0000, 0.0000, 0.0000, 0.0000, 0.0000, 0.0000, 0.0000,\n",
       "           0.0000, 0.0000, 0.0000, 0.0000, 0.0000, 0.0000, 0.0000, 0.0000,\n",
       "           0.0000, 0.0000, 0.0000, 0.0000],\n",
       "          [0.0000, 0.0000, 0.0000, 0.0000, 0.0000, 0.0000, 0.0000, 0.0000,\n",
       "           0.0000, 0.0000, 0.0000, 0.0000, 0.0000, 0.0000, 0.0000, 0.0000,\n",
       "           0.0000, 0.0000, 0.0000, 0.0000, 0.0000, 0.0000, 0.0000, 0.0000,\n",
       "           0.0000, 0.0000, 0.0000, 0.0000],\n",
       "          [0.0000, 0.0000, 0.0000, 0.0000, 0.0000, 0.0000, 0.0000, 0.0000,\n",
       "           0.0000, 0.0000, 0.0000, 0.0000, 0.0000, 0.0000, 0.0000, 0.0000,\n",
       "           0.0000, 0.0000, 0.0000, 0.0000, 0.2627, 0.9098, 0.1529, 0.0000,\n",
       "           0.0000, 0.0000, 0.0000, 0.0000],\n",
       "          [0.0000, 0.0000, 0.0000, 0.0000, 0.2431, 0.3176, 0.0000, 0.0000,\n",
       "           0.0000, 0.0000, 0.0000, 0.0000, 0.0000, 0.0000, 0.0000, 0.0000,\n",
       "           0.0000, 0.0000, 0.0000, 0.0000, 0.4706, 0.7059, 0.1529, 0.0000,\n",
       "           0.0000, 0.0000, 0.0000, 0.0000],\n",
       "          [0.0000, 0.0000, 0.0000, 0.0000, 0.4941, 0.6392, 0.0000, 0.0000,\n",
       "           0.0000, 0.0000, 0.0000, 0.0000, 0.0000, 0.0000, 0.0000, 0.0000,\n",
       "           0.0000, 0.0000, 0.0000, 0.0078, 0.6000, 0.8235, 0.1569, 0.0000,\n",
       "           0.0000, 0.0000, 0.0000, 0.0000],\n",
       "          [0.0000, 0.0000, 0.0000, 0.0000, 0.8627, 0.6392, 0.0000, 0.0000,\n",
       "           0.0000, 0.0000, 0.0000, 0.0000, 0.0000, 0.0000, 0.0000, 0.0000,\n",
       "           0.0000, 0.0000, 0.0000, 0.1059, 0.9961, 0.6353, 0.0000, 0.0000,\n",
       "           0.0000, 0.0000, 0.0000, 0.0000],\n",
       "          [0.0000, 0.0000, 0.0000, 0.0000, 0.8706, 0.6392, 0.0000, 0.0000,\n",
       "           0.0000, 0.0000, 0.0000, 0.0000, 0.0000, 0.0000, 0.0000, 0.0000,\n",
       "           0.0000, 0.0000, 0.0000, 0.7176, 0.9961, 0.4902, 0.0000, 0.0000,\n",
       "           0.0000, 0.0000, 0.0000, 0.0000],\n",
       "          [0.0000, 0.0000, 0.0000, 0.1804, 0.9608, 0.6392, 0.0000, 0.0000,\n",
       "           0.0000, 0.0000, 0.0000, 0.0000, 0.0000, 0.0000, 0.0000, 0.0000,\n",
       "           0.0000, 0.0000, 0.0000, 0.7765, 0.9961, 0.2196, 0.0000, 0.0000,\n",
       "           0.0000, 0.0000, 0.0000, 0.0000],\n",
       "          [0.0000, 0.0000, 0.0000, 0.4706, 0.9961, 0.6392, 0.0000, 0.0000,\n",
       "           0.0000, 0.0000, 0.0000, 0.0000, 0.0000, 0.0000, 0.0000, 0.0000,\n",
       "           0.0000, 0.0000, 0.0902, 0.9059, 0.9961, 0.1137, 0.0000, 0.0000,\n",
       "           0.0000, 0.0000, 0.0000, 0.0000],\n",
       "          [0.0000, 0.0000, 0.0000, 0.6235, 0.9961, 0.4706, 0.0000, 0.0000,\n",
       "           0.0000, 0.0000, 0.0000, 0.0000, 0.0000, 0.0000, 0.0000, 0.0000,\n",
       "           0.0000, 0.0000, 0.6392, 0.9961, 0.8471, 0.0627, 0.0000, 0.0000,\n",
       "           0.0000, 0.0000, 0.0000, 0.0000],\n",
       "          [0.0000, 0.0000, 0.0000, 0.6235, 0.9961, 0.2627, 0.0000, 0.0000,\n",
       "           0.0000, 0.0000, 0.0000, 0.0000, 0.0000, 0.0000, 0.0000, 0.0549,\n",
       "           0.3373, 0.6980, 0.9725, 0.9961, 0.3569, 0.0000, 0.0000, 0.0000,\n",
       "           0.0000, 0.0000, 0.0000, 0.0000],\n",
       "          [0.0000, 0.0000, 0.0000, 0.6235, 0.9961, 0.3333, 0.0000, 0.0000,\n",
       "           0.0000, 0.1843, 0.1922, 0.4549, 0.5647, 0.5882, 0.9451, 0.9529,\n",
       "           0.9176, 0.7020, 0.9451, 0.9882, 0.1569, 0.0000, 0.0000, 0.0000,\n",
       "           0.0000, 0.0000, 0.0000, 0.0000],\n",
       "          [0.0000, 0.0000, 0.0000, 0.5882, 0.9922, 0.9294, 0.8118, 0.8118,\n",
       "           0.8118, 0.9922, 0.9961, 0.9804, 0.9412, 0.7765, 0.5608, 0.3569,\n",
       "           0.1098, 0.0196, 0.9137, 0.9804, 0.0000, 0.0000, 0.0000, 0.0000,\n",
       "           0.0000, 0.0000, 0.0000, 0.0000],\n",
       "          [0.0000, 0.0000, 0.0000, 0.0000, 0.4667, 0.6941, 0.6941, 0.6941,\n",
       "           0.6941, 0.6941, 0.3843, 0.2196, 0.0000, 0.0000, 0.0000, 0.0000,\n",
       "           0.0000, 0.4000, 0.9961, 0.8627, 0.0000, 0.0000, 0.0000, 0.0000,\n",
       "           0.0000, 0.0000, 0.0000, 0.0000],\n",
       "          [0.0000, 0.0000, 0.0000, 0.0000, 0.0000, 0.0000, 0.0000, 0.0000,\n",
       "           0.0000, 0.0000, 0.0000, 0.0000, 0.0000, 0.0000, 0.0000, 0.0000,\n",
       "           0.0000, 0.6627, 0.9961, 0.5373, 0.0000, 0.0000, 0.0000, 0.0000,\n",
       "           0.0000, 0.0000, 0.0000, 0.0000],\n",
       "          [0.0000, 0.0000, 0.0000, 0.0000, 0.0000, 0.0000, 0.0000, 0.0000,\n",
       "           0.0000, 0.0000, 0.0000, 0.0000, 0.0000, 0.0000, 0.0000, 0.0000,\n",
       "           0.0000, 0.6627, 0.9961, 0.2235, 0.0000, 0.0000, 0.0000, 0.0000,\n",
       "           0.0000, 0.0000, 0.0000, 0.0000],\n",
       "          [0.0000, 0.0000, 0.0000, 0.0000, 0.0000, 0.0000, 0.0000, 0.0000,\n",
       "           0.0000, 0.0000, 0.0000, 0.0000, 0.0000, 0.0000, 0.0000, 0.0000,\n",
       "           0.0000, 0.6627, 0.9961, 0.2235, 0.0000, 0.0000, 0.0000, 0.0000,\n",
       "           0.0000, 0.0000, 0.0000, 0.0000],\n",
       "          [0.0000, 0.0000, 0.0000, 0.0000, 0.0000, 0.0000, 0.0000, 0.0000,\n",
       "           0.0000, 0.0000, 0.0000, 0.0000, 0.0000, 0.0000, 0.0000, 0.0000,\n",
       "           0.0000, 0.6627, 1.0000, 0.3686, 0.0000, 0.0000, 0.0000, 0.0000,\n",
       "           0.0000, 0.0000, 0.0000, 0.0000],\n",
       "          [0.0000, 0.0000, 0.0000, 0.0000, 0.0000, 0.0000, 0.0000, 0.0000,\n",
       "           0.0000, 0.0000, 0.0000, 0.0000, 0.0000, 0.0000, 0.0000, 0.0000,\n",
       "           0.0000, 0.6627, 0.9961, 0.3765, 0.0000, 0.0000, 0.0000, 0.0000,\n",
       "           0.0000, 0.0000, 0.0000, 0.0000],\n",
       "          [0.0000, 0.0000, 0.0000, 0.0000, 0.0000, 0.0000, 0.0000, 0.0000,\n",
       "           0.0000, 0.0000, 0.0000, 0.0000, 0.0000, 0.0000, 0.0000, 0.0000,\n",
       "           0.0000, 0.6627, 0.9961, 0.6000, 0.0000, 0.0000, 0.0000, 0.0000,\n",
       "           0.0000, 0.0000, 0.0000, 0.0000],\n",
       "          [0.0000, 0.0000, 0.0000, 0.0000, 0.0000, 0.0000, 0.0000, 0.0000,\n",
       "           0.0000, 0.0000, 0.0000, 0.0000, 0.0000, 0.0000, 0.0000, 0.0000,\n",
       "           0.0000, 0.6627, 1.0000, 0.6000, 0.0000, 0.0000, 0.0000, 0.0000,\n",
       "           0.0000, 0.0000, 0.0000, 0.0000],\n",
       "          [0.0000, 0.0000, 0.0000, 0.0000, 0.0000, 0.0000, 0.0000, 0.0000,\n",
       "           0.0000, 0.0000, 0.0000, 0.0000, 0.0000, 0.0000, 0.0000, 0.0000,\n",
       "           0.0000, 0.3765, 0.9961, 0.6000, 0.0000, 0.0000, 0.0000, 0.0000,\n",
       "           0.0000, 0.0000, 0.0000, 0.0000],\n",
       "          [0.0000, 0.0000, 0.0000, 0.0000, 0.0000, 0.0000, 0.0000, 0.0000,\n",
       "           0.0000, 0.0000, 0.0000, 0.0000, 0.0000, 0.0000, 0.0000, 0.0000,\n",
       "           0.0000, 0.0000, 0.0000, 0.0000, 0.0000, 0.0000, 0.0000, 0.0000,\n",
       "           0.0000, 0.0000, 0.0000, 0.0000],\n",
       "          [0.0000, 0.0000, 0.0000, 0.0000, 0.0000, 0.0000, 0.0000, 0.0000,\n",
       "           0.0000, 0.0000, 0.0000, 0.0000, 0.0000, 0.0000, 0.0000, 0.0000,\n",
       "           0.0000, 0.0000, 0.0000, 0.0000, 0.0000, 0.0000, 0.0000, 0.0000,\n",
       "           0.0000, 0.0000, 0.0000, 0.0000],\n",
       "          [0.0000, 0.0000, 0.0000, 0.0000, 0.0000, 0.0000, 0.0000, 0.0000,\n",
       "           0.0000, 0.0000, 0.0000, 0.0000, 0.0000, 0.0000, 0.0000, 0.0000,\n",
       "           0.0000, 0.0000, 0.0000, 0.0000, 0.0000, 0.0000, 0.0000, 0.0000,\n",
       "           0.0000, 0.0000, 0.0000, 0.0000]]]),\n",
       " 4)"
      ]
     },
     "execution_count": 6,
     "metadata": {},
     "output_type": "execute_result"
    }
   ],
   "source": [
    "#Check the dataset sample\n",
    "image, label = train_data[2]\n",
    "image, label"
   ]
  },
  {
   "cell_type": "code",
   "execution_count": 7,
   "metadata": {},
   "outputs": [
    {
     "data": {
      "text/plain": [
       "torch.Size([1, 28, 28])"
      ]
     },
     "execution_count": 7,
     "metadata": {},
     "output_type": "execute_result"
    }
   ],
   "source": [
    "image.shape"
   ]
  },
  {
   "cell_type": "code",
   "execution_count": 8,
   "metadata": {},
   "outputs": [
    {
     "data": {
      "text/plain": [
       "(60000, 60000, 10000, 10000)"
      ]
     },
     "execution_count": 8,
     "metadata": {},
     "output_type": "execute_result"
    }
   ],
   "source": [
    "len(train_data.data), len(train_data.targets), len(test_data.data), len(test_data.targets)"
   ]
  },
  {
   "cell_type": "code",
   "execution_count": 9,
   "metadata": {},
   "outputs": [
    {
     "data": {
      "text/plain": [
       "['0 - zero',\n",
       " '1 - one',\n",
       " '2 - two',\n",
       " '3 - three',\n",
       " '4 - four',\n",
       " '5 - five',\n",
       " '6 - six',\n",
       " '7 - seven',\n",
       " '8 - eight',\n",
       " '9 - nine']"
      ]
     },
     "execution_count": 9,
     "metadata": {},
     "output_type": "execute_result"
    }
   ],
   "source": [
    "train_data.classes"
   ]
  },
  {
   "cell_type": "code",
   "execution_count": 10,
   "metadata": {},
   "outputs": [],
   "source": [
    "class_names = train_data.classes\n"
   ]
  },
  {
   "cell_type": "code",
   "execution_count": 11,
   "metadata": {},
   "outputs": [
    {
     "data": {
      "image/png": "[encoded data removed]",
      "text/plain": [
       "<Figure size 900x900 with 5 Axes>"
      ]
     },
     "metadata": {},
     "output_type": "display_data"
    }
   ],
   "source": [
    "#Plot sample images\n",
    "torch.manual_seed(44)\n",
    "fig, axes = plt.subplots(1, 5, figsize=(9, 9))\n",
    "for i in range(5):\n",
    "    random_idx = torch.randint(0, len(train_data), size = [1]).item()\n",
    "    image, label = train_data[random_idx]\n",
    "    axes[i].imshow(image.squeeze(), cmap=\"gray\")\n",
    "    axes[i].set_title(class_names[label])\n",
    "    axes[i].axis(False)\n",
    "    \n",
    "plt.tight_layout()\n",
    "plt.show()\n",
    "  \n"
   ]
  },
  {
   "cell_type": "code",
   "execution_count": 12,
   "metadata": {},
   "outputs": [
    {
     "name": "stdout",
     "output_type": "stream",
     "text": [
      "Dataloaders (<torch.utils.data.dataloader.DataLoader object at 0x13164c1d0>, <torch.utils.data.dataloader.DataLoader object at 0x13164c680>)\n",
      "Length of train_dataloader 1875 batches of size 32\n",
      "Length of test_dataloader 313 batch size of 32\n"
     ]
    }
   ],
   "source": [
    "#Prepare DataLoader\n",
    "from torch.utils.data import DataLoader\n",
    "\n",
    "#Set Batch size\n",
    "BATCH_SIZE = 32\n",
    "\n",
    "#Turn datasets into iterables\n",
    "train_dataloader = DataLoader(train_data, batch_size=BATCH_SIZE, shuffle=True)\n",
    "test_dataloader = DataLoader(test_data, batch_size=32, shuffle=False)\n",
    "\n",
    "#Lets check what we have created\n",
    "print(f\"Dataloaders {train_dataloader, test_dataloader}\")\n",
    "print(f\"Length of train_dataloader {len(train_dataloader)} batches of size {BATCH_SIZE}\")\n",
    "print(f\"Length of test_dataloader {len(test_dataloader)} batch size of {BATCH_SIZE}\")"
   ]
  },
  {
   "cell_type": "code",
   "execution_count": 13,
   "metadata": {},
   "outputs": [
    {
     "data": {
      "text/plain": [
       "(torch.Size([32, 1, 28, 28]), torch.Size([32]))"
      ]
     },
     "execution_count": 13,
     "metadata": {},
     "output_type": "execute_result"
    }
   ],
   "source": [
    "#Check what is inside the training dataloader\n",
    "train_features_batch, train_labels_batch = next(iter(train_dataloader))\n",
    "train_features_batch.shape, train_labels_batch.shape"
   ]
  },
  {
   "cell_type": "code",
   "execution_count": 14,
   "metadata": {},
   "outputs": [
    {
     "name": "stdout",
     "output_type": "stream",
     "text": [
      "Image size: torch.Size([1, 28, 28])\n",
      "Label :4, label size: torch.Size([])\n"
     ]
    },
    {
     "data": {
      "text/plain": [
       "(-0.5, 27.5, 27.5, -0.5)"
      ]
     },
     "execution_count": 14,
     "metadata": {},
     "output_type": "execute_result"
    },
    {
     "data": {
      "image/png": "[encoded data removed]",
      "text/plain": [
       "<Figure size 640x480 with 1 Axes>"
      ]
     },
     "metadata": {},
     "output_type": "display_data"
    }
   ],
   "source": [
    "#Check a single sample\n",
    "torch.manual_seed (44)\n",
    "random_idx = torch.randint(0, len(train_features_batch), size=[1]).item()\n",
    "image, label = train_features_batch[random_idx], train_labels_batch[random_idx]\n",
    "\n",
    "print(f\"Image size: {image.shape}\")\n",
    "print(f\"Label :{label}, label size: {label.shape}\")\n",
    "\n",
    "plt.imshow(image.squeeze(), cmap = \"gray\")\n",
    "plt.title(class_names[label])\n",
    "plt.axis(\"Off\")"
   ]
  },
  {
   "cell_type": "code",
   "execution_count": 15,
   "metadata": {},
   "outputs": [
    {
     "name": "stdout",
     "output_type": "stream",
     "text": [
      " Shape befor flattening: torch.Size([1, 28, 28]) -> [colour_channels, height, width]\n",
      "Shape after flattening torch.Size([1, 784]) -> [colour_channels, heigth, width]\n"
     ]
    }
   ],
   "source": [
    "#Model Building\n",
    "# Create a flatten layer\n",
    "flatten_model = nn.Flatten() #For all nn modules function as a model\n",
    "\n",
    "#Get a single sample\n",
    "x = train_features_batch[0]\n",
    "\n",
    "#Flatten the sample\n",
    "output = flatten_model(x) #Perfom forward pass\n",
    "\n",
    "#Print result\n",
    "print(f\" Shape befor flattening: {x.shape} -> [colour_channels, height, width]\")\n",
    "print(f\"Shape after flattening {output.shape} -> [colour_channels, heigth, width]\")"
   ]
  },
  {
   "cell_type": "code",
   "execution_count": 16,
   "metadata": {},
   "outputs": [],
   "source": [
    "# Create a model with non-linear and linear layers\n",
    "class FashionMNISTModelV1(nn.Module):\n",
    "    def __init__(self, input_shape: int, hidden_units: int, output_shape: int):\n",
    "        super().__init__()\n",
    "        self.layer_stack = nn.Sequential(\n",
    "            nn.Flatten(), # flatten inputs into single vector\n",
    "            nn.Linear(in_features=input_shape, out_features=hidden_units),\n",
    "            nn.ReLU(),\n",
    "            nn.Linear(in_features=hidden_units, out_features=output_shape),\n",
    "            nn.ReLU()\n",
    "        )\n",
    "\n",
    "    def forward(self, x: torch.Tensor):\n",
    "        return self.layer_stack(x)"
   ]
  },
  {
   "cell_type": "code",
   "execution_count": 17,
   "metadata": {},
   "outputs": [
    {
     "data": {
      "text/plain": [
       "device(type='cpu')"
      ]
     },
     "execution_count": 17,
     "metadata": {},
     "output_type": "execute_result"
    }
   ],
   "source": [
    "torch.manual_seed(44)\n",
    "model2 = FashionMNISTModelV1(input_shape=784, # number of input features\n",
    "    hidden_units=10,\n",
    "    output_shape=len(class_names) # number of output classes desired\n",
    ").to(device) # send model to GPU if it's available\n",
    "next(model2.parameters()).device # check model device"
   ]
  },
  {
   "cell_type": "code",
   "execution_count": 18,
   "metadata": {},
   "outputs": [],
   "source": [
    "#Calculation accuracy (a classification metric)\n",
    "def accuracy_fn(y_true, y_pred):\n",
    "    correct = torch.eq(y_true, y_pred).sum().item()\n",
    "    acc = (correct/len(y_pred))* 100\n",
    "    return acc\n",
    "    "
   ]
  },
  {
   "cell_type": "code",
   "execution_count": 19,
   "metadata": {},
   "outputs": [],
   "source": [
    "#Set up loss optimiser and evaluation metrics\n",
    "loss_fn = nn.CrossEntropyLoss()\n",
    "optimizer = torch.optim.SGD(params=model2.parameters(), lr=0.1)"
   ]
  },
  {
   "cell_type": "code",
   "execution_count": 20,
   "metadata": {},
   "outputs": [],
   "source": [
    "from timeit import default_timer as timer\n",
    "def print_train_time(start: float, end: float, device: torch.device = None):\n",
    "    \"\"\"Prints difference between start and end time.\n",
    "\n",
    "    Args:\n",
    "        start (float): Start time of computation (preferred in timeit format).\n",
    "        end (float): End time of computation.\n",
    "        device ([type], optional): Device that compute is running on. Defaults to None.\n",
    "\n",
    "    Returns:\n",
    "        float: time between start and end in seconds (higher is longer).\n",
    "    \"\"\"\n",
    "    total_time = end - start\n",
    "    print(f\"Train time on {device}: {total_time:.3f} seconds\")\n",
    "    return total_time"
   ]
  },
  {
   "cell_type": "code",
   "execution_count": 21,
   "metadata": {},
   "outputs": [
    {
     "data": {
      "application/vnd.jupyter.widget-view+json": {
       "model_id": "4100f03af4e849a6b8a3689309841a7c",
       "version_major": 2,
       "version_minor": 0
      },
      "text/plain": [
       "  0%|          | 0/3 [00:00<?, ?it/s]"
      ]
     },
     "metadata": {},
     "output_type": "display_data"
    },
    {
     "name": "stdout",
     "output_type": "stream",
     "text": [
      "Epoch: 0\n",
      "-------\n",
      "Trained on 0/60000 samples\n",
      "Trained on 12800/60000 samples\n",
      "Trained on 25600/60000 samples\n",
      "Trained on 38400/60000 samples\n",
      "Trained on 51200/60000 samples\n",
      "\n",
      "Train loss: 0.80862 | Test loss: 0.52536, Test acc: 82.96%\n",
      "\n",
      "Epoch: 1\n",
      "-------\n",
      "Trained on 0/60000 samples\n",
      "Trained on 12800/60000 samples\n",
      "Trained on 25600/60000 samples\n",
      "Trained on 38400/60000 samples\n",
      "Trained on 51200/60000 samples\n",
      "\n",
      "Train loss: 0.51476 | Test loss: 0.48441, Test acc: 83.74%\n",
      "\n",
      "Epoch: 2\n",
      "-------\n",
      "Trained on 0/60000 samples\n",
      "Trained on 12800/60000 samples\n",
      "Trained on 25600/60000 samples\n",
      "Trained on 38400/60000 samples\n",
      "Trained on 51200/60000 samples\n",
      "\n",
      "Train loss: 0.47796 | Test loss: 0.46227, Test acc: 84.36%\n",
      "\n",
      "Train time on cpu: 50.858 seconds\n"
     ]
    }
   ],
   "source": [
    "# Import tqdm for progress bar\n",
    "from tqdm.auto import tqdm\n",
    "\n",
    "# Set the seed and start the timer\n",
    "torch.manual_seed(44)\n",
    "train_time_start_on_cpu = timer()\n",
    "\n",
    "# Set the number of epochs (we'll keep this small for faster training times)\n",
    "epochs = 3\n",
    "\n",
    "# Create training and testing loop\n",
    "for epoch in tqdm(range(epochs)):\n",
    "    print(f\"Epoch: {epoch}\\n-------\")\n",
    "    ### Training\n",
    "    train_loss = 0\n",
    "    # Add a loop to loop through training batches\n",
    "    for batch, (X, y) in enumerate(train_dataloader):\n",
    "        model2.train()\n",
    "        # 1. Forward pass\n",
    "        y_pred = model2(X)\n",
    "\n",
    "        # 2. Calculate loss (per batch)\n",
    "        loss = loss_fn(y_pred, y)\n",
    "        train_loss += loss # accumulatively add up the loss per epoch\n",
    "\n",
    "        # 3. Optimizer zero grad\n",
    "        optimizer.zero_grad()\n",
    "\n",
    "        # 4. Loss backward\n",
    "        loss.backward()\n",
    "\n",
    "        # 5. Optimizer step\n",
    "        optimizer.step()\n",
    "\n",
    "        # Print out how many samples have been seen\n",
    "        if batch % 400 == 0:\n",
    "            print(f\"Trained on {batch * len(X)}/{len(train_dataloader.dataset)} samples\")\n",
    "\n",
    "    # Divide total train loss by length of train dataloader (average loss per batch per epoch)\n",
    "    train_loss /= len(train_dataloader)\n",
    "\n",
    "    ### Testing\n",
    "    # Setup variables for accumulatively adding up loss and accuracy\n",
    "    test_loss, test_acc = 0, 0\n",
    "    model2.eval()\n",
    "    with torch.inference_mode():\n",
    "        for X, y in test_dataloader:\n",
    "            # 1. Forward pass\n",
    "            test_pred = model2(X)\n",
    "\n",
    "            # 2. Calculate loss (accumatively)\n",
    "            test_loss += loss_fn(test_pred, y) # accumulatively add up the loss per epoch\n",
    "\n",
    "            # 3. Calculate accuracy (preds need to be same as y_true)\n",
    "            test_acc += accuracy_fn(y_true=y, y_pred=test_pred.argmax(dim=1))\n",
    "\n",
    "        # Calculations on test metrics need to happen inside torch.inference_mode()\n",
    "        # Divide total test loss by length of test dataloader (per batch)\n",
    "        test_loss /= len(test_dataloader)\n",
    "\n",
    "        # Divide total accuracy by length of test dataloader (per batch)\n",
    "        test_acc /= len(test_dataloader)\n",
    "\n",
    "    ## Print out what's happening\n",
    "    print(f\"\\nTrain loss: {train_loss:.5f} | Test loss: {test_loss:.5f}, Test acc: {test_acc:.2f}%\\n\")\n",
    "\n",
    "# Calculate training time\n",
    "train_time_end_on_cpu = timer()\n",
    "total_train_time_model1 = print_train_time(start=train_time_start_on_cpu,\n",
    "                                           end=train_time_end_on_cpu,\n",
    "                                           device=str(next(model2.parameters()).device))"
   ]
  },
  {
   "cell_type": "code",
   "execution_count": 22,
   "metadata": {},
   "outputs": [
    {
     "data": {
      "text/plain": [
       "{'model_name': 'FashionMNISTModelV1',\n",
       " 'model_loss': 0.4622710049152374,\n",
       " 'model_acc': 84.35503194888179}"
      ]
     },
     "execution_count": 22,
     "metadata": {},
     "output_type": "execute_result"
    }
   ],
   "source": [
    "torch.manual_seed(44)\n",
    "def eval_model(model: torch.nn.Module,\n",
    "               data_loader: torch.utils.data.DataLoader,\n",
    "               loss_fn: torch.nn.Module,\n",
    "               accuracy_fn):\n",
    "    \"\"\"Returns a dictionary containing the results of model predicting on data_loader.\n",
    "\n",
    "    Args:\n",
    "        model (torch.nn.Module): A PyTorch model capable of making predictions on data_loader.\n",
    "        data_loader (torch.utils.data.DataLoader): The target dataset to predict on.\n",
    "        loss_fn (torch.nn.Module): The loss function of model.\n",
    "        accuracy_fn: An accuracy function to compare the models predictions to the truth labels.\n",
    "\n",
    "    Returns:\n",
    "        (dict): Results of model making predictions on data_loader.\n",
    "    \"\"\"\n",
    "    loss, acc = 0, 0\n",
    "    model.eval()\n",
    "    with torch.inference_mode():\n",
    "        for X, y in data_loader:\n",
    "            # Make predictions with the model\n",
    "            y_pred = model(X)\n",
    "\n",
    "            # Accumulate the loss and accuracy values per batch\n",
    "            loss += loss_fn(y_pred, y)\n",
    "            acc += accuracy_fn(y_true=y,\n",
    "                                y_pred=y_pred.argmax(dim=1)) # For accuracy, need the prediction labels (logits -> pred_prob -> pred_labels)\n",
    "\n",
    "        # Scale loss and acc to find the average loss/acc per batch\n",
    "        loss /= len(data_loader)\n",
    "        acc /= len(data_loader)\n",
    "\n",
    "    return {\"model_name\": model.__class__.__name__, # only works when model was created with a class\n",
    "            \"model_loss\": loss.item(),\n",
    "            \"model_acc\": acc}\n",
    "\n",
    "# Calculate model 0 results on test dataset\n",
    "model1_results = eval_model(model=model2, data_loader=test_dataloader,\n",
    "    loss_fn=loss_fn, accuracy_fn=accuracy_fn\n",
    ")\n",
    "model1_results"
   ]
  },
  {
   "cell_type": "code",
   "execution_count": 24,
   "metadata": {},
   "outputs": [],
   "source": [
    "def make_predictions(model: torch.nn.Module, data: list, device: torch.device = device):\n",
    "    pred_probs = []\n",
    "    model.eval()\n",
    "    with torch.inference_mode():\n",
    "        for sample in data:\n",
    "            # Prepare sample\n",
    "            sample = torch.unsqueeze(sample, dim=0).to(device) # Add an extra dimension and send sample to device\n",
    "\n",
    "            # Forward pass (model outputs raw logit)\n",
    "            pred_logit = model(sample)\n",
    "\n",
    "            # Get prediction probability (logit -> prediction probability)\n",
    "            pred_prob = torch.softmax(pred_logit.squeeze(), dim=0) # note: perform softmax on the \"logits\" dimension, not \"batch\" dimension (in this case we have a batch size of 1, so can perform on dim=0)\n",
    "\n",
    "            # Get pred_prob off GPU for further calculations\n",
    "            pred_probs.append(pred_prob.cpu())\n",
    "\n",
    "    # Stack the pred_probs to turn list into a tensor\n",
    "    return torch.stack(pred_probs)"
   ]
  },
  {
   "cell_type": "code",
   "execution_count": null,
   "metadata": {},
   "outputs": [
    {
     "name": "stdout",
     "output_type": "stream",
     "text": [
      "Test sample 1 image shape: torch.Size([1, 28, 28])\n",
      "Test sample 1 label: 6 (6 - six)\n",
      "\n",
      "Test sample 2 image shape: torch.Size([1, 28, 28])\n",
      "Test sample 2 label: 4 (4 - four)\n",
      "\n",
      "Test sample 3 image shape: torch.Size([1, 28, 28])\n",
      "Test sample 3 label: 4 (4 - four)\n",
      "\n",
      "Test sample 4 image shape: torch.Size([1, 28, 28])\n",
      "Test sample 4 label: 5 (5 - five)\n",
      "\n",
      "Test sample 5 image shape: torch.Size([1, 28, 28])\n",
      "Test sample 5 label: 0 (0 - zero)\n",
      "\n"
     ]
    }
   ],
   "source": [
    "import random\n",
    "\n",
    "# Set seed for reproducibility\n",
    "random.seed(44)\n",
    "\n",
    "# Select 5 random samples and labels from test_data\n",
    "test_samples = []\n",
    "test_labels = []\n",
    "\n",
    "for sample, label in random.sample(list(test_data), k=5):\n",
    "    test_samples.append(sample)\n",
    "    test_labels.append(label)\n",
    "\n",
    "# Print shape and label for the first 5 samples\n",
    "for i in range(5):\n",
    "    print(f\"Test sample {i+1} image shape: {test_samples[i].shape}\")\n",
    "    print(f\"Test sample {i+1} label: {test_labels[i]} ({class_names[test_labels[i]]})\\n\")\n"
   ]
  },
  {
   "cell_type": "code",
   "execution_count": 29,
   "metadata": {},
   "outputs": [
    {
     "data": {
      "text/plain": [
       "tensor([[9.1936e-04, 5.4552e-06, 5.0854e-04, 9.2680e-06, 1.0744e-05, 1.1853e-02,\n",
       "         9.8609e-01, 5.4552e-06, 5.9055e-04, 5.4552e-06],\n",
       "        [7.2408e-04, 7.2408e-04, 7.2408e-04, 7.2408e-04, 3.8071e-02, 5.7645e-03,\n",
       "         7.2408e-04, 7.2408e-04, 1.1141e-01, 8.4041e-01],\n",
       "        [1.9425e-07, 1.9425e-07, 1.9425e-07, 5.1813e-07, 9.9982e-01, 5.3205e-05,\n",
       "         2.6669e-06, 3.2738e-06, 1.2114e-05, 1.0537e-04],\n",
       "        [5.0282e-03, 6.5934e-07, 4.3898e-05, 9.6680e-07, 6.5934e-07, 9.1844e-01,\n",
       "         7.4570e-02, 6.5934e-07, 1.9120e-03, 3.0041e-06],\n",
       "        [9.9378e-01, 3.3735e-05, 5.2439e-03, 3.3735e-05, 3.3735e-05, 1.5969e-04,\n",
       "         1.7787e-04, 3.3735e-05, 4.6612e-04, 3.3735e-05]])"
      ]
     },
     "execution_count": 29,
     "metadata": {},
     "output_type": "execute_result"
    }
   ],
   "source": [
    "# Make predictions on test samples with model 2\n",
    "pred_probs= make_predictions(model=model2,\n",
    "                             data=test_samples)\n",
    "\n",
    "# View first two prediction probabilities list\n",
    "pred_probs[:5]"
   ]
  },
  {
   "cell_type": "code",
   "execution_count": 30,
   "metadata": {},
   "outputs": [
    {
     "data": {
      "text/plain": [
       "tensor([6, 9, 4, 5, 0])"
      ]
     },
     "execution_count": 30,
     "metadata": {},
     "output_type": "execute_result"
    }
   ],
   "source": [
    "# Turn the prediction probabilities into prediction labels by taking the argmax()\n",
    "pred_classes = pred_probs.argmax(dim=1)\n",
    "pred_classes"
   ]
  },
  {
   "cell_type": "code",
   "execution_count": 31,
   "metadata": {},
   "outputs": [
    {
     "data": {
      "text/plain": [
       "([6, 4, 4, 5, 0], tensor([6, 9, 4, 5, 0]))"
      ]
     },
     "execution_count": 31,
     "metadata": {},
     "output_type": "execute_result"
    }
   ],
   "source": [
    "# Are our predictions in the same form as our test labels?\n",
    "test_labels, pred_classes"
   ]
  },
  {
   "cell_type": "code",
   "execution_count": 33,
   "metadata": {},
   "outputs": [
    {
     "data": {
      "image/png": "[encoded data removed]",
      "text/plain": [
       "<Figure size 900x900 with 5 Axes>"
      ]
     },
     "metadata": {},
     "output_type": "display_data"
    }
   ],
   "source": [
    "# Plot predictions\n",
    "plt.figure(figsize=(9, 9))\n",
    "nrows = 2\n",
    "ncols = 3\n",
    "for i, sample in enumerate(test_samples):\n",
    "  # Create a subplot\n",
    "  plt.subplot(nrows, ncols, i+1)\n",
    "\n",
    "  # Plot the target image\n",
    "  plt.imshow(sample.squeeze(), cmap=\"gray\")\n",
    "\n",
    "  # Find the prediction label (in text form, e.g. \"Sandal\")\n",
    "  pred_label = class_names[pred_classes[i]]\n",
    "\n",
    "  # Get the truth label (in text form, e.g. \"T-shirt\")\n",
    "  truth_label = class_names[test_labels[i]]\n",
    "\n",
    "  # Create the title text of the plot\n",
    "  title_text = f\"Pred: {pred_label} | Truth: {truth_label}\"\n",
    "\n",
    "  # Check for equality and change title colour accordingly\n",
    "  if pred_label == truth_label:\n",
    "      plt.title(title_text, fontsize=10, c=\"g\") # green text if correct\n",
    "  else:\n",
    "      plt.title(title_text, fontsize=10, c=\"r\") # red text if wrong\n",
    "  plt.axis(False)"
   ]
  },
  {
   "cell_type": "code",
   "execution_count": 34,
   "metadata": {},
   "outputs": [
    {
     "name": "stdout",
     "output_type": "stream",
     "text": [
      "mlxtend version: 0.23.4\n"
     ]
    }
   ],
   "source": [
    "#Steps to plot confusion matrix\n",
    "\n",
    "# See if torchmetrics exists, if not, install it\n",
    "try:\n",
    "    import torchmetrics, mlxtend\n",
    "    print(f\"mlxtend version: {mlxtend.__version__}\")\n",
    "    assert int(mlxtend.__version__.split(\".\")[1]) >= 19, \"mlxtend verison should be 0.19.0 or higher\"\n",
    "except:\n",
    "    !pip install -q torchmetrics -U mlxtend # <- Note: If you're using Google Colab, this may require restarting the runtime\n",
    "    import torchmetrics, mlxtend\n",
    "    print(f\"mlxtend version: {mlxtend.__version__}\")"
   ]
  },
  {
   "cell_type": "code",
   "execution_count": 37,
   "metadata": {},
   "outputs": [
    {
     "data": {
      "application/vnd.jupyter.widget-view+json": {
       "model_id": "aeef1ed85c5946ad8425f60295880ea3",
       "version_major": 2,
       "version_minor": 0
      },
      "text/plain": [
       "Making predictions:   0%|          | 0/313 [00:00<?, ?it/s]"
      ]
     },
     "metadata": {},
     "output_type": "display_data"
    }
   ],
   "source": [
    "# Import tqdm for progress bar\n",
    "from tqdm.auto import tqdm\n",
    "\n",
    "# 1. Make predictions with trained model\n",
    "y_preds = []\n",
    "model2.eval()\n",
    "with torch.inference_mode():\n",
    "  for X, y in tqdm(test_dataloader, desc=\"Making predictions\"):\n",
    "    # Send data and targets to target device\n",
    "    X, y = X.to(device), y.to(device)\n",
    "    # Do the forward pass\n",
    "    y_logit = model2(X)\n",
    "    # Turn predictions from logits -> prediction probabilities -> predictions labels\n",
    "    y_pred = torch.softmax(y_logit, dim=1).argmax(dim=1) # note: perform softmax on the \"logits\" dimension, not \"batch\" dimension (in this case we have a batch size of 32, so can perform on dim=1)\n",
    "    # Put predictions on CPU for evaluation\n",
    "    y_preds.append(y_pred.cpu())\n",
    "# Concatenate list of predictions into a tensor\n",
    "y_pred_tensor = torch.cat(y_preds)"
   ]
  },
  {
   "cell_type": "code",
   "execution_count": 35,
   "metadata": {},
   "outputs": [
    {
     "name": "stdout",
     "output_type": "stream",
     "text": [
      "0.23.4\n"
     ]
    }
   ],
   "source": [
    "#Import neccesary modules\n",
    "# Import mlxtend upgraded version\n",
    "import mlxtend\n",
    "print(mlxtend.__version__)\n",
    "assert int(mlxtend.__version__.split(\".\")[1]) >= 19 # should be version 0.19.0 or higher"
   ]
  },
  {
   "cell_type": "code",
   "execution_count": 38,
   "metadata": {},
   "outputs": [
    {
     "data": {
      "image/png": "[encoded data removed]",
      "text/plain": [
       "<Figure size 1000x700 with 1 Axes>"
      ]
     },
     "metadata": {},
     "output_type": "display_data"
    }
   ],
   "source": [
    "from torchmetrics import ConfusionMatrix\n",
    "from mlxtend.plotting import plot_confusion_matrix\n",
    "\n",
    "# 2. Setup confusion matrix instance and compare predictions to targets\n",
    "confmat = ConfusionMatrix(num_classes=len(class_names), task='multiclass')\n",
    "confmat_tensor = confmat(preds=y_pred_tensor,\n",
    "                         target=test_data.targets)\n",
    "\n",
    "# 3. Plot the confusion matrix\n",
    "fig, ax = plot_confusion_matrix(\n",
    "    conf_mat=confmat_tensor.numpy(), # matplotlib likes working with NumPy\n",
    "    class_names=class_names, # turn the row and column labels into class names\n",
    "    figsize=(10, 7)\n",
    ")"
   ]
  },
  {
   "cell_type": "markdown",
   "metadata": {},
   "source": [
    "The model seems to perfom well as it is able to correctly predict most digits. However, some digits like seem to be difficult to predict.\n",
    "The Confusionmatrix shows that 3 was wrongly predicted as 8 for 133 times and as 5 for 116 times. This could be due the style of the print or\n",
    "the mdel finding it difficult to detect digits 3 and 8 if not clearly printed."
   ]
  },
  {
   "cell_type": "code",
   "execution_count": 39,
   "metadata": {},
   "outputs": [
    {
     "name": "stdout",
     "output_type": "stream",
     "text": [
      "Saving model to: models/model2.pth\n"
     ]
    }
   ],
   "source": [
    "from pathlib import Path\n",
    "\n",
    "# Create models directory (if it doesn't already exist), see: https://docs.python.org/3/library/pathlib.html#pathlib.Path.mkdir\n",
    "MODEL_PATH = Path(\"models\")\n",
    "MODEL_PATH.mkdir(parents=True, # create parent directories if needed\n",
    "                 exist_ok=True # if models directory already exists, don't error\n",
    ")\n",
    "\n",
    "# Create model save path\n",
    "MODEL_NAME = \"model2.pth\"\n",
    "MODEL_SAVE_PATH = MODEL_PATH / MODEL_NAME\n",
    "\n",
    "# Save the model state dict\n",
    "print(f\"Saving model to: {MODEL_SAVE_PATH}\")\n",
    "torch.save(obj=model2.state_dict(), # only saving the state_dict() only saves the learned parameters\n",
    "           f=MODEL_SAVE_PATH)"
   ]
  },
  {
   "cell_type": "code",
   "execution_count": 93,
   "metadata": {},
   "outputs": [
    {
     "name": "stdout",
     "output_type": "stream",
     "text": [
      "Image batch shape: torch.Size([1, 3, 64, 64]) -> [batch_size, color_channels, height, width]\n",
      "Single image shape: torch.Size([3, 64, 64]) -> [color_channels, height, width]\n",
      "Single image pixel values:\n",
      "tensor([[[ 1.5862e+00,  1.1253e+00,  1.8306e+00,  ..., -2.6726e-02,\n",
      "          -3.4329e-01, -1.1225e+00],\n",
      "         [ 2.1260e+00, -4.8554e-01, -9.0253e-01,  ..., -2.7885e-01,\n",
      "           3.2873e-01, -1.5298e+00],\n",
      "         [ 5.6909e-01,  1.2105e-01,  7.5796e-01,  ..., -5.4292e-01,\n",
      "           9.1108e-01,  3.0177e-01],\n",
      "         ...,\n",
      "         [-7.6456e-01,  4.0868e-02,  5.2986e-01,  ..., -2.8454e-01,\n",
      "          -6.5648e-01,  8.8403e-01],\n",
      "         [ 1.5526e+00, -3.3601e+00, -2.0404e+00,  ...,  3.0866e+00,\n",
      "           7.3811e-01,  9.3801e-01],\n",
      "         [-2.5914e-01, -4.4454e-01,  1.3582e+00,  ..., -1.5278e+00,\n",
      "          -5.9377e-01, -2.5479e-03]],\n",
      "\n",
      "        [[-1.9937e-01,  5.9280e-01, -1.4744e+00,  ...,  6.3601e-02,\n",
      "           1.2848e+00, -9.4021e-01],\n",
      "         [ 4.8493e-01,  4.3750e-01,  1.7293e+00,  ...,  1.1029e+00,\n",
      "          -2.7434e-01, -9.4455e-01],\n",
      "         [-8.8897e-01, -1.5362e+00,  5.4414e-01,  ...,  3.0428e+00,\n",
      "           7.0536e-01, -6.2893e-01],\n",
      "         ...,\n",
      "         [-5.5191e-01,  5.5173e-01,  2.3716e-01,  ..., -1.1316e+00,\n",
      "           5.2074e-01,  4.2123e-01],\n",
      "         [ 9.0582e-01,  2.8899e-01, -8.5338e-02,  ...,  5.1590e-02,\n",
      "          -2.3233e+00,  4.2843e-01],\n",
      "         [-2.4999e+00,  6.8717e-01,  4.8505e-01,  ..., -3.1714e-01,\n",
      "           9.2208e-01, -4.2889e-02]],\n",
      "\n",
      "        [[ 9.3632e-01, -1.4545e+00,  1.9350e-01,  ..., -5.4902e-01,\n",
      "          -1.9685e+00, -2.4282e-01],\n",
      "         [-3.6607e-01,  3.2285e-01,  4.0749e-01,  ..., -2.9050e-01,\n",
      "          -4.4751e-01,  1.3358e+00],\n",
      "         [ 1.3044e+00,  2.8154e-01, -3.1631e+00,  ...,  1.5397e+00,\n",
      "           1.8582e+00, -1.3975e+00],\n",
      "         ...,\n",
      "         [ 1.3232e-01, -2.3824e-01, -1.2929e+00,  ...,  1.1941e+00,\n",
      "          -1.3856e+00,  1.6494e+00],\n",
      "         [ 3.4194e-01,  1.4117e+00,  2.5168e-01,  ..., -2.9596e-01,\n",
      "           3.6645e-01,  1.5144e+00],\n",
      "         [ 2.9150e-01, -1.5717e-01, -1.2561e+00,  ..., -1.5801e+00,\n",
      "          -7.7325e-01,  4.2329e-02]]])\n"
     ]
    }
   ],
   "source": [
    "torch.manual_seed(44)\n",
    "\n",
    "# Create sample batch of random numbers with same size as image batch\n",
    "images = torch.randn(size=(1, 3, 64, 64)) # [batch_size, color_channels, height, width]\n",
    "test_image = images[0] # get a single image for testing\n",
    "print(f\"Image batch shape: {images.shape} -> [batch_size, color_channels, height, width]\")\n",
    "print(f\"Single image shape: {test_image.shape} -> [color_channels, height, width]\")\n",
    "print(f\"Single image pixel values:\\n{test_image}\")"
   ]
  },
  {
   "cell_type": "code",
   "execution_count": 48,
   "metadata": {},
   "outputs": [
    {
     "data": {
      "text/plain": [
       "torch.Size([1, 3, 64, 64])"
      ]
     },
     "execution_count": 48,
     "metadata": {},
     "output_type": "execute_result"
    }
   ],
   "source": [
    "# Add extra dimension to test image\n",
    "test_image.unsqueeze(dim=0).shape"
   ]
  },
  {
   "cell_type": "code",
   "execution_count": null,
   "metadata": {},
   "outputs": [
    {
     "data": {
      "text/plain": [
       "tensor([[[ 1.1538,  0.5923,  0.5339,  ...,  0.7574,  0.1341, -0.0967],\n",
       "         [ 0.9963, -0.4660, -0.1928,  ..., -0.3675,  0.3674,  0.6974],\n",
       "         [-0.0846,  0.5187, -0.4894,  ...,  0.2907,  0.7854,  0.7158],\n",
       "         ...,\n",
       "         [ 0.3198,  0.6915,  0.5255,  ...,  0.2314, -0.2695,  0.1568],\n",
       "         [ 0.0724, -0.0842, -0.2035,  ..., -0.0744, -0.0317, -0.6275],\n",
       "         [ 0.4443,  0.5124,  0.1680,  ...,  0.1334, -0.5821,  0.9857]],\n",
       "\n",
       "        [[ 0.4757,  0.1817,  0.0609,  ..., -0.6127, -0.0733,  0.6214],\n",
       "         [ 0.9477, -0.2191,  0.4510,  ..., -0.1033, -0.7764,  0.2233],\n",
       "         [ 0.3641, -0.6228,  0.7400,  ...,  0.4127, -0.1003, -0.0353],\n",
       "         ...,\n",
       "         [ 0.1189,  0.8979, -1.8080,  ..., -0.6147,  0.8253, -0.5747],\n",
       "         [ 0.3167,  0.7218, -1.3011,  ..., -1.2246,  1.1344, -0.3233],\n",
       "         [-0.8766, -0.1814,  0.2713,  ...,  0.7211,  0.2176, -0.7649]],\n",
       "\n",
       "        [[-0.3873, -0.1404,  0.6067,  ..., -0.8534, -0.0879,  0.5388],\n",
       "         [-0.5637,  0.8172,  0.0235,  ...,  0.1343, -0.0466, -0.2284],\n",
       "         [-0.9669, -0.5953,  0.9046,  ..., -0.7375,  0.3748,  0.5978],\n",
       "         ...,\n",
       "         [ 0.2771, -0.5622,  0.3104,  ..., -0.3265, -0.1862, -0.3382],\n",
       "         [-0.2455,  0.7102, -0.3285,  ..., -0.4558, -1.0676, -0.8680],\n",
       "         [-0.1812, -0.6489, -0.0799,  ..., -0.6058,  0.6255,  0.4692]],\n",
       "\n",
       "        [[-0.1614, -0.3273,  0.7315,  ..., -0.9239, -0.4729, -0.6547],\n",
       "         [-0.5411, -1.1445,  0.0323,  ..., -0.0962, -0.2214, -0.6735],\n",
       "         [ 0.2321, -1.2781, -0.2634,  ..., -1.2264, -0.4589,  0.8477],\n",
       "         ...,\n",
       "         [-0.5852, -0.1752, -0.1547,  ...,  1.2964, -0.6090, -0.0326],\n",
       "         [-0.2616, -1.3438, -1.2580,  ...,  0.3300, -0.4838, -0.2958],\n",
       "         [-0.3629, -1.2259, -0.7192,  ...,  0.3263,  1.0130,  0.8103]],\n",
       "\n",
       "        [[-0.6026,  0.0881,  0.1490,  ..., -1.2097,  1.1098, -0.2078],\n",
       "         [ 1.2696,  0.1812, -0.7293,  ..., -0.5108, -0.7404, -0.0204],\n",
       "         [ 0.6476, -0.4303, -0.2935,  ...,  0.2513, -0.4716, -0.6658],\n",
       "         ...,\n",
       "         [ 0.2718,  0.4095, -0.3624,  ..., -0.2480,  1.2212,  0.4543],\n",
       "         [-0.1988,  0.9339,  0.5212,  ...,  0.3891, -0.9474, -0.7896],\n",
       "         [-0.2297, -0.5726, -0.3349,  ...,  0.4491,  0.6336, -0.1187]]],\n",
       "       grad_fn=<SqueezeBackward1>)"
      ]
     },
     "execution_count": 65,
     "metadata": {},
     "output_type": "execute_result"
    }
   ],
   "source": [
    "torch.manual_seed(44)\n",
    "\n",
    "\n",
    "conv_layer = nn.Conv2d(in_channels=3,\n",
    "                       out_channels=5,\n",
    "                       kernel_size=(3, 3),\n",
    "                       stride=1,\n",
    "                       padding=0) # also try using \"valid\" or \"same\" here\n",
    "\n",
    "# Pass the data through the convolutional layer\n",
    "conv_layer(test_image) # Note: If running PyTorch <1.11.0, this will error because of shape issues (nn.Conv.2d() expects a 4d tensor as input)"
   ]
  },
  {
   "cell_type": "code",
   "execution_count": 66,
   "metadata": {},
   "outputs": [
    {
     "data": {
      "text/plain": [
       "torch.Size([1, 5, 62, 62])"
      ]
     },
     "execution_count": 66,
     "metadata": {},
     "output_type": "execute_result"
    }
   ],
   "source": [
    "# Pass test image with extra dimension through conv_layer\n",
    "conv_layer(test_image.unsqueeze(dim=0)).shape"
   ]
  },
  {
   "cell_type": "code",
   "execution_count": 67,
   "metadata": {},
   "outputs": [
    {
     "name": "stdout",
     "output_type": "stream",
     "text": [
      "OrderedDict({'weight': tensor([[[[ 0.0845,  0.0888,  0.1262],\n",
      "          [-0.1407,  0.0493,  0.0884],\n",
      "          [-0.0815, -0.1112,  0.1861]],\n",
      "\n",
      "         [[ 0.1433,  0.1790,  0.1092],\n",
      "          [ 0.1184, -0.1690,  0.0857],\n",
      "          [-0.0633,  0.0135,  0.0815]],\n",
      "\n",
      "         [[ 0.1147, -0.0853,  0.1519],\n",
      "          [ 0.0652,  0.1520, -0.0200],\n",
      "          [-0.0082, -0.0561, -0.1745]]],\n",
      "\n",
      "\n",
      "        [[[ 0.0951,  0.1086, -0.0271],\n",
      "          [-0.1490,  0.1314, -0.0009],\n",
      "          [-0.0541,  0.0951, -0.1590]],\n",
      "\n",
      "         [[-0.0073, -0.0029,  0.0920],\n",
      "          [-0.0406, -0.1813,  0.1038],\n",
      "          [ 0.0467, -0.1582, -0.0276]],\n",
      "\n",
      "         [[-0.1813,  0.0804, -0.0392],\n",
      "          [-0.1296,  0.0855, -0.1147],\n",
      "          [ 0.1148,  0.1326, -0.1855]]],\n",
      "\n",
      "\n",
      "        [[[-0.1520,  0.1089, -0.1481],\n",
      "          [ 0.0458,  0.0938,  0.0038],\n",
      "          [-0.0920,  0.0086,  0.0500]],\n",
      "\n",
      "         [[ 0.1497,  0.1740,  0.0067],\n",
      "          [ 0.0110, -0.0722, -0.0342],\n",
      "          [-0.0473,  0.0580,  0.0308]],\n",
      "\n",
      "         [[-0.1600,  0.0709,  0.0456],\n",
      "          [-0.0120, -0.1814,  0.1741],\n",
      "          [-0.1624,  0.0008, -0.1769]]],\n",
      "\n",
      "\n",
      "        [[[ 0.0191,  0.0239,  0.1842],\n",
      "          [ 0.1727,  0.0682,  0.1427],\n",
      "          [ 0.1877, -0.0609, -0.1040]],\n",
      "\n",
      "         [[ 0.1228, -0.0726,  0.0162],\n",
      "          [ 0.0045, -0.1515, -0.0200],\n",
      "          [ 0.0801,  0.1661, -0.0720]],\n",
      "\n",
      "         [[-0.0553,  0.1397, -0.1130],\n",
      "          [-0.1396,  0.1777,  0.1529],\n",
      "          [-0.0849, -0.0554, -0.0557]]],\n",
      "\n",
      "\n",
      "        [[[ 0.1835, -0.1110,  0.0075],\n",
      "          [ 0.0833,  0.0658,  0.1043],\n",
      "          [-0.1755, -0.1275,  0.1477]],\n",
      "\n",
      "         [[-0.1730, -0.0991,  0.1587],\n",
      "          [ 0.0770,  0.0652, -0.1747],\n",
      "          [ 0.0918,  0.0905,  0.0641]],\n",
      "\n",
      "         [[-0.0280,  0.1455, -0.0412],\n",
      "          [ 0.0864, -0.0838, -0.1765],\n",
      "          [ 0.1062,  0.0070, -0.0684]]]]), 'bias': tensor([ 0.0792,  0.1334, -0.1008, -0.1695, -0.1303])})\n"
     ]
    }
   ],
   "source": [
    "# Check out the conv_layer_2 internal parameters\n",
    "print(conv_layer.state_dict())"
   ]
  },
  {
   "cell_type": "code",
   "execution_count": 68,
   "metadata": {},
   "outputs": [
    {
     "name": "stdout",
     "output_type": "stream",
     "text": [
      "conv_layer weight shape: \n",
      "torch.Size([5, 3, 3, 3]) \n",
      "\n",
      "conv_layer bias shape: \n",
      "torch.Size([5]) \n"
     ]
    }
   ],
   "source": [
    "# Get shapes of weight and bias tensors within conv_layer_2\n",
    "print(f\"conv_layer weight shape: \\n{conv_layer.weight.shape} \")\n",
    "print(f\"\\nconv_layer bias shape: \\n{conv_layer.bias.shape} \")"
   ]
  },
  {
   "cell_type": "markdown",
   "metadata": {},
   "source": [
    "PREDICTIONS WITH THE SAVED MODEL model2"
   ]
  },
  {
   "cell_type": "code",
   "execution_count": 147,
   "metadata": {},
   "outputs": [
    {
     "name": "stdout",
     "output_type": "stream",
     "text": [
      "MyModel(\n",
      "  (fc1): Linear(in_features=784, out_features=10, bias=True)\n",
      "  (relu): ReLU()\n",
      "  (fc2): Linear(in_features=10, out_features=10, bias=True)\n",
      ")\n",
      "Test sample 1 image shape: torch.Size([1, 28, 28])\n",
      "Test sample 1 label: 1 (Trouser)\n",
      "\n",
      "Test sample 2 image shape: torch.Size([1, 28, 28])\n",
      "Test sample 2 label: 7 (Sneaker)\n",
      "\n",
      "Test sample 3 image shape: torch.Size([1, 28, 28])\n",
      "Test sample 3 label: 2 (Pullover)\n",
      "\n",
      "Test sample 4 image shape: torch.Size([1, 28, 28])\n",
      "Test sample 4 label: 4 (Coat)\n",
      "\n",
      "Test sample 5 image shape: torch.Size([1, 28, 28])\n",
      "Test sample 5 label: 2 (Pullover)\n",
      "\n",
      "Sample 1:\n",
      "  True Label      : 1 (Trouser)\n",
      "  Predicted Label : 8 (Bag)\n",
      "\n",
      "Sample 2:\n",
      "  True Label      : 7 (Sneaker)\n",
      "  Predicted Label : 4 (Coat)\n",
      "\n",
      "Sample 3:\n",
      "  True Label      : 2 (Pullover)\n",
      "  Predicted Label : 0 (T-shirt/top)\n",
      "\n",
      "Sample 4:\n",
      "  True Label      : 4 (Coat)\n",
      "  Predicted Label : 8 (Bag)\n",
      "\n",
      "Sample 5:\n",
      "  True Label      : 2 (Pullover)\n",
      "  Predicted Label : 8 (Bag)\n",
      "\n"
     ]
    }
   ],
   "source": [
    "import torch\n",
    "import torch.nn as nn\n",
    "import random\n",
    "from torchvision import datasets\n",
    "from torchvision.transforms import ToTensor\n",
    "\n",
    "# Define the model architecture\n",
    "class MyModel(nn.Module):\n",
    "    def __init__(self):\n",
    "        super(MyModel, self).__init__()\n",
    "        self.fc1 = nn.Linear(784, 10)  # Matches layer_stack.1\n",
    "        self.relu = nn.ReLU()\n",
    "        self.fc2 = nn.Linear(10, 10)   # Matches layer_stack.3\n",
    "\n",
    "    def forward(self, x):\n",
    "        x = self.fc1(x)\n",
    "        x = self.relu(x)\n",
    "        x = self.fc2(x)\n",
    "        return x\n",
    "\n",
    "# Initialize the model\n",
    "model1 = MyModel()\n",
    "\n",
    "# Load the saved model's state dictionary\n",
    "state_dict = torch.load(\"models/model2.pth\")\n",
    "\n",
    "# Rename keys in the state dict to match the model's layer names\n",
    "new_state_dict = {\n",
    "    \"fc1.weight\": state_dict[\"layer_stack.1.weight\"],\n",
    "    \"fc1.bias\": state_dict[\"layer_stack.1.bias\"],\n",
    "    \"fc2.weight\": state_dict[\"layer_stack.3.weight\"],\n",
    "    \"fc2.bias\": state_dict[\"layer_stack.3.bias\"]\n",
    "}\n",
    "\n",
    "# Load the modified state dict into the model\n",
    "model1.load_state_dict(new_state_dict)\n",
    "\n",
    "# Set the model to evaluation mode\n",
    "model1.eval()\n",
    "\n",
    "# Print the model architecture\n",
    "print(model1)\n",
    "\n",
    "# Load test data\n",
    "test_data1 = datasets.FashionMNIST(\n",
    "    root=\"data\",\n",
    "    train=False,  # Get test data\n",
    "    download=True,\n",
    "    transform=ToTensor()\n",
    ")\n",
    "\n",
    "# Define class names for FashionMNIST\n",
    "class_names = [\n",
    "    \"T-shirt/top\", \"Trouser\", \"Pullover\", \"Dress\", \"Coat\",\n",
    "    \"Sandal\", \"Shirt\", \"Sneaker\", \"Bag\", \"Ankle boot\"\n",
    "]\n",
    "\n",
    "# Select 5 random test samples\n",
    "random.seed(44)\n",
    "test_samples = []\n",
    "test_labels = []\n",
    "\n",
    "for sample, label in random.sample(list(test_data1), k=5):\n",
    "    test_samples.append(sample)\n",
    "    test_labels.append(label)\n",
    "\n",
    "# Print shape and label for the first 5 samples\n",
    "for i in range(5):\n",
    "    print(f\"Test sample {i+1} image shape: {test_samples[i].shape}\")\n",
    "    print(f\"Test sample {i+1} label: {test_labels[i]} ({class_names[test_labels[i]]})\\n\")\n",
    "\n",
    "# Function to make predictions\n",
    "def make_predictions(model: nn.Module, data: list, device: torch.device = torch.device(\"cpu\")):\n",
    "    pred_probs = []\n",
    "    model.to(device)\n",
    "    model.eval()  # Set model to evaluation mode\n",
    "\n",
    "    with torch.no_grad():  # Disable gradient computation\n",
    "        for sample in data:\n",
    "            # Ensure sample is a tensor and detach from computation graph\n",
    "            sample = sample.clone().detach().to(torch.float32)  # Avoids warning\n",
    "            sample = sample.view(1, -1).to(device)  # Flatten image to (1, 784)\n",
    "\n",
    "            # Forward pass (model outputs raw logits)\n",
    "            pred_logit = model(sample)\n",
    "\n",
    "            # Get prediction probability (logit -> prediction probability)\n",
    "            pred_prob = torch.softmax(pred_logit.squeeze(), dim=0)  # Softmax on logits dimension\n",
    "            pred_probs.append(pred_prob.cpu().numpy())  # Collect probabilities (move to CPU if on GPU)\n",
    "\n",
    "    return pred_probs\n",
    "\n",
    "# Make predictions on test samples\n",
    "pred_probs1 = make_predictions(model=model1, data=test_samples)\n",
    "\n",
    "# Compare true labels against predicted labels\n",
    "for i in range(5):\n",
    "    predicted_label = pred_probs1[i].argmax()  # Get index of max probability\n",
    "    true_label = test_labels[i]\n",
    "    \n",
    "    print(f\"Sample {i+1}:\")\n",
    "    print(f\"  True Label      : {true_label} ({class_names[true_label]})\")\n",
    "    print(f\"  Predicted Label : {predicted_label} ({class_names[predicted_label]})\\n\")\n"
   ]
  },
  {
   "cell_type": "markdown",
   "metadata": {},
   "source": [
    "The model does not perfom well on images of digital data. The data was processed so that it takes the same shape and was also flattened however\n",
    "it did not produce the best results. The model wil most likely perfom better if it istrained on the same type of data so that it gets an opportunity to learn the images before making predictions."
   ]
  }
 ],
 "metadata": {
  "kernelspec": {
   "display_name": "base",
   "language": "python",
   "name": "python3"
  },
  "language_info": {
   "codemirror_mode": {
    "name": "ipython",
    "version": 3
   },
   "file_extension": ".py",
   "mimetype": "text/x-python",
   "name": "python",
   "nbconvert_exporter": "python",
   "pygments_lexer": "ipython3",
   "version": "3.12.7"
  }
 },
 "nbformat": 4,
 "nbformat_minor": 2
}
